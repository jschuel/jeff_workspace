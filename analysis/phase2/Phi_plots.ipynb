{
 "cells": [
  {
   "cell_type": "code",
   "execution_count": 1,
   "metadata": {},
   "outputs": [
    {
     "name": "stdout",
     "output_type": "stream",
     "text": [
      "Welcome to JupyROOT 6.18/04\n"
     ]
    }
   ],
   "source": [
    "import single_beam_analysis as sa\n",
    "import pandas as pd\n",
    "import numpy as np\n",
    "import root_pandas as rp\n",
    "import matplotlib.pyplot as plt\n",
    "from matplotlib import rc\n",
    "from matplotlib.patches import Patch\n",
    "import matplotlib\n",
    "from matplotlib.ticker import (MultipleLocator, FormatStrFormatter,\n",
    "                               AutoMinorLocator)\n",
    "\n",
    "rc('text', usetex=True)\n",
    "import ROOT\n",
    "import array"
   ]
  },
  {
   "cell_type": "code",
   "execution_count": 2,
   "metadata": {},
   "outputs": [
    {
     "name": "stderr",
     "output_type": "stream",
     "text": [
      "~/workspace/jeff_workspace/analysis/phase2/analysis_module.py:265: SettingWithCopyWarning: \n",
      "A value is trying to be set on a copy of a slice from a DataFrame\n",
      "\n",
      "See the caveats in the documentation: https://pandas.pydata.org/pandas-docs/stable/user_guide/indexing.html#returning-a-view-versus-a-copy\n",
      "  heuristic_df[module+'_heuristic_err'][i] = 0\n",
      "~/workspace/jeff_workspace/analysis/phase2/analysis_module.py:267: SettingWithCopyWarning: \n",
      "A value is trying to be set on a copy of a slice from a DataFrame\n",
      "\n",
      "See the caveats in the documentation: https://pandas.pydata.org/pandas-docs/stable/user_guide/indexing.html#returning-a-view-versus-a-copy\n",
      "  heuristic_df[module+'_heuristic_err'][i] = heuristic_df[module+'_heuristic'][i]*math.sqrt((heuristic_df[module+'_err'][i]/heuristic_df[module+'_mean'][i])**2 + (heuristic_df['dI'][i]/heuristic_df['I'][i])**2+(heuristic_df['dP'][i]/heuristic_df['P'][i])**2)\n",
      "~/workspace/jeff_workspace/analysis/phase2/analysis_module.py:274: SettingWithCopyWarning: \n",
      "A value is trying to be set on a copy of a slice from a DataFrame\n",
      "\n",
      "See the caveats in the documentation: https://pandas.pydata.org/pandas-docs/stable/user_guide/indexing.html#returning-a-view-versus-a-copy\n",
      "  heuristic_df['x_err'][i]=heuristic_df['x'][i]*math.sqrt((heuristic_df['dI'][i]/heuristic_df['I'][i])**2+(heuristic_df['dP'][i]/heuristic_df['P'][i])**2+(heuristic_df['dsy'][i]/heuristic_df['sy'][i])**2+(heuristic_df['dNb'][i]/heuristic_df['Nb'][i])**2)\n"
     ]
    },
    {
     "name": "stdout",
     "output_type": "stream",
     "text": [
      " FCN=634.275 FROM MIGRAD    STATUS=CONVERGED     103 CALLS         104 TOTAL\n",
      "                     EDM=9.38372e-08    STRATEGY= 1      ERROR MATRIX ACCURATE \n",
      "  EXT PARAMETER                                   STEP         FIRST   \n",
      "  NO.   NAME      VALUE            ERROR          SIZE      DERIVATIVE \n",
      "   1  p0           1.57895e+04   7.00842e+02   7.98959e-05  -2.14885e-02\n",
      "   2  p1           3.72368e-02   1.11143e-02   2.44258e-04   3.63949e-04\n",
      " FCN=748.385 FROM MIGRAD    STATUS=CONVERGED      83 CALLS          84 TOTAL\n",
      "                     EDM=2.84339e-07    STRATEGY= 1      ERROR MATRIX ACCURATE \n",
      "  EXT PARAMETER                                   STEP         FIRST   \n",
      "  NO.   NAME      VALUE            ERROR          SIZE      DERIVATIVE \n",
      "   1  p0           7.34780e+03   5.39885e+02   8.94152e-05   1.07779e-01\n",
      "   2  p1           4.17346e-02   8.81923e-03   1.91029e-04   5.28195e-02\n",
      " FCN=657.783 FROM MIGRAD    STATUS=CONVERGED      69 CALLS          70 TOTAL\n",
      "                     EDM=1.79261e-08    STRATEGY= 1      ERROR MATRIX ACCURATE \n",
      "  EXT PARAMETER                                   STEP         FIRST   \n",
      "  NO.   NAME      VALUE            ERROR          SIZE      DERIVATIVE \n",
      "   1  p0           4.25152e+03   4.54099e+02   8.84378e-05  -7.86887e-04\n",
      "   2  p1           3.89493e-02   7.48464e-03   1.52127e-04   4.45655e-03\n",
      " FCN=1130.99 FROM MIGRAD    STATUS=CONVERGED      61 CALLS          62 TOTAL\n",
      "                     EDM=2.13672e-10    STRATEGY= 1      ERROR MATRIX ACCURATE \n",
      "  EXT PARAMETER                                   STEP         FIRST   \n",
      "  NO.   NAME      VALUE            ERROR          SIZE      DERIVATIVE \n",
      "   1  p0           5.57937e+03   5.57815e+02   1.20002e-04  -7.52550e-04\n",
      "   2  p1           5.93032e-02   9.14834e-03   1.91271e-04   6.40737e-05\n",
      " FCN=229.191 FROM MIGRAD    STATUS=CONVERGED     116 CALLS         117 TOTAL\n",
      "                     EDM=3.01359e-09    STRATEGY= 1      ERROR MATRIX ACCURATE \n",
      "  EXT PARAMETER                                   STEP         FIRST   \n",
      "  NO.   NAME      VALUE            ERROR          SIZE      DERIVATIVE \n",
      "   1  p0           2.45168e+03   8.71827e+01   4.17512e-05   3.13711e-04\n",
      "   2  p1           6.22180e-12   4.12150e-03   9.42547e-04** at limit **\n",
      " FCN=368.369 FROM MIGRAD    STATUS=CONVERGED     100 CALLS         101 TOTAL\n",
      "                     EDM=2.29916e-08    STRATEGY= 1      ERROR MATRIX ACCURATE \n",
      "  EXT PARAMETER                                   STEP         FIRST   \n",
      "  NO.   NAME      VALUE            ERROR          SIZE      DERIVATIVE \n",
      "   1  p0           4.41535e+03   3.70170e+02   5.79347e-05   2.83070e-02\n",
      "   2  p1           1.17846e-02   5.85374e-03   1.74370e-04   6.53987e-03\n",
      " FCN=243.03 FROM MIGRAD    STATUS=CONVERGED      68 CALLS          69 TOTAL\n",
      "                     EDM=2.66496e-09    STRATEGY= 1      ERROR MATRIX ACCURATE \n",
      "  EXT PARAMETER                                   STEP         FIRST   \n",
      "  NO.   NAME      VALUE            ERROR          SIZE      DERIVATIVE \n",
      "   1  p0           2.53160e+03   2.67772e+02   4.34731e-05   9.75471e-03\n",
      "   2  p1           7.83821e-04   5.58586e-03   3.80931e-04   1.36269e-03\n",
      " FCN=140.39 FROM MIGRAD    STATUS=CONVERGED      49 CALLS          50 TOTAL\n",
      "                     EDM=6.13009e-09    STRATEGY= 1      ERROR MATRIX ACCURATE \n",
      "  EXT PARAMETER                                   STEP         FIRST   \n",
      "  NO.   NAME      VALUE            ERROR          SIZE      DERIVATIVE \n",
      "   1  p0           1.77022e+03   7.47455e+01   3.29090e-05   5.09397e-03\n",
      "   2  p1           1.20082e-12   4.19816e-04   2.37829e-04** at limit **\n",
      " FCN=160.923 FROM MIGRAD    STATUS=CONVERGED      96 CALLS          97 TOTAL\n",
      "                     EDM=8.08691e-10    STRATEGY= 1      ERROR MATRIX ACCURATE \n",
      "  EXT PARAMETER                                   STEP         FIRST   \n",
      "  NO.   NAME      VALUE            ERROR          SIZE      DERIVATIVE \n",
      "   1  p0           1.37301e+03   7.27851e+01   2.34643e-05   7.42558e-03\n",
      "   2  p1           1.71783e-03   4.17385e-03   3.78058e-04   6.52236e-04\n",
      " FCN=223.802 FROM MIGRAD    STATUS=CONVERGED      62 CALLS          63 TOTAL\n",
      "                     EDM=9.30227e-07    STRATEGY= 1      ERROR MATRIX ACCURATE \n",
      "  EXT PARAMETER                                   STEP         FIRST   \n",
      "  NO.   NAME      VALUE            ERROR          SIZE      DERIVATIVE \n",
      "   1  p0           1.67839e+03   8.30621e+01   2.87706e-05  -1.56061e-01\n",
      "   2  p1           1.41567e-02   5.01307e-03   1.88404e-04   9.82476e-03\n",
      " FCN=424.964 FROM MIGRAD    STATUS=CONVERGED      67 CALLS          68 TOTAL\n",
      "                     EDM=2.20562e-08    STRATEGY= 1      ERROR MATRIX ACCURATE \n",
      "  EXT PARAMETER                                   STEP         FIRST   \n",
      "  NO.   NAME      VALUE            ERROR          SIZE      DERIVATIVE \n",
      "   1  p0           2.82168e+03   1.12158e+02   4.23945e-05   3.46131e-03\n",
      "   2  p1           5.36097e-02   7.17986e-03   1.99405e-04   7.14846e-03\n",
      " FCN=358.906 FROM MIGRAD    STATUS=CONVERGED      84 CALLS          85 TOTAL\n",
      "                     EDM=9.55413e-10    STRATEGY= 1      ERROR MATRIX ACCURATE \n",
      "  EXT PARAMETER                                   STEP         FIRST   \n",
      "  NO.   NAME      VALUE            ERROR          SIZE      DERIVATIVE \n",
      "   1  p0           1.99267e+03   5.26249e+01   3.48817e-05   9.18558e-03\n",
      "   2  p1           5.74096e-13   3.27869e-03   1.06163e-03** at limit **\n",
      " FCN=121.393 FROM MIGRAD    STATUS=CONVERGED     117 CALLS         118 TOTAL\n",
      "                     EDM=3.83624e-09    STRATEGY= 1      ERROR MATRIX ACCURATE \n",
      "  EXT PARAMETER                                   STEP         FIRST   \n",
      "  NO.   NAME      VALUE            ERROR          SIZE      DERIVATIVE \n",
      "   1  p0           2.91156e+02   4.08730e+01   2.55731e-05   1.62514e-02\n",
      "   2  p1           1.68354e-02   2.88756e-03   7.56516e-05  -2.42601e-03\n",
      " FCN=128.589 FROM MIGRAD    STATUS=CONVERGED      56 CALLS          57 TOTAL\n",
      "                     EDM=9.46618e-10    STRATEGY= 1      ERROR MATRIX ACCURATE \n",
      "  EXT PARAMETER                                   STEP         FIRST   \n",
      "  NO.   NAME      VALUE            ERROR          SIZE      DERIVATIVE \n",
      "   1  p0           1.69673e+02   3.55778e+01   2.80557e-05  -2.58383e-03\n",
      "   2  p1           1.20303e-02   2.54605e-03   7.58293e-05  -2.55354e-03\n",
      " FCN=149.448 FROM MIGRAD    STATUS=CONVERGED      56 CALLS          57 TOTAL\n",
      "                     EDM=3.21167e-08    STRATEGY= 1      ERROR MATRIX ACCURATE \n",
      "  EXT PARAMETER                                   STEP         FIRST   \n",
      "  NO.   NAME      VALUE            ERROR          SIZE      DERIVATIVE \n",
      "   1  p0           1.67119e+02   4.10451e+01   3.59793e-05   4.21326e-02\n",
      "   2  p1           2.67164e-02   3.20979e-03   7.12984e-05   1.64905e-02\n",
      " FCN=235.712 FROM MIGRAD    STATUS=CONVERGED      62 CALLS          63 TOTAL\n",
      "                     EDM=7.06333e-07    STRATEGY= 1      ERROR MATRIX ACCURATE \n",
      "  EXT PARAMETER                                   STEP         FIRST   \n",
      "  NO.   NAME      VALUE            ERROR          SIZE      DERIVATIVE \n",
      "   1  p0           4.11862e+02   5.81140e+01   4.14359e-05   4.99603e-02\n",
      "   2  p1           4.86846e-02   4.44098e-03   9.42822e-05  -3.85860e-02\n"
     ]
    }
   ],
   "source": [
    "tpcs = [\"kohola\", \"nene\", \"iiwi\", \"honu\", \"humu\", \"tako\", \"elepaio\", \"palila\"]\n",
    "phis = [\"BWD 18\", \"BWD 90\", \"BWD 198\", \"BWD 270\", \"FWD 22\", \"FWD 90\", \"FWD 202\", \"FWD 270\"]\n",
    "hist, params_HER = sa.create_histograms(11, \"HER\")\n",
    "hist, params_LER = sa.create_histograms(12, \"LER\")\n",
    "rates_LER = pd.DataFrame.from_dict(params_LER, orient = 'index').T\n",
    "rates_HER = pd.DataFrame.from_dict(params_HER, orient = 'index').T\n",
    "rates_LER = rates_LER[['data_rates_BG', 'data_rates_T', 'sim_rates_BG', 'sim_rates_T']]\n",
    "rates_HER = rates_HER[['data_rates_BG', 'data_rates_T', 'sim_rates_BG', 'sim_rates_T']]\n",
    "rates_LER.columns = ['LER_BG', 'LER_T', 'LER_MC_BG', 'LER_MC_T']\n",
    "rates_HER.columns = ['HER_BG', 'HER_T', 'HER_MC_BG', 'HER_MC_T']\n",
    "rates_LER[['HER_BG', 'HER_T', 'HER_MC_BG', 'HER_MC_T']] = rates_HER[['HER_BG', 'HER_T', 'HER_MC_BG', 'HER_MC_T']]\n",
    "rates = rates_LER\n",
    "rates = rates.reindex(tpcs)\n",
    "#rates = rates[['LER_MC_BG', 'LER_MC_T', 'HER_MC_BG', 'HER_MC_T', 'LER_BG', 'LER_T', 'HER_BG', 'HER_T']]\n",
    "rates.index = phis\n",
    "rates = rates[['LER_BG', 'LER_MC_BG', 'LER_T', 'LER_MC_T', 'HER_BG', 'HER_MC_BG', 'HER_T', 'HER_MC_T']]\n",
    "rates_total = pd.DataFrame()\n",
    "rates_total['LER total'] = rates[['LER_BG', 'LER_T']].T.sum()\n",
    "rates_total['MC LER total'] = rates[['LER_MC_BG', 'LER_MC_T']].T.sum()\n",
    "rates_total['HER total'] = rates[['HER_BG', 'HER_T']].T.sum()\n",
    "rates_total['MC HER total'] = rates[['HER_MC_BG', 'HER_MC_T']].T.sum()\n",
    "rates_all = rates\n",
    "rates_all['LER_total'] = rates_total['LER total']\n",
    "rates_all['LER_total_MC'] = rates_total['MC LER total']\n",
    "rates_all['HER_total'] = rates_total['HER total']\n",
    "rates_all['HER_total_MC'] = rates_total['MC HER total']\n",
    "rates_all = rates_all[['LER_total', 'LER_total_MC', 'LER_BG', 'LER_MC_BG', 'LER_T', 'LER_MC_T', 'HER_total', 'HER_total_MC', 'HER_BG', 'HER_MC_BG', 'HER_T', 'HER_MC_T']]\n",
    "\n",
    "#patterns =('','/', '','/','','\\\\','','\\\\')\n",
    "patterns = ('/','/','\\\\','\\\\','','','','')\n",
    "patterns_total = ('', '/', '', '\\\\')\n",
    "\n",
    "#colors = ['cyan', matplotlib.colors.colorConverter.to_rgba('#00FFFF', alpha=0.5), 'magenta', matplotlib.colors.colorConverter.to_rgba('#FF00FF', alpha=0.5), 'yellow', matplotlib.colors.colorConverter.to_rgba('#FFFF00', alpha = 0.5), 'indigo', matplotlib.colors.colorConverter.to_rgba('#4b0082', alpha = 0.5)]\n",
    "\n",
    "colors = [matplotlib.colors.colorConverter.to_rgba('#00FFFF', alpha=0.5), matplotlib.colors.colorConverter.to_rgba('#FF00FF', alpha=0.5), matplotlib.colors.colorConverter.to_rgba('#FFFF00', alpha = 0.5), matplotlib.colors.colorConverter.to_rgba('#4b0082', alpha = 0.5), 'cyan', 'magenta', 'yellow', 'indigo']\n",
    "colors_total = ['red', matplotlib.colors.colorConverter.to_rgba('#FF0000', alpha=0.5), 'blue', matplotlib.colors.colorConverter.to_rgba('#0000FF', alpha = 0.5)]\n",
    "\n",
    "#legend_elements = [Patch(facecolor=colors[0], edgecolor='black',label = 'LER BeamGas'), Patch(facecolor=colors[2], edgecolor='black',label = 'LER Touschek'), Patch(facecolor=colors[4], edgecolor='black',label = 'HER BeamGas'), Patch(facecolor=colors[6], edgecolor='black',label = 'HER Touschek'), Patch(facecolor=colors[1], edgecolor='black',label = 'LER BeamGas', hatch = '//'), Patch(facecolor=colors[3], edgecolor='black',label = 'LER Touschek', hatch = '\\\\\\\\'), Patch(facecolor=colors[5], edgecolor='black',label = 'HER BeamGas', hatch = '//'), Patch(facecolor=colors[7], edgecolor='black',label = 'HER Touschek', hatch = '\\\\\\\\')]\n",
    "\n",
    "legend_elements = [Patch(facecolor=colors[4], edgecolor='black',label = 'LER BeamGas'), Patch(facecolor=colors[5], edgecolor='black',label = 'LER Touschek'), Patch(facecolor=colors[6], edgecolor='black',label = 'HER BeamGas'), Patch(facecolor=colors[7], edgecolor='black',label = 'HER Touschek'), Patch(facecolor=colors[0], edgecolor='black',label = 'LER BeamGas', hatch = '//'), Patch(facecolor=colors[1], edgecolor='black',label = 'LER Touschek', hatch = '\\\\\\\\'), Patch(facecolor=colors[2], edgecolor='black',label = 'HER BeamGas', hatch = '//'), Patch(facecolor=colors[3], edgecolor='black',label = 'HER Touschek', hatch = '\\\\\\\\')]  \n",
    "\n",
    "legend_elements_total = [Patch(facecolor=colors_total[0], edgecolor='black',label = 'LER Total'), Patch(facecolor=colors_total[1], edgecolor='black',label = 'MC LER Total', hatch = '//'), Patch(facecolor=colors_total[2], edgecolor='black',label = 'HER Total'), Patch(facecolor=colors_total[3], edgecolor='black',label = 'MC HER Total', hatch = '\\\\\\\\')]"
   ]
  },
  {
   "cell_type": "code",
   "execution_count": 3,
   "metadata": {},
   "outputs": [],
   "source": [
    "def plot(df = rates, patterns = patterns, colors = colors, legend_elements = legend_elements, stacked = False, logy = True):\n",
    "    ax = plt.figure(figsize=(10, 6)).add_subplot(111)\n",
    "    if (stacked == True) & (len(df.columns) > 7):\n",
    "        df = df[['LER_MC_BG', 'LER_MC_T', 'HER_MC_BG', 'HER_MC_T', 'LER_BG', 'LER_T', 'HER_BG', 'HER_T']]\n",
    "        if logy == True:\n",
    "            plt.ylim(4e-1,4e1)\n",
    "        #df['sum'] = df.sum(axis = 1)\n",
    "        #for col in df.columns:\n",
    "        #    df[col] = df[col]/df['sum']\n",
    "        #df = df[['LER_MC_BG', 'LER_MC_T', 'HER_MC_BG', 'HER_MC_T', 'LER_BG', 'LER_T', 'HER_BG', 'HER_T']]\n",
    "    df.plot(kind = 'bar', stacked = stacked, color = colors, linewidth = 1, logy = logy, ax = ax, legend = False, width = 0.75)\n",
    "    bars = ax.patches\n",
    "    hatches = [p for p in patterns for i in range(len(df))]\n",
    "    for bar, hatch in zip(bars, hatches):\n",
    "        bar.set_hatch(hatch)\n",
    "    ax.legend(handles = legend_elements, title = r'Data $\\qquad \\qquad \\qquad \\qquad \\qquad \\quad$MC', ncol = 2)\n",
    "    plt.tight_layout()\n",
    "    plt.rc('legend', fontsize=12)\n",
    "    plt.rc('xtick', labelsize=16)\n",
    "    plt.rc('ytick', labelsize=16)\n",
    "    plt.rc('axes', labelsize=18)\n",
    "    plt.rc('axes', titlesize=18)\n",
    "    plt.ylabel(\"Rate [Hz]\")\n",
    "    plt.axes().yaxis.set_minor_locator(AutoMinorLocator())\n",
    "    matplotlib.rc('xtick', labelsize=20)\n",
    "    matplotlib.rc('ytick', labelsize=20)"
   ]
  },
  {
   "cell_type": "code",
   "execution_count": 4,
   "metadata": {},
   "outputs": [
    {
     "name": "stderr",
     "output_type": "stream",
     "text": [
      "/usr/local/lib/python3.7/site-packages/ipykernel_launcher.py:24: MatplotlibDeprecationWarning: Adding an axes using the same arguments as a previous axes currently reuses the earlier instance.  In a future version, a new instance will always be created and returned.  Meanwhile, this warning can be suppressed, and the future behavior ensured, by passing a unique label to each axes instance.\n",
      "/usr/local/lib/python3.7/site-packages/IPython/core/events.py:88: UserWarning: AutoMinorLocator does not work with logarithmic scale\n",
      "  func(*args, **kwargs)\n",
      "/usr/local/lib/python3.7/site-packages/IPython/core/pylabtools.py:128: UserWarning: AutoMinorLocator does not work with logarithmic scale\n",
      "  fig.canvas.print_figure(bytes_io, **kw)\n"
     ]
    },
    {
     "data": {
      "image/png": "[encoded data removed]",
      "text/plain": [
       "<Figure size 720x432 with 1 Axes>"
      ]
     },
     "metadata": {
      "needs_background": "light"
     },
     "output_type": "display_data"
    }
   ],
   "source": [
    "plot(stacked = True)"
   ]
  },
  {
   "cell_type": "code",
   "execution_count": 34,
   "metadata": {},
   "outputs": [
    {
     "name": "stderr",
     "output_type": "stream",
     "text": [
      "Warning in <TCanvas::Constructor>: Deleting canvas with same name: c\n"
     ]
    }
   ],
   "source": [
    "c = ROOT.TCanvas('c', 'c', 800, 600)\n",
    "c.Divide(1,2,0)\n",
    "c.cd(1)\n",
    "stack_LER = ROOT.THStack('', 'LER')\n",
    "data_LER = {}\n",
    "keys_LER = ['LER_total', 'LER_total_MC', 'LER_BG', 'LER_BG_MC', 'LER_T', 'LER_T_MC']\n",
    "i = 0\n",
    "for key in keys_LER:\n",
    "    data_LER[key] = array.array('d', rates_all.T.iloc[i])\n",
    "    i += 1"
   ]
  },
  {
   "cell_type": "code",
   "execution_count": 35,
   "metadata": {},
   "outputs": [
    {
     "name": "stderr",
     "output_type": "stream",
     "text": [
      "Warning in <TROOT::Append>: Replacing existing TH1: hLER_total (Potential memory leak).\n",
      "Warning in <TROOT::Append>: Replacing existing TH1: hLER_total_MC (Potential memory leak).\n",
      "Warning in <TROOT::Append>: Replacing existing TH1: hLER_BG (Potential memory leak).\n",
      "Warning in <TROOT::Append>: Replacing existing TH1: hLER_BG_MC (Potential memory leak).\n",
      "Warning in <TROOT::Append>: Replacing existing TH1: hLER_T (Potential memory leak).\n",
      "Warning in <TROOT::Append>: Replacing existing TH1: hLER_T_MC (Potential memory leak).\n"
     ]
    }
   ],
   "source": [
    "hists_LER = {}\n",
    "xs = [i for i in range(1,9)]\n",
    "i = 0\n",
    "linestyles_LER = [1, 10, 1, 10, 1, 10]\n",
    "linecolors_LER = [1,1,67,67,6,6]\n",
    "for key in keys_LER:\n",
    "    hists_LER[key] = ROOT.TH1F('h%s'%(key), 'h%s'%(key), 8, -0.5, 7.5)\n",
    "    for j in range(0,len(data_LER[key])):\n",
    "        hists_LER[key].SetBinContent(xs[j], data_LER[key][j])\n",
    "        hists_LER[key].GetXaxis().SetBinLabel(j+1, rates.T.columns[j])\n",
    "    hists_LER[key].SetLineStyle(linestyles_LER[i])\n",
    "    hists_LER[key].SetLineColor(linecolors_LER[i])\n",
    "    if linecolors_LER[i] == 1:\n",
    "        hists_LER[key].SetLineWidth(12)\n",
    "        hists_LER[key].SetLineColorAlpha(1, 0.7)\n",
    "    else:\n",
    "        hists_LER[key].SetLineWidth(6)\n",
    "    hists_LER[key].Draw()\n",
    "    stack_LER.Add(hists_LER[key])\n",
    "    i += 1\n",
    "ROOT.gPad.SetLogy()\n",
    "stack_LER.SetMinimum(5e-2)\n",
    "stack_LER.SetMaximum(2e1)\n",
    "stack_LER.Draw('nostack')\n",
    "stack_LER.GetYaxis().SetTitleSize(0.1)\n",
    "stack_LER.GetYaxis().SetTitleOffset(0.5)\n",
    "stack_LER.GetYaxis().SetTitle(\"Rate [Hz]\")\n",
    "stack_LER.GetYaxis().SetLabelSize(0.1)\n",
    "l1 = ROOT.TLegend(1,0.79,0.88,1)\n",
    "l1.AddEntry(hists_LER['LER_total'], \"Total\", \"l\")\n",
    "l1.AddEntry(hists_LER['LER_BG'], \"Beam gas\", \"l\")\n",
    "l1.AddEntry(hists_LER['LER_T'], \"Touschek\", \"l\")\n",
    "l1.Draw()"
   ]
  },
  {
   "cell_type": "code",
   "execution_count": 36,
   "metadata": {},
   "outputs": [],
   "source": [
    "c.cd(2)\n",
    "stack_HER = ROOT.THStack('', 'HER')\n",
    "data_HER = {}\n",
    "keys_HER = ['HER_total', 'HER_total_MC', 'HER_BG', 'HER_BG_MC', 'HER_T', 'HER_T_MC']\n",
    "i = 6\n",
    "for key in keys_HER:\n",
    "    data_HER[key] = array.array('d', rates_all.T.iloc[i])\n",
    "    i += 1"
   ]
  },
  {
   "cell_type": "code",
   "execution_count": 37,
   "metadata": {},
   "outputs": [
    {
     "name": "stderr",
     "output_type": "stream",
     "text": [
      "Warning in <TROOT::Append>: Replacing existing TH1: hHER_total (Potential memory leak).\n",
      "Warning in <TROOT::Append>: Replacing existing TH1: hHER_total_MC (Potential memory leak).\n",
      "Warning in <TROOT::Append>: Replacing existing TH1: hHER_BG (Potential memory leak).\n",
      "Warning in <TROOT::Append>: Replacing existing TH1: hHER_BG_MC (Potential memory leak).\n",
      "Warning in <TROOT::Append>: Replacing existing TH1: hHER_T (Potential memory leak).\n",
      "Warning in <TROOT::Append>: Replacing existing TH1: hHER_T_MC (Potential memory leak).\n"
     ]
    }
   ],
   "source": [
    "hists_HER = {}\n",
    "xs = [i for i in range(1,9)]\n",
    "i = 0\n",
    "linestyles_HER = [1, 10, 1, 10,1,10]\n",
    "linecolors_HER = [1,1,90,90,9,9]\n",
    "for key in keys_HER:\n",
    "    hists_HER[key] = ROOT.TH1F('h%s'%(key), 'h%s'%(key), 8, -0.5, 7.5)\n",
    "    for j in range(0,len(data_HER[key])):\n",
    "        hists_HER[key].SetBinContent(xs[j], data_HER[key][j])\n",
    "        hists_HER[key].GetXaxis().SetBinLabel(j+1, rates.T.columns[j])\n",
    "    hists_HER[key].SetLineStyle(linestyles_HER[i])\n",
    "    hists_HER[key].SetLineColor(linecolors_HER[i])\n",
    "    if linecolors_HER[i] == 1:\n",
    "        hists_HER[key].SetLineWidth(12)\n",
    "        hists_HER[key].SetLineColorAlpha(1, 0.7)\n",
    "    else:\n",
    "        hists_HER[key].SetLineWidth(6)\n",
    "    hists_HER[key].Draw()\n",
    "    stack_HER.Add(hists_HER[key])\n",
    "    i += 1"
   ]
  },
  {
   "cell_type": "code",
   "execution_count": 38,
   "metadata": {},
   "outputs": [
    {
     "name": "stderr",
     "output_type": "stream",
     "text": [
      "Info in <TCanvas::Print>: png file tpc_phi_new.png has been created\n"
     ]
    },
    {
     "data": {
      "image/png": "[encoded data removed]",
      "text/plain": [
       "<IPython.core.display.Image object>"
      ]
     },
     "metadata": {},
     "output_type": "display_data"
    }
   ],
   "source": [
    "ROOT.gPad.SetLogy()\n",
    "ROOT.gStyle.SetLabelSize(0.1)\n",
    "stack_HER.SetMinimum(5e-2)\n",
    "stack_HER.SetMaximum(5e1)\n",
    "stack_HER.Draw('nostack')\n",
    "stack_HER.GetYaxis().SetLabelSize(0.1)\n",
    "stack_HER.GetYaxis().SetTitle(\"Rate [Hz]\")\n",
    "stack_HER.GetYaxis().SetTitleSize(0.1)\n",
    "stack_HER.GetYaxis().SetTitleOffset(0.5)\n",
    "l2 = ROOT.TLegend(1,0.8,0.88,1)\n",
    "l2.AddEntry(hists_HER['HER_total'], \"Total\", \"l\")\n",
    "l2.AddEntry(hists_HER['HER_BG'], \"Beam gas\", \"l\")\n",
    "l2.AddEntry(hists_HER['HER_T'], \"Touschek\", \"l\")\n",
    "l2.Draw()\n",
    "c.SaveAs('tpc_phi_new.png')\n",
    "c.Draw()"
   ]
  },
  {
   "cell_type": "code",
   "execution_count": null,
   "metadata": {},
   "outputs": [],
   "source": []
  },
  {
   "cell_type": "code",
   "execution_count": null,
   "metadata": {},
   "outputs": [],
   "source": []
  }
 ],
 "metadata": {
  "kernelspec": {
   "display_name": "Python 3",
   "language": "python",
   "name": "python3"
  },
  "language_info": {
   "codemirror_mode": {
    "name": "ipython",
    "version": 3
   },
   "file_extension": ".py",
   "mimetype": "text/x-python",
   "name": "python",
   "nbconvert_exporter": "python",
   "pygments_lexer": "ipython3",
   "version": "3.7.6"
  }
 },
 "nbformat": 4,
 "nbformat_minor": 2
}
