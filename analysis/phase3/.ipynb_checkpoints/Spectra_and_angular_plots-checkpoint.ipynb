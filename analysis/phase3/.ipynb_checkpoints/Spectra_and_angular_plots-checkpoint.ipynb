{
 "cells": [
  {
   "cell_type": "code",
   "execution_count": 1,
   "metadata": {},
   "outputs": [
    {
     "name": "stdout",
     "output_type": "stream",
     "text": [
      "Welcome to JupyROOT 6.18/04\n"
     ]
    },
    {
     "name": "stderr",
     "output_type": "stream",
     "text": [
      "/Users/vahsengrouplaptop/workspace/jeff_workspace/analysis/phase3/new_analysis.py:67: SettingWithCopyWarning: \n",
      "A value is trying to be set on a copy of a slice from a DataFrame.\n",
      "Try using .loc[row_indexer,col_indexer] = value instead\n",
      "\n",
      "See the caveats in the documentation: https://pandas.pydata.org/pandas-docs/stable/user_guide/indexing.html#returning-a-view-versus-a-copy\n",
      "  means[col]=0 #will be deleted at the end. Used so we can append rows of means\n",
      "/Users/vahsengrouplaptop/workspace/jeff_workspace/analysis/phase3/new_analysis.py:68: SettingWithCopyWarning: \n",
      "A value is trying to be set on a copy of a slice from a DataFrame.\n",
      "Try using .loc[row_indexer,col_indexer] = value instead\n",
      "\n",
      "See the caveats in the documentation: https://pandas.pydata.org/pandas-docs/stable/user_guide/indexing.html#returning-a-view-versus-a-copy\n",
      "  errs[col] = 0\n"
     ]
    }
   ],
   "source": [
    "import numpy as np\n",
    "import pandas as pd\n",
    "import root_pandas as rp\n",
    "import matplotlib.pyplot as plt\n",
    "from matplotlib.lines import Line2D\n",
    "import ROOT\n",
    "import new_analysis\n",
    "import array\n",
    "import matplotlib\n",
    "matplotlib.rcParams['text.usetex'] = False"
   ]
  },
  {
   "cell_type": "code",
   "execution_count": 2,
   "metadata": {},
   "outputs": [],
   "source": [
    "a = new_analysis.analysis()"
   ]
  },
  {
   "cell_type": "code",
   "execution_count": 3,
   "metadata": {},
   "outputs": [],
   "source": [
    "LER_cont_inj = a.get_tpc_data_during_study_period(\"LER\", \"Cont_inj\")\n",
    "LER_decay = a.get_tpc_data_during_study_period(\"LER\", \"Decay\")\n",
    "HER_cont_inj = a.get_tpc_data_during_study_period(\"HER\", \"Cont_inj\")\n",
    "HER_decay = a.get_tpc_data_during_study_period(\"HER\", \"Decay\")\n",
    "Lumi_cont_inj = a.get_tpc_data_during_study_period(\"Lumi\", \"Cont_inj\")\n",
    "Lumi_decay = a.get_tpc_data_during_study_period(\"Lumi\", \"Decay\")"
   ]
  },
  {
   "cell_type": "code",
   "execution_count": null,
   "metadata": {
    "scrolled": false
   },
   "outputs": [],
   "source": [
    "def plot_spectra(side = \"BWD\", ekey = 'full_corrected_energy'):\n",
    "    if side == \"BWD\":\n",
    "        tpcs = ['elepaio', 'tako', 'palila']\n",
    "        ring = \"HER\"\n",
    "    else:\n",
    "        tpcs = ['iiwi', 'nene', 'humu']\n",
    "        ring = \"LER\"\n",
    "    i = 1\n",
    "    fig = plt.figure(figsize=(14,12))\n",
    "    plt.rc('legend', fontsize=12)\n",
    "    plt.rc('xtick', labelsize=16)\n",
    "    plt.rc('ytick', labelsize=16)\n",
    "    plt.rc('axes', labelsize=18)\n",
    "    plt.rc('axes', titlesize=18)\n",
    "    for tpc in tpcs:\n",
    "        x_plt = np.linspace(0,5000,5001)\n",
    "        plt.subplot(3,2,i)\n",
    "        plt.hist(LER_cont_inj[tpc][ekey], bins = 100, histtype = 'step', range = (20,5000), label = 'LER_cont_inj', linewidth = 2)\n",
    "        params_LER, errs_LER = get_fit_function(LER_cont_inj[tpc], ekey)\n",
    "        if params_LER[0] < 10:\n",
    "            pass\n",
    "        else:\n",
    "            plt.fill_between(x_plt, (params_LER[0]-errs_LER[0])*np.exp((params_LER[1]-errs_LER[1])*x_plt), (params_LER[0]+errs_LER[0])*np.exp((params_LER[1]+errs_LER[1])*x_plt), color = 'blue', label = r'LER fit region: $\\lambda$ = %s $\\pm$ %s'%(float('%.3g' % params_LER[1]), float('%.2g' % errs_LER[1])), alpha = 0.3)\n",
    "        plt.hist(HER_cont_inj[tpc][ekey], bins = 100, histtype = 'step', range = (20,5000), label = 'HER_cont_inj', linewidth = 2)\n",
    "        params, errs = get_fit_function(HER_cont_inj[tpc], ekey)\n",
    "        if params[0] < 10:\n",
    "            pass\n",
    "        else:\n",
    "            plt.fill_between(x_plt, (params[0]-errs[0])*np.exp((params[1]-errs[1])*x_plt), (params[0]+errs[0])*np.exp((params[1]+errs[1])*x_plt), color = 'orange', label = r'HER fit region: $\\lambda$ = %s $\\pm$ %s'%(float('%.3g' % params[1]), float('%.2g' % errs[1])), alpha = 0.3)\n",
    "        plt.hist(Lumi_cont_inj[tpc][ekey], bins = 100, histtype = 'step', range = (20,5000), label = 'Lumi_cont_inj', linewidth = 2)\n",
    "        params_lumi, errs_lumi = get_fit_function(Lumi_cont_inj[tpc], ekey)\n",
    "        plt.fill_between(x_plt, (params_lumi[0]-errs_lumi[0])*np.exp((params_lumi[1]-errs_lumi[1])*x_plt), (params_lumi[0]+errs_lumi[0])*np.exp((params_lumi[1]+errs_lumi[1])*x_plt), color = 'green', label = r'Lumi fit region: $\\lambda$ = %s $\\pm$ %s'%(float('%.3g' % params_lumi[1]), float('%.2g' % errs_lumi[1])), alpha = 0.3)\n",
    "        if side == \"BWD\":\n",
    "            plt.fill_between([0],[0],[0], lw = 0, label = r'$\\lambda_{lumi}-\\lambda_{%s} = %s \\pm %s$'%(ring, float('%.3g' % (params_lumi[1]-params[1])), float('%.2g' % np.sqrt(errs_lumi[1]**2+errs[1]**2))), color = 'white')\n",
    "        else:\n",
    "            plt.fill_between([0],[0],[0], lw = 0, label = r'$\\lambda_{lumi}-\\lambda_{%s} = %s \\pm %s$'%(ring, float('%.3g' % (params_lumi[1]-params_LER[1])), float('%.2g' % np.sqrt(errs_lumi[1]**2+errs_LER[1]**2))), color = 'white')\n",
    "        plt.title(tpc)\n",
    "        plt.yscale(\"Log\")\n",
    "        plt.xlabel('Recoil Energy [keV]')\n",
    "        plt.ylim(0.9,3000)\n",
    "        plt.legend()\n",
    "        plt.subplot(3,2,i+1)\n",
    "        plt.hist(LER_decay[tpc][ekey], bins = 100, histtype = 'step', range = (20,5000), label = 'LER_decay', linewidth = 2)\n",
    "        params_LER, errs_LER = get_fit_function(LER_cont_inj[tpc], ekey)\n",
    "        if params_LER[0] < 10:\n",
    "            pass\n",
    "        else:\n",
    "            plt.fill_between(x_plt, (params_LER[0]-errs_LER[0])*np.exp((params_LER[1]-errs_LER[1])*x_plt), (params_LER[0]+errs_LER[0])*np.exp((params_LER[1]+errs_LER[1])*x_plt), color = 'blue', label = r'LER fit region: $\\lambda$ = %s $\\pm$ %s'%(float('%.3g' % params_LER[1]), float('%.2g' % errs_LER[1])), alpha = 0.3)\n",
    "        plt.hist(HER_decay[tpc][ekey], bins = 100, histtype = 'step', range = (20,5000), label = 'HER_decay', linewidth = 2)\n",
    "        params, errs = get_fit_function(HER_cont_inj[tpc], ekey)\n",
    "        if params[0] < 10:\n",
    "            pass\n",
    "        else:\n",
    "            plt.fill_between(x_plt, (params[0]-errs[0])*np.exp((params[1]-errs[1])*x_plt), (params[0]+errs[0])*np.exp((params[1]+errs[1])*x_plt), color = 'orange', label = r'HER fit region: $\\lambda$ = %s $\\pm$ %s'%(float('%.3g' % params[1]), float('%.2g' % errs[1])), alpha = 0.3)\n",
    "        plt.hist(Lumi_decay[tpc][ekey], bins = 100, histtype = 'step', range = (20,5000), label = 'Lumi_decay', linewidth = 2)\n",
    "        params_lumi, errs_lumi = get_fit_function(Lumi_decay[tpc], ekey)\n",
    "        plt.fill_between(x_plt, (params_lumi[0]-errs_lumi[0])*np.exp((params_lumi[1]-errs_lumi[1])*x_plt), (params_lumi[0]+errs_lumi[0])*np.exp((params_lumi[1]+errs_lumi[1])*x_plt), color = 'green', label = r'Lumi fit region: $\\lambda$ = %s $\\pm$ %s'%(float('%.3g' % params_lumi[1]), float('%.2g' % errs_lumi[1])), alpha = 0.3)\n",
    "        if side == \"BWD\":\n",
    "            plt.fill_between([0],[0],[0], lw = 0, label = r'$\\lambda_{lumi}-\\lambda_{%s} = %s \\pm %s$'%(ring, float('%.3g' % (params_lumi[1]-params[1])), float('%.2g' % np.sqrt(errs_lumi[1]**2+errs[1]**2))), color = 'white')\n",
    "        else:\n",
    "            plt.fill_between([0],[0],[0], lw = 0, label = r'$\\lambda_{lumi}-\\lambda_{%s} = %s \\pm %s$'%(ring, float('%.3g' % (params_lumi[1]-params_LER[1])), float('%.2g' % np.sqrt(errs_lumi[1]**2+errs_LER[1]**2))), color = 'white')\n",
    "        plt.title(tpc)\n",
    "        plt.yscale(\"Log\")\n",
    "        plt.xlabel('Recoil Energy [keV]')\n",
    "        plt.ylim(0.9,3000)\n",
    "        plt.legend()\n",
    "        i+=2\n",
    "    plt.tight_layout()\n",
    "    plt.show()\n",
    "def get_fit_function(df, ekey):\n",
    "    h = ROOT.TH1D(\"h\", \"\", 100, 20, 5000)\n",
    "    energy = array.array('d', df[ekey])\n",
    "    for i in range(0,len(df)):\n",
    "        h.Fill(energy[i])\n",
    "    f = ROOT.TF1(\"f\",\"[0]*TMath::Exp(([1]*x))\")\n",
    "    #f.SetParLimits(0,0,20)\n",
    "    #f.SetParLimits(2,0,0.001)\n",
    "    f.SetParLimits(1,-0.05,0)\n",
    "    h.Fit(f, \"SL\")\n",
    "    c = ROOT.TCanvas(\"c1\", \"c1\", 800, 600)\n",
    "    params = f.GetParameters()\n",
    "    par_errs = f.GetParErrors()\n",
    "    return params, par_errs\n",
    "plot_spectra()\n",
    "#params, errs = get_fit_function(Lumi_cont_inj['elepaio'])"
   ]
  },
  {
   "cell_type": "code",
   "execution_count": null,
   "metadata": {
    "scrolled": false
   },
   "outputs": [],
   "source": [
    "plot_spectra(\"FWD\")"
   ]
  },
  {
   "cell_type": "code",
   "execution_count": null,
   "metadata": {},
   "outputs": [],
   "source": [
    "def plot_He_vs_CO_spectra(side = \"BWD\"):\n",
    "    if side == \"BWD\":\n",
    "        tpcs = ['tako', 'palila', 'elepaio']\n",
    "    else:\n",
    "        tpcs = ['iiwi', 'nene', 'humu']\n",
    "    i = 1\n",
    "    fig = plt.figure(figsize=(10,10))\n",
    "    Single_beam_cont_inj = {}\n",
    "    Single_beam_decay = {}\n",
    "    Single_beam_total = {}\n",
    "    Single_beam_He = {}\n",
    "    Single_beam_CO = {}\n",
    "    Lumi_total = {}\n",
    "    Lumi_He = {}\n",
    "    Lumi_CO = {}\n",
    "    for tpc in tpcs:\n",
    "        plt.subplot(3,1,i)\n",
    "        Single_beam_cont_inj[tpc] = LER_cont_inj[tpc].append(HER_cont_inj[tpc])\n",
    "        Single_beam_decay[tpc] = LER_decay[tpc].append(HER_decay[tpc])\n",
    "        Single_beam_total[tpc] = Single_beam_cont_inj[tpc].append(Single_beam_decay[tpc])\n",
    "        Lumi_total[tpc] = Lumi_cont_inj[tpc].append(Lumi_decay[tpc])\n",
    "        Lumi_He[tpc] = Lumi_total[tpc].loc[Lumi_total[tpc]['He_recoil']==1]\n",
    "        Lumi_CO[tpc] = Lumi_total[tpc].loc[Lumi_total[tpc]['He_recoil']==0]\n",
    "        Single_beam_He[tpc] = Single_beam_total[tpc].loc[Single_beam_total[tpc]['He_recoil']==1]\n",
    "        Single_beam_CO[tpc] = Single_beam_total[tpc].loc[Single_beam_total[tpc]['He_recoil']==0]\n",
    "        plt.hist(Single_beam_He[tpc]['full_corrected_energy'], bins = 100, histtype = 'step', range = (20,5000), label = 'Single beam He recoils', linewidth = 2)\n",
    "        plt.hist(Single_beam_CO[tpc]['full_corrected_energy'], bins = 100, histtype = 'step', range = (20,5000), label = 'Single beam C/O recoils', linewidth = 2)\n",
    "        plt.hist(Lumi_He[tpc]['full_corrected_energy'], bins = 100, histtype = 'step', range = (20,5000), label = 'Lumi He recoils', linewidth = 2)\n",
    "        plt.hist(Lumi_CO[tpc]['full_corrected_energy'], bins = 100, histtype = 'step', range = (20,5000), label = 'Lumi C/O recoils', linewidth = 2)\n",
    "        plt.title(tpc)\n",
    "        plt.yscale(\"Log\")\n",
    "        plt.xlabel('Recoil Energy [keV]')\n",
    "        plt.ylim(0.9,5000)\n",
    "        plt.legend()\n",
    "        i+=1\n",
    "    plt.tight_layout()\n",
    "    plt.show()\n",
    "plot_He_vs_CO_spectra()"
   ]
  },
  {
   "cell_type": "code",
   "execution_count": null,
   "metadata": {},
   "outputs": [],
   "source": [
    "plot_He_vs_CO_spectra(side = 'FWD')"
   ]
  },
  {
   "cell_type": "code",
   "execution_count": 84,
   "metadata": {},
   "outputs": [
    {
     "data": {
      "text/plain": [
       "450"
      ]
     },
     "execution_count": 84,
     "metadata": {},
     "output_type": "execute_result"
    }
   ],
   "source": [
    "len(Lumi_decay['tako'].loc[(Lumi_decay['tako']['He_recoil']==1) & (Lumi_decay['tako']['head_charge_original']<0.5)])"
   ]
  },
  {
   "cell_type": "markdown",
   "metadata": {},
   "source": [
    "### Redefine head-tail before doing angular analysis and transform TPC coordinate systems to Belle Frame\n",
    "\n",
    "Transformations are below and important!"
   ]
  },
  {
   "cell_type": "code",
   "execution_count": 87,
   "metadata": {},
   "outputs": [],
   "source": [
    "### Define x, y, and z in the Belle Frame\n",
    "for tpc in ['humu', 'nene', 'tako', 'elepaio', 'iiwi', 'palila']:\n",
    "    for df in [Lumi_decay[tpc],Lumi_cont_inj[tpc], LER_decay[tpc],LER_cont_inj[tpc], HER_decay[tpc],HER_cont_inj[tpc]]:\n",
    "        if tpc == 'nene':\n",
    "            zscale = 1401.1e4\n",
    "        if tpc == 'humu':\n",
    "            zscale = 1601.1e4\n",
    "        if tpc == 'tako':\n",
    "            zscale = -798.8e4\n",
    "        if tpc == 'elepaio':\n",
    "            zscale = -1398.8e4\n",
    "        if tpc == 'iiwi':\n",
    "            zscale = 655.3e4\n",
    "        if tpc == 'palila':\n",
    "            zscale = -563.7e4\n",
    "        if (tpc == 'humu') or (tpc == 'nene'):\n",
    "            df['x_belle'] = (-df['y']+1.68e4) + 201e4\n",
    "            df['y_belle'] = (df['x']+16e4)\n",
    "            df['z_belle'] = df['z']+zscale\n",
    "        elif (tpc == 'tako') or (tpc == 'elepaio'):\n",
    "            df['x_belle'] = (-df['y']+1.68e4) + 204e4\n",
    "            df['y_belle'] = (df['x']+16e4)\n",
    "            df['z_belle'] = df['z']+zscale\n",
    "        elif tpc == 'iiwi':\n",
    "            df['x_belle'] = -182.9e4 + df['y']\n",
    "            df['y_belle'] = df['x'] + 16e4\n",
    "            df['z_belle'] = zscale - df['z']\n",
    "        else:\n",
    "            df['x_belle'] = -181.4e4 + df['y']\n",
    "            df['y_belle'] = df['x'] + 16e4\n",
    "            df['z_belle'] = zscale + df['z']\n",
    "        "
   ]
  },
  {
   "cell_type": "code",
   "execution_count": null,
   "metadata": {
    "scrolled": true
   },
   "outputs": [],
   "source": [
    "from ROOT import TVector3\n",
    "def fit_track(df, i): #faster than root fit, so this is standard\n",
    "    x = df['x_belle'].iloc[i]\n",
    "    y = df['y_belle'].iloc[i]\n",
    "    z = df['z_belle'].iloc[i]\n",
    "    data = np.concatenate((x[:, np.newaxis], y[:, np.newaxis], z[:, np.newaxis]), axis=1)\n",
    "    datamean = data.mean(axis = 0)\n",
    "    uu, dd, vv = np.linalg.svd(data-datamean)\n",
    "    xhat = TVector3(vv[0][0],vv[0][1],vv[0][2])\n",
    "    zhat = TVector3(0,0,1)\n",
    "    yhat = zhat.Cross(xhat).Unit()\n",
    "    zhat_track = xhat.Cross(yhat).Unit()\n",
    "    zhat = np.array([zhat.x(), zhat.y(), zhat.z()])\n",
    "    yhat = np.array([yhat.x(), yhat.y(), yhat.z()])\n",
    "    x_rel = x-x.mean()\n",
    "    y_rel = y-y.mean()\n",
    "    z_rel = z-z.mean()\n",
    "    x_track = np.dot([[x_rel[i],y_rel[i],z_rel[i]] for i in range(0,len(x))],[vv[0][0],vv[0][1],vv[0][2]])\n",
    "    y_track = np.dot([[x_rel[i],y_rel[i],z_rel[i]] for i in range(0,len(y))],yhat)\n",
    "    z_track = np.dot([[x_rel[i],y_rel[i],z_rel[i]] for i in range(0,len(z))],zhat)\n",
    "    length = (x_track.max() - x_track.min())\n",
    "    width = (y_track.max() - y_track.min())\n",
    "    projection= []\n",
    "    for point in data:\n",
    "        projection += [np.dot(point, vv[0])]\n",
    "    #projection = x_track\n",
    "    maxp = max(projection)\n",
    "    minp = min(projection)\n",
    "    midp = 0.5*float(maxp+minp)\n",
    "    head_charge = 0\n",
    "    tail_charge = 0\n",
    "    head_q = 0\n",
    "    tail_q = 0\n",
    "    phi_no_headtail = xhat.Phi()*180/np.pi\n",
    "    for p in projection:\n",
    "        if p > midp:\n",
    "            head_charge += 1\n",
    "            head_q += 1\n",
    "        else:\n",
    "            tail_charge += 1\n",
    "            tail_q += 1\n",
    "    if head_charge > tail_charge:\n",
    "        xhat = -1. * xhat\n",
    "    head_charge_fraction = head_charge/(head_charge+tail_charge)\n",
    "    tail_charge_fraction = 1 - head_charge_fraction\n",
    "    theta = xhat.Theta()*180/np.pi\n",
    "    phi = xhat.Phi()*180/np.pi\n",
    "    return theta, phi, phi_no_headtail, head_charge_fraction, tail_charge_fraction\n",
    "tpcs = Lumi_decay.keys()\n",
    "\n",
    "for tpc in ['humu','nene', 'tako', 'elepaio']:\n",
    "    for df in [Lumi_decay[tpc],Lumi_cont_inj[tpc], LER_decay[tpc],LER_cont_inj[tpc], HER_decay[tpc],HER_cont_inj[tpc]]:\n",
    "        theta_belle = []\n",
    "        phi_belle = []\n",
    "        phi_before_headtail_belle = []\n",
    "        hq = []\n",
    "        tq = []\n",
    "        for i in range(0,len(df)):\n",
    "            theta_b, phi_b, phi_b_no_ht, headq, tailq = fit_track(df, i)\n",
    "            theta_belle.append(theta_b)\n",
    "            phi_belle.append(phi_b)\n",
    "            phi_before_headtail_belle.append(phi_b_no_ht)\n",
    "            hq.append(headq)\n",
    "            tq.append(tailq)\n",
    "        df['theta_belle'] = theta_belle\n",
    "        df['phi_belle'] = phi_belle\n",
    "        df['phi_belle_no_headtail'] = phi_before_headtail_belle\n",
    "        df['head_charge_original'] = hq\n",
    "        df['tail_charge_original'] = tq\n"
   ]
  },
  {
   "cell_type": "code",
   "execution_count": 82,
   "metadata": {},
   "outputs": [
    {
     "data": {
      "image/png": "[encoded data removed]",
      "text/plain": [
       "<Figure size 864x576 with 1 Axes>"
      ]
     },
     "metadata": {
      "needs_background": "light"
     },
     "output_type": "display_data"
    }
   ],
   "source": [
    "plt.figure(figsize = (12,8))\n",
    "plt.hist(Lumi_cont_inj['tako']['phi'], bins = 30, range = (-180,180), histtype = 'step', lw=2, label = 'tpc_coord')\n",
    "plt.hist(Lumi_cont_inj['tako']['phi_belle'], bins = 30, range = (-180,180), histtype = 'step', lw=2, label = 'belle_coord')\n",
    "plt.hist(Lumi_cont_inj['tako']['phi_belle_no_headtail'], bins = 30, range = (-180,180), histtype = 'step', lw=2, label = 'belle_coord_no_headtail')\n",
    "plt.legend()\n",
    "#plt.yscale(\"log\")\n",
    "plt.show()"
   ]
  },
  {
   "cell_type": "code",
   "execution_count": null,
   "metadata": {},
   "outputs": [],
   "source": [
    "def plot_angular_dist(side = \"BWD\"):\n",
    "    if side == \"BWD\":\n",
    "        tpcs = ['tako', 'palila', 'elepaio']\n",
    "    else:\n",
    "        tpcs = ['iiwi', 'nene', 'humu']\n",
    "    i = 1\n",
    "    fig = plt.figure(figsize=(20,15))\n",
    "    for tpc in tpcs:\n",
    "        plt.subplot(3,2,i)\n",
    "        plt.hist(LER_cont_inj[tpc]['theta'], bins = 60, histtype = 'step', range = (0,180), label = 'LER_cont_inj', linewidth = 2)\n",
    "        plt.hist(HER_cont_inj[tpc]['theta'], bins = 60, histtype = 'step', range = (0,180), label = 'HER_cont_inj', linewidth = 2)\n",
    "        plt.hist(Lumi_cont_inj[tpc]['theta'], bins = 60, histtype = 'step', range = (0,180), label = 'Lumi_cont_inj', linewidth = 2)\n",
    "        plt.title(tpc)\n",
    "        #plt.yscale(\"Log\")\n",
    "        plt.xlabel('cos(theta)')\n",
    "        #plt.ylim(0,350)\n",
    "        plt.legend(loc = 'upper left')\n",
    "        plt.subplot(3,2,i+1)\n",
    "        plt.hist(LER_decay[tpc]['theta'], bins = 60, histtype = 'step', range = (0,180), label = 'LER_decay', linewidth = 2)\n",
    "        plt.hist(HER_decay[tpc]['theta'], bins = 60, histtype = 'step', range = (0,180), label = 'HER_decay', linewidth = 2)\n",
    "        plt.hist(Lumi_decay[tpc]['theta'], bins = 60, histtype = 'step', range = (0,180), label = 'Lumi_decay', linewidth = 2)\n",
    "        plt.title(tpc)\n",
    "        #plt.yscale(\"Log\")\n",
    "        plt.xlabel('Track theta [degrees]')\n",
    "        #plt.ylim(0,350)\n",
    "        plt.legend(loc = 'upper left')\n",
    "        i+=2\n",
    "    plt.tight_layout()\n",
    "    plt.show()\n",
    "plot_angular_dist(\"BWD\")"
   ]
  },
  {
   "cell_type": "code",
   "execution_count": null,
   "metadata": {},
   "outputs": [],
   "source": [
    "plot_angular_dist(\"FWD\")"
   ]
  },
  {
   "cell_type": "code",
   "execution_count": null,
   "metadata": {},
   "outputs": [],
   "source": [
    "def plot_phi_dist(side = \"BWD\"):\n",
    "    if side == \"BWD\":\n",
    "        tpcs = ['tako', 'palila', 'elepaio']\n",
    "    else:\n",
    "        tpcs = ['iiwi', 'nene', 'humu']\n",
    "    i = 1\n",
    "    fig = plt.figure(figsize=(20,10))\n",
    "    for tpc in tpcs:\n",
    "        plt.subplot(3,2,i)\n",
    "        plt.hist(LER_cont_inj[tpc]['phi'], bins = 90, histtype = 'step', range = (-185,185), label = 'LER_cont_inj', linewidth = 2)\n",
    "        plt.hist(HER_cont_inj[tpc]['phi'], bins = 90, histtype = 'step', range = (-185,185), label = 'HER_cont_inj', linewidth = 2)\n",
    "        plt.hist(Lumi_cont_inj[tpc]['phi'], bins = 90, histtype = 'step', range = (-185,185), label = 'Lumi_cont_inj', linewidth = 2)\n",
    "        plt.title(tpc)\n",
    "        #plt.yscale(\"Log\")\n",
    "        plt.xlabel('Track phi [degrees]')\n",
    "        #plt.ylim(0.9,3000)\n",
    "        plt.legend()\n",
    "        plt.subplot(3,2,i+1)\n",
    "        plt.hist(LER_decay[tpc]['phi'], bins = 90, histtype = 'step', range = (-185,185), label = 'LER_decay', linewidth = 2)\n",
    "        plt.hist(HER_decay[tpc]['phi'], bins = 90, histtype = 'step', range = (-185,185), label = 'HER_decay', linewidth = 2)\n",
    "        plt.hist(Lumi_decay[tpc]['phi'], bins = 90, histtype = 'step', range = (-185,185), label = 'Lumi_decay', linewidth = 2)\n",
    "        plt.title(tpc)\n",
    "        #plt.yscale(\"Log\")\n",
    "        plt.xlabel('Track phi [degrees]')\n",
    "        #plt.ylim(0.9,3000)\n",
    "        plt.legend()\n",
    "        i+=2\n",
    "    plt.tight_layout()\n",
    "    plt.show()\n",
    "plot_phi_dist()"
   ]
  },
  {
   "cell_type": "code",
   "execution_count": null,
   "metadata": {},
   "outputs": [],
   "source": [
    "plot_phi_dist(\"FWD\")"
   ]
  },
  {
   "cell_type": "code",
   "execution_count": 86,
   "metadata": {},
   "outputs": [
    {
     "data": {
      "image/png": "[encoded data removed]",
      "text/plain": [
       "<Figure size 1440x1440 with 16 Axes>"
      ]
     },
     "metadata": {
      "needs_background": "light"
     },
     "output_type": "display_data"
    }
   ],
   "source": [
    "import matplotlib\n",
    "def plot_theta_phi():\n",
    "    tpcs = ['tako', 'palila', 'elepaio','iiwi', 'nene', 'humu']\n",
    "    i = 1\n",
    "    fig = plt.figure(figsize=(20,20))\n",
    "    for tpc in tpcs:\n",
    "        plt.subplot(6,3,i)\n",
    "        plt.hist2d(np.cos(LER_cont_inj[tpc]['theta']*np.pi/180), LER_cont_inj[tpc]['phi_belle'], bins = (20,15), range = ((-1.2,1.2), (-185,185)), label = 'LER_cont_inj', norm = matplotlib.colors.LogNorm(vmin=0.9, vmax=100))\n",
    "        plt.title(tpc+' LER_cont_inj')\n",
    "        plt.xlabel('cos(theta)')\n",
    "        plt.ylabel('Track phi [degrees]')\n",
    "        plt.subplot(6,3,i+1)\n",
    "        plt.hist2d(np.cos(HER_cont_inj[tpc]['theta']*np.pi/180), HER_cont_inj[tpc]['phi_belle'], bins = (20,15), range = ((-1.2,1.2), (-185,185)), label = 'HER_cont_inj', norm = matplotlib.colors.LogNorm(vmin=0.9, vmax=100))\n",
    "        plt.title(tpc+' HER_cont_inj')\n",
    "        plt.xlabel('cos(theta)')\n",
    "        plt.ylabel('Track phi [degrees]')\n",
    "        plt.subplot(6,3,i+2)\n",
    "        plt.hist2d(np.cos(Lumi_cont_inj[tpc]['theta']*np.pi/180), Lumi_cont_inj[tpc]['phi_belle'], bins = (20,15), range = ((-1.2,1.2), (-185,185)), label = 'Lumi_cont_inj', norm = matplotlib.colors.LogNorm(vmin=0.9, vmax=100))\n",
    "        plt.title(tpc+' Lumi_cont_inj')\n",
    "        plt.colorbar()\n",
    "        #plt.yscale(\"Log\")\n",
    "        plt.xlabel('cos(theta)')\n",
    "        plt.ylabel('Track phi [degrees]')\n",
    "        #plt.ylim(0.9,3000)\n",
    "        #plt.legend()\n",
    "        \n",
    "        #plt.hist(LER_decay[tpc]['theta'], bins = 90, histtype = 'step', range = (-5,185), label = 'LER_decay', linewidth = 2)\n",
    "        #plt.hist(HER_decay[tpc]['theta'], bins = 90, histtype = 'step', range = (-5,185), label = 'HER_decay', linewidth = 2)\n",
    "        #plt.hist(Lumi_decay[tpc]['theta'], bins = 90, histtype = 'step', range = (-5,185), label = 'Lumi_decay', linewidth = 2)\n",
    "        #plt.title(tpc)\n",
    "        #plt.yscale(\"Log\")\n",
    "        #plt.xlabel('Track theta [degrees]')\n",
    "        #plt.ylim(0.9,3000)\n",
    "        #plt.legend()\n",
    "        i+=3\n",
    "    plt.tight_layout()\n",
    "    plt.show()\n",
    "plot_theta_phi()"
   ]
  },
  {
   "cell_type": "code",
   "execution_count": null,
   "metadata": {},
   "outputs": [],
   "source": [
    "def plot_E_v_Theta(side = \"BWD\"):\n",
    "    if side == \"BWD\":\n",
    "        tpcs = ['tako', 'palila', 'elepaio']\n",
    "    else:\n",
    "        tpcs = ['iiwi', 'nene', 'humu']\n",
    "    i = 1\n",
    "    fig = plt.figure(figsize=(20,10))\n",
    "    for tpc in tpcs:\n",
    "        plt.subplot(3,2,i)\n",
    "        plt.plot(Lumi_cont_inj[tpc]['theta'], Lumi_cont_inj[tpc]['full_corrected_energy'], 'o', markersize = 1, alpha = 0.5, label = 'Lumi_cont_inj')\n",
    "        plt.plot(LER_cont_inj[tpc]['theta'], LER_cont_inj[tpc]['full_corrected_energy'], 'o', markersize = 1, alpha = 0.5, label = 'LER_cont_inj')\n",
    "        plt.plot(HER_cont_inj[tpc]['theta'], HER_cont_inj[tpc]['full_corrected_energy'], 'o', markersize = 1, alpha = 0.5, label = 'HER_cont_inj')\n",
    "        plt.title(tpc)\n",
    "        #plt.yscale(\"Log\")\n",
    "        plt.xlabel('Track theta [degrees]')\n",
    "        plt.ylabel('Energy [keV]')\n",
    "        plt.ylim(0,1000)\n",
    "        plt.legend()\n",
    "        plt.subplot(3,2,i+1)\n",
    "        plt.plot(Lumi_decay[tpc]['theta'], Lumi_decay[tpc]['full_corrected_energy'], 'o', markersize = 1, alpha = 0.5, label = 'Lumi_decay')\n",
    "        plt.plot(LER_decay[tpc]['theta'], LER_decay[tpc]['full_corrected_energy'], 'o', markersize = 1, alpha = 0.5, label = 'LER_decay')\n",
    "        plt.plot(HER_decay[tpc]['theta'], HER_decay[tpc]['full_corrected_energy'], 'o', markersize = 1, alpha = 0.5, label = 'HER_decay')\n",
    "        plt.title(tpc)\n",
    "        #plt.yscale(\"Log\")\n",
    "        plt.xlabel('Track theta [degrees]')\n",
    "        plt.ylabel('Energy [keV]')\n",
    "        plt.ylim(0,1000)\n",
    "        plt.legend()\n",
    "        i+=2\n",
    "    plt.tight_layout()\n",
    "    plt.show()\n",
    "plot_E_v_Theta(\"BWD\")"
   ]
  },
  {
   "cell_type": "code",
   "execution_count": null,
   "metadata": {},
   "outputs": [],
   "source": []
  }
 ],
 "metadata": {
  "kernelspec": {
   "display_name": "Python 3",
   "language": "python",
   "name": "python3"
  },
  "language_info": {
   "codemirror_mode": {
    "name": "ipython",
    "version": 3
   },
   "file_extension": ".py",
   "mimetype": "text/x-python",
   "name": "python",
   "nbconvert_exporter": "python",
   "pygments_lexer": "ipython3",
   "version": "3.7.6"
  }
 },
 "nbformat": 4,
 "nbformat_minor": 2
}
