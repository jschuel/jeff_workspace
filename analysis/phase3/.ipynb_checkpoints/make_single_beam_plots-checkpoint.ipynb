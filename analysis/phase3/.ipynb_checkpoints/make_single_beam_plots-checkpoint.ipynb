{
 "cells": [
  {
   "cell_type": "code",
   "execution_count": null,
   "metadata": {},
   "outputs": [],
   "source": [
    "import new_analysis\n",
    "import pandas as pd\n",
    "import root_pandas as rp\n",
    "import numpy as np\n",
    "import matplotlib.pyplot as plt\n",
    "import ROOT\n",
    "import array\n",
    "import numpy as np\n",
    "from matplotlib.patches import Patch\n",
    "from matplotlib.lines import Line2D\n",
    "from matplotlib.lines import Line2D\n",
    "from matplotlib import rc\n",
    "rc('text', usetex=True)"
   ]
  },
  {
   "cell_type": "code",
   "execution_count": null,
   "metadata": {},
   "outputs": [],
   "source": [
    "a = new_analysis.analysis()"
   ]
  },
  {
   "cell_type": "code",
   "execution_count": null,
   "metadata": {},
   "outputs": [],
   "source": [
    "data = a.get_raw_study_data()\n",
    "data.columns\n",
    "avg1 = a.compute_means_and_errs('LER', 'Cont_inj', 5)\n",
    "avg2 = a.compute_means_and_errs('LER', 'Decay', 5)\n",
    "avg3 = a.compute_means_and_errs('HER', 'Cont_inj', 5)\n",
    "avg4 = a.compute_means_and_errs('HER', 'Decay', 5)\n",
    "data_avg = avg1.append([avg2,avg3,avg4])\n",
    "data_avg.index = [i for i in range(0,len(data_avg))]\n",
    "data_avg['ts_err']= data_avg['ts_err']/3600\n",
    "data_avg['ts']=(data_avg['ts']-data['ts'].iloc[0])/3600\n",
    "data['ts']=(data['ts']-data['ts'].iloc[0])/3600"
   ]
  },
  {
   "cell_type": "code",
   "execution_count": null,
   "metadata": {},
   "outputs": [],
   "source": [
    "data_avg"
   ]
  },
  {
   "cell_type": "code",
   "execution_count": null,
   "metadata": {},
   "outputs": [],
   "source": [
    "bins = 5\n",
    "study_types = ['LER', 'HER']\n",
    "study_periods = [\"Cont_inj\", \"Decay\"]\n",
    "tpcs = ['iiwi', 'nene', 'humu', 'palila', 'tako', 'elepaio']\n",
    "fit_params = {}\n",
    "fit_bg  = {}\n",
    "fit_bg_err = {}\n",
    "fit_t = {}\n",
    "fit_t_err = {}\n",
    "fit = {}\n",
    "fit_err = {}\n",
    "for study_type in study_types:\n",
    "    for study_period in study_periods:\n",
    "        fit_params[study_period + '_' + study_type] = a.get_fit_parameters(study_type, study_period, bins)\n",
    "        for tpc in tpcs:\n",
    "            fit_bg[tpc+'_'+study_period+'_'+ study_type] = fit_params[study_period + '_' + study_type][tpc+'_B0']*data_avg['I_%s'%(study_type)] + fit_params[study_period + '_' + study_type][tpc+'_B1']*data_avg['I_%s'%(study_type)]**2\n",
    "            fit_bg_err[tpc+'_'+study_period+ '_'+study_type] = np.sqrt((fit_params[study_period + '_' + study_type][tpc+'_B0_err']*data_avg['I_%s'%(study_type)])**2 + (fit_params[study_period + '_' + study_type][tpc+'_B1_err']*data_avg['I_%s'%(study_type)]**2)**2)\n",
    "            fit_t[tpc+'_'+study_period+'_'+ study_type] = fit_params[study_period + '_' + study_type][tpc+'_T']*data_avg['I_%s'%(study_type)]**2/(data_avg['Sy_%s'%(study_type)]*data_avg['Nb_%s'%(study_type)])\n",
    "            fit_t_err[tpc+'_'+study_period+'_'+ study_type] = fit_params[study_period + '_' + study_type][tpc+'_T_err']*data_avg['I_%s'%(study_type)]**2/(data_avg['Sy_%s'%(study_type)]*data_avg['Nb_%s'%(study_type)])\n",
    "            fit[tpc+'_'+study_period+'_'+ study_type] = fit_params[study_period + '_' + study_type][tpc+'_B0']*data_avg['I_%s'%(study_type)] + fit_params[study_period + '_' + study_type][tpc+'_B1']*data_avg['I_%s'%(study_type)]**2 + fit_params[study_period + '_' + study_type][tpc+'_T']*data_avg['I_%s'%(study_type)]**2/(data_avg['Sy_%s'%(study_type)]*data_avg['Nb_%s'%(study_type)])\n",
    "            #fit_err[tpc+'_'+study_period+'_'+ study_type] = np.sqrt(fit_bg_err[tpc+'_'+study_period+'_' + study_type]**2 + fit_t_err[tpc+'_'+study_period+'_' + study_type]**2)\n",
    "            #use stat error for now\n",
    "            fit_err[tpc+'_'+study_period+'_'+ study_type] = np.sqrt(((fit_params[study_period + '_' + study_type][tpc+'_B0']+ 2*fit_params[study_period + '_' + study_type][tpc+'_B1']**data_avg['I_%s'%(study_type)] + \n",
    "                                                                      2*fit_params[study_period + '_' + study_type][tpc+'_T']**data_avg['I_%s'%(study_type)]/(data_avg['Sy_%s'%(study_type)]*data_avg['Nb_%s'%(study_type)]))*data_avg['I_%s_err'%(study_type)])**2 + ((fit_params[study_period + '_' + study_type][tpc+'_T']**data_avg['I_%s'%(study_type)]**2/(data_avg['Sy_%s'%(study_type)]**2*data_avg['Nb_%s'%(study_type)]))*data_avg['Sy_%s_err'%(study_type)])**2 + ((fit_params[study_period + '_' + study_type][tpc+'_T']**data_avg['I_%s'%(study_type)]**2/(data_avg['Sy_%s'%(study_type)]*data_avg['Nb_%s'%(study_type)]**2))*data_avg['Nb_%s_err'%(study_type)])**2)\n",
    "            "
   ]
  },
  {
   "cell_type": "code",
   "execution_count": null,
   "metadata": {},
   "outputs": [],
   "source": [
    "plt.rc('legend', fontsize=24)\n",
    "plt.rc('xtick', labelsize=28)\n",
    "plt.rc('ytick', labelsize=28)\n",
    "plt.rc('axes', labelsize=30)\n",
    "plt.rc('axes', titlesize=30)\n",
    "plt.figure(figsize = (30,40))\n",
    "i = 1\n",
    "for tpc in ['palila', 'iiwi', 'tako', 'nene', 'elepaio', 'humu']:\n",
    "    plt.subplot(3,2,i)\n",
    "    plt.plot(data.loc[(data['LER_study_flag']==1) & (data['Cont_inj_flag']==1)]['ts'], data.loc[(data['LER_study_flag']==1) & (data['Cont_inj_flag']==1)]['I_LER'], 'o', color = 'red',markersize = 2)\n",
    "    plt.plot(data.loc[(data['LER_study_flag']==1) & (data['Decay_flag']==1)]['ts'], data.loc[(data['LER_study_flag']==1) & (data['Decay_flag']==1)]['I_LER'], 'o', color = 'red',markersize = 2)\n",
    "    plt.plot(data.loc[(data['HER_study_flag']==1) & (data['Cont_inj_flag']==1)]['ts'], data.loc[(data['HER_study_flag']==1) & (data['Cont_inj_flag']==1)]['I_HER'], 'o', color = 'blue',markersize = 2)\n",
    "    plt.plot(data.loc[(data['HER_study_flag']==1) & (data['Decay_flag']==1)]['ts'], data.loc[(data['HER_study_flag']==1) & (data['Decay_flag']==1)]['I_HER'], 'o', color = 'blue',markersize = 2)\n",
    "    plt.ylim(0,600)\n",
    "    plt.ylabel(\"Current [mA]\")\n",
    "    plt.xlabel('Elapsed Time [Hr]')\n",
    "    #plt.yscale(\"Log\")\n",
    "    plt.title(\"%s\"%(tpc))\n",
    "    plt.twinx()\n",
    "    plt.grid()\n",
    "    if i%2 != 1:\n",
    "        plt.ylim(0,1.5)\n",
    "    else:\n",
    "        if i != 5:\n",
    "            plt.ylim(0,0.2)\n",
    "        else:\n",
    "            plt.ylim(0,0.4)\n",
    "    #plt.yscale(\"Log\")\n",
    "    plt.plot(data_avg.loc[(data_avg['LER_study_flag']==1) & (data_avg['Cont_inj_flag']==1)]['ts'], fit_bg['%s_Cont_inj_LER'%(tpc)][data_avg.loc[(data_avg['LER_study_flag']==1) & (data_avg['Cont_inj_flag']==1)].index.to_numpy()], 's', color = 'cyan', label = 'Predicted beam-gas rate', markersize = 8, markeredgecolor = 'black')\n",
    "    plt.plot(data_avg.loc[(data_avg['HER_study_flag']==1) & (data_avg['Cont_inj_flag']==1)]['ts'], fit_bg['%s_Cont_inj_HER'%(tpc)][data_avg.loc[(data_avg['HER_study_flag']==1) & (data_avg['Cont_inj_flag']==1)].index.to_numpy()], 's', color = 'gold', label = 'Predicted beam-gas rate', markersize = 8, markeredgecolor = 'black')\n",
    "    plt.plot(data_avg.loc[(data_avg['LER_study_flag']==1) & (data_avg['Decay_flag']==1)]['ts'], fit_bg['%s_Decay_LER'%(tpc)][data_avg.loc[(data_avg['LER_study_flag']==1) & (data_avg['Decay_flag']==1)].index.to_numpy()], 's', color = 'cyan', label = 'Predicted beam-gas rate', markersize = 8, markeredgecolor = 'black')\n",
    "    plt.plot(data_avg.loc[(data_avg['HER_study_flag']==1) & (data_avg['Decay_flag']==1)]['ts'], fit_bg['%s_Decay_HER'%(tpc)][data_avg.loc[(data_avg['HER_study_flag']==1) & (data_avg['Decay_flag']==1)].index.to_numpy()], 's', color = 'gold', label = 'Predicted beam-gas rate', markersize = 8, markeredgecolor = 'black')\n",
    "    plt.plot(data_avg.loc[(data_avg['LER_study_flag']==1) & (data_avg['Cont_inj_flag']==1)]['ts'], fit_t['%s_Cont_inj_LER'%(tpc)][data_avg.loc[(data_avg['LER_study_flag']==1) & (data_avg['Cont_inj_flag']==1)].index.to_numpy()], 's', color = 'magenta', label = 'Predicted Touschek rate', markersize = 8, markeredgecolor = 'black')\n",
    "    plt.plot(data_avg.loc[(data_avg['HER_study_flag']==1) & (data_avg['Cont_inj_flag']==1)]['ts'], fit_t['%s_Cont_inj_HER'%(tpc)][data_avg.loc[(data_avg['HER_study_flag']==1) & (data_avg['Cont_inj_flag']==1)].index.to_numpy()], 's', color = 'indigo', label = 'Predicted Touschek rate', markersize = 8, markeredgecolor = 'black')\n",
    "    plt.plot(data_avg.loc[(data_avg['LER_study_flag']==1) & (data_avg['Decay_flag']==1)]['ts'], fit_t['%s_Decay_LER'%(tpc)][data_avg.loc[(data_avg['LER_study_flag']==1) & (data_avg['Decay_flag']==1)].index.to_numpy()], 's', color = 'magenta', label = 'Predicted Touschek rate', markersize = 8, markeredgecolor = 'black')\n",
    "    plt.plot(data_avg.loc[(data_avg['HER_study_flag']==1) & (data_avg['Decay_flag']==1)]['ts'], fit_t['%s_Decay_HER'%(tpc)][data_avg.loc[(data_avg['HER_study_flag']==1) & (data_avg['Decay_flag']==1)].index.to_numpy()], 's', color = 'indigo', label = 'Predicted Touschek rate', markersize = 8, markeredgecolor = 'black')\n",
    "    plt.fill_between(data_avg['ts'], (fit['%s_Cont_inj_LER'%(tpc)]-fit_err['%s_Cont_inj_LER'%(tpc)]), (fit['%s_Cont_inj_LER'%(tpc)]+fit_err['%s_Cont_inj_LER'%(tpc)]), where = data_avg['ts'].isin(data_avg.loc[(data_avg['LER_study_flag']==1) & (data_avg['Cont_inj_flag']==1)]['ts']), color = 'lightgray', label = 'Predicted Total rate')\n",
    "    plt.fill_between(data_avg['ts'], (fit['%s_Decay_LER'%(tpc)]-fit_err['%s_Decay_LER'%(tpc)]), (fit['%s_Decay_LER'%(tpc)]+fit_err['%s_Decay_LER'%(tpc)]), where = data_avg['ts'].isin(data_avg.loc[(data_avg['LER_study_flag']==1) & (data_avg['Decay_flag']==1)]['ts']), color = 'lightgray', label = 'Predicted Total rate')\n",
    "    #plt.plot(data_avg.loc[(data_avg['HER_study_flag']==1) & (data_avg['Cont_inj_flag']==1)]['ts'], fit['%s_Cont_inj_HER'%(tpc)][data_avg.loc[(data_avg['HER_study_flag']==1) & (data_avg['Cont_inj_flag']==1)].index.to_numpy()], 's', color = 'lightgray', label = 'Predicted Touschek rate', markersize = 8, markeredgecolor = 'black')\n",
    "    plt.plot(data_avg.loc[(data_avg['LER_study_flag']==1) & (data_avg['Decay_flag']==1)]['ts'], fit['%s_Decay_LER'%(tpc)][data_avg.loc[(data_avg['LER_study_flag']==1) & (data_avg['Decay_flag']==1)].index.to_numpy()], 's', color = 'tab:gray', label = 'Predicted Touschek rate', markersize = 8, markeredgecolor = 'black')\n",
    "    plt.plot(data_avg.loc[(data_avg['HER_study_flag']==1) & (data_avg['Decay_flag']==1)]['ts'], fit['%s_Decay_HER'%(tpc)][data_avg.loc[(data_avg['HER_study_flag']==1) & (data_avg['Decay_flag']==1)].index.to_numpy()], 's', color = 'tab:gray', label = 'Predicted Touschek rate', markersize = 8, markeredgecolor = 'black')\n",
    "    p = plt.errorbar(data_avg.loc[(data_avg['LER_study_flag']==1) & (data_avg['Cont_inj_flag']==1)]['ts'], data_avg.loc[(data_avg['LER_study_flag']==1) & (data_avg['Cont_inj_flag']==1)][tpc+'_neutrons'], data_avg.loc[(data_avg['LER_study_flag']==1) & (data_avg['Cont_inj_flag']==1)][tpc+'_neutrons_err'], data_avg.loc[(data_avg['LER_study_flag']==1) & (data_avg['Cont_inj_flag']==1)]['ts_err'], 'o', markersize = 8, color = 'black', label = 'data')\n",
    "    plt.errorbar(data_avg.loc[(data_avg['HER_study_flag']==1) & (data_avg['Cont_inj_flag']==1)]['ts'], data_avg.loc[(data_avg['HER_study_flag']==1) & (data_avg['Cont_inj_flag']==1)][tpc+'_neutrons'], data_avg.loc[(data_avg['HER_study_flag']==1) & (data_avg['Cont_inj_flag']==1)][tpc+'_neutrons_err'], data_avg.loc[(data_avg['HER_study_flag']==1) & (data_avg['Cont_inj_flag']==1)]['ts_err'], 'o', markersize = 8, color = 'black', label = 'data')\n",
    "    plt.errorbar(data_avg.loc[(data_avg['LER_study_flag']==1) & (data_avg['Decay_flag']==1)]['ts'], data_avg.loc[(data_avg['LER_study_flag']==1) & (data_avg['Decay_flag']==1)][tpc+'_neutrons'], data_avg.loc[(data_avg['LER_study_flag']==1) & (data_avg['Decay_flag']==1)][tpc+'_neutrons_err'], data_avg.loc[(data_avg['LER_study_flag']==1) & (data_avg['Decay_flag']==1)]['ts_err'], 'o', markersize = 8, color = 'black', label = 'data')\n",
    "    plt.errorbar(data_avg.loc[(data_avg['HER_study_flag']==1) & (data_avg['Decay_flag']==1)]['ts'], data_avg.loc[(data_avg['HER_study_flag']==1) & (data_avg['Decay_flag']==1)][tpc+'_neutrons'], data_avg.loc[(data_avg['HER_study_flag']==1) & (data_avg['Decay_flag']==1)][tpc+'_neutrons_err'], data_avg.loc[(data_avg['HER_study_flag']==1) & (data_avg['Decay_flag']==1)]['ts_err'], 'o', markersize = 8, color = 'black', label = 'data')\n",
    "    plt.ylabel(\"Rate [Hz]\")\n",
    "    custom_lines = [Line2D([0], [0], color='red', label='I LER', marker='o', linewidth = 0, markersize = 8),\n",
    "                    Line2D([0], [0], color='blue', label='I HER', marker='o', linewidth = 0, markersize = 8),\n",
    "                Line2D([0], [0], color='cyan', label='LER B-G', marker='s',markeredgecolor = 'black', linewidth = 0, markersize = 8),\n",
    "                    Line2D([0], [0], color='magenta', label='LER Tous.', marker='s',markeredgecolor = 'black', linewidth = 0, markersize = 8),\n",
    "                    Line2D([0], [0], color='lightgray', label='LER total', marker='s',markeredgecolor = 'black', linewidth = 0, markersize = 8),\n",
    "                Line2D([0], [0], color='gold', label='HER B-G', marker='s', markeredgecolor = 'black',linewidth = 0, markersize = 8),\n",
    "                   Line2D([0], [0], color='indigo', label='HER Tous.', marker='s', markeredgecolor = 'black',linewidth = 0, markersize = 8),\n",
    "                    Line2D([0], [0], color='tab:gray', label='HER total', marker='s', markeredgecolor = 'black',linewidth = 0, markersize = 8),\n",
    "                   p]\n",
    "    if i == 2:\n",
    "        plt.legend(handles=custom_lines, loc='upper right', ncol = 3)\n",
    "    i += 1\n",
    "plt.tight_layout()\n",
    "plt.savefig(\"fit_comparison.png\", bbox_inches='tight')"
   ]
  },
  {
   "cell_type": "code",
   "execution_count": null,
   "metadata": {},
   "outputs": [],
   "source": [
    "fit_bg"
   ]
  },
  {
   "cell_type": "code",
   "execution_count": null,
   "metadata": {},
   "outputs": [],
   "source": []
  }
 ],
 "metadata": {
  "kernelspec": {
   "display_name": "Python 3",
   "language": "python",
   "name": "python3"
  },
  "language_info": {
   "codemirror_mode": {
    "name": "ipython",
    "version": 3
   },
   "file_extension": ".py",
   "mimetype": "text/x-python",
   "name": "python",
   "nbconvert_exporter": "python",
   "pygments_lexer": "ipython3",
   "version": "3.7.6"
  }
 },
 "nbformat": 4,
 "nbformat_minor": 2
}
