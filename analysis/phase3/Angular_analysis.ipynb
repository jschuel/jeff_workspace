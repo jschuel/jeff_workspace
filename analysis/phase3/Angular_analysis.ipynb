{
 "cells": [
  {
   "cell_type": "code",
   "execution_count": 75,
   "metadata": {},
   "outputs": [],
   "source": [
    "import numpy as np\n",
    "import pandas as pd\n",
    "import root_pandas as rp\n",
    "import uproot as ur\n",
    "import matplotlib.pyplot as plt\n",
    "from matplotlib.lines import Line2D\n",
    "import ROOT\n",
    "import new_analysis\n",
    "import array\n",
    "import matplotlib\n",
    "matplotlib.rcParams['text.usetex'] = False"
   ]
  },
  {
   "cell_type": "code",
   "execution_count": 76,
   "metadata": {},
   "outputs": [
    {
     "name": "stderr",
     "output_type": "stream",
     "text": [
      "/home/jeef/workspace/jeff_workspace/analysis/phase3/new_analysis.py:270: SettingWithCopyWarning: \n",
      "A value is trying to be set on a copy of a slice from a DataFrame.\n",
      "Try using .loc[row_indexer,col_indexer] = value instead\n",
      "\n",
      "See the caveats in the documentation: https://pandas.pydata.org/pandas-docs/stable/user_guide/indexing.html#returning-a-view-versus-a-copy\n",
      "  means[col]=0 #will be deleted at the end. Used so we can append rows of means\n",
      "/home/jeef/workspace/jeff_workspace/analysis/phase3/new_analysis.py:271: SettingWithCopyWarning: \n",
      "A value is trying to be set on a copy of a slice from a DataFrame.\n",
      "Try using .loc[row_indexer,col_indexer] = value instead\n",
      "\n",
      "See the caveats in the documentation: https://pandas.pydata.org/pandas-docs/stable/user_guide/indexing.html#returning-a-view-versus-a-copy\n",
      "  errs[col] = 0\n",
      "/home/jeef/workspace/jeff_workspace/analysis/phase3/new_analysis.py:270: SettingWithCopyWarning: \n",
      "A value is trying to be set on a copy of a slice from a DataFrame.\n",
      "Try using .loc[row_indexer,col_indexer] = value instead\n",
      "\n",
      "See the caveats in the documentation: https://pandas.pydata.org/pandas-docs/stable/user_guide/indexing.html#returning-a-view-versus-a-copy\n",
      "  means[col]=0 #will be deleted at the end. Used so we can append rows of means\n",
      "/home/jeef/workspace/jeff_workspace/analysis/phase3/new_analysis.py:271: SettingWithCopyWarning: \n",
      "A value is trying to be set on a copy of a slice from a DataFrame.\n",
      "Try using .loc[row_indexer,col_indexer] = value instead\n",
      "\n",
      "See the caveats in the documentation: https://pandas.pydata.org/pandas-docs/stable/user_guide/indexing.html#returning-a-view-versus-a-copy\n",
      "  errs[col] = 0\n",
      "/home/jeef/workspace/jeff_workspace/analysis/phase3/new_analysis.py:270: SettingWithCopyWarning: \n",
      "A value is trying to be set on a copy of a slice from a DataFrame.\n",
      "Try using .loc[row_indexer,col_indexer] = value instead\n",
      "\n",
      "See the caveats in the documentation: https://pandas.pydata.org/pandas-docs/stable/user_guide/indexing.html#returning-a-view-versus-a-copy\n",
      "  means[col]=0 #will be deleted at the end. Used so we can append rows of means\n",
      "/home/jeef/workspace/jeff_workspace/analysis/phase3/new_analysis.py:271: SettingWithCopyWarning: \n",
      "A value is trying to be set on a copy of a slice from a DataFrame.\n",
      "Try using .loc[row_indexer,col_indexer] = value instead\n",
      "\n",
      "See the caveats in the documentation: https://pandas.pydata.org/pandas-docs/stable/user_guide/indexing.html#returning-a-view-versus-a-copy\n",
      "  errs[col] = 0\n",
      "/home/jeef/workspace/jeff_workspace/analysis/phase3/new_analysis.py:270: SettingWithCopyWarning: \n",
      "A value is trying to be set on a copy of a slice from a DataFrame.\n",
      "Try using .loc[row_indexer,col_indexer] = value instead\n",
      "\n",
      "See the caveats in the documentation: https://pandas.pydata.org/pandas-docs/stable/user_guide/indexing.html#returning-a-view-versus-a-copy\n",
      "  means[col]=0 #will be deleted at the end. Used so we can append rows of means\n",
      "/home/jeef/workspace/jeff_workspace/analysis/phase3/new_analysis.py:271: SettingWithCopyWarning: \n",
      "A value is trying to be set on a copy of a slice from a DataFrame.\n",
      "Try using .loc[row_indexer,col_indexer] = value instead\n",
      "\n",
      "See the caveats in the documentation: https://pandas.pydata.org/pandas-docs/stable/user_guide/indexing.html#returning-a-view-versus-a-copy\n",
      "  errs[col] = 0\n"
     ]
    }
   ],
   "source": [
    "a = new_analysis.analysis()"
   ]
  },
  {
   "cell_type": "code",
   "execution_count": 77,
   "metadata": {},
   "outputs": [
    {
     "name": "stderr",
     "output_type": "stream",
     "text": [
      "/home/jeef/anaconda3/envs/my_root_env/lib/python3.8/site-packages/pandas/core/indexing.py:670: SettingWithCopyWarning: \n",
      "A value is trying to be set on a copy of a slice from a DataFrame\n",
      "\n",
      "See the caveats in the documentation: https://pandas.pydata.org/pandas-docs/stable/user_guide/indexing.html#returning-a-view-versus-a-copy\n",
      "  iloc._setitem_with_indexer(indexer, value)\n"
     ]
    },
    {
     "name": "stdout",
     "output_type": "stream",
     "text": [
      "elepaio 86\n"
     ]
    }
   ],
   "source": [
    "LER_cont_inj = a.get_tpc_data_during_study_period(\"LER\", \"Cont_inj\")\n",
    "LER_decay = a.get_tpc_data_during_study_period(\"LER\", \"Decay\")\n",
    "HER_cont_inj = a.get_tpc_data_during_study_period(\"HER\", \"Cont_inj\")\n",
    "HER_decay = a.get_tpc_data_during_study_period(\"HER\", \"Decay\")\n",
    "Lumi_cont_inj = a.get_tpc_data_during_study_period(\"Lumi\", \"Cont_inj\")\n",
    "Lumi_decay = a.get_tpc_data_during_study_period(\"Lumi\", \"Decay\")\n",
    "Lumi = {}\n",
    "HER = {}\n",
    "LER = {}\n",
    "Single_beam = {}\n",
    "for tpc in Lumi_decay.keys():\n",
    "    Lumi[tpc] = Lumi_decay[tpc].append(Lumi_cont_inj[tpc])\n",
    "    HER[tpc] = HER_decay[tpc].append(HER_cont_inj[tpc])\n",
    "    LER[tpc] = LER_decay[tpc].append(LER_cont_inj[tpc])\n",
    "    Single_beam[tpc] = LER[tpc].append(HER[tpc])\n",
    "    \n",
    "    #Lumi[tpc] = Lumi_cont_inj[tpc]\n",
    "    #HER[tpc] = HER_cont_inj[tpc]\n",
    "    #LER[tpc] = LER_cont_inj[tpc]\n",
    "    #Single_beam[tpc] = LER[tpc].append(HER[tpc])\n",
    "    \n",
    "    Lumi[tpc].index = [i for i in range(0,len(Lumi[tpc]))]\n",
    "    Single_beam[tpc].index = [i for i in range(0,len(Single_beam[tpc]))]\n",
    "MC = a.apply_energy_calibrations_to_MC()"
   ]
  },
  {
   "cell_type": "markdown",
   "metadata": {},
   "source": [
    "### Apply \"xray veto\" cuts for MC"
   ]
  },
  {
   "cell_type": "code",
   "execution_count": 78,
   "metadata": {},
   "outputs": [],
   "source": [
    "for tpc in MC.keys():\n",
    "    MC[tpc] = MC[tpc].loc[MC[tpc]['reco_energy']>8]\n",
    "    MC[tpc].index = [i for i in range(0,len(MC[tpc]))]"
   ]
  },
  {
   "cell_type": "markdown",
   "metadata": {},
   "source": [
    "# Fold phi for angular analysis"
   ]
  },
  {
   "cell_type": "code",
   "execution_count": 82,
   "metadata": {},
   "outputs": [],
   "source": [
    "for tpc in ['elepaio', 'tako', 'palila', 'iiwi', 'nene', 'humu']:\n",
    "    Lumi[tpc]['phi_fold'] = Lumi[tpc]['phi'].apply(lambda x: x if x <= 90 else 180-x)\n",
    "    Lumi[tpc]['phi_fold'] = Lumi[tpc]['phi_fold'].apply(lambda x: x if x >= -90 else -180-x)\n",
    "    HER[tpc]['phi_fold'] = HER[tpc]['phi'].apply(lambda x: x if x <= 90 else 180-x)\n",
    "    HER[tpc]['phi_fold'] = HER[tpc]['phi_fold'].apply(lambda x: x if x >= -90 else -180-x)\n",
    "    LER[tpc]['phi_fold'] = LER[tpc]['phi'].apply(lambda x: x if x <= 90 else 180-x)\n",
    "    LER[tpc]['phi_fold'] = LER[tpc]['phi_fold'].apply(lambda x: x if x >= -90 else -180-x)\n",
    "    Single_beam[tpc]['phi_fold'] = Single_beam[tpc]['phi'].apply(lambda x: x if x <= 90 else 180-x)\n",
    "    Single_beam[tpc]['phi_fold'] = Single_beam[tpc]['phi_fold'].apply(lambda x: x if x >= -90 else -180-x)\n",
    "    MC[tpc]['phi_fold'] = (MC[tpc]['fit_phi']*180/np.pi).apply(lambda x: x if x <= 90 else 180-x)\n",
    "    MC[tpc]['phi_fold'] = MC[tpc]['phi_fold'].apply(lambda x: x if x >= -90 else -180-x)"
   ]
  },
  {
   "cell_type": "code",
   "execution_count": 102,
   "metadata": {
    "scrolled": false
   },
   "outputs": [
    {
     "name": "stdout",
     "output_type": "stream",
     "text": [
      "KstestResult(statistic=0.20567020637146866, pvalue=0.050479181933835604)\n",
      "KstestResult(statistic=0.12537265329143502, pvalue=0.085860894643071)\n",
      "KstestResult(statistic=0.16518259129564783, pvalue=0.2731722590096698)\n",
      "KstestResult(statistic=0.05752881163801247, pvalue=0.4988512804329377)\n",
      "KstestResult(statistic=0.1214466264825977, pvalue=0.0881443169000804)\n",
      "KstestResult(statistic=0.1733793752943023, pvalue=0.012925099929441353)\n"
     ]
    },
    {
     "data": {
      "image/png": "[encoded data removed]",
      "text/plain": [
       "<Figure size 1008x864 with 6 Axes>"
      ]
     },
     "metadata": {
      "needs_background": "light"
     },
     "output_type": "display_data"
    }
   ],
   "source": [
    "from scipy.stats import ks_2samp\n",
    "from scipy.stats import epps_singleton_2samp\n",
    "from scipy.stats import mannwhitneyu\n",
    "plt.figure(figsize = (14,12))\n",
    "i = 1\n",
    "for tpc in ['palila', 'iiwi', 'tako', 'nene', 'elepaio', 'humu']:\n",
    "    tmp_lumi = Lumi[tpc].loc[(Lumi[tpc]['track_energy']>150) & (np.abs(Lumi[tpc]['phi_fold']<27))]\n",
    "    tmp_single = Single_beam[tpc].loc[(Single_beam[tpc]['track_energy']>150) & (np.abs(Lumi[tpc]['phi_fold']<27))]\n",
    "    plt.subplot(3,2,i)\n",
    "    \n",
    "    (counts_lumi, bins_lumi) = np.histogram(np.abs(np.cos(tmp_lumi['theta']*np.pi/180)), bins=11, range = (0,1))\n",
    "    factor_lumi = 1/len(tmp_lumi)\n",
    "    plt.hist(bins_lumi[:-1], bins_lumi, weights=factor_lumi*counts_lumi, label = 'Lumi Exp.', histtype = 'step')\n",
    "    \n",
    "    (counts, bins) = np.histogram(np.abs(np.cos(tmp_single['theta']*np.pi/180)), bins=11, range = (0,1))\n",
    "    factor = 1/len(tmp_single)\n",
    "    plt.hist(bins[:-1], bins, weights=factor*counts, label = 'Single Beam Exp.', histtype = 'step')\n",
    "    \n",
    "    #plt.hist(np.abs(np.cos(tmp_lumi['theta']*np.pi/180)), bins = 11, range = (0,1), histtype = 'step', label = 'lumi')#, norm = matplotlib.colors.LogNorm(vmin=0.9, vmax=100))\n",
    "    #plt.hist(np.abs(np.cos(tmp_single['theta']*np.pi/180)), bins = 11, range = (0,1), histtype = 'step', label = 'single')\n",
    "    #plt.hist(tmp['phi_fold'], bins = 21, range = (-90,90))\n",
    "    \n",
    "    plt.legend(loc = 'lower center')\n",
    "    plt.xlabel(r'|cos($\\theta$)|')\n",
    "    plt.title(tpc)\n",
    "    #plt.ylim(0,1.25)\n",
    "    plt.ylabel('Counts [a.u.]')\n",
    "    i+=1\n",
    "    \n",
    "    result = ks_2samp(np.abs(np.cos(tmp_lumi['theta']*np.pi/180)), np.abs(np.cos(tmp_single['theta']*np.pi/180)))\n",
    "    print(result)\n",
    "    \n",
    "plt.tight_layout()\n",
    "plt.show()"
   ]
  },
  {
   "cell_type": "code",
   "execution_count": 70,
   "metadata": {},
   "outputs": [],
   "source": [
    "MC_Lumi = {}\n",
    "#for tpc in ['palila', 'tako', 'elepaio']:\n",
    "for tpc in ['palila', 'tako', 'elepaio', 'nene', 'iiwi', 'humu']:\n",
    "    MC_Lumi[tpc] = MC[tpc].loc[(MC[tpc]['bgType'] == 'RBB_Lumi') | (MC[tpc]['bgType'] == 'twoPhoton_Lumi')]\n",
    "    #MC_Lumi[tpc] = MC_Lumi[tpc].loc[((MC_Lumi[tpc]['truth_mother_Z']>-870) & #Line is for RBB hotspot\n",
    "    #           (MC_Lumi[tpc]['truth_mother_Z']<-750) & (MC_Lumi[tpc]['truth_mother_X']>20) &\n",
    "    #                                   (MC_Lumi[tpc]['truth_mother_X']<60) &\n",
    "    #                                   (np.abs(MC_Lumi[tpc]['truth_mother_Y'])<20))\n",
    "    #                                  |                                \n",
    "    #                                  (MC_Lumi[tpc]['truth_mother_Z']>1390) &\n",
    "    #                                  (MC_Lumi[tpc]['truth_mother_Z']<1680) &\n",
    "    #                                  (MC_Lumi[tpc]['truth_mother_X']<80) &\n",
    "    #                                  (MC_Lumi[tpc]['truth_mother_X']>30) &\n",
    "    #                                  (np.abs(MC_Lumi[tpc]['truth_mother_Y'])<20)] #FWD and BWD hotspots"
   ]
  },
  {
   "cell_type": "code",
   "execution_count": 103,
   "metadata": {},
   "outputs": [
    {
     "name": "stdout",
     "output_type": "stream",
     "text": [
      "KstestResult(statistic=0.3356286454957874, pvalue=0.0001810313769324834)\n",
      "KstestResult(statistic=0.3813216453135536, pvalue=0.2744230711345579)\n",
      "KstestResult(statistic=0.32772870999832515, pvalue=1.4264972325282743e-27)\n",
      "KstestResult(statistic=0.27006265954977954, pvalue=1.3322676295501878e-15)\n",
      "KstestResult(statistic=0.5965856861457649, pvalue=0.000637266530323588)\n",
      "KstestResult(statistic=0.3985867954625582, pvalue=0.0)\n"
     ]
    },
    {
     "data": {
      "image/png": "[encoded data removed]",
      "text/plain": [
       "<Figure size 864x864 with 6 Axes>"
      ]
     },
     "metadata": {
      "needs_background": "light"
     },
     "output_type": "display_data"
    }
   ],
   "source": [
    "i=1\n",
    "plt.figure(figsize = (12,12))\n",
    "for tpc in ['palila', 'iiwi', 'tako', 'nene', 'elepaio', 'humu']:\n",
    "    \n",
    "    tmp_lumi = Lumi[tpc].loc[(Lumi[tpc]['track_energy']>0)]\n",
    "    tmp_MC = MC_Lumi[tpc].loc[MC_Lumi[tpc]['reco_energy']>0]#MC_Lumi[tpc].loc[MC_Lumi[tpc]['reco_energy']>20]\n",
    "    \n",
    "    plt.subplot(3,2,i)\n",
    "    \n",
    "    (counts_lumi, bins_lumi) = np.histogram(np.abs(np.cos(tmp_lumi['theta']*np.pi/180)), bins=21, range = (0,1))\n",
    "    factor_lumi = 1/counts_lumi.max()\n",
    "    plt.hist(bins_lumi[:-1], bins_lumi, weights=factor_lumi*counts_lumi, label = 'Lumi Data', histtype = 'step')\n",
    "    \n",
    "    (counts_MC, bins_MC) = np.histogram(np.abs(np.cos(tmp_MC['fit_theta'])), bins=21, range = (0,1))\n",
    "    factor_MC = 1/counts_MC.max()\n",
    "    plt.hist(bins_MC[:-1], bins_MC, weights=factor_MC*counts_MC, label = 'Lumi MC', histtype = 'step')\n",
    "    \n",
    "    plt.title(tpc)\n",
    "    plt.legend()\n",
    "    i+=1\n",
    "    \n",
    "    result = ks_2samp(np.abs(np.cos(tmp_lumi['theta']*np.pi/180)), np.abs(np.cos(tmp_MC['fit_theta'])))\n",
    "    print(result)\n",
    "plt.tight_layout()\n",
    "plt.show()"
   ]
  },
  {
   "cell_type": "code",
   "execution_count": 63,
   "metadata": {},
   "outputs": [
    {
     "ename": "NameError",
     "evalue": "name 'Single_beam_combined' is not defined",
     "output_type": "error",
     "traceback": [
      "\u001b[0;31m---------------------------------------------------------------------------\u001b[0m",
      "\u001b[0;31mNameError\u001b[0m                                 Traceback (most recent call last)",
      "\u001b[0;32m<ipython-input-63-a7b24b855da9>\u001b[0m in \u001b[0;36m<module>\u001b[0;34m\u001b[0m\n\u001b[1;32m      9\u001b[0m     \u001b[0mlumi_data\u001b[0m \u001b[0;34m=\u001b[0m \u001b[0mLumi_cont_inj\u001b[0m\u001b[0;34m[\u001b[0m\u001b[0mtpc\u001b[0m\u001b[0;34m]\u001b[0m\u001b[0;34m.\u001b[0m\u001b[0mloc\u001b[0m\u001b[0;34m[\u001b[0m\u001b[0mLumi_cont_inj\u001b[0m\u001b[0;34m[\u001b[0m\u001b[0mtpc\u001b[0m\u001b[0;34m]\u001b[0m\u001b[0;34m[\u001b[0m\u001b[0;34m'track_energy'\u001b[0m\u001b[0;34m]\u001b[0m\u001b[0;34m>\u001b[0m\u001b[0;36m100\u001b[0m\u001b[0;34m]\u001b[0m\u001b[0;31m# & (Lumi_cont_inj[tpc]['phi_fold']>-3)]\u001b[0m\u001b[0;34m\u001b[0m\u001b[0;34m\u001b[0m\u001b[0m\n\u001b[1;32m     10\u001b[0m     \u001b[0;31m#lumi_data = lumi_data.loc[(lumi_data['phi_fold']<20) & (lumi_data['phi_fold']>-20)]\u001b[0m\u001b[0;34m\u001b[0m\u001b[0;34m\u001b[0m\u001b[0;34m\u001b[0m\u001b[0m\n\u001b[0;32m---> 11\u001b[0;31m     \u001b[0msingle_beam_data\u001b[0m \u001b[0;34m=\u001b[0m \u001b[0mSingle_beam_combined\u001b[0m\u001b[0;34m[\u001b[0m\u001b[0mtpc\u001b[0m\u001b[0;34m]\u001b[0m\u001b[0;34m.\u001b[0m\u001b[0mloc\u001b[0m\u001b[0;34m[\u001b[0m\u001b[0;34m(\u001b[0m\u001b[0mSingle_beam_combined\u001b[0m\u001b[0;34m[\u001b[0m\u001b[0mtpc\u001b[0m\u001b[0;34m]\u001b[0m\u001b[0;34m[\u001b[0m\u001b[0;34m'track_energy'\u001b[0m\u001b[0;34m]\u001b[0m\u001b[0;34m>\u001b[0m\u001b[0;36m100\u001b[0m\u001b[0;34m)\u001b[0m\u001b[0;34m]\u001b[0m\u001b[0;31m# & (Lumi_cont_inj[tpc]['phi_fold']>-3)]\u001b[0m\u001b[0;34m\u001b[0m\u001b[0;34m\u001b[0m\u001b[0m\n\u001b[0m\u001b[1;32m     12\u001b[0m     \u001b[0;31m#single_beam_data = single_beam_data.loc[(single_beam_data['phi_fold']<20) & (single_beam_data['phi_fold']>-20)]\u001b[0m\u001b[0;34m\u001b[0m\u001b[0;34m\u001b[0m\u001b[0;34m\u001b[0m\u001b[0m\n\u001b[1;32m     13\u001b[0m     \u001b[0mplt\u001b[0m\u001b[0;34m.\u001b[0m\u001b[0msubplot\u001b[0m\u001b[0;34m(\u001b[0m\u001b[0;36m3\u001b[0m\u001b[0;34m,\u001b[0m\u001b[0;36m2\u001b[0m\u001b[0;34m,\u001b[0m\u001b[0mi\u001b[0m\u001b[0;34m)\u001b[0m\u001b[0;34m\u001b[0m\u001b[0;34m\u001b[0m\u001b[0m\n",
      "\u001b[0;31mNameError\u001b[0m: name 'Single_beam_combined' is not defined"
     ]
    },
    {
     "data": {
      "text/plain": [
       "<Figure size 1008x864 with 0 Axes>"
      ]
     },
     "metadata": {},
     "output_type": "display_data"
    }
   ],
   "source": [
    "from scipy.stats import ks_2samp\n",
    "from scipy.stats import epps_singleton_2samp\n",
    "MC_single = {}\n",
    "i = 1\n",
    "plt.figure(figsize = (14,12))\n",
    "labels = ['z=-5.5m', 'z=+6.5m', 'z=-8.0m', 'z=14m', 'z=-14m', 'z=+16m']\n",
    "#for tpc in ['palila', 'tako', 'elepaio']:\n",
    "for tpc in ['palila', 'iiwi', 'tako', 'nene', 'elepaio', 'humu']:\n",
    "    lumi_data = Lumi_cont_inj[tpc].loc[Lumi_cont_inj[tpc]['track_energy']>100]# & (Lumi_cont_inj[tpc]['phi_fold']>-3)]\n",
    "    #lumi_data = lumi_data.loc[(lumi_data['phi_fold']<20) & (lumi_data['phi_fold']>-20)]\n",
    "    single_beam_data = Single_beam_combined[tpc].loc[(Single_beam_combined[tpc]['track_energy']>100)]# & (Lumi_cont_inj[tpc]['phi_fold']>-3)]\n",
    "    #single_beam_data = single_beam_data.loc[(single_beam_data['phi_fold']<20) & (single_beam_data['phi_fold']>-20)]\n",
    "    plt.subplot(3,2,i)\n",
    "    \n",
    "    (counts_lumi, bins_lumi) = np.histogram(np.abs(np.cos(lumi_data['theta']*np.pi/180)), bins=51, range = (0,1))\n",
    "    factor_lumi = 1/counts_lumi.max()\n",
    "    plt.hist(bins_lumi[:-1], bins_lumi, weights=factor_lumi*counts_lumi, label = 'Lumi Data', histtype = 'step')\n",
    "    \n",
    "    (counts_sb, bins_sb) = np.histogram(np.abs(np.cos(single_beam_data['theta']*np.pi/180)), bins=51, range = (0,1))\n",
    "    factor_sb = 1/counts_sb.max()\n",
    "    plt.hist(bins_sb[:-1], bins_sb, weights=factor_sb*counts_sb, label = 'Single Beam Data', histtype = 'step')\n",
    "                                                      \n",
    "    #result = epps_singleton_2samp(np.cos(lumi_data['theta']*np.pi/180), np.cos(single_beam_data['theta']*np.pi/180))\n",
    "    #print(result)\n",
    "    \n",
    "    plt.legend()\n",
    "    plt.title(labels[i-1])\n",
    "    plt.ylim(0,1.5)\n",
    "    i+=1\n",
    "plt.tight_layout()\n",
    "plt.show()"
   ]
  },
  {
   "cell_type": "code",
   "execution_count": 22,
   "metadata": {},
   "outputs": [
    {
     "name": "stdout",
     "output_type": "stream",
     "text": [
      "KstestResult(statistic=0.09387755102040816, pvalue=0.7058614048515456)\n",
      "KstestResult(statistic=0.2565746753246753, pvalue=0.12090548713505989)\n",
      "KstestResult(statistic=0.4167702476077735, pvalue=4.429187017152003e-10)\n"
     ]
    },
    {
     "data": {
      "image/png": "[encoded data removed]",
      "text/plain": [
       "<Figure size 504x864 with 3 Axes>"
      ]
     },
     "metadata": {
      "needs_background": "light"
     },
     "output_type": "display_data"
    }
   ],
   "source": [
    "from scipy.stats import ks_2samp\n",
    "from scipy.stats import epps_singleton_2samp\n",
    "from scipy.stats import anderson_ksamp\n",
    "MC_single = {}\n",
    "i = 1\n",
    "plt.figure(figsize = (7,12))\n",
    "for tpc in ['palila', 'tako', 'elepaio']:\n",
    "#for tpc in ['iiwi', 'nene', 'humu']:\n",
    "    tmp = MC_Lumi[tpc].loc[MC_Lumi[tpc]['reco_energy']>50]\n",
    "    MC_single[tpc] = MC[tpc].loc[(MC[tpc]['bgType'] != 'RBB_Lumi') & (MC[tpc]['bgType'] != 'twoPhoton_Lumi')]\n",
    "    tmp2 = MC_single[tpc].loc[MC_single[tpc]['reco_energy']>50]\n",
    "    #tmp_data = Single_beam_combined[tpc].loc[(Single_beam_combined[tpc]['phi_fold']<100)]# & (Single_beam_combined[tpc]['phi_fold']>-10)]# & (Lumi_cont_inj[tpc]['phi_fold']>-3)]\n",
    "    tmp_data = Lumi_cont_inj[tpc].loc[(Lumi_cont_inj[tpc]['phi_fold']<50)]# & (Lumi_cont_inj[tpc]['phi_fold']>-10)]\n",
    "    tmp_data = tmp_data.loc[tmp_data['track_energy']>50]\n",
    "    #tmp = tmp.loc[tmp['phi_fold']<-50]\n",
    "    plt.subplot(3,1,i)\n",
    "    #plt.hist(np.abs(np.cos(tmp['fit_theta'])), bins = 21, range = (0,1), histtype='step', label = 'Lumi_MC')\n",
    "    (counts, bins) = np.histogram(np.abs(np.cos(tmp_data['theta']*np.pi/180)), bins=41, range = (0,1))\n",
    "    factor = 1/counts.max()\n",
    "    plt.hist(bins[:-1], bins, weights=factor*counts, label = 'Data Lumi', histtype = 'step')\n",
    "    #plt.hist(np.abs(np.cos(tmp_data['theta']*np.pi/180)), bins = 21, range = (0,1), label = 'data', histtype = 'step')\n",
    "    (counts_MC, bins_MC) = np.histogram(np.abs(np.cos(tmp2['fit_theta'])), bins=41, range = (0,1))\n",
    "    factor_MC = 1/counts_MC.max()\n",
    "    plt.hist(bins_MC[:-1], bins_MC, weights=factor_MC*counts_MC, label = 'MC Lumi', histtype = 'step')\n",
    "    #plt.hist(np.abs(np.cos(tmp2['fit_theta'])), bins = 21, range = (0,1), histtype = 'step', label = 'Single beam MC')\n",
    "    #plt.hist(tmp['phi_fold'], bins = 21, range = (-180,180))\n",
    "    #print(len(tmp))\n",
    "    #result = ks_2samp(np.abs(np.cos(tmp['fit_theta'])), np.abs(np.cos(tmp2['fit_theta'])))\n",
    "    #print(result)\n",
    "    result2 = ks_2samp(np.abs(np.cos(tmp2['fit_theta'])), np.abs(np.cos(tmp_data['theta']*np.pi/180)))\n",
    "    #result = anderson_ksamp([np.cos(tmp['fit_theta']).to_numpy(), np.cos(tmp_data['theta']*np.pi/180).to_numpy()])\n",
    "    print(result2)\n",
    "    plt.legend()\n",
    "    plt.title(tpc)\n",
    "    plt.ylim(0,1.5)\n",
    "    i+=1"
   ]
  },
  {
   "cell_type": "code",
   "execution_count": null,
   "metadata": {},
   "outputs": [],
   "source": [
    "from scipy.stats import ks_2samp\n",
    "from scipy.stats import epps_singleton_2samp\n",
    "\n",
    "MC_single = {}\n",
    "plt.figure(figsize = (7,12))\n",
    "i = 1\n",
    "for tpc in ['palila', 'tako', 'elepaio']:\n",
    "    MC_single[tpc] = MC[tpc].loc[(MC[tpc]['bgType'] != 'RBB_Lumi') & (MC[tpc]['bgType'] != 'twoPhoton_Lumi')]\n",
    "    tmp2 = MC_single[tpc].loc[MC_single[tpc]['reco_energy']>100]\n",
    "    plt.subplot(3,1,i)\n",
    "    plt.hist(np.abs(np.cos(tmp2['fit_theta'])), bins = 21, range = (0,1))\n",
    "    result = ks_2samp(np.abs(np.cos(tmp['fit_theta'])), np.abs(np.cos(tmp2['fit_theta'])))\n",
    "    #result = epps_singleton_2samp(np.abs(np.cos(tmp['fit_theta'])), np.abs(np.cos(tmp2['fit_theta'])))\n",
    "    print(len(tmp2))\n",
    "    print(result)\n",
    "    #plt.hist(tmp2['phi_fold'], bins = 21)\n",
    "    plt.title(tpc)\n",
    "    i+=1"
   ]
  },
  {
   "cell_type": "code",
   "execution_count": null,
   "metadata": {},
   "outputs": [],
   "source": []
  },
  {
   "cell_type": "code",
   "execution_count": null,
   "metadata": {},
   "outputs": [],
   "source": [
    "MC_Lumi['palila'].columns"
   ]
  },
  {
   "cell_type": "code",
   "execution_count": null,
   "metadata": {},
   "outputs": [],
   "source": [
    "import matplotlib\n",
    "def plot_theta_phi(side = 'BWD'):\n",
    "    #tpcs = ['palila', 'iiwi', 'tako', 'nene', 'elepaio', 'humu']\n",
    "    if side == 'BWD':\n",
    "        tpcs = ['palila', 'tako', 'elepaio']\n",
    "    else:\n",
    "        tpcs = ['humu', 'nene', 'iiwi']\n",
    "    i = 1\n",
    "    fig = plt.figure(figsize=(14,12))\n",
    "    plt.rc('legend', fontsize=12)\n",
    "    plt.rc('xtick', labelsize=16)\n",
    "    plt.rc('ytick', labelsize=16)\n",
    "    plt.rc('axes', labelsize=18)\n",
    "    plt.rc('axes', titlesize=18)\n",
    "    for tpc in tpcs:\n",
    "        #plt.subplot(6,3,i)\n",
    "        #plt.hist2d(np.cos(LER_cont_inj[tpc]['theta']*np.pi/180), LER_cont_inj[tpc]['phi'], bins = (20,15), range = ((-1.2,1.2), (-185,185)), label = 'LER_cont_inj', norm = matplotlib.colors.LogNorm(vmin=0.9, vmax=100))\n",
    "        #plt.title(tpc+' LER_cont_inj')\n",
    "        #plt.xlabel(r'cos($\\theta$)')\n",
    "        #plt.ylabel(r'$\\phi$ [$^\\circ$]')\n",
    "        #plt.ylim(-200,200)\n",
    "        plt.subplot(3,2,i+1)\n",
    "        plt.hist2d(np.abs(np.cos(Lumi_cont_inj[tpc]['theta']*np.pi/180)), Lumi_cont_inj[tpc]['phi_fold'], bins = (11,9), range = ((0,1), (-90,90)), label = 'Data', vmin = 0)#, norm = matplotlib.colors.LogNorm(vmin=0.9, vmax=100))\n",
    "        #plt.hist2d(np.cos(Single_beam_combined[tpc]['theta']*np.pi/180), Single_beam_combined[tpc]['phi_fold'], bins = (20,10), range = ((-1.1,1.1), (-95,95)), label = 'Data')#, norm = matplotlib.colors.LogNorm(vmin=0.9, vmax=100))\n",
    "        plt.title('Luminosity Study')\n",
    "        plt.xlabel(r'|cos($\\theta$)|')\n",
    "        plt.ylabel(r'$\\phi$ [$^\\circ$]')\n",
    "        plt.ylim(-90,90)\n",
    "        plt.colorbar().set_label('Recoils/bin', rotation = 270, labelpad = 20)\n",
    "        plt.subplot(3,2,i)\n",
    "        plt.hist2d(np.abs(np.cos(Single_beam_combined[tpc]['theta']*np.pi/180)), Single_beam_combined[tpc]['phi_fold'], bins = (11,9), range = ((0,1), (-90,90)), label = 'Data', vmin = 0 )#, norm = matplotlib.colors.LogNorm(vmin=0.9, vmax=100))\n",
    "        plt.title('Single Beam Combined')\n",
    "        plt.xlabel(r'|cos($\\theta$)|')\n",
    "        plt.ylabel(r'$\\phi$ [$^\\circ$]')\n",
    "        plt.ylim(-90,90)\n",
    "        plt.colorbar().set_label('Recoils/bin', rotation = 270, labelpad = 20)\n",
    "        #plt.hist2d(MC[tpc]['fit_theta']*180/np.pi, MC[tpc]['fit_phi']*180/np.pi, bins = (10,10), range = ((-180,180), (-185,185)), label = 'MC')#, norm = matplotlib.colors.LogNorm(vmin=0.9, vmax=100))\n",
    "        #plt.title(tpc+' MC')\n",
    "        #plt.colorbar()\n",
    "        #plt.yscale(\"Log\")\n",
    "        #plt.xlabel(r'cos($\\theta$)')\n",
    "        #plt.ylabel(r'$\\phi$ [$^\\circ$]')\n",
    "        #plt.ylim(-200,200)\n",
    "        #plt.ylim(0.9,3000)\n",
    "        #plt.legend()\n",
    "        \n",
    "        #plt.hist(LER_decay[tpc]['theta'], bins = 90, histtype = 'step', range = (-5,185), label = 'LER_decay', linewidth = 2)\n",
    "        #plt.hist(HER_decay[tpc]['theta'], bins = 90, histtype = 'step', range = (-5,185), label = 'HER_decay', linewidth = 2)\n",
    "        #plt.hist(Lumi_decay[tpc]['theta'], bins = 90, histtype = 'step', range = (-5,185), label = 'Lumi_decay', linewidth = 2)\n",
    "        #plt.title(tpc)\n",
    "        #plt.yscale(\"Log\")\n",
    "        #plt.xlabel('Track theta [degrees]')\n",
    "        #plt.ylim(0.9,3000)\n",
    "        #plt.legend()\n",
    "        i+=2\n",
    "    plt.tight_layout()\n",
    "    plt.show()\n",
    "plot_theta_phi('BWD')"
   ]
  },
  {
   "cell_type": "code",
   "execution_count": null,
   "metadata": {},
   "outputs": [],
   "source": [
    "import matplotlib\n",
    "def plot_theta_phi_MC(side = 'BWD'):\n",
    "    #tpcs = ['palila', 'iiwi', 'tako', 'nene', 'elepaio', 'humu']\n",
    "    if side == 'BWD':\n",
    "        tpcs = ['palila', 'tako', 'elepaio']\n",
    "    else:\n",
    "        tpcs = ['humu', 'nene', 'iiwi']\n",
    "    i = 1\n",
    "    fig = plt.figure(figsize=(14,12))\n",
    "    plt.rc('legend', fontsize=12)\n",
    "    plt.rc('xtick', labelsize=16)\n",
    "    plt.rc('ytick', labelsize=16)\n",
    "    plt.rc('axes', labelsize=18)\n",
    "    plt.rc('axes', titlesize=18)\n",
    "    for tpc in tpcs:\n",
    "\n",
    "        plt.subplot(3,2,i+1)\n",
    "        plt.hist2d(np.abs(np.cos(MC[tpc].loc[(MC[tpc]['bgType'] == 'RBB_Lumi') | (MC[tpc]['bgType'] == 'twoPhoton_Lumi')]['fit_theta'])), MC[tpc].loc[(MC[tpc]['bgType'] == 'RBB_Lumi') | (MC[tpc]['bgType'] == 'twoPhoton_Lumi')]['phi_fold'], bins = (11,9), range = ((0,1), (-90,90)), label = 'Data')#, norm = matplotlib.colors.LogNorm(vmin=0.9, vmax=100))\n",
    "        #plt.hist2d(np.cos(Single_beam_combined[tpc]['theta']*np.pi/180), Single_beam_combined[tpc]['phi_fold'], bins = (20,10), range = ((-1.1,1.1), (-95,95)), label = 'Data')#, norm = matplotlib.colors.LogNorm(vmin=0.9, vmax=100))\n",
    "        plt.title('Lumi MC')\n",
    "        plt.xlabel(r'|cos($\\theta$)|')\n",
    "        plt.ylabel(r'$\\phi$ [$^\\circ$]')\n",
    "        plt.ylim(-90,90)\n",
    "        plt.colorbar().set_label('Recoils/bin', rotation = 270, labelpad = 20)\n",
    "        plt.subplot(3,2,i)\n",
    "        plt.hist2d(np.abs(np.cos(MC[tpc].loc[(MC[tpc]['bgType'] != 'RBB_Lumi') & (MC[tpc]['bgType'] != 'twoPhoton_Lumi')]['fit_theta'])), MC[tpc].loc[(MC[tpc]['bgType'] != 'RBB_Lumi') & (MC[tpc]['bgType'] != 'twoPhoton_Lumi')]['phi_fold'], bins = (11,9), range = ((0,1), (-90,90)), label = 'Data')#, norm = matplotlib.colors.LogNorm(vmin=0.9, vmax=100))\n",
    "        plt.title('Single Beam MC')\n",
    "        plt.xlabel(r'|cos($\\theta$)|')\n",
    "        plt.ylabel(r'$\\phi$ [$^\\circ$]')\n",
    "        plt.ylim(-90,90)\n",
    "        plt.colorbar().set_label('Recoils/bin', rotation = 270, labelpad = 20)\n",
    "        i+=2\n",
    "    plt.tight_layout()\n",
    "    plt.show()\n",
    "plot_theta_phi_MC('BWD')"
   ]
  },
  {
   "cell_type": "code",
   "execution_count": null,
   "metadata": {},
   "outputs": [],
   "source": [
    "import matplotlib\n",
    "def plot_theta_phi_MC(side = 'BWD'):\n",
    "    #tpcs = ['palila', 'iiwi', 'tako', 'nene', 'elepaio', 'humu']\n",
    "    if side == 'BWD':\n",
    "        tpcs = ['palila', 'tako', 'elepaio']\n",
    "    else:\n",
    "        tpcs = ['humu', 'nene', 'iiwi']\n",
    "    i = 1\n",
    "    fig = plt.figure(figsize=(7,12))\n",
    "    plt.rc('legend', fontsize=12)\n",
    "    plt.rc('xtick', labelsize=16)\n",
    "    plt.rc('ytick', labelsize=16)\n",
    "    plt.rc('axes', labelsize=18)\n",
    "    plt.rc('axes', titlesize=18)\n",
    "    for tpc in tpcs:\n",
    "\n",
    "        plt.subplot(3,1,i)\n",
    "        plt.hist2d(np.abs(np.cos(MC[tpc]['fit_theta'])), MC[tpc]['phi_fold'], bins = (11,6), range = ((0,1), (-90,90)), label = 'Data')#, norm = matplotlib.colors.LogNorm(vmin=0.9, vmax=100))\n",
    "        #plt.hist2d(np.cos(Single_beam_combined[tpc]['theta']*np.pi/180), Single_beam_combined[tpc]['phi_fold'], bins = (20,10), range = ((-1.1,1.1), (-95,95)), label = 'Data')#, norm = matplotlib.colors.LogNorm(vmin=0.9, vmax=100))\n",
    "        plt.title(tpc)\n",
    "        plt.xlabel(r'|cos($\\theta$)|')\n",
    "        plt.ylabel(r'$\\phi$ [$^\\circ$]')\n",
    "        plt.ylim(-90,90)\n",
    "        plt.colorbar().set_label('Recoils/bin', rotation = 270, labelpad = 20)\n",
    "        #plt.subplot(3,2,i)\n",
    "        #plt.hist2d(np.abs(np.cos(MC[tpc].loc[(MC[tpc]['bgType'] != 'RBB_Lumi') & (MC[tpc]['bgType'] != 'twoPhoton_Lumi')]['fit_theta'])), MC[tpc].loc[(MC[tpc]['bgType'] != 'RBB_Lumi') & (MC[tpc]['bgType'] != 'twoPhoton_Lumi')]['phi_fold'], bins = (11,9), range = ((0,1), (-90,90)), label = 'Data')#, norm = matplotlib.colors.LogNorm(vmin=0.9, vmax=100))\n",
    "        #plt.title('Single Beam MC')\n",
    "        #plt.xlabel(r'|cos($\\theta$)|')\n",
    "        #plt.ylabel(r'$\\phi$ [$^\\circ$]')\n",
    "        #plt.ylim(-90,90)\n",
    "        #plt.colorbar().set_label('Recoils/bin', rotation = 270, labelpad = 20)\n",
    "        i+=1\n",
    "    plt.tight_layout()\n",
    "    plt.show()\n",
    "plot_theta_phi_MC('BWD')"
   ]
  },
  {
   "cell_type": "code",
   "execution_count": null,
   "metadata": {},
   "outputs": [],
   "source": [
    "MC['iiwi'].columns"
   ]
  },
  {
   "cell_type": "code",
   "execution_count": null,
   "metadata": {},
   "outputs": [],
   "source": [
    "def plot_E_v_Theta(side = \"BWD\"):\n",
    "    if side == \"BWD\":\n",
    "        tpcs = ['tako', 'palila', 'elepaio']\n",
    "    else:\n",
    "        tpcs = ['iiwi', 'nene', 'humu']\n",
    "    i = 1\n",
    "    fig = plt.figure(figsize=(20,10))\n",
    "    for tpc in tpcs:\n",
    "        plt.subplot(3,2,i)\n",
    "        plt.plot(Lumi_cont_inj[tpc]['theta'], Lumi_cont_inj[tpc]['full_corrected_energy'], 'o', markersize = 1, alpha = 0.5, label = 'Lumi_cont_inj')\n",
    "        plt.plot(LER_cont_inj[tpc]['theta'], LER_cont_inj[tpc]['full_corrected_energy'], 'o', markersize = 1, alpha = 0.5, label = 'LER_cont_inj')\n",
    "        plt.plot(HER_cont_inj[tpc]['theta'], HER_cont_inj[tpc]['full_corrected_energy'], 'o', markersize = 1, alpha = 0.5, label = 'HER_cont_inj')\n",
    "        plt.title(tpc)\n",
    "        #plt.yscale(\"Log\")\n",
    "        plt.xlabel('Track theta [degrees]')\n",
    "        plt.ylabel('Energy [keV]')\n",
    "        plt.ylim(0,1000)\n",
    "        plt.legend()\n",
    "        plt.subplot(3,2,i+1)\n",
    "        plt.plot(Lumi_decay[tpc]['theta'], Lumi_decay[tpc]['full_corrected_energy'], 'o', markersize = 1, alpha = 0.5, label = 'Lumi_decay')\n",
    "        plt.plot(LER_decay[tpc]['theta'], LER_decay[tpc]['full_corrected_energy'], 'o', markersize = 1, alpha = 0.5, label = 'LER_decay')\n",
    "        plt.plot(HER_decay[tpc]['theta'], HER_decay[tpc]['full_corrected_energy'], 'o', markersize = 1, alpha = 0.5, label = 'HER_decay')\n",
    "        plt.title(tpc)\n",
    "        #plt.yscale(\"Log\")\n",
    "        plt.xlabel('Track theta [degrees]')\n",
    "        plt.ylabel('Energy [keV]')\n",
    "        plt.ylim(0,1000)\n",
    "        plt.legend()\n",
    "        i+=2\n",
    "    plt.tight_layout()\n",
    "    plt.show()\n",
    "plot_E_v_Theta(\"BWD\")"
   ]
  },
  {
   "cell_type": "code",
   "execution_count": null,
   "metadata": {},
   "outputs": [],
   "source": [
    "import matplotlib\n",
    "def plot_theta_phi_paper():\n",
    "    tpcs = ['palila', 'iiwi', 'tako', 'nene', 'elepaio', 'humu']\n",
    "    i = 1\n",
    "    fig = plt.figure(figsize=(12,10))\n",
    "    plt.rc('legend', fontsize=12)\n",
    "    plt.rc('xtick', labelsize=16)\n",
    "    plt.rc('ytick', labelsize=16)\n",
    "    plt.rc('axes', labelsize=18)\n",
    "    plt.rc('axes', titlesize=18)\n",
    "    for tpc in tpcs:\n",
    "        #plt.subplot(6,3,i)\n",
    "        #plt.hist2d(np.cos(LER_cont_inj[tpc]['theta']*np.pi/180), LER_cont_inj[tpc]['phi'], bins = (20,15), range = ((-1.2,1.2), (-185,185)), label = 'LER_cont_inj', norm = matplotlib.colors.LogNorm(vmin=0.9, vmax=100))\n",
    "        #plt.title(tpc+' LER_cont_inj')\n",
    "        #plt.xlabel(r'cos($\\theta$)')\n",
    "        #plt.ylabel(r'$\\phi$ [$^\\circ$]')\n",
    "        #plt.ylim(-200,200)\n",
    "        plt.subplot(3,2,i)\n",
    "        plt.hist2d(np.cos(Lumi_cont_inj[tpc]['theta']*np.pi/180), Lumi_cont_inj[tpc]['phi'], bins = (20,15), range = ((-1.2,1.2), (-185,185)), label = 'Lumi_cont_inj')#, norm = matplotlib.colors.LogNorm(vmin=0.9, vmax=100))\n",
    "        plt.title(tpc)\n",
    "        plt.xlabel(r'cos($\\theta$)')\n",
    "        plt.ylabel(r'$\\phi$ [$^\\circ$]')\n",
    "        plt.ylim(-200,200)\n",
    "        plt.colorbar()\n",
    "        i+=1\n",
    "    plt.tight_layout()\n",
    "    plt.savefig(\"ang_dist.png\")\n",
    "    plt.show()\n",
    "plot_theta_phi_paper()"
   ]
  },
  {
   "cell_type": "code",
   "execution_count": null,
   "metadata": {},
   "outputs": [],
   "source": []
  }
 ],
 "metadata": {
  "kernelspec": {
   "display_name": "Python 3",
   "language": "python",
   "name": "python3"
  },
  "language_info": {
   "codemirror_mode": {
    "name": "ipython",
    "version": 3
   },
   "file_extension": ".py",
   "mimetype": "text/x-python",
   "name": "python",
   "nbconvert_exporter": "python",
   "pygments_lexer": "ipython3",
   "version": "3.8.5"
  }
 },
 "nbformat": 4,
 "nbformat_minor": 2
}
