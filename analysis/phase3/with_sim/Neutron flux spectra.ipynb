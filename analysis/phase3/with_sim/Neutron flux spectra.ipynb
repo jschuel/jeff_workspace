{
 "cells": [
  {
   "cell_type": "code",
   "execution_count": 1,
   "metadata": {},
   "outputs": [
    {
     "name": "stdout",
     "output_type": "stream",
     "text": [
      "Welcome to JupyROOT 6.22/02\n"
     ]
    },
    {
     "name": "stderr",
     "output_type": "stream",
     "text": [
      "/home/jeef/anaconda3/envs/my_root_env/lib/python3.8/site-packages/sklearn/utils/deprecation.py:143: FutureWarning: The sklearn.linear_model.base module is  deprecated in version 0.22 and will be removed in version 0.24. The corresponding classes / functions should instead be imported from sklearn.linear_model. Anything that cannot be imported from sklearn.linear_model is now part of the private API.\n",
      "  warnings.warn(message, FutureWarning)\n",
      "/home/jeef/workspace/jeff_workspace/analysis/phase3/with_sim/new_analysis.py:270: SettingWithCopyWarning: \n",
      "A value is trying to be set on a copy of a slice from a DataFrame.\n",
      "Try using .loc[row_indexer,col_indexer] = value instead\n",
      "\n",
      "See the caveats in the documentation: https://pandas.pydata.org/pandas-docs/stable/user_guide/indexing.html#returning-a-view-versus-a-copy\n",
      "  means[col]=0 #will be deleted at the end. Used so we can append rows of means\n",
      "/home/jeef/workspace/jeff_workspace/analysis/phase3/with_sim/new_analysis.py:271: SettingWithCopyWarning: \n",
      "A value is trying to be set on a copy of a slice from a DataFrame.\n",
      "Try using .loc[row_indexer,col_indexer] = value instead\n",
      "\n",
      "See the caveats in the documentation: https://pandas.pydata.org/pandas-docs/stable/user_guide/indexing.html#returning-a-view-versus-a-copy\n",
      "  errs[col] = 0\n",
      "/home/jeef/workspace/jeff_workspace/analysis/phase3/with_sim/new_analysis.py:270: SettingWithCopyWarning: \n",
      "A value is trying to be set on a copy of a slice from a DataFrame.\n",
      "Try using .loc[row_indexer,col_indexer] = value instead\n",
      "\n",
      "See the caveats in the documentation: https://pandas.pydata.org/pandas-docs/stable/user_guide/indexing.html#returning-a-view-versus-a-copy\n",
      "  means[col]=0 #will be deleted at the end. Used so we can append rows of means\n",
      "/home/jeef/workspace/jeff_workspace/analysis/phase3/with_sim/new_analysis.py:271: SettingWithCopyWarning: \n",
      "A value is trying to be set on a copy of a slice from a DataFrame.\n",
      "Try using .loc[row_indexer,col_indexer] = value instead\n",
      "\n",
      "See the caveats in the documentation: https://pandas.pydata.org/pandas-docs/stable/user_guide/indexing.html#returning-a-view-versus-a-copy\n",
      "  errs[col] = 0\n",
      "/home/jeef/workspace/jeff_workspace/analysis/phase3/with_sim/new_analysis.py:270: SettingWithCopyWarning: \n",
      "A value is trying to be set on a copy of a slice from a DataFrame.\n",
      "Try using .loc[row_indexer,col_indexer] = value instead\n",
      "\n",
      "See the caveats in the documentation: https://pandas.pydata.org/pandas-docs/stable/user_guide/indexing.html#returning-a-view-versus-a-copy\n",
      "  means[col]=0 #will be deleted at the end. Used so we can append rows of means\n",
      "/home/jeef/workspace/jeff_workspace/analysis/phase3/with_sim/new_analysis.py:271: SettingWithCopyWarning: \n",
      "A value is trying to be set on a copy of a slice from a DataFrame.\n",
      "Try using .loc[row_indexer,col_indexer] = value instead\n",
      "\n",
      "See the caveats in the documentation: https://pandas.pydata.org/pandas-docs/stable/user_guide/indexing.html#returning-a-view-versus-a-copy\n",
      "  errs[col] = 0\n",
      "/home/jeef/workspace/jeff_workspace/analysis/phase3/with_sim/new_analysis.py:270: SettingWithCopyWarning: \n",
      "A value is trying to be set on a copy of a slice from a DataFrame.\n",
      "Try using .loc[row_indexer,col_indexer] = value instead\n",
      "\n",
      "See the caveats in the documentation: https://pandas.pydata.org/pandas-docs/stable/user_guide/indexing.html#returning-a-view-versus-a-copy\n",
      "  means[col]=0 #will be deleted at the end. Used so we can append rows of means\n",
      "/home/jeef/workspace/jeff_workspace/analysis/phase3/with_sim/new_analysis.py:271: SettingWithCopyWarning: \n",
      "A value is trying to be set on a copy of a slice from a DataFrame.\n",
      "Try using .loc[row_indexer,col_indexer] = value instead\n",
      "\n",
      "See the caveats in the documentation: https://pandas.pydata.org/pandas-docs/stable/user_guide/indexing.html#returning-a-view-versus-a-copy\n",
      "  errs[col] = 0\n"
     ]
    }
   ],
   "source": [
    "import numpy as np\n",
    "import pandas as pd\n",
    "import ROOT\n",
    "import matplotlib.pyplot as plt\n",
    "import truth_neutron_visualization as v\n",
    "from matplotlib import rc\n",
    "from matplotlib.ticker import (MultipleLocator, FormatStrFormatter,\n",
    "                               AutoMinorLocator)\n",
    "rc('text', usetex=False)"
   ]
  },
  {
   "cell_type": "code",
   "execution_count": 2,
   "metadata": {},
   "outputs": [],
   "source": [
    "a = v.analysis()"
   ]
  },
  {
   "cell_type": "code",
   "execution_count": 3,
   "metadata": {},
   "outputs": [],
   "source": [
    "#MC = a.get_MC_data('RBB_Lumi')\n",
    "MC_LER = a.get_MC_data('Touschek_LER')"
   ]
  },
  {
   "cell_type": "code",
   "execution_count": 4,
   "metadata": {},
   "outputs": [],
   "source": [
    "#elepaio = MC['elepaio_RBB_Lumi']\n",
    "#palila = MC['palila_RBB_Lumi']\n",
    "#tako = MC['tako_RBB_Lumi']\n",
    "#iiwi = MC['iiwi_RBB_Lumi']\n",
    "#nene = MC['nene_RBB_Lumi']\n",
    "#humu = MC['humu_RBB_Lumi']\n",
    "\n",
    "#iiwi = iiwi.loc[(iiwi['truthNeutronVtx_z_belle_frame']>1390) & (iiwi['truthNeutronVtx_z_belle_frame']<1680) \n",
    "#                & (iiwi['truthNeutronVtx_x_belle_frame']<80) & (iiwi['truthNeutronVtx_x_belle_frame']>30) \n",
    "#                & (np.abs(iiwi['truthNeutronVtx_y_belle_frame'])<20)] #FWD and BWD hotspots\n",
    "\n",
    "#nene = nene.loc[(nene['truthNeutronVtx_z_belle_frame']>1390) & (nene['truthNeutronVtx_z_belle_frame']<1680) \n",
    "#                & (nene['truthNeutronVtx_x_belle_frame']<80) & (nene['truthNeutronVtx_x_belle_frame']>30) \n",
    "#                & (np.abs(nene['truthNeutronVtx_y_belle_frame'])<20)] #FWD and BWD hotspots\n",
    "\n",
    "#humu = humu.loc[(humu['truthNeutronVtx_z_belle_frame']>1390) & (humu['truthNeutronVtx_z_belle_frame']<1680) \n",
    "#                & (humu['truthNeutronVtx_x_belle_frame']<80) & (humu['truthNeutronVtx_x_belle_frame']>30) \n",
    "#                & (np.abs(humu['truthNeutronVtx_y_belle_frame'])<20)] #FWD and BWD hotspots\n",
    "iiwi = MC_LER['iiwi_Touschek_LER']\n",
    "nene = MC_LER['nene_Touschek_LER']\n",
    "humu = MC_LER['humu_Touschek_LER']\n",
    "#tako = tako.loc[(tako['truthNeutronVtx_z_belle_frame']>-870) & \n",
    "#               (tako['truthNeutronVtx_z_belle_frame']<-750) & (tako['truthNeutronVtx_x_belle_frame']>20) & \n",
    "#               (tako['truthNeutronVtx_x_belle_frame']<60) & (np.abs(tako['truthNeutronVtx_y_belle_frame'])<20)]\n",
    "\n",
    "#palila = palila.loc[(palila['truthNeutronVtx_z_belle_frame']>-870) & \n",
    "#               (palila['truthNeutronVtx_z_belle_frame']<-750) & (palila['truthNeutronVtx_x_belle_frame']>20) & \n",
    "#               (palila['truthNeutronVtx_x_belle_frame']<60) & (np.abs(palila['truthNeutronVtx_y_belle_frame'])<20)]\n",
    "\n",
    "#elepaio = elepaio.loc[(elepaio['truthNeutronVtx_z_belle_frame']>-870) & \n",
    "#               (elepaio['truthNeutronVtx_z_belle_frame']<-750) & (elepaio['truthNeutronVtx_x_belle_frame']>20) & \n",
    "#               (elepaio['truthNeutronVtx_x_belle_frame']<60) & (np.abs(elepaio['truthNeutronVtx_y_belle_frame'])<20)]"
   ]
  },
  {
   "cell_type": "markdown",
   "metadata": {},
   "source": [
    "### Convert to 1MeV fluxes weighted by NIEL"
   ]
  },
  {
   "cell_type": "code",
   "execution_count": null,
   "metadata": {},
   "outputs": [],
   "source": []
  },
  {
   "cell_type": "code",
   "execution_count": 26,
   "metadata": {},
   "outputs": [],
   "source": [
    "def add_NIEL_weights(df, ekey = 'truthNeutronEnergy'):\n",
    "    conversion = [] #list to be added to dataframe\n",
    "    e = df[ekey].to_numpy() #use numpy to speed things up\n",
    "    neutrons = pd.read_csv('neutrons.csv')\n",
    "    neutrons = neutrons.drop(columns = neutrons.columns[0])\n",
    "    conv = neutrons[['E','weight']].to_numpy()\n",
    "    for i in range(0,len(e)):\n",
    "        index = 0\n",
    "        diff = 1e9\n",
    "        for j in range(0,len(conv)):\n",
    "            if np.abs(e[i] - conv[j][0]) < diff:\n",
    "                diff = np.abs(e[i] - conv[j][0])\n",
    "                index = j\n",
    "        conversion.append(conv[index][1])\n",
    "    df['NIEL_weight'] = conversion\n",
    "#add_NIEL_weights(tako)\n",
    "#add_NIEL_weights(palila)\n",
    "#add_NIEL_weights(elepaio)\n",
    "add_NIEL_weights(iiwi)\n",
    "add_NIEL_weights(nene)\n",
    "add_NIEL_weights(humu)"
   ]
  },
  {
   "cell_type": "code",
   "execution_count": null,
   "metadata": {},
   "outputs": [],
   "source": [
    "#print(len(tako), tako['NIEL_weight'].sum())\n",
    "#print(len(palila), palila['NIEL_weight'].sum())\n",
    "#print(len(elepaio), elepaio['NIEL_weight'].sum())\n",
    "print(len(iiwi), iiwi['NIEL_weight'].sum())\n",
    "print(len(nene), nene['NIEL_weight'].sum())\n",
    "print(len(humu), humu['NIEL_weight'].sum())"
   ]
  },
  {
   "cell_type": "code",
   "execution_count": 21,
   "metadata": {},
   "outputs": [
    {
     "data": {
      "image/png": "[encoded data removed]",
      "text/plain": [
       "<Figure size 576x432 with 1 Axes>"
      ]
     },
     "metadata": {
      "needs_background": "light"
     },
     "output_type": "display_data"
    }
   ],
   "source": [
    "lw=2\n",
    "\n",
    "plt.rc('legend', fontsize=18)\n",
    "plt.rc('xtick', labelsize=24)\n",
    "plt.rc('ytick', labelsize=24)\n",
    "plt.rc('axes', labelsize=26)\n",
    "plt.rc('axes', titlesize=26)\n",
    "\n",
    "fig, ax = plt.subplots(1,1, figsize = (8,6))\n",
    "(counts, bins) = np.histogram(palila['truthNeutronEnergy'], bins=100, range = (0,1e4))\n",
    "factor = .1167\n",
    "ax.hist(bins[:-1], bins, weights=factor*counts, histtype = 'step', label = 'z=-5.6m', lw=lw)\n",
    "ax.set_xlabel('Neutron Energy [keV]')\n",
    "ax.set_ylabel(r'Est. Flux [Hz$\\cdot$cm$^{-2}$]')\n",
    "ax.set_ylim(0,250)\n",
    "\n",
    "(counts, bins) = np.histogram(tako['truthNeutronEnergy'], bins=100, range = (0,1e4))\n",
    "factor = 0.0295\n",
    "ax.hist(bins[:-1], bins, weights=factor*counts, histtype = 'step', label = 'z=-8.0m', lw=lw)\n",
    "\n",
    "(counts, bins) = np.histogram(elepaio['truthNeutronEnergy'], bins=100, range = (0,1e4))\n",
    "factor = 0.375\n",
    "ax.hist(bins[:-1], bins, weights=factor*counts, histtype = 'step', label = 'z=-14m', lw=lw)\n",
    "\n",
    "(counts, bins) = np.histogram(iiwi['truthNeutronEnergy'], bins=100, range = (0,1e4))\n",
    "factor = 0.07\n",
    "ax.hist(bins[:-1], bins, weights=factor*counts, histtype = 'step', label = 'z=+6.6m', lw=lw)\n",
    "\n",
    "(counts, bins) = np.histogram(nene['truthNeutronEnergy'], bins=100, range = (0,1e4))\n",
    "factor = .00277\n",
    "ax.hist(bins[:-1], bins, weights=factor*counts, histtype = 'step', label = 'z=+14m', lw=lw)\n",
    "\n",
    "(counts, bins) = np.histogram(humu['truthNeutronEnergy'], bins=100, range = (0,1e4))\n",
    "factor = 0.000814\n",
    "ax.hist(bins[:-1], bins, weights=factor*counts, histtype = 'step', label = 'z=+16m', lw=lw)\n",
    "\n",
    "ax.grid()\n",
    "plt.legend()\n",
    "\n",
    "plt.tight_layout()\n",
    "plt.savefig('truth_lumi_spectrum.jpg')\n",
    "plt.show()"
   ]
  },
  {
   "cell_type": "code",
   "execution_count": 27,
   "metadata": {},
   "outputs": [
    {
     "data": {
      "image/png": "[encoded data removed]",
      "text/plain": [
       "<Figure size 576x432 with 1 Axes>"
      ]
     },
     "metadata": {
      "needs_background": "light"
     },
     "output_type": "display_data"
    },
    {
     "data": {
      "text/plain": [
       "\"\\nplt.rc('legend', fontsize=12)\\nplt.rc('xtick', labelsize=16)\\nplt.rc('ytick', labelsize=16)\\nplt.rc('axes', labelsize=18)\\nplt.rc('axes', titlesize=18)\\n\\nfig, ax = plt.subplots(3,1, figsize = (7,12))\\n(counts, bins) = np.histogram(iiwi['truthNeutronEnergy'], bins=100, range = (0,1e4))\\nfactor = .0227\\n#factor = 0.07\\nax[0].hist(bins[:-1], bins, weights=factor*counts)\\nax[0].set_xlabel('Neutron Energy [keV]')\\nax[0].set_ylabel(r'Est. Flux [Hz$\\\\cdot$cm$^{-2}$]')\\nax[0].set_title('Iiwi (z=+6.5m)')\\n#ax[0].set_ylim(0,125)\\nax[0].grid()\\n\\n(counts, bins) = np.histogram(nene['truthNeutronEnergy'], bins=100, range = (0,1e4))\\nfactor = 0.158\\n#factor = .00277\\nax[1].hist(bins[:-1], bins, weights=factor*counts)\\nax[1].set_xlabel('Neutron Energy [keV]')\\nax[1].set_ylabel(r'Est. Flux [Hz$\\\\cdot$cm$^{-2}$]')\\nax[1].set_title('nene (z=+14m)')\\n#ax[1].set_ylim(0,125)\\nax[1].grid()\\n\\n(counts, bins) = np.histogram(humu['truthNeutronEnergy'], bins=100, range = (0,1e4))\\nfactor = 0.2306\\n#factor = 0.000814\\nax[2].hist(bins[:-1], bins, weights=factor*counts)\\nax[2].set_xlabel('Neutron Energy [keV]')\\nax[2].set_ylabel(r'Est. Flux [Hz$\\\\cdot$cm$^{-2}$]')\\nax[2].set_title('Humu (z=+16m)')\\n#ax[2].set_ylim(0,125)\\nax[2].grid()\\n\\nplt.tight_layout()\\nplt.show()\\n\""
      ]
     },
     "execution_count": 27,
     "metadata": {},
     "output_type": "execute_result"
    }
   ],
   "source": [
    "lw=2\n",
    "\n",
    "plt.rc('legend', fontsize=18)\n",
    "plt.rc('xtick', labelsize=24)\n",
    "plt.rc('ytick', labelsize=24)\n",
    "plt.rc('axes', labelsize=26)\n",
    "plt.rc('axes', titlesize=26)\n",
    "\n",
    "fig, ax = plt.subplots(1,1, figsize = (8,6))\n",
    "\n",
    "ax.set_xlabel('Neutron Energy [keV]')\n",
    "ax.set_ylabel(r'Est. Flux [Hz$\\cdot$cm$^{-2}$]')\n",
    "ax.set_ylim(0,250)\n",
    "\n",
    "(counts, bins) = np.histogram(iiwi['truthNeutronEnergy'], bins=100, range = (0,1e4))\n",
    "factor = 0.0227\n",
    "ax.hist(bins[:-1], bins, weights=factor*counts, histtype = 'step', label = 'z=+6.6m', lw=lw, color = 'tab:red')\n",
    "\n",
    "(counts, bins) = np.histogram(nene['truthNeutronEnergy'], bins=100, range = (0,1e4))\n",
    "factor = 0.158\n",
    "ax.hist(bins[:-1], bins, weights=factor*counts, histtype = 'step', label = 'z=+14m', lw=lw, color = 'tab:purple')\n",
    "\n",
    "(counts, bins) = np.histogram(humu['truthNeutronEnergy'], bins=100, range = (0,1e4))\n",
    "factor = 0.2306\n",
    "ax.hist(bins[:-1], bins, weights=factor*counts, histtype = 'step', label = 'z=+16m', lw=lw, color = 'tab:brown')\n",
    "\n",
    "ax.grid()\n",
    "plt.legend()\n",
    "\n",
    "plt.tight_layout()\n",
    "plt.savefig('truth_LER_touschek_spectrum.jpg')\n",
    "plt.show()\n",
    "\n",
    "\n",
    "\n",
    "'''\n",
    "plt.rc('legend', fontsize=12)\n",
    "plt.rc('xtick', labelsize=16)\n",
    "plt.rc('ytick', labelsize=16)\n",
    "plt.rc('axes', labelsize=18)\n",
    "plt.rc('axes', titlesize=18)\n",
    "\n",
    "fig, ax = plt.subplots(3,1, figsize = (7,12))\n",
    "(counts, bins) = np.histogram(iiwi['truthNeutronEnergy'], bins=100, range = (0,1e4))\n",
    "factor = .0227\n",
    "#factor = 0.07\n",
    "ax[0].hist(bins[:-1], bins, weights=factor*counts)\n",
    "ax[0].set_xlabel('Neutron Energy [keV]')\n",
    "ax[0].set_ylabel(r'Est. Flux [Hz$\\cdot$cm$^{-2}$]')\n",
    "ax[0].set_title('Iiwi (z=+6.5m)')\n",
    "#ax[0].set_ylim(0,125)\n",
    "ax[0].grid()\n",
    "\n",
    "(counts, bins) = np.histogram(nene['truthNeutronEnergy'], bins=100, range = (0,1e4))\n",
    "factor = 0.158\n",
    "#factor = .00277\n",
    "ax[1].hist(bins[:-1], bins, weights=factor*counts)\n",
    "ax[1].set_xlabel('Neutron Energy [keV]')\n",
    "ax[1].set_ylabel(r'Est. Flux [Hz$\\cdot$cm$^{-2}$]')\n",
    "ax[1].set_title('nene (z=+14m)')\n",
    "#ax[1].set_ylim(0,125)\n",
    "ax[1].grid()\n",
    "\n",
    "(counts, bins) = np.histogram(humu['truthNeutronEnergy'], bins=100, range = (0,1e4))\n",
    "factor = 0.2306\n",
    "#factor = 0.000814\n",
    "ax[2].hist(bins[:-1], bins, weights=factor*counts)\n",
    "ax[2].set_xlabel('Neutron Energy [keV]')\n",
    "ax[2].set_ylabel(r'Est. Flux [Hz$\\cdot$cm$^{-2}$]')\n",
    "ax[2].set_title('Humu (z=+16m)')\n",
    "#ax[2].set_ylim(0,125)\n",
    "ax[2].grid()\n",
    "\n",
    "plt.tight_layout()\n",
    "plt.show()\n",
    "'''\n",
    "#(counts, bins) = np.histogram(tako['truthNeutronEnergy'], bins=100, range = (0,1e4))\n",
    "#factor = 0.732\n",
    "#ax.hist(bins[:-1], bins, histtype = 'step', weights=factor*counts)\n"
   ]
  },
  {
   "cell_type": "markdown",
   "metadata": {},
   "source": [
    "### Convert fluxes to 1MeV equivalent rates weighted by NIEL"
   ]
  },
  {
   "cell_type": "code",
   "execution_count": null,
   "metadata": {},
   "outputs": [],
   "source": [
    "df = pd.read_csv('neutrons.csv')\n",
    "df = df.drop(columns = df.columns[0])"
   ]
  },
  {
   "cell_type": "code",
   "execution_count": null,
   "metadata": {},
   "outputs": [],
   "source": [
    "MC"
   ]
  },
  {
   "cell_type": "code",
   "execution_count": null,
   "metadata": {},
   "outputs": [],
   "source": [
    "tako"
   ]
  },
  {
   "cell_type": "code",
   "execution_count": null,
   "metadata": {},
   "outputs": [],
   "source": [
    "ne = tako['truthNeutronEnergy'].to_numpy()\n",
    "conv = df[['E','weight']].to_numpy()"
   ]
  },
  {
   "cell_type": "code",
   "execution_count": null,
   "metadata": {},
   "outputs": [],
   "source": [
    "conversion = []\n",
    "for i in range(0,len(tako)):\n",
    "    index = 0\n",
    "    diff = 1000\n",
    "    for j in range(0,len(df)):\n",
    "        if np.abs(ne[i] - conv[j][0]) < diff:\n",
    "            diff = np.abs(ne[i] - conv[j][0])\n",
    "            index = j\n",
    "    conversion.append(conv[index][1])\n",
    "        "
   ]
  },
  {
   "cell_type": "code",
   "execution_count": null,
   "metadata": {},
   "outputs": [],
   "source": [
    "df.loc[df['E']>80]"
   ]
  },
  {
   "cell_type": "code",
   "execution_count": null,
   "metadata": {},
   "outputs": [],
   "source": [
    "tako['truthNeutronEnergy']"
   ]
  },
  {
   "cell_type": "code",
   "execution_count": null,
   "metadata": {},
   "outputs": [],
   "source": [
    "conversion"
   ]
  },
  {
   "cell_type": "code",
   "execution_count": null,
   "metadata": {},
   "outputs": [],
   "source": []
  }
 ],
 "metadata": {
  "kernelspec": {
   "display_name": "Python 3",
   "language": "python",
   "name": "python3"
  },
  "language_info": {
   "codemirror_mode": {
    "name": "ipython",
    "version": 3
   },
   "file_extension": ".py",
   "mimetype": "text/x-python",
   "name": "python",
   "nbconvert_exporter": "python",
   "pygments_lexer": "ipython3",
   "version": "3.8.5"
  }
 },
 "nbformat": 4,
 "nbformat_minor": 4
}
