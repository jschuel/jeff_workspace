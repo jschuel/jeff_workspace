{
 "cells": [
  {
   "cell_type": "code",
   "execution_count": 1,
   "metadata": {},
   "outputs": [
    {
     "name": "stdout",
     "output_type": "stream",
     "text": [
      "Welcome to JupyROOT 6.22/02\n"
     ]
    }
   ],
   "source": [
    "import numpy as np\n",
    "import pandas as pd\n",
    "import matplotlib.pyplot as plt\n",
    "import root_pandas as rp\n",
    "import analysis"
   ]
  },
  {
   "cell_type": "code",
   "execution_count": 2,
   "metadata": {},
   "outputs": [],
   "source": [
    "a = analysis.analysis(E_cut = {'palila': 8, 'iiwi': 8.8, 'tako': 6, 'nene': 5.5, 'elepaio': 6, 'humu': 6.6})\n",
    "dfs = a.get_tpc_data()"
   ]
  },
  {
   "cell_type": "code",
   "execution_count": 3,
   "metadata": {},
   "outputs": [],
   "source": [
    "skb = a.get_raw_study_data()\n",
    "skb['ts'] = skb['ts'].astype('int')"
   ]
  },
  {
   "cell_type": "code",
   "execution_count": 4,
   "metadata": {
    "scrolled": true
   },
   "outputs": [],
   "source": [
    "for tpc in dfs.keys():\n",
    "    dfs[tpc]['count']=1\n",
    "    dfs[tpc] = dfs[tpc].loc[(dfs[tpc]['ts'].isin(skb['ts'])) & (dfs[tpc]['is_recoil']==1)]\n",
    "    dfs[tpc].index = [i for i in range(0,len(dfs[tpc]))]\n",
    "    skb['%s_neutrons'%(tpc)] = 0\n",
    "    index = skb.loc[skb['ts'].isin(dfs[tpc]['ts'])].index.to_numpy()\n",
    "    skb['%s_neutrons'%(tpc)][index] = dfs[tpc].groupby(dfs[tpc]['ts']).sum()['count'].to_numpy()"
   ]
  },
  {
   "cell_type": "code",
   "execution_count": 31,
   "metadata": {},
   "outputs": [
    {
     "data": {
      "text/plain": [
       "Series([], Name: ECL_lumi, dtype: float64)"
      ]
     },
     "execution_count": 31,
     "metadata": {},
     "output_type": "execute_result"
    }
   ],
   "source": []
  },
  {
   "cell_type": "code",
   "execution_count": 28,
   "metadata": {},
   "outputs": [
    {
     "data": {
      "text/plain": [
       "4392"
      ]
     },
     "execution_count": 28,
     "metadata": {},
     "output_type": "execute_result"
    }
   ],
   "source": [
    "len(dfs['iiwi'])"
   ]
  },
  {
   "cell_type": "code",
   "execution_count": 5,
   "metadata": {},
   "outputs": [
    {
     "name": "stdout",
     "output_type": "stream",
     "text": [
      "iiwi\n",
      "humu\n",
      "nene\n",
      "tako\n",
      "palila\n",
      "elepaio\n"
     ]
    }
   ],
   "source": [
    "for tpc in dfs.keys():\n",
    "    print(tpc)\n",
    "    tmp = skb.loc[skb['ts'].isin(dfs[tpc]['ts'])]\n",
    "    I_LER = []\n",
    "    I_HER = []\n",
    "    Sy_LER = []\n",
    "    Sy_HER = []\n",
    "    Nb_LER = []\n",
    "    Nb_HER = []\n",
    "    Lumi = []\n",
    "    LER_flag = []\n",
    "    HER_flag = []\n",
    "    Lumi_flag = []\n",
    "    cinj_flag = []\n",
    "    decay_flag = []\n",
    "    for Il, Ih, Syl, Syh, Nbl, Nbh, lumi, rate, fler, fher, flum, fci, fd in zip(tmp['I_LER'], tmp['I_HER'], tmp['Sy_LER'], tmp['Sy_HER'], tmp['Nb_LER'], \n",
    "                                                tmp['Nb_HER'], tmp['ECL_lumi'], tmp['%s_neutrons'%(tpc)], tmp['LER_study_flag'], tmp['HER_study_flag'], \n",
    "                                                tmp['Lumi_study_flag'],tmp['Cont_inj_flag'], tmp['Decay_flag']):\n",
    "        if rate > 1:\n",
    "            for i in range(0,rate):\n",
    "                I_LER.append(Il)\n",
    "                I_HER.append(Ih)\n",
    "                Sy_LER.append(Syl)\n",
    "                Sy_HER.append(Syh)\n",
    "                Nb_LER.append(Nbl)\n",
    "                Nb_HER.append(Nbh)\n",
    "                Lumi.append(lumi)\n",
    "                LER_flag.append(fler)\n",
    "                HER_flag.append(fher)\n",
    "                Lumi_flag.append(flum)\n",
    "                cinj_flag.append(fci)\n",
    "                decay_flag.append(fd)\n",
    "        else:\n",
    "            I_LER.append(Il)\n",
    "            I_HER.append(Ih)\n",
    "            Sy_LER.append(Syl)\n",
    "            Sy_HER.append(Syh)\n",
    "            Nb_LER.append(Nbl)\n",
    "            Nb_HER.append(Nbh)\n",
    "            Lumi.append(lumi)\n",
    "            LER_flag.append(fler)\n",
    "            HER_flag.append(fher)\n",
    "            Lumi_flag.append(flum)\n",
    "            cinj_flag.append(fci)\n",
    "            decay_flag.append(fd)\n",
    "    dfs[tpc]['I_LER'] = I_LER\n",
    "    dfs[tpc]['I_HER'] = I_HER\n",
    "    dfs[tpc]['Sy_LER'] = Sy_LER\n",
    "    dfs[tpc]['Sy_HER'] = Sy_HER\n",
    "    dfs[tpc]['Nb_LER'] = Nb_LER\n",
    "    dfs[tpc]['Nb_HER'] = Nb_HER\n",
    "    dfs[tpc]['Luminosity'] = Lumi\n",
    "    dfs[tpc]['LER'] = LER_flag\n",
    "    dfs[tpc]['HER'] = HER_flag\n",
    "    dfs[tpc]['Lumi'] = Lumi_flag\n",
    "    dfs[tpc]['Cont_inj'] = cinj_flag\n",
    "    dfs[tpc]['Decay'] = decay_flag"
   ]
  },
  {
   "cell_type": "code",
   "execution_count": 71,
   "metadata": {},
   "outputs": [
    {
     "name": "stdout",
     "output_type": "stream",
     "text": [
      "iiwi 2266\n",
      "humu 2266\n",
      "nene 2266\n",
      "tako 2266\n",
      "palila 2265\n",
      "elepaio 2266\n"
     ]
    }
   ],
   "source": [
    "avgs = {}\n",
    "errs = {}\n",
    "nsecs = 15\n",
    "for tpc in dfs.keys():\n",
    "    print(tpc, int((dfs[tpc]['ts'].max()-dfs[tpc]['ts'].min())/nsecs))\n",
    "    avgs[tpc] = dfs[tpc].groupby(pd.cut(dfs[tpc]['ts'], bins = np.linspace(dfs[tpc]['ts'].min(),dfs[tpc]['ts'].max(),int((dfs[tpc]['ts'].max()-dfs[tpc]['ts'].min())/nsecs)))).mean()\n",
    "    errs[tpc] = dfs[tpc].groupby(pd.cut(dfs[tpc]['ts'], bins = np.linspace(dfs[tpc]['ts'].min(),dfs[tpc]['ts'].max(),int((dfs[tpc]['ts'].max()-dfs[tpc]['ts'].min())/nsecs)))).std()\n",
    "    avgs[tpc]['rate'] = dfs[tpc].groupby(pd.cut(dfs[tpc]['ts'], bins = np.linspace(dfs[tpc]['ts'].min(),dfs[tpc]['ts'].max(),int((dfs[tpc]['ts'].max()-dfs[tpc]['ts'].min())/nsecs))))['count'].sum()/60\n",
    "    avgs[tpc]['rate_err'] = np.sqrt(dfs[tpc].groupby(pd.cut(dfs[tpc]['ts'], bins = np.linspace(dfs[tpc]['ts'].min(),dfs[tpc]['ts'].max(),int((dfs[tpc]['ts'].max()-dfs[tpc]['ts'].min())/nsecs))))['count'].sum())/60"
   ]
  },
  {
   "cell_type": "code",
   "execution_count": 58,
   "metadata": {},
   "outputs": [],
   "source": [
    "data = {}\n",
    "data['HER_decay'] = {}\n",
    "data['LER_decay'] = {}\n",
    "data['Lumi_decay'] = {}\n",
    "data['HER_inj'] = {}\n",
    "data['LER_inj'] = {}\n",
    "data['Lumi_inj'] = {}\n",
    "for tpc in avgs.keys():\n",
    "    data['HER_decay'][tpc] = avgs[tpc].loc[(avgs[tpc]['HER']>0) & (avgs[tpc]['Decay']>0) & (avgs[tpc]['rate']>0)]\n",
    "    data['LER_decay'][tpc] = avgs[tpc].loc[(avgs[tpc]['LER']>0) & (avgs[tpc]['Decay']>0) & (avgs[tpc]['rate']>0)]\n",
    "    data['Lumi_decay'][tpc] = avgs[tpc].loc[(avgs[tpc]['Lumi']>0) & (avgs[tpc]['Decay']>0) & (avgs[tpc]['rate']>0)]\n",
    "    data['HER_inj'][tpc] = avgs[tpc].loc[(avgs[tpc]['HER']>0) & (avgs[tpc]['Cont_inj']>0) & (avgs[tpc]['rate']>0)]\n",
    "    data['LER_inj'][tpc] = avgs[tpc].loc[(avgs[tpc]['LER']>0) & (avgs[tpc]['Cont_inj']>0) & (avgs[tpc]['rate']>0)]\n",
    "    data['Lumi_inj'][tpc] = avgs[tpc].loc[(avgs[tpc]['Lumi']>0) & (avgs[tpc]['Cont_inj']>0) & (avgs[tpc]['rate']>0)]"
   ]
  },
  {
   "cell_type": "code",
   "execution_count": 63,
   "metadata": {},
   "outputs": [
    {
     "name": "stdout",
     "output_type": "stream",
     "text": [
      "1\n",
      "1\n",
      "1\n",
      "1\n",
      "1\n",
      "1\n",
      " FCN=4.18417 FROM MINOS     STATUS=SUCCESSFUL     57 CALLS         476 TOTAL\n",
      "                     EDM=4.21728e-08    STRATEGY= 1      ERROR MATRIX ACCURATE \n",
      "  EXT PARAMETER                                   STEP         FIRST   \n",
      "  NO.   NAME      VALUE            ERROR          SIZE      DERIVATIVE \n",
      "   1  p0           4.81000e-05   1.00699e-05   8.37526e-08   1.61716e-01\n",
      "   2  p1           0.00000e+00   2.70410e-08   6.81831e-11** at limit **\n",
      "   3  p2           2.22045e-15   9.22329e-04   9.22329e-04** at limit **\n",
      " FCN=1.45968 FROM MINOS     STATUS=SUCCESSFUL     66 CALLS         505 TOTAL\n",
      "                     EDM=1.63606e-07    STRATEGY= 1      ERROR MATRIX ACCURATE \n",
      "  EXT PARAMETER                                   STEP         FIRST   \n",
      "  NO.   NAME      VALUE            ERROR          SIZE      DERIVATIVE \n",
      "   1  p0           4.61569e-05   1.42168e-05   8.65699e-08   1.70824e-01\n",
      "   2  p1           0.00000e+00   6.07113e-08  -3.11663e-09** at limit **\n",
      "   3  p2           1.34915e-10   1.78616e-03   1.78616e-03** at limit **\n",
      " FCN=3.30302 FROM MINOS     STATUS=PROBLEMS      124 CALLS         784 TOTAL\n",
      "                     EDM=1.72054e-06    STRATEGY= 1      ERROR MATRIX ACCURATE \n",
      "  EXT PARAMETER                                   STEP         FIRST   \n",
      "  NO.   NAME      VALUE            ERROR          SIZE      DERIVATIVE \n",
      "   1  p0           4.55715e-05   1.38235e-05   3.48447e-10  -4.53343e-02\n",
      "   2  p1           1.11022e-15   4.12156e-08  -2.34095e-11** at limit **\n",
      "   3  p2           5.48183e-07   3.06124e-01   3.06124e-01** at limit **\n",
      " FCN=14.3676 FROM MINOS     STATUS=SUCCESSFUL     67 CALLS         556 TOTAL\n",
      "                     EDM=1.85544e-09    STRATEGY= 1      ERROR MATRIX ACCURATE \n",
      "  EXT PARAMETER                                   STEP         FIRST   \n",
      "  NO.   NAME      VALUE            ERROR          SIZE      DERIVATIVE \n",
      "   1  p0           4.90955e-05   4.91864e-06   1.72029e-09   9.55750e-03\n",
      "   2  p1           0.00000e+00   8.46120e-09   1.60897e-09** at limit **\n",
      "   3  p2           8.04912e-14   8.18177e-04   8.18177e-04** at limit **\n",
      " FCN=29.1585 FROM MINOS     STATUS=SUCCESSFUL     68 CALLS         554 TOTAL\n",
      "                     EDM=5.90821e-08    STRATEGY= 1      ERROR MATRIX ACCURATE \n",
      "  EXT PARAMETER                                   STEP         FIRST   \n",
      "  NO.   NAME      VALUE            ERROR          SIZE      DERIVATIVE \n",
      "   1  p0           5.68427e-05   4.89508e-06   2.77631e-08   1.91627e-01\n",
      "   2  p1           0.00000e+00   5.62752e-09  -4.68234e-09** at limit **\n",
      "   3  p2           8.68861e-12   1.53520e-03   1.53520e-03** at limit **\n",
      " FCN=61.3274 FROM MINOS     STATUS=PROBLEMS       93 CALLS         689 TOTAL\n",
      "                     EDM=4.69261e-07    STRATEGY= 1      ERROR MATRIX ACCURATE \n",
      "  EXT PARAMETER                                   STEP         FIRST   \n",
      "  NO.   NAME      VALUE            ERROR          SIZE      DERIVATIVE \n",
      "   1  p0           6.45316e-05   9.87106e-06  -4.96973e-06  -5.75538e-01\n",
      "   2  p1           0.00000e+00   4.67006e-09  -7.70696e-09** at limit **\n",
      "   3  p2           1.07465e-05   1.50200e-02   1.50200e-02   7.97345e-03\n",
      " FCN=251.914 FROM MINOS     STATUS=SUCCESSFUL     45 CALLS         416 TOTAL\n",
      "                     EDM=8.76637e-08    STRATEGY= 1      ERROR MATRIX ACCURATE \n",
      "  EXT PARAMETER                                   STEP         FIRST   \n",
      "  NO.   NAME      VALUE            ERROR          SIZE      DERIVATIVE \n",
      "   1  p0           1.90308e-04   8.22707e-06   2.67906e-09   6.11128e-03\n",
      "   2  p1           0.00000e+00   7.15024e-09   1.40121e-09** at limit **\n",
      "   3  p2           3.65441e-11   8.52086e-04   8.52086e-04** at limit **\n",
      " FCN=405.253 FROM MINOS     STATUS=SUCCESSFUL     45 CALLS         283 TOTAL\n",
      "                     EDM=1.19499e-06    STRATEGY= 1      ERROR MATRIX ACCURATE \n",
      "  EXT PARAMETER                                   STEP         FIRST   \n",
      "  NO.   NAME      VALUE            ERROR          SIZE      DERIVATIVE \n",
      "   1  p0           3.26885e-04   1.04166e-05   7.67921e-08   9.11353e-02\n",
      "   2  p1           2.22045e-15   4.87051e-09  -2.84801e-08** at limit **\n",
      "   3  p2           8.18845e-12   7.25384e-04   7.25384e-04** at limit **\n",
      " FCN=339.806 FROM MINOS     STATUS=SUCCESSFUL     78 CALLS         735 TOTAL\n",
      "                     EDM=0.00230046    STRATEGY= 1      ERROR MATRIX ACCURATE \n",
      "  EXT PARAMETER                                   STEP         FIRST   \n",
      "  NO.   NAME      VALUE            ERROR          SIZE      DERIVATIVE \n",
      "   1  p0           3.19673e-04   1.02659e-05  -7.02234e-06  -1.25532e-01\n",
      "   2  p1           0.00000e+00   9.07597e-09  -8.64997e-10** at limit **\n",
      "   3  p2           4.29173e-05   3.71785e-03   3.71785e-03   4.14824e-03\n",
      " FCN=1.71812 FROM MINOS     STATUS=SUCCESSFUL     92 CALLS         577 TOTAL\n",
      "                     EDM=3.74452e-08    STRATEGY= 1      ERROR MATRIX ACCURATE \n",
      "  EXT PARAMETER                                   STEP         FIRST   \n",
      "  NO.   NAME      VALUE            ERROR          SIZE      DERIVATIVE \n",
      "   1  p0           6.80495e-05   2.52177e-05  -0.00000e+00   5.52542e-03\n",
      "   2  p1           0.00000e+00   1.57034e-07   0.00000e+00** at limit **\n",
      "   3  p2           1.05216e-10   5.65161e-03   5.65161e-03** at limit **\n",
      " FCN=2.12614 FROM MINOS     STATUS=PROBLEMS       74 CALLS         606 TOTAL\n",
      "                     EDM=5.69303e-07    STRATEGY= 1      ERROR MATRIX ACCURATE \n",
      "  EXT PARAMETER                                   STEP         FIRST   \n",
      "  NO.   NAME      VALUE            ERROR          SIZE      DERIVATIVE \n",
      "   1  p0           5.37856e-05   1.39442e-05   2.83024e-07   2.32894e-04\n",
      "   2  p1           1.66533e-15   6.69033e-08   2.59369e-08** at limit **\n",
      "   3  p2           2.80910e-10   7.38361e-03   7.38361e-03** at limit **\n",
      " FCN=0.336277 FROM MINOS     STATUS=SUCCESSFUL     69 CALLS         454 TOTAL\n",
      "                     EDM=1.73584e-07    STRATEGY= 1      ERROR MATRIX ACCURATE \n",
      "  EXT PARAMETER                                   STEP         FIRST   \n",
      "  NO.   NAME      VALUE            ERROR          SIZE      DERIVATIVE \n",
      "   1  p0           5.28945e-05   3.24029e-05   4.14922e-07  -1.00535e-04\n",
      "   2  p1           0.00000e+00   4.38312e-07  -2.82530e-11** at limit **\n",
      "   3  p2           6.12288e-13   8.79489e-03   8.79489e-03** at limit **\n",
      " FCN=2.08901 FROM MINOS     STATUS=PROBLEMS       98 CALLS         672 TOTAL\n",
      "                     EDM=8.56134e-08    STRATEGY= 1      ERROR MATRIX ACCURATE \n",
      "  EXT PARAMETER                                   STEP         FIRST   \n",
      "  NO.   NAME      VALUE            ERROR          SIZE      DERIVATIVE \n",
      "   1  p0           3.88336e-05   8.49268e-06  -2.75644e-08   1.08360e-03\n",
      "   2  p1           5.55112e-16   4.01548e-08   1.14900e-08** at limit **\n",
      "   3  p2           1.91042e-10   6.25579e-03   6.25579e-03** at limit **\n",
      " FCN=0.421699 FROM MINOS     STATUS=SUCCESSFUL     98 CALLS         649 TOTAL\n",
      "                     EDM=6.96592e-07    STRATEGY= 1      ERROR MATRIX ACCURATE \n",
      "  EXT PARAMETER                                   STEP         FIRST   \n",
      "  NO.   NAME      VALUE            ERROR          SIZE      DERIVATIVE \n",
      "   1  p0           3.62427e-05   4.25913e-05  -1.28187e-04  -2.21257e+00\n",
      "   2  p1           1.66533e-15   1.59524e-07   5.28667e-07** at limit **\n",
      "   3  p2           1.65638e-04   1.51656e-02   1.51656e-02  -5.83611e-03\n",
      " FCN=0.476727 FROM MINOS     STATUS=PROBLEMS      114 CALLS         944 TOTAL\n",
      "                     EDM=1.65747e-06    STRATEGY= 1      ERROR MATRIX ACCURATE \n",
      "  EXT PARAMETER                                   STEP         FIRST   \n",
      "  NO.   NAME      VALUE            ERROR          SIZE      DERIVATIVE \n",
      "   1  p0           3.49011e-05   2.18614e-05  -1.31656e-06  -7.77452e-02\n",
      "   2  p1           6.66134e-15   1.39716e-07  -4.68033e-10** at limit **\n",
      "   3  p2           2.00878e-06   2.00167e-01   2.00167e-01** at limit **\n",
      " FCN=6.9213 FROM MINOS     STATUS=SUCCESSFUL    103 CALLS         745 TOTAL\n",
      "                     EDM=9.38815e-09    STRATEGY= 1      ERROR MATRIX ACCURATE \n",
      "  EXT PARAMETER                                   STEP         FIRST   \n",
      "  NO.   NAME      VALUE            ERROR          SIZE      DERIVATIVE \n",
      "   1  p0           4.14545e-05   5.74446e-06   5.16817e-09   3.34654e-02\n",
      "   2  p1           0.00000e+00   1.69670e-08   2.92330e-09** at limit **\n",
      "   3  p2           5.27911e-12   1.71500e-03   1.71500e-03** at limit **\n",
      " FCN=15.1464 FROM MINOS     STATUS=PROBLEMS       96 CALLS         794 TOTAL\n",
      "                     EDM=1.64348e-07    STRATEGY= 1      ERROR MATRIX ACCURATE \n",
      "  EXT PARAMETER                                   STEP         FIRST   \n",
      "  NO.   NAME      VALUE            ERROR          SIZE      DERIVATIVE \n",
      "   1  p0           4.32983e-05   5.03825e-06   5.91798e-08   4.36068e-03\n",
      "   2  p1           0.00000e+00   1.31159e-08  -1.33404e-09** at limit **\n",
      "   3  p2           1.82732e-10   8.28624e-03   8.28624e-03** at limit **\n",
      " FCN=43.0557 FROM MINOS     STATUS=SUCCESSFUL     49 CALLS         591 TOTAL\n",
      "                     EDM=5.17854e-10    STRATEGY= 1      ERROR MATRIX ACCURATE \n",
      "  EXT PARAMETER                                   STEP         FIRST   \n",
      "  NO.   NAME      VALUE            ERROR          SIZE      DERIVATIVE \n",
      "   1  p0           3.82423e-05   1.21847e-05  -3.79559e-08  -1.15919e+01\n",
      "   2  p1           0.00000e+00   8.62646e-09   1.49623e-06** at limit **\n",
      "   3  p2           1.20682e-03   8.01819e-04   8.01819e-04  -8.96154e-03\n",
      " FCN=182.061 FROM MINOS     STATUS=SUCCESSFUL     70 CALLS         562 TOTAL\n",
      "                     EDM=4.02661e-08    STRATEGY= 1      ERROR MATRIX ACCURATE \n",
      "  EXT PARAMETER                                   STEP         FIRST   \n",
      "  NO.   NAME      VALUE            ERROR          SIZE      DERIVATIVE \n",
      "   1  p0           3.71399e-05   2.38712e-05   1.07031e-06   1.94509e+00\n",
      "   2  p1           0.00000e+00   8.64490e-09   5.06542e-09** at limit **\n",
      "   3  p2           4.10346e-03   1.54434e-03   1.54434e-03  -3.02416e-02\n",
      " FCN=202.393 FROM MINOS     STATUS=SUCCESSFUL     53 CALLS         437 TOTAL\n",
      "                     EDM=2.12138e-08    STRATEGY= 1      ERROR MATRIX ACCURATE \n",
      "  EXT PARAMETER                                   STEP         FIRST   \n",
      "  NO.   NAME      VALUE            ERROR          SIZE      DERIVATIVE \n",
      "   1  p0           1.83475e-04   4.01426e-05   4.78727e-07   8.72914e-01\n",
      "   2  p1           0.00000e+00   9.71886e-09  -2.16543e-08** at limit **\n",
      "   3  p2           4.93354e-03   2.57086e-03   2.57086e-03  -5.70975e-03\n",
      " FCN=248.444 FROM MINOS     STATUS=SUCCESSFUL     50 CALLS         442 TOTAL\n",
      "                     EDM=4.74442e-07    STRATEGY= 1      ERROR MATRIX ACCURATE \n",
      "  EXT PARAMETER                                   STEP         FIRST   \n",
      "  NO.   NAME      VALUE            ERROR          SIZE      DERIVATIVE \n",
      "   1  p0           1.45908e-04   3.67311e-05   2.08370e-07  -1.99850e+01\n",
      "   2  p1           5.55112e-16   9.31500e-09   1.98731e-06** at limit **\n",
      "   3  p2           4.92987e-03   2.35638e-03   2.35638e-03  -4.91207e-03\n",
      " FCN=0.714761 FROM MINOS     STATUS=SUCCESSFUL    105 CALLS         991 TOTAL\n",
      "                     EDM=1.74794e-06    STRATEGY= 1      ERROR MATRIX ACCURATE \n",
      "  EXT PARAMETER                                   STEP         FIRST   \n",
      "  NO.   NAME      VALUE            ERROR          SIZE      DERIVATIVE \n",
      "   1  p0           3.53052e-05   8.75257e-06   1.77879e-08  -1.46755e-01\n",
      "   2  p1           4.21885e-14   2.79848e-07   2.94389e-10** at limit **\n",
      "   3  p2           7.75221e-09   1.07693e-02   1.07693e-02** at limit **\n",
      " FCN=1.14772 FROM MINOS     STATUS=SUCCESSFUL    126 CALLS        1036 TOTAL\n",
      "                     EDM=6.7871e-07    STRATEGY= 1      ERROR MATRIX ACCURATE \n",
      "  EXT PARAMETER                                   STEP         FIRST   \n",
      "  NO.   NAME      VALUE            ERROR          SIZE      DERIVATIVE \n",
      "   1  p0           3.10355e-05   3.93866e-05   2.16860e-06  -1.54871e+00\n",
      "   2  p1           5.55112e-16   2.94321e-07  -4.75727e-07** at limit **\n",
      "   3  p2           3.21672e-04   5.00753e-03   5.00753e-03  -1.46128e-02\n",
      " FCN=0.471579 FROM MINOS     STATUS=PROBLEMS      113 CALLS         745 TOTAL\n",
      "                     EDM=2.24346e-06    STRATEGY= 1      ERROR MATRIX ACCURATE \n",
      "  EXT PARAMETER                                   STEP         FIRST   \n",
      "  NO.   NAME      VALUE            ERROR          SIZE      DERIVATIVE \n",
      "   1  p0           3.81568e-10   1.22041e-03   8.07826e-13** at limit **\n",
      "   2  p1           7.02738e-08   5.12207e-08  -5.47347e-12** at limit **\n",
      "   3  p2           1.99379e-11   7.11284e+00   7.11284e+00** at limit **\n"
     ]
    },
    {
     "name": "stderr",
     "output_type": "stream",
     "text": [
      "Warning in <TROOT::Append>: Replacing existing TGraph2D: Graph2D (Potential memory leak).\n"
     ]
    }
   ],
   "source": [
    "import ROOT\n",
    "from array import array\n",
    "fits = {}\n",
    "def fit(rate,rate_err,x1,x2):\n",
    "    fit = {}\n",
    "    f2 = ROOT.TF2(\"f2\",\"[0] + [1]*x + [2]*y\")\n",
    "    f2.SetParLimits(0,0,10)\n",
    "    f2.SetParLimits(1,0,10)\n",
    "    f2.SetParLimits(2,0,10)\n",
    "    x1err= array('d',[0 for i in range(0,len(x1))])\n",
    "    x2err= array('d',[0 for i in range(0,len(x2))])\n",
    "    gr = ROOT.TGraph2DErrors(len(x1), x1, x2, rate, x1err, x2err, rate_err)\n",
    "    gr.Fit(f2, 'SEM')\n",
    "    fit['B0'] = f2.GetParameter(0)\n",
    "    fit['B1'] = f2.GetParameter(1)\n",
    "    fit['T'] = f2.GetParameter(2)\n",
    "    fit['B0_err'] = f2.GetParError(0)\n",
    "    fit['B1_err'] = f2.GetParError(1)\n",
    "    fit['T_err'] = f2.GetParError(2)\n",
    "    \n",
    "    return fit\n",
    "for bgType in data.keys():\n",
    "    fits[bgType] = {}\n",
    "    print(1)\n",
    "    for tpc in data[bgType].keys():\n",
    "        if bgType == 'HER_decay' or bgType == 'HER_inj':\n",
    "            fits[bgType][tpc] = fit(array('d',data[bgType][tpc]['rate']/data[bgType][tpc]['I_HER']), \n",
    "            array('d',data[bgType][tpc]['rate_err']/data[bgType][tpc]['I_HER']),\n",
    "            array('d', data[bgType][tpc]['I_HER']),\n",
    "            array('d', data[bgType][tpc]['I_HER']/(data[bgType][tpc]['Sy_HER']*data[bgType][tpc]['Nb_HER'])))\n",
    "            \n",
    "            data[bgType][tpc]['pred_rate'] = fits[bgType][tpc]['B0']*data[bgType][tpc]['I_HER'] \n",
    "            + fits[bgType][tpc]['B1']*data[bgType][tpc]['I_HER']**2 \n",
    "            + fits[bgType][tpc]['T']*data[bgType][tpc]['I_HER']**2/(data[bgType][tpc]['Sy_HER']*data[bgType][tpc]['Nb_HER']) \n",
    "        if bgType == 'LER_decay' or bgType == 'LER_inj':\n",
    "            fits[bgType][tpc] = fit(array('d',data[bgType][tpc]['rate']/data[bgType][tpc]['I_LER']), \n",
    "            array('d',data[bgType][tpc]['rate_err']/data[bgType][tpc]['I_LER']),\n",
    "            array('d', data[bgType][tpc]['I_LER']),\n",
    "            array('d', data[bgType][tpc]['I_LER']/(data[bgType][tpc]['Sy_LER']*data[bgType][tpc]['Nb_LER'])))\n",
    "            \n",
    "            data[bgType][tpc]['pred_rate'] = fits[bgType][tpc]['B0']*data[bgType][tpc]['I_LER'] \n",
    "            + fits[bgType][tpc]['B1']*data[bgType][tpc]['I_LER']**2 \n",
    "            + fits[bgType][tpc]['T']*data[bgType][tpc]['I_LER']**2/(data[bgType][tpc]['Sy_LER']*data[bgType][tpc]['Nb_LER']) "
   ]
  },
  {
   "cell_type": "code",
   "execution_count": 64,
   "metadata": {},
   "outputs": [],
   "source": [
    "for period in ['inj','decay']:\n",
    "    for tpc in ['iiwi','nene','humu']:\n",
    "        data['Lumi_%s'%(period)][tpc]['scale_rate'] = data['Lumi_%s'%(period)][tpc]['rate']-(fits['LER_%s'%(period)][tpc]['B0']*data['Lumi_%s'%(period)][tpc]['I_LER'] \n",
    "        + fits['LER_%s'%(period)][tpc]['B1']*data['Lumi_%s'%(period)][tpc]['I_LER']**2 \n",
    "        + fits['LER_%s'%(period)][tpc]['T']*data['Lumi_%s'%(period)][tpc]['I_LER']**2/(data['Lumi_%s'%(period)][tpc]['Sy_LER']*data['Lumi_%s'%(period)][tpc]['Nb_LER'])) "
   ]
  },
  {
   "cell_type": "code",
   "execution_count": 65,
   "metadata": {},
   "outputs": [],
   "source": [
    "for period in ['inj','decay']:\n",
    "    for tpc in ['palila','tako','elepaio','iiwi','nene','humu']:\n",
    "        data['Lumi_%s'%(period)][tpc]['scale_rate'] = data['Lumi_%s'%(period)][tpc]['rate']-((fits['HER_%s'%(period)][tpc]['B0']*data['Lumi_%s'%(period)][tpc]['I_HER'] \n",
    "                                                                             + fits['HER_%s'%(period)][tpc]['B1']*data['Lumi_%s'%(period)][tpc]['I_HER']**2 \n",
    "                                                                             + fits['HER_%s'%(period)][tpc]['T']*data['Lumi_%s'%(period)][tpc]['I_HER']**2/(data['Lumi_%s'%(period)][tpc]['Sy_HER']*data['Lumi_%s'%(period)][tpc]['Nb_HER'])) \n",
    "                                                                                             + (fits['LER_%s'%(period)][tpc]['B0']*data['Lumi_%s'%(period)][tpc]['I_LER'] \n",
    "                                                                                                + fits['LER_%s'%(period)][tpc]['B1']*data['Lumi_%s'%(period)][tpc]['I_LER']**2 \n",
    "                                                                                                + fits['LER_%s'%(period)][tpc]['T']*data['Lumi_%s'%(period)][tpc]['I_LER']**2/(data['Lumi_%s'%(period)][tpc]['Sy_LER']*data['Lumi_%s'%(period)][tpc]['Nb_LER']))) "
   ]
  },
  {
   "cell_type": "code",
   "execution_count": 69,
   "metadata": {},
   "outputs": [
    {
     "data": {
      "image/png": "[encoded data removed]",
      "text/plain": [
       "<Figure size 432x288 with 1 Axes>"
      ]
     },
     "metadata": {
      "needs_background": "light"
     },
     "output_type": "display_data"
    }
   ],
   "source": [
    "bgType='Lumi_decay'\n",
    "#for tpc in ['iiwi','nene','humu']:\n",
    "for tpc in ['palila','tako','elepaio']:\n",
    "    plt.plot(data[bgType][tpc]['Luminosity'],data[bgType][tpc]['scale_rate'],'o')"
   ]
  },
  {
   "cell_type": "code",
   "execution_count": 49,
   "metadata": {},
   "outputs": [
    {
     "data": {
      "text/plain": [
       "{'HER_decay': {'iiwi': {'B0': 5.615201629949329e-05,\n",
       "   'B1': 0.0,\n",
       "   'T': 4.9960036108132044e-15,\n",
       "   'B0_err': 1.1596936345947828e-05,\n",
       "   'B1_err': 4.078689969100324e-08,\n",
       "   'T_err': 0.0010242618588721109},\n",
       "  'humu': {'B0': 4.615693757759054e-05,\n",
       "   'B1': 0.0,\n",
       "   'T': 1.3491541217547365e-10,\n",
       "   'B0_err': 1.4216796463129011e-05,\n",
       "   'B1_err': 6.07113406769777e-08,\n",
       "   'T_err': 0.0017861598940835388},\n",
       "  'nene': {'B0': 4.811972150020605e-05,\n",
       "   'B1': 0.0,\n",
       "   'T': 8.940626017306386e-12,\n",
       "   'B0_err': 1.1517959849494108e-05,\n",
       "   'B1_err': 4.327108810153746e-08,\n",
       "   'T_err': 0.006669061948030852},\n",
       "  'tako': {'B0': 5.205253610807148e-05,\n",
       "   'B1': 1.1102230246251565e-15,\n",
       "   'T': 0.00034155420354953225,\n",
       "   'B0_err': 1.4473709715745464e-05,\n",
       "   'B1_err': 9.890673835499797e-09,\n",
       "   'T_err': 0.001234668488495072},\n",
       "  'palila': {'B0': 6.490586579643853e-05,\n",
       "   'B1': 0.0,\n",
       "   'T': 0.00041762954946289454,\n",
       "   'B0_err': 1.5059747648926702e-05,\n",
       "   'B1_err': 9.209710494229029e-09,\n",
       "   'T_err': 0.0013424456333369084},\n",
       "  'elepaio': {'B0': 4.543143547641737e-05,\n",
       "   'B1': 0.0,\n",
       "   'T': 0.004999977083404716,\n",
       "   'B0_err': 1.472715305789185e-05,\n",
       "   'B1_err': 8.705332843472746e-09,\n",
       "   'T_err': 0.0014497688465142655}},\n",
       " 'LER_decay': {'iiwi': {'B0': 0.0005146824087748358,\n",
       "   'B1': 0.0,\n",
       "   'T': 0.006262594399740751,\n",
       "   'B0_err': 4.910967610211037e-05,\n",
       "   'B1_err': 1.9843584275758275e-08,\n",
       "   'T_err': 0.004771571576210887},\n",
       "  'humu': {'B0': 0.0009772660947576783,\n",
       "   'B1': 0.0,\n",
       "   'T': 0.0014177259861092306,\n",
       "   'B0_err': 6.220361524089668e-05,\n",
       "   'B1_err': 3.201016229859022e-08,\n",
       "   'T_err': 0.006041430016288096},\n",
       "  'nene': {'B0': 0.0009648079909391205,\n",
       "   'B1': 5.551115123125783e-16,\n",
       "   'T': 0.0034322230616318228,\n",
       "   'B0_err': 6.334480370212558e-05,\n",
       "   'B1_err': 2.2871129989887606e-08,\n",
       "   'T_err': 0.006037278093088405},\n",
       "  'tako': {'B0': 6.804948766203633e-05,\n",
       "   'B1': 0.0,\n",
       "   'T': 1.0521583604372609e-10,\n",
       "   'B0_err': 2.521768922097989e-05,\n",
       "   'B1_err': 1.570335519951449e-07,\n",
       "   'T_err': 0.005651612369642622},\n",
       "  'palila': {'B0': 3.8512847701510644e-05,\n",
       "   'B1': 2.220446049250313e-14,\n",
       "   'T': 0.0023023373983338535,\n",
       "   'B0_err': 4.93028424441988e-05,\n",
       "   'B1_err': 1.2471091437316062e-07,\n",
       "   'T_err': 0.004051849101693594},\n",
       "  'elepaio': {'B0': 5.289449778178579e-05,\n",
       "   'B1': 0.0,\n",
       "   'T': 6.122879980807738e-13,\n",
       "   'B0_err': 3.2402877233328464e-05,\n",
       "   'B1_err': 4.383124618811962e-07,\n",
       "   'T_err': 0.00879488577940818}},\n",
       " 'Lumi_decay': {},\n",
       " 'HER_inj': {'iiwi': {'B0': 4.273063215709527e-05,\n",
       "   'B1': 0.0,\n",
       "   'T': 2.6816882048308344e-11,\n",
       "   'B0_err': 9.83964543038729e-06,\n",
       "   'B1_err': 4.722346347296735e-08,\n",
       "   'T_err': 7.197968975168937},\n",
       "  'humu': {'B0': 3.624271980418037e-05,\n",
       "   'B1': 1.6653345369377348e-15,\n",
       "   'T': 0.00016563820196824341,\n",
       "   'B0_err': 4.2591267842007063e-05,\n",
       "   'B1_err': 1.5952437010247067e-07,\n",
       "   'T_err': 0.015165567628527554},\n",
       "  'nene': {'B0': 3.490111241510885e-05,\n",
       "   'B1': 6.661338147750939e-15,\n",
       "   'T': 2.0087812174773845e-06,\n",
       "   'B0_err': 2.186141898063987e-05,\n",
       "   'B1_err': 1.397164217653568e-07,\n",
       "   'T_err': 0.2001671123868634},\n",
       "  'tako': {'B0': 4.3602469745329664e-05,\n",
       "   'B1': 0.0,\n",
       "   'T': 0.0009299148794700285,\n",
       "   'B0_err': 1.856838210578804e-05,\n",
       "   'B1_err': 2.932990905701871e-08,\n",
       "   'T_err': 0.0013047269909371995},\n",
       "  'palila': {'B0': 3.2502741060813634e-05,\n",
       "   'B1': 0.0,\n",
       "   'T': 0.0030474564159732598,\n",
       "   'B0_err': 2.3594764798906542e-05,\n",
       "   'B1_err': 4.269550574198533e-08,\n",
       "   'T_err': 0.0015703528657212695},\n",
       "  'elepaio': {'B0': 3.208658363396122e-05,\n",
       "   'B1': 7.771561172376096e-15,\n",
       "   'T': 0.005907234685598173,\n",
       "   'B0_err': 2.0482631756801872e-05,\n",
       "   'B1_err': 3.1371291397963574e-08,\n",
       "   'T_err': 0.001568851025780249}},\n",
       " 'LER_inj': {'iiwi': {'B0': 0.00014565513428599353,\n",
       "   'B1': 0.0,\n",
       "   'T': 0.012544073237098496,\n",
       "   'B0_err': 7.787524246710698e-05,\n",
       "   'B1_err': 2.8074839675262808e-08,\n",
       "   'T_err': 0.00503381190391422},\n",
       "  'humu': {'B0': 0.0005437982557215948,\n",
       "   'B1': 0.0,\n",
       "   'T': 0.017653243970949806,\n",
       "   'B0_err': 0.00012270847506989924,\n",
       "   'B1_err': 2.8677097640983362e-08,\n",
       "   'T_err': 0.00784999823398247},\n",
       "  'nene': {'B0': 0.000410086415368327,\n",
       "   'B1': 2.0539125955565396e-14,\n",
       "   'T': 0.022903785512851105,\n",
       "   'B0_err': 0.0001144179993015082,\n",
       "   'B1_err': 3.0902508885155555e-08,\n",
       "   'T_err': 0.007370472714318399},\n",
       "  'tako': {'B0': 2.6110737222362346e-06,\n",
       "   'B1': 7.249770395123534e-08,\n",
       "   'T': 1.5235590566931023e-11,\n",
       "   'B0_err': 6.151394589687718,\n",
       "   'B1_err': 6.1489273248047525,\n",
       "   'T_err': 9.04327313189759},\n",
       "  'palila': {'B0': 1.9042906737043452e-05,\n",
       "   'B1': 0.0,\n",
       "   'T': 0.0014260932807164117,\n",
       "   'B0_err': 4.2883577212049495e-05,\n",
       "   'B1_err': 3.6479146814372143e-07,\n",
       "   'T_err': 0.002892895892187275},\n",
       "  'elepaio': {'B0': 6.0858744310721136e-06,\n",
       "   'B1': 7.157640313781855e-08,\n",
       "   'T': 6.832420351710056e-08,\n",
       "   'B0_err': 0.004542912500223317,\n",
       "   'B1_err': 1.5560894439659023e-06,\n",
       "   'T_err': 0.006335710023996355}},\n",
       " 'Lumi_inj': {}}"
      ]
     },
     "execution_count": 49,
     "metadata": {},
     "output_type": "execute_result"
    }
   ],
   "source": [
    "fits"
   ]
  },
  {
   "cell_type": "code",
   "execution_count": 123,
   "metadata": {},
   "outputs": [],
   "source": [
    "LER_decay[tpc]['pred_rate'] = f['B0']*LER_decay[tpc]['I_LER']+f['T']*LER_decay[tpc]['I_LER']**2/(LER_decay[tpc]['Sy_LER']*LER_decay[tpc]['Nb_LER'])"
   ]
  },
  {
   "cell_type": "code",
   "execution_count": 32,
   "metadata": {},
   "outputs": [
    {
     "data": {
      "text/plain": [
       "dict_keys(['HER_decay', 'LER_decay', 'Lumi_decay', 'HER_inj', 'LER_inj', 'Lumi_inj'])"
      ]
     },
     "execution_count": 32,
     "metadata": {},
     "output_type": "execute_result"
    }
   ],
   "source": [
    "fits.keys()"
   ]
  },
  {
   "cell_type": "code",
   "execution_count": 124,
   "metadata": {},
   "outputs": [
    {
     "data": {
      "text/plain": [
       "[<matplotlib.lines.Line2D at 0x7f4bd8e7a550>]"
      ]
     },
     "execution_count": 124,
     "metadata": {},
     "output_type": "execute_result"
    },
    {
     "data": {
      "image/png": "[encoded data removed]",
      "text/plain": [
       "<Figure size 432x288 with 1 Axes>"
      ]
     },
     "metadata": {
      "needs_background": "light"
     },
     "output_type": "display_data"
    }
   ],
   "source": [
    "plt.plot(LER_decay[tpc]['ts'],LER_decay[tpc]['rate'],'o')\n",
    "plt.plot(LER_decay[tpc]['ts'],LER_decay[tpc]['pred_rate'],'o')"
   ]
  },
  {
   "cell_type": "code",
   "execution_count": null,
   "metadata": {},
   "outputs": [],
   "source": []
  }
 ],
 "metadata": {
  "kernelspec": {
   "display_name": "Python 3",
   "language": "python",
   "name": "python3"
  },
  "language_info": {
   "codemirror_mode": {
    "name": "ipython",
    "version": 3
   },
   "file_extension": ".py",
   "mimetype": "text/x-python",
   "name": "python",
   "nbconvert_exporter": "python",
   "pygments_lexer": "ipython3",
   "version": "3.6.11"
  }
 },
 "nbformat": 4,
 "nbformat_minor": 4
}
