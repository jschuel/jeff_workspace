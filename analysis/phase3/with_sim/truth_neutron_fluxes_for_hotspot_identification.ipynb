{
 "cells": [
  {
   "cell_type": "code",
   "execution_count": 1,
   "metadata": {},
   "outputs": [
    {
     "name": "stdout",
     "output_type": "stream",
     "text": [
      "Welcome to JupyROOT 6.22/02\n"
     ]
    }
   ],
   "source": [
    "from get_truth_neutron_data import extract\n",
    "import numpy as np\n",
    "import pandas as pd\n",
    "import root_pandas as rp\n",
    "import matplotlib.pyplot as plt"
   ]
  },
  {
   "cell_type": "code",
   "execution_count": 2,
   "metadata": {},
   "outputs": [],
   "source": [
    "a = extract()"
   ]
  },
  {
   "cell_type": "code",
   "execution_count": 3,
   "metadata": {},
   "outputs": [],
   "source": [
    "data = a.get_Lumi_MC_data()"
   ]
  },
  {
   "cell_type": "code",
   "execution_count": 4,
   "metadata": {},
   "outputs": [
    {
     "data": {
      "text/plain": [
       "dict_keys(['iiwi_twoPhoton_Lumi', 'iiwi_RBB_Lumi', 'nene_twoPhoton_Lumi', 'nene_RBB_Lumi', 'humu_twoPhoton_Lumi', 'humu_RBB_Lumi', 'palila_twoPhoton_Lumi', 'palila_RBB_Lumi', 'tako_twoPhoton_Lumi', 'tako_RBB_Lumi', 'elepaio_twoPhoton_Lumi', 'elepaio_RBB_Lumi'])"
      ]
     },
     "execution_count": 4,
     "metadata": {},
     "output_type": "execute_result"
    }
   ],
   "source": [
    "data.keys()"
   ]
  },
  {
   "cell_type": "code",
   "execution_count": 5,
   "metadata": {},
   "outputs": [],
   "source": [
    "iiwi = data['iiwi_RBB_Lumi']\n",
    "nene = data['nene_RBB_Lumi']\n",
    "humu = data['humu_RBB_Lumi']\n",
    "palila = data['palila_RBB_Lumi']\n",
    "tako = data['tako_RBB_Lumi']\n",
    "elepaio = data['elepaio_RBB_Lumi']"
   ]
  },
  {
   "cell_type": "code",
   "execution_count": 6,
   "metadata": {},
   "outputs": [
    {
     "name": "stdout",
     "output_type": "stream",
     "text": [
      "0.9470556671842177\n",
      "0.9095006646726487\n",
      "0.8640788366782839\n"
     ]
    }
   ],
   "source": [
    "cut_bwd = 'truthNeutronVtx_x_belle_frame>=18 & truthNeutronVtx_x_belle_frame<=60 & truthNeutronVtx_y_belle_frame <= 20 & truthNeutronVtx_y_belle_frame >= -20 & truthNeutronVtx_z_belle_frame >= -900 & truthNeutronVtx_z_belle_frame <= -750'\n",
    "print(len(tako.query(cut_bwd))/len(tako))\n",
    "print(len(palila.query(cut_bwd))/len(palila))\n",
    "print(len(elepaio.query(cut_bwd))/len(elepaio))"
   ]
  },
  {
   "cell_type": "code",
   "execution_count": 7,
   "metadata": {},
   "outputs": [
    {
     "name": "stdout",
     "output_type": "stream",
     "text": [
      "0.7103327817613532\n",
      "0.8320451808285491\n",
      "0.7600185684359994\n"
     ]
    }
   ],
   "source": [
    "cut_fwd = 'truthNeutronVtx_x_belle_frame>=40 & truthNeutronVtx_x_belle_frame<=80 & truthNeutronVtx_y_belle_frame <= 20 & truthNeutronVtx_y_belle_frame >= -20 & truthNeutronVtx_z_belle_frame >= 1350 & truthNeutronVtx_z_belle_frame <= 1650'\n",
    "print(len(iiwi.query(cut_fwd))/len(iiwi))\n",
    "print(len(nene.query(cut_fwd))/len(nene))\n",
    "print(len(humu.query(cut_fwd))/len(humu))"
   ]
  },
  {
   "cell_type": "code",
   "execution_count": null,
   "metadata": {},
   "outputs": [],
   "source": []
  }
 ],
 "metadata": {
  "kernelspec": {
   "display_name": "Python 3",
   "language": "python",
   "name": "python3"
  },
  "language_info": {
   "codemirror_mode": {
    "name": "ipython",
    "version": 3
   },
   "file_extension": ".py",
   "mimetype": "text/x-python",
   "name": "python",
   "nbconvert_exporter": "python",
   "pygments_lexer": "ipython3",
   "version": "3.6.11"
  }
 },
 "nbformat": 4,
 "nbformat_minor": 4
}
