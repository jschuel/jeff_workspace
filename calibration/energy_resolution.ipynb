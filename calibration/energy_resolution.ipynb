{
 "cells": [
  {
   "cell_type": "code",
   "execution_count": 1,
   "metadata": {},
   "outputs": [
    {
     "name": "stdout",
     "output_type": "stream",
     "text": [
      "Welcome to JupyROOT 6.22/02\n"
     ]
    }
   ],
   "source": [
    "import pandas as pd\n",
    "import numpy as np\n",
    "import matplotlib.pyplot as plt\n",
    "from pylab import *\n",
    "from scipy.optimize import curve_fit\n",
    "from ROOT import TVector3\n",
    "import perform_calibrations as pc #import perform calibration package to get data\n",
    "from matplotlib.patches import Patch\n",
    "from matplotlib.lines import Line2D\n",
    "import ROOT\n",
    "import array\n",
    "from matplotlib import rc\n",
    "from matplotlib.ticker import (MultipleLocator, FormatStrFormatter,\n",
    "                               AutoMinorLocator)\n",
    "rc('text', usetex=True)"
   ]
  },
  {
   "cell_type": "markdown",
   "metadata": {},
   "source": [
    "### Call calibration class"
   ]
  },
  {
   "cell_type": "code",
   "execution_count": 2,
   "metadata": {},
   "outputs": [],
   "source": [
    "t = pc.tpc_calibration()"
   ]
  },
  {
   "cell_type": "markdown",
   "metadata": {},
   "source": [
    "### Load data (takes 5-10 mins to run)\n",
    "Compare corrected and uncorrected recoils"
   ]
  },
  {
   "cell_type": "code",
   "execution_count": 4,
   "metadata": {},
   "outputs": [
    {
     "ename": "KeyboardInterrupt",
     "evalue": "",
     "output_type": "error",
     "traceback": [
      "\u001b[0;31m---------------------------------------------------------------------------\u001b[0m",
      "\u001b[0;31mKeyboardInterrupt\u001b[0m                         Traceback (most recent call last)",
      "\u001b[0;32m<ipython-input-4-2ef50ec2e948>\u001b[0m in \u001b[0;36m<module>\u001b[0;34m\u001b[0m\n\u001b[1;32m      1\u001b[0m \u001b[0muncorrected_recoils\u001b[0m \u001b[0;34m=\u001b[0m \u001b[0mt\u001b[0m\u001b[0;34m.\u001b[0m\u001b[0mcalibrate_recoils\u001b[0m\u001b[0;34m(\u001b[0m\u001b[0mcorrected_energy\u001b[0m \u001b[0;34m=\u001b[0m \u001b[0;32mTrue\u001b[0m\u001b[0;34m,\u001b[0m \u001b[0mcorrected_length\u001b[0m \u001b[0;34m=\u001b[0m \u001b[0;36m0\u001b[0m\u001b[0;34m)\u001b[0m\u001b[0;34m\u001b[0m\u001b[0;34m\u001b[0m\u001b[0m\n\u001b[0;32m----> 2\u001b[0;31m \u001b[0mcorrected_recoils\u001b[0m \u001b[0;34m=\u001b[0m \u001b[0mt\u001b[0m\u001b[0;34m.\u001b[0m\u001b[0mcalibrate_recoils\u001b[0m\u001b[0;34m(\u001b[0m\u001b[0mcorrected_energy\u001b[0m \u001b[0;34m=\u001b[0m \u001b[0;32mTrue\u001b[0m\u001b[0;34m,\u001b[0m \u001b[0mcorrected_length\u001b[0m \u001b[0;34m=\u001b[0m \u001b[0;36m0\u001b[0m\u001b[0;34m)\u001b[0m\u001b[0;34m\u001b[0m\u001b[0;34m\u001b[0m\u001b[0m\n\u001b[0m\u001b[1;32m      3\u001b[0m \u001b[0;31m#ekey = 'full_corrected_energy'\u001b[0m\u001b[0;34m\u001b[0m\u001b[0;34m\u001b[0m\u001b[0;34m\u001b[0m\u001b[0m\n\u001b[1;32m      4\u001b[0m \u001b[0;31m#alphas = t.load_alphas()\u001b[0m\u001b[0;34m\u001b[0m\u001b[0;34m\u001b[0m\u001b[0;34m\u001b[0m\u001b[0m\n\u001b[1;32m      5\u001b[0m \u001b[0;31m#corrected_recoils = alphas\u001b[0m\u001b[0;34m\u001b[0m\u001b[0;34m\u001b[0m\u001b[0;34m\u001b[0m\u001b[0m\n",
      "\u001b[0;32m~/workspace/jeff_workspace/calibration/perform_calibrations.py\u001b[0m in \u001b[0;36mcalibrate_recoils\u001b[0;34m(self, corrected_energy, corrected_length)\u001b[0m\n\u001b[1;32m    674\u001b[0m         \u001b[0;32melse\u001b[0m\u001b[0;34m:\u001b[0m\u001b[0;34m\u001b[0m\u001b[0;34m\u001b[0m\u001b[0m\n\u001b[1;32m    675\u001b[0m             \u001b[0mlkey\u001b[0m \u001b[0;34m=\u001b[0m \u001b[0;34m'rms_corrected_length'\u001b[0m\u001b[0;34m\u001b[0m\u001b[0;34m\u001b[0m\u001b[0m\n\u001b[0;32m--> 676\u001b[0;31m         \u001b[0mscale_factor\u001b[0m \u001b[0;34m=\u001b[0m \u001b[0mself\u001b[0m\u001b[0;34m.\u001b[0m\u001b[0mcalibrate_alphas\u001b[0m\u001b[0;34m(\u001b[0m\u001b[0mcorrected_energy\u001b[0m\u001b[0;34m,\u001b[0m \u001b[0mcorrected_length\u001b[0m\u001b[0;34m)\u001b[0m\u001b[0;34m[\u001b[0m\u001b[0;36m1\u001b[0m\u001b[0;34m]\u001b[0m\u001b[0;34m\u001b[0m\u001b[0;34m\u001b[0m\u001b[0m\n\u001b[0m\u001b[1;32m    677\u001b[0m         \u001b[0mtpcs\u001b[0m \u001b[0;34m=\u001b[0m \u001b[0mrecoils\u001b[0m\u001b[0;34m.\u001b[0m\u001b[0mkeys\u001b[0m\u001b[0;34m(\u001b[0m\u001b[0;34m)\u001b[0m\u001b[0;34m\u001b[0m\u001b[0;34m\u001b[0m\u001b[0m\n\u001b[1;32m    678\u001b[0m         \u001b[0;32mfor\u001b[0m \u001b[0mtpc\u001b[0m \u001b[0;32min\u001b[0m \u001b[0mtpcs\u001b[0m\u001b[0;34m:\u001b[0m\u001b[0;34m\u001b[0m\u001b[0;34m\u001b[0m\u001b[0m\n",
      "\u001b[0;32m~/workspace/jeff_workspace/calibration/perform_calibrations.py\u001b[0m in \u001b[0;36mcalibrate_alphas\u001b[0;34m(self, corrected_energy, corrected_length)\u001b[0m\n\u001b[1;32m    642\u001b[0m     \u001b[0;32mdef\u001b[0m \u001b[0mcalibrate_alphas\u001b[0m\u001b[0;34m(\u001b[0m\u001b[0mself\u001b[0m\u001b[0;34m,\u001b[0m \u001b[0mcorrected_energy\u001b[0m \u001b[0;34m=\u001b[0m \u001b[0;32mTrue\u001b[0m\u001b[0;34m,\u001b[0m \u001b[0mcorrected_length\u001b[0m \u001b[0;34m=\u001b[0m \u001b[0;36m0\u001b[0m\u001b[0;34m)\u001b[0m\u001b[0;34m:\u001b[0m \u001b[0;31m#calibrates alphas to a de/dx reference value of 500 keV/cm\u001b[0m\u001b[0;34m\u001b[0m\u001b[0;34m\u001b[0m\u001b[0m\n\u001b[1;32m    643\u001b[0m         \u001b[0;32mif\u001b[0m \u001b[0mcorrected_energy\u001b[0m \u001b[0;34m==\u001b[0m \u001b[0;32mTrue\u001b[0m\u001b[0;34m:\u001b[0m\u001b[0;34m\u001b[0m\u001b[0;34m\u001b[0m\u001b[0m\n\u001b[0;32m--> 644\u001b[0;31m             \u001b[0malphas\u001b[0m \u001b[0;34m=\u001b[0m \u001b[0mself\u001b[0m\u001b[0;34m.\u001b[0m\u001b[0mcorrect_alphas\u001b[0m\u001b[0;34m(\u001b[0m\u001b[0;34m)\u001b[0m\u001b[0;34m\u001b[0m\u001b[0;34m\u001b[0m\u001b[0m\n\u001b[0m\u001b[1;32m    645\u001b[0m             \u001b[0mekey\u001b[0m \u001b[0;34m=\u001b[0m \u001b[0;34m'full_corrected_energy'\u001b[0m\u001b[0;34m\u001b[0m\u001b[0;34m\u001b[0m\u001b[0m\n\u001b[1;32m    646\u001b[0m         \u001b[0;32melse\u001b[0m\u001b[0;34m:\u001b[0m\u001b[0;34m\u001b[0m\u001b[0;34m\u001b[0m\u001b[0m\n",
      "\u001b[0;32m~/workspace/jeff_workspace/calibration/perform_calibrations.py\u001b[0m in \u001b[0;36mcorrect_alphas\u001b[0;34m(self)\u001b[0m\n\u001b[1;32m    624\u001b[0m         \u001b[0mtpcs\u001b[0m \u001b[0;34m=\u001b[0m \u001b[0malphas\u001b[0m\u001b[0;34m.\u001b[0m\u001b[0mkeys\u001b[0m\u001b[0;34m(\u001b[0m\u001b[0;34m)\u001b[0m\u001b[0;34m\u001b[0m\u001b[0;34m\u001b[0m\u001b[0m\n\u001b[1;32m    625\u001b[0m         \u001b[0mfit_sat\u001b[0m \u001b[0;34m=\u001b[0m \u001b[0mself\u001b[0m\u001b[0;34m.\u001b[0m\u001b[0mperform_saturation_corrections\u001b[0m\u001b[0;34m(\u001b[0m\u001b[0mrecoil_species\u001b[0m \u001b[0;34m=\u001b[0m \u001b[0;34m'He'\u001b[0m\u001b[0;34m,\u001b[0m \u001b[0mpoly_deg\u001b[0m \u001b[0;34m=\u001b[0m \u001b[0;36m3\u001b[0m\u001b[0;34m)\u001b[0m\u001b[0;34m[\u001b[0m\u001b[0;36m1\u001b[0m\u001b[0;34m]\u001b[0m \u001b[0;31m#dict w/ tpc names as keys. Comes from simulation class\u001b[0m\u001b[0;34m\u001b[0m\u001b[0;34m\u001b[0m\u001b[0m\n\u001b[0;32m--> 626\u001b[0;31m         \u001b[0mfit_thresh\u001b[0m \u001b[0;34m=\u001b[0m \u001b[0mself\u001b[0m\u001b[0;34m.\u001b[0m\u001b[0mperform_threshold_corrections\u001b[0m\u001b[0;34m(\u001b[0m\u001b[0mrecoil_species\u001b[0m \u001b[0;34m=\u001b[0m \u001b[0;34m'He'\u001b[0m\u001b[0;34m,\u001b[0m \u001b[0mpoly_deg\u001b[0m \u001b[0;34m=\u001b[0m \u001b[0;36m5\u001b[0m\u001b[0;34m)\u001b[0m\u001b[0;34m[\u001b[0m\u001b[0;36m1\u001b[0m\u001b[0;34m]\u001b[0m \u001b[0;31m#dict w/ tpc names as keys. From simulation class\u001b[0m\u001b[0;34m\u001b[0m\u001b[0;34m\u001b[0m\u001b[0m\n\u001b[0m\u001b[1;32m    627\u001b[0m         \u001b[0;32mfor\u001b[0m \u001b[0mtpc\u001b[0m \u001b[0;32min\u001b[0m \u001b[0mtpcs\u001b[0m\u001b[0;34m:\u001b[0m\u001b[0;34m\u001b[0m\u001b[0;34m\u001b[0m\u001b[0m\n\u001b[1;32m    628\u001b[0m             \u001b[0malphas\u001b[0m\u001b[0;34m[\u001b[0m\u001b[0mtpc\u001b[0m\u001b[0;34m]\u001b[0m \u001b[0;34m=\u001b[0m \u001b[0mself\u001b[0m\u001b[0;34m.\u001b[0m\u001b[0mperform_saturation_correction\u001b[0m\u001b[0;34m(\u001b[0m\u001b[0malphas\u001b[0m\u001b[0;34m[\u001b[0m\u001b[0mtpc\u001b[0m\u001b[0;34m]\u001b[0m\u001b[0;34m,\u001b[0m \u001b[0mtpc\u001b[0m\u001b[0;34m,\u001b[0m \u001b[0mfit_sat\u001b[0m\u001b[0;34m[\u001b[0m\u001b[0mtpc\u001b[0m\u001b[0;34m]\u001b[0m\u001b[0;34m)\u001b[0m\u001b[0;34m\u001b[0m\u001b[0;34m\u001b[0m\u001b[0m\n",
      "\u001b[0;32m~/workspace/jeff_workspace/calibration/perform_calibrations.py\u001b[0m in \u001b[0;36mperform_threshold_corrections\u001b[0;34m(self, base_path, recoil_species, zmin, zmax, poly_deg)\u001b[0m\n\u001b[1;32m    170\u001b[0m \u001b[0;34m\u001b[0m\u001b[0m\n\u001b[1;32m    171\u001b[0m     \u001b[0;32mdef\u001b[0m \u001b[0mperform_threshold_corrections\u001b[0m\u001b[0;34m(\u001b[0m\u001b[0mself\u001b[0m\u001b[0;34m,\u001b[0m \u001b[0mbase_path\u001b[0m \u001b[0;34m=\u001b[0m \u001b[0;34m'~/data/phase3/simulation/resolution_paper/tpc_sims/'\u001b[0m\u001b[0;34m,\u001b[0m \u001b[0mrecoil_species\u001b[0m \u001b[0;34m=\u001b[0m \u001b[0;34m'all'\u001b[0m\u001b[0;34m,\u001b[0m \u001b[0mzmin\u001b[0m \u001b[0;34m=\u001b[0m \u001b[0;36m0\u001b[0m\u001b[0;34m,\u001b[0m \u001b[0mzmax\u001b[0m \u001b[0;34m=\u001b[0m \u001b[0;36m10\u001b[0m\u001b[0;34m,\u001b[0m \u001b[0mpoly_deg\u001b[0m \u001b[0;34m=\u001b[0m \u001b[0;36m5\u001b[0m\u001b[0;34m)\u001b[0m\u001b[0;34m:\u001b[0m\u001b[0;34m\u001b[0m\u001b[0;34m\u001b[0m\u001b[0m\n\u001b[0;32m--> 172\u001b[0;31m         \u001b[0mMC\u001b[0m \u001b[0;34m=\u001b[0m \u001b[0mself\u001b[0m\u001b[0;34m.\u001b[0m\u001b[0mperform_saturation_corrections\u001b[0m\u001b[0;34m(\u001b[0m\u001b[0mbase_path\u001b[0m\u001b[0;34m,\u001b[0m \u001b[0mrecoil_species\u001b[0m\u001b[0;34m,\u001b[0m \u001b[0mzmin\u001b[0m\u001b[0;34m,\u001b[0m \u001b[0mzmax\u001b[0m\u001b[0;34m,\u001b[0m \u001b[0;36m3\u001b[0m\u001b[0;34m)\u001b[0m\u001b[0;34m[\u001b[0m\u001b[0;36m0\u001b[0m\u001b[0;34m]\u001b[0m\u001b[0;34m\u001b[0m\u001b[0;34m\u001b[0m\u001b[0m\n\u001b[0m\u001b[1;32m    173\u001b[0m         \u001b[0mtpcs\u001b[0m \u001b[0;34m=\u001b[0m \u001b[0mMC\u001b[0m\u001b[0;34m.\u001b[0m\u001b[0mkeys\u001b[0m\u001b[0;34m(\u001b[0m\u001b[0;34m)\u001b[0m\u001b[0;34m\u001b[0m\u001b[0;34m\u001b[0m\u001b[0m\n\u001b[1;32m    174\u001b[0m         \u001b[0mmean_tot_group\u001b[0m \u001b[0;34m=\u001b[0m \u001b[0;34m{\u001b[0m\u001b[0;34m}\u001b[0m \u001b[0;31m#dictionary of binned mean_tots\u001b[0m\u001b[0;34m\u001b[0m\u001b[0;34m\u001b[0m\u001b[0m\n",
      "\u001b[0;32m~/workspace/jeff_workspace/calibration/perform_calibrations.py\u001b[0m in \u001b[0;36mperform_saturation_corrections\u001b[0;34m(self, base_path, recoil_species, zmin, zmax, poly_deg)\u001b[0m\n\u001b[1;32m    142\u001b[0m \u001b[0;34m\u001b[0m\u001b[0m\n\u001b[1;32m    143\u001b[0m     \u001b[0;32mdef\u001b[0m \u001b[0mperform_saturation_corrections\u001b[0m\u001b[0;34m(\u001b[0m\u001b[0mself\u001b[0m\u001b[0;34m,\u001b[0m \u001b[0mbase_path\u001b[0m \u001b[0;34m=\u001b[0m \u001b[0;34m'~/data/phase3/simulation/resolution_paper/tpc_sims/'\u001b[0m\u001b[0;34m,\u001b[0m \u001b[0mrecoil_species\u001b[0m \u001b[0;34m=\u001b[0m \u001b[0;34m'all'\u001b[0m\u001b[0;34m,\u001b[0m \u001b[0mzmin\u001b[0m \u001b[0;34m=\u001b[0m \u001b[0;36m0\u001b[0m\u001b[0;34m,\u001b[0m \u001b[0mzmax\u001b[0m \u001b[0;34m=\u001b[0m \u001b[0;36m10\u001b[0m\u001b[0;34m,\u001b[0m \u001b[0mpoly_deg\u001b[0m \u001b[0;34m=\u001b[0m \u001b[0;36m3\u001b[0m\u001b[0;34m)\u001b[0m\u001b[0;34m:\u001b[0m\u001b[0;34m\u001b[0m\u001b[0;34m\u001b[0m\u001b[0m\n\u001b[0;32m--> 144\u001b[0;31m         \u001b[0mMC\u001b[0m \u001b[0;34m=\u001b[0m \u001b[0mself\u001b[0m\u001b[0;34m.\u001b[0m\u001b[0madd_saturation_fraction_and_mean_tot\u001b[0m\u001b[0;34m(\u001b[0m\u001b[0mbase_path\u001b[0m \u001b[0;34m=\u001b[0m \u001b[0mbase_path\u001b[0m\u001b[0;34m,\u001b[0m \u001b[0mrecoil_species\u001b[0m \u001b[0;34m=\u001b[0m \u001b[0mrecoil_species\u001b[0m\u001b[0;34m,\u001b[0m \u001b[0mzmin\u001b[0m \u001b[0;34m=\u001b[0m \u001b[0mzmin\u001b[0m\u001b[0;34m,\u001b[0m \u001b[0mzmax\u001b[0m \u001b[0;34m=\u001b[0m \u001b[0mzmax\u001b[0m\u001b[0;34m)\u001b[0m\u001b[0;34m\u001b[0m\u001b[0;34m\u001b[0m\u001b[0m\n\u001b[0m\u001b[1;32m    145\u001b[0m         \u001b[0mtpcs\u001b[0m \u001b[0;34m=\u001b[0m \u001b[0;34m[\u001b[0m\u001b[0;34m'humu'\u001b[0m\u001b[0;34m,\u001b[0m \u001b[0;34m'iiwi'\u001b[0m\u001b[0;34m,\u001b[0m \u001b[0;34m'nene'\u001b[0m\u001b[0;34m,\u001b[0m \u001b[0;34m'palila'\u001b[0m\u001b[0;34m,\u001b[0m \u001b[0;34m'tako'\u001b[0m\u001b[0;34m,\u001b[0m \u001b[0;34m'elepaio'\u001b[0m\u001b[0;34m]\u001b[0m\u001b[0;34m\u001b[0m\u001b[0;34m\u001b[0m\u001b[0m\n\u001b[1;32m    146\u001b[0m         \u001b[0msat_frac_group\u001b[0m \u001b[0;34m=\u001b[0m \u001b[0;34m{\u001b[0m\u001b[0;34m}\u001b[0m \u001b[0;31m#dictionary of binned saturation fractions\u001b[0m\u001b[0;34m\u001b[0m\u001b[0;34m\u001b[0m\u001b[0m\n",
      "\u001b[0;32m~/workspace/jeff_workspace/calibration/perform_calibrations.py\u001b[0m in \u001b[0;36madd_saturation_fraction_and_mean_tot\u001b[0;34m(self, base_path, recoil_species, zmin, zmax)\u001b[0m\n\u001b[1;32m    121\u001b[0m \u001b[0;34m\u001b[0m\u001b[0m\n\u001b[1;32m    122\u001b[0m     \u001b[0;32mdef\u001b[0m \u001b[0madd_saturation_fraction_and_mean_tot\u001b[0m\u001b[0;34m(\u001b[0m\u001b[0mself\u001b[0m\u001b[0;34m,\u001b[0m \u001b[0mbase_path\u001b[0m \u001b[0;34m=\u001b[0m  \u001b[0;34m'~/data/phase3/simulation/resolution_paper/tpc_sims/'\u001b[0m\u001b[0;34m,\u001b[0m \u001b[0mrecoil_species\u001b[0m \u001b[0;34m=\u001b[0m \u001b[0;34m'all'\u001b[0m\u001b[0;34m,\u001b[0m \u001b[0mzmin\u001b[0m \u001b[0;34m=\u001b[0m \u001b[0;36m0\u001b[0m\u001b[0;34m,\u001b[0m \u001b[0mzmax\u001b[0m \u001b[0;34m=\u001b[0m \u001b[0;36m10\u001b[0m\u001b[0;34m)\u001b[0m\u001b[0;34m:\u001b[0m\u001b[0;34m\u001b[0m\u001b[0;34m\u001b[0m\u001b[0m\n\u001b[0;32m--> 123\u001b[0;31m         \u001b[0mMC\u001b[0m \u001b[0;34m=\u001b[0m \u001b[0mself\u001b[0m\u001b[0;34m.\u001b[0m\u001b[0mapply_energy_calibrations\u001b[0m\u001b[0;34m(\u001b[0m\u001b[0mbase_path\u001b[0m \u001b[0;34m=\u001b[0m \u001b[0mbase_path\u001b[0m\u001b[0;34m,\u001b[0m \u001b[0mrecoil_species\u001b[0m \u001b[0;34m=\u001b[0m \u001b[0mrecoil_species\u001b[0m\u001b[0;34m,\u001b[0m \u001b[0mzmin\u001b[0m \u001b[0;34m=\u001b[0m \u001b[0mzmin\u001b[0m\u001b[0;34m,\u001b[0m \u001b[0mzmax\u001b[0m \u001b[0;34m=\u001b[0m \u001b[0mzmax\u001b[0m\u001b[0;34m)\u001b[0m\u001b[0;34m[\u001b[0m\u001b[0;36m0\u001b[0m\u001b[0;34m]\u001b[0m\u001b[0;34m\u001b[0m\u001b[0;34m\u001b[0m\u001b[0m\n\u001b[0m\u001b[1;32m    124\u001b[0m         \u001b[0mtpcs\u001b[0m \u001b[0;34m=\u001b[0m \u001b[0mMC\u001b[0m\u001b[0;34m.\u001b[0m\u001b[0mkeys\u001b[0m\u001b[0;34m(\u001b[0m\u001b[0;34m)\u001b[0m\u001b[0;34m\u001b[0m\u001b[0;34m\u001b[0m\u001b[0m\n\u001b[1;32m    125\u001b[0m         \u001b[0;31m# mapping functions\u001b[0m\u001b[0;34m\u001b[0m\u001b[0;34m\u001b[0m\u001b[0;34m\u001b[0m\u001b[0m\n",
      "\u001b[0;32m~/workspace/jeff_workspace/calibration/perform_calibrations.py\u001b[0m in \u001b[0;36mapply_energy_calibrations\u001b[0;34m(self, base_path, recoil_species, zmin, zmax)\u001b[0m\n\u001b[1;32m    105\u001b[0m             \u001b[0mMC\u001b[0m\u001b[0;34m[\u001b[0m\u001b[0mtpc\u001b[0m\u001b[0;34m]\u001b[0m\u001b[0;34m[\u001b[0m\u001b[0;34m'q_from_tot'\u001b[0m\u001b[0;34m]\u001b[0m \u001b[0;34m=\u001b[0m \u001b[0mMC\u001b[0m\u001b[0;34m[\u001b[0m\u001b[0mtpc\u001b[0m\u001b[0;34m]\u001b[0m\u001b[0;34m[\u001b[0m\u001b[0;34m'tot'\u001b[0m\u001b[0;34m]\u001b[0m\u001b[0;34m\u001b[0m\u001b[0;34m\u001b[0m\u001b[0m\n\u001b[1;32m    106\u001b[0m             \u001b[0;32mfor\u001b[0m \u001b[0mi\u001b[0m \u001b[0;32min\u001b[0m \u001b[0mrange\u001b[0m\u001b[0;34m(\u001b[0m\u001b[0;36m0\u001b[0m\u001b[0;34m,\u001b[0m\u001b[0mlen\u001b[0m\u001b[0;34m(\u001b[0m\u001b[0mMC\u001b[0m\u001b[0;34m[\u001b[0m\u001b[0mtpc\u001b[0m\u001b[0;34m]\u001b[0m\u001b[0;34m)\u001b[0m\u001b[0;34m)\u001b[0m\u001b[0;34m:\u001b[0m\u001b[0;34m\u001b[0m\u001b[0;34m\u001b[0m\u001b[0m\n\u001b[0;32m--> 107\u001b[0;31m                 \u001b[0mMC\u001b[0m\u001b[0;34m[\u001b[0m\u001b[0mtpc\u001b[0m\u001b[0;34m]\u001b[0m\u001b[0;34m[\u001b[0m\u001b[0;34m'q_from_tot'\u001b[0m\u001b[0;34m]\u001b[0m\u001b[0;34m.\u001b[0m\u001b[0miloc\u001b[0m\u001b[0;34m[\u001b[0m\u001b[0mi\u001b[0m\u001b[0;34m]\u001b[0m \u001b[0;34m=\u001b[0m \u001b[0mpd\u001b[0m\u001b[0;34m.\u001b[0m\u001b[0mSeries\u001b[0m\u001b[0;34m(\u001b[0m\u001b[0mMC\u001b[0m\u001b[0;34m[\u001b[0m\u001b[0mtpc\u001b[0m\u001b[0;34m]\u001b[0m\u001b[0;34m.\u001b[0m\u001b[0miloc\u001b[0m\u001b[0;34m[\u001b[0m\u001b[0mi\u001b[0m\u001b[0;34m]\u001b[0m\u001b[0;34m[\u001b[0m\u001b[0;34m'tot'\u001b[0m\u001b[0;34m]\u001b[0m\u001b[0;34m)\u001b[0m\u001b[0;34m.\u001b[0m\u001b[0mmap\u001b[0m\u001b[0;34m(\u001b[0m\u001b[0mtot_to_q\u001b[0m\u001b[0;34m[\u001b[0m\u001b[0mtpc\u001b[0m\u001b[0;34m]\u001b[0m\u001b[0;34m.\u001b[0m\u001b[0mset_index\u001b[0m\u001b[0;34m(\u001b[0m\u001b[0;34m'tot_code'\u001b[0m\u001b[0;34m)\u001b[0m\u001b[0;34m[\u001b[0m\u001b[0;34m'conversion'\u001b[0m\u001b[0;34m]\u001b[0m\u001b[0;34m)\u001b[0m\u001b[0;34m.\u001b[0m\u001b[0mto_numpy\u001b[0m\u001b[0;34m(\u001b[0m\u001b[0;34m)\u001b[0m\u001b[0;34m\u001b[0m\u001b[0;34m\u001b[0m\u001b[0m\n\u001b[0m\u001b[1;32m    108\u001b[0m             \u001b[0mMC\u001b[0m\u001b[0;34m[\u001b[0m\u001b[0mtpc\u001b[0m\u001b[0;34m]\u001b[0m\u001b[0;34m[\u001b[0m\u001b[0;34m'sumtot'\u001b[0m\u001b[0;34m]\u001b[0m \u001b[0;34m=\u001b[0m \u001b[0;34m[\u001b[0m\u001b[0mMC\u001b[0m\u001b[0;34m[\u001b[0m\u001b[0mtpc\u001b[0m\u001b[0;34m]\u001b[0m\u001b[0;34m[\u001b[0m\u001b[0;34m'q_from_tot'\u001b[0m\u001b[0;34m]\u001b[0m\u001b[0;34m[\u001b[0m\u001b[0mi\u001b[0m\u001b[0;34m]\u001b[0m\u001b[0;34m.\u001b[0m\u001b[0msum\u001b[0m\u001b[0;34m(\u001b[0m\u001b[0;34m)\u001b[0m \u001b[0;32mfor\u001b[0m \u001b[0mi\u001b[0m \u001b[0;32min\u001b[0m \u001b[0mrange\u001b[0m\u001b[0;34m(\u001b[0m\u001b[0;36m0\u001b[0m\u001b[0;34m,\u001b[0m\u001b[0mlen\u001b[0m\u001b[0;34m(\u001b[0m\u001b[0mMC\u001b[0m\u001b[0;34m[\u001b[0m\u001b[0mtpc\u001b[0m\u001b[0;34m]\u001b[0m\u001b[0;34m)\u001b[0m\u001b[0;34m)\u001b[0m\u001b[0;34m]\u001b[0m\u001b[0;34m\u001b[0m\u001b[0;34m\u001b[0m\u001b[0m\n\u001b[1;32m    109\u001b[0m             \u001b[0mMC\u001b[0m\u001b[0;34m[\u001b[0m\u001b[0mtpc\u001b[0m\u001b[0;34m]\u001b[0m\u001b[0;34m[\u001b[0m\u001b[0;34m'reco_energy'\u001b[0m\u001b[0;34m]\u001b[0m \u001b[0;34m=\u001b[0m \u001b[0mMC\u001b[0m\u001b[0;34m[\u001b[0m\u001b[0mtpc\u001b[0m\u001b[0;34m]\u001b[0m\u001b[0;34m[\u001b[0m\u001b[0;34m'sumtot'\u001b[0m\u001b[0;34m]\u001b[0m\u001b[0;34m*\u001b[0m\u001b[0;36m35.075\u001b[0m\u001b[0;34m/\u001b[0m\u001b[0mgain\u001b[0m\u001b[0;34m[\u001b[0m\u001b[0mtpc\u001b[0m\u001b[0;34m]\u001b[0m\u001b[0;34m*\u001b[0m\u001b[0;36m1e-3\u001b[0m\u001b[0;34m\u001b[0m\u001b[0;34m\u001b[0m\u001b[0m\n",
      "\u001b[0;32m~/anaconda3/envs/my_root_env/lib/python3.8/site-packages/pandas/core/series.py\u001b[0m in \u001b[0;36mmap\u001b[0;34m(self, arg, na_action)\u001b[0m\n\u001b[1;32m   3968\u001b[0m         \u001b[0mdtype\u001b[0m\u001b[0;34m:\u001b[0m \u001b[0mobject\u001b[0m\u001b[0;34m\u001b[0m\u001b[0;34m\u001b[0m\u001b[0m\n\u001b[1;32m   3969\u001b[0m         \"\"\"\n\u001b[0;32m-> 3970\u001b[0;31m         \u001b[0mnew_values\u001b[0m \u001b[0;34m=\u001b[0m \u001b[0msuper\u001b[0m\u001b[0;34m(\u001b[0m\u001b[0;34m)\u001b[0m\u001b[0;34m.\u001b[0m\u001b[0m_map_values\u001b[0m\u001b[0;34m(\u001b[0m\u001b[0marg\u001b[0m\u001b[0;34m,\u001b[0m \u001b[0mna_action\u001b[0m\u001b[0;34m=\u001b[0m\u001b[0mna_action\u001b[0m\u001b[0;34m)\u001b[0m\u001b[0;34m\u001b[0m\u001b[0;34m\u001b[0m\u001b[0m\n\u001b[0m\u001b[1;32m   3971\u001b[0m         return self._constructor(new_values, index=self.index).__finalize__(\n\u001b[1;32m   3972\u001b[0m             \u001b[0mself\u001b[0m\u001b[0;34m,\u001b[0m \u001b[0mmethod\u001b[0m\u001b[0;34m=\u001b[0m\u001b[0;34m\"map\"\u001b[0m\u001b[0;34m\u001b[0m\u001b[0;34m\u001b[0m\u001b[0m\n",
      "\u001b[0;32m~/anaconda3/envs/my_root_env/lib/python3.8/site-packages/pandas/core/base.py\u001b[0m in \u001b[0;36m_map_values\u001b[0;34m(self, mapper, na_action)\u001b[0m\n\u001b[1;32m   1129\u001b[0m             \u001b[0mvalues\u001b[0m \u001b[0;34m=\u001b[0m \u001b[0mself\u001b[0m\u001b[0;34m.\u001b[0m\u001b[0m_values\u001b[0m\u001b[0;34m\u001b[0m\u001b[0;34m\u001b[0m\u001b[0m\n\u001b[1;32m   1130\u001b[0m \u001b[0;34m\u001b[0m\u001b[0m\n\u001b[0;32m-> 1131\u001b[0;31m             \u001b[0mindexer\u001b[0m \u001b[0;34m=\u001b[0m \u001b[0mmapper\u001b[0m\u001b[0;34m.\u001b[0m\u001b[0mindex\u001b[0m\u001b[0;34m.\u001b[0m\u001b[0mget_indexer\u001b[0m\u001b[0;34m(\u001b[0m\u001b[0mvalues\u001b[0m\u001b[0;34m)\u001b[0m\u001b[0;34m\u001b[0m\u001b[0;34m\u001b[0m\u001b[0m\n\u001b[0m\u001b[1;32m   1132\u001b[0m             \u001b[0mnew_values\u001b[0m \u001b[0;34m=\u001b[0m \u001b[0malgorithms\u001b[0m\u001b[0;34m.\u001b[0m\u001b[0mtake_1d\u001b[0m\u001b[0;34m(\u001b[0m\u001b[0mmapper\u001b[0m\u001b[0;34m.\u001b[0m\u001b[0m_values\u001b[0m\u001b[0;34m,\u001b[0m \u001b[0mindexer\u001b[0m\u001b[0;34m)\u001b[0m\u001b[0;34m\u001b[0m\u001b[0;34m\u001b[0m\u001b[0m\n\u001b[1;32m   1133\u001b[0m \u001b[0;34m\u001b[0m\u001b[0m\n",
      "\u001b[0;32m~/anaconda3/envs/my_root_env/lib/python3.8/site-packages/pandas/core/indexes/base.py\u001b[0m in \u001b[0;36mget_indexer\u001b[0;34m(self, target, method, limit, tolerance)\u001b[0m\n\u001b[1;32m   2954\u001b[0m     ) -> np.ndarray:\n\u001b[1;32m   2955\u001b[0m         \u001b[0mmethod\u001b[0m \u001b[0;34m=\u001b[0m \u001b[0mmissing\u001b[0m\u001b[0;34m.\u001b[0m\u001b[0mclean_reindex_fill_method\u001b[0m\u001b[0;34m(\u001b[0m\u001b[0mmethod\u001b[0m\u001b[0;34m)\u001b[0m\u001b[0;34m\u001b[0m\u001b[0;34m\u001b[0m\u001b[0m\n\u001b[0;32m-> 2956\u001b[0;31m         \u001b[0mtarget\u001b[0m \u001b[0;34m=\u001b[0m \u001b[0mensure_index\u001b[0m\u001b[0;34m(\u001b[0m\u001b[0mtarget\u001b[0m\u001b[0;34m)\u001b[0m\u001b[0;34m\u001b[0m\u001b[0;34m\u001b[0m\u001b[0m\n\u001b[0m\u001b[1;32m   2957\u001b[0m         \u001b[0;32mif\u001b[0m \u001b[0mtolerance\u001b[0m \u001b[0;32mis\u001b[0m \u001b[0;32mnot\u001b[0m \u001b[0;32mNone\u001b[0m\u001b[0;34m:\u001b[0m\u001b[0;34m\u001b[0m\u001b[0;34m\u001b[0m\u001b[0m\n\u001b[1;32m   2958\u001b[0m             \u001b[0mtolerance\u001b[0m \u001b[0;34m=\u001b[0m \u001b[0mself\u001b[0m\u001b[0;34m.\u001b[0m\u001b[0m_convert_tolerance\u001b[0m\u001b[0;34m(\u001b[0m\u001b[0mtolerance\u001b[0m\u001b[0;34m,\u001b[0m \u001b[0mtarget\u001b[0m\u001b[0;34m)\u001b[0m\u001b[0;34m\u001b[0m\u001b[0;34m\u001b[0m\u001b[0m\n",
      "\u001b[0;32m~/anaconda3/envs/my_root_env/lib/python3.8/site-packages/pandas/core/indexes/base.py\u001b[0m in \u001b[0;36mensure_index\u001b[0;34m(index_like, copy)\u001b[0m\n\u001b[1;32m   5610\u001b[0m             \u001b[0mindex_like\u001b[0m \u001b[0;34m=\u001b[0m \u001b[0mcopy_func\u001b[0m\u001b[0;34m(\u001b[0m\u001b[0mindex_like\u001b[0m\u001b[0;34m)\u001b[0m\u001b[0;34m\u001b[0m\u001b[0;34m\u001b[0m\u001b[0m\n\u001b[1;32m   5611\u001b[0m \u001b[0;34m\u001b[0m\u001b[0m\n\u001b[0;32m-> 5612\u001b[0;31m     \u001b[0;32mreturn\u001b[0m \u001b[0mIndex\u001b[0m\u001b[0;34m(\u001b[0m\u001b[0mindex_like\u001b[0m\u001b[0;34m)\u001b[0m\u001b[0;34m\u001b[0m\u001b[0;34m\u001b[0m\u001b[0m\n\u001b[0m\u001b[1;32m   5613\u001b[0m \u001b[0;34m\u001b[0m\u001b[0m\n\u001b[1;32m   5614\u001b[0m \u001b[0;34m\u001b[0m\u001b[0m\n",
      "\u001b[0;32m~/anaconda3/envs/my_root_env/lib/python3.8/site-packages/pandas/core/indexes/base.py\u001b[0m in \u001b[0;36m__new__\u001b[0;34m(cls, data, dtype, copy, name, tupleize_cols, **kwargs)\u001b[0m\n\u001b[1;32m    334\u001b[0m             \u001b[0;32mreturn\u001b[0m \u001b[0m_maybe_asobject\u001b[0m\u001b[0;34m(\u001b[0m\u001b[0mdtype\u001b[0m\u001b[0;34m,\u001b[0m \u001b[0mDatetimeIndex\u001b[0m\u001b[0;34m,\u001b[0m \u001b[0mdata\u001b[0m\u001b[0;34m,\u001b[0m \u001b[0mcopy\u001b[0m\u001b[0;34m,\u001b[0m \u001b[0mname\u001b[0m\u001b[0;34m,\u001b[0m \u001b[0;34m**\u001b[0m\u001b[0mkwargs\u001b[0m\u001b[0;34m)\u001b[0m\u001b[0;34m\u001b[0m\u001b[0;34m\u001b[0m\u001b[0m\n\u001b[1;32m    335\u001b[0m \u001b[0;34m\u001b[0m\u001b[0m\n\u001b[0;32m--> 336\u001b[0;31m         \u001b[0;32melif\u001b[0m \u001b[0mis_timedelta64_dtype\u001b[0m\u001b[0;34m(\u001b[0m\u001b[0mdata_dtype\u001b[0m\u001b[0;34m)\u001b[0m \u001b[0;32mor\u001b[0m \u001b[0mis_timedelta64_dtype\u001b[0m\u001b[0;34m(\u001b[0m\u001b[0mdtype\u001b[0m\u001b[0;34m)\u001b[0m\u001b[0;34m:\u001b[0m\u001b[0;34m\u001b[0m\u001b[0;34m\u001b[0m\u001b[0m\n\u001b[0m\u001b[1;32m    337\u001b[0m             \u001b[0;31m# Delay import for perf. https://github.com/pandas-dev/pandas/pull/31423\u001b[0m\u001b[0;34m\u001b[0m\u001b[0;34m\u001b[0m\u001b[0;34m\u001b[0m\u001b[0m\n\u001b[1;32m    338\u001b[0m             \u001b[0;32mfrom\u001b[0m \u001b[0mpandas\u001b[0m \u001b[0;32mimport\u001b[0m \u001b[0mTimedeltaIndex\u001b[0m\u001b[0;34m\u001b[0m\u001b[0;34m\u001b[0m\u001b[0m\n",
      "\u001b[0;32m~/anaconda3/envs/my_root_env/lib/python3.8/site-packages/pandas/core/dtypes/common.py\u001b[0m in \u001b[0;36mis_timedelta64_dtype\u001b[0;34m(arr_or_dtype)\u001b[0m\n\u001b[1;32m    451\u001b[0m         \u001b[0;32mreturn\u001b[0m \u001b[0marr_or_dtype\u001b[0m\u001b[0;34m.\u001b[0m\u001b[0mkind\u001b[0m \u001b[0;34m==\u001b[0m \u001b[0;34m\"m\"\u001b[0m\u001b[0;34m\u001b[0m\u001b[0;34m\u001b[0m\u001b[0m\n\u001b[1;32m    452\u001b[0m \u001b[0;34m\u001b[0m\u001b[0m\n\u001b[0;32m--> 453\u001b[0;31m     \u001b[0;32mreturn\u001b[0m \u001b[0m_is_dtype_type\u001b[0m\u001b[0;34m(\u001b[0m\u001b[0marr_or_dtype\u001b[0m\u001b[0;34m,\u001b[0m \u001b[0mclasses\u001b[0m\u001b[0;34m(\u001b[0m\u001b[0mnp\u001b[0m\u001b[0;34m.\u001b[0m\u001b[0mtimedelta64\u001b[0m\u001b[0;34m)\u001b[0m\u001b[0;34m)\u001b[0m\u001b[0;34m\u001b[0m\u001b[0;34m\u001b[0m\u001b[0m\n\u001b[0m\u001b[1;32m    454\u001b[0m \u001b[0;34m\u001b[0m\u001b[0m\n\u001b[1;32m    455\u001b[0m \u001b[0;34m\u001b[0m\u001b[0m\n",
      "\u001b[0;31mKeyboardInterrupt\u001b[0m: "
     ]
    }
   ],
   "source": [
    "uncorrected_recoils = t.calibrate_recoils(corrected_energy = True, corrected_length = 0)\n",
    "corrected_recoils = t.calibrate_recoils(corrected_energy = True, corrected_length = 0)\n",
    "#ekey = 'full_corrected_energy'\n",
    "#alphas = t.load_alphas()\n",
    "#corrected_recoils = alphas\n",
    "#ekey = 'track_energy'"
   ]
  },
  {
   "cell_type": "markdown",
   "metadata": {},
   "source": [
    "### To validate corrected lengths (skip to next header unless validating)"
   ]
  },
  {
   "cell_type": "code",
   "execution_count": 4,
   "metadata": {},
   "outputs": [
    {
     "ename": "NameError",
     "evalue": "name 'ekey' is not defined",
     "output_type": "error",
     "traceback": [
      "\u001b[0;31m---------------------------------------------------------------------------\u001b[0m",
      "\u001b[0;31mNameError\u001b[0m                                 Traceback (most recent call last)",
      "\u001b[0;32m<ipython-input-4-c7b352b8f916>\u001b[0m in \u001b[0;36m<module>\u001b[0;34m\u001b[0m\n\u001b[1;32m     31\u001b[0m     \u001b[0mytrack\u001b[0m \u001b[0;34m=\u001b[0m \u001b[0;34m[\u001b[0m\u001b[0;34m]\u001b[0m\u001b[0;34m\u001b[0m\u001b[0;34m\u001b[0m\u001b[0m\n\u001b[1;32m     32\u001b[0m     \u001b[0mztrack\u001b[0m \u001b[0;34m=\u001b[0m \u001b[0;34m[\u001b[0m\u001b[0;34m]\u001b[0m\u001b[0;34m\u001b[0m\u001b[0;34m\u001b[0m\u001b[0m\n\u001b[0;32m---> 33\u001b[0;31m     \u001b[0mcorrected_recoils\u001b[0m\u001b[0;34m[\u001b[0m\u001b[0mtpc\u001b[0m\u001b[0;34m]\u001b[0m \u001b[0;34m=\u001b[0m \u001b[0mcorrected_recoils\u001b[0m\u001b[0;34m[\u001b[0m\u001b[0mtpc\u001b[0m\u001b[0;34m]\u001b[0m\u001b[0;34m.\u001b[0m\u001b[0mloc\u001b[0m\u001b[0;34m[\u001b[0m\u001b[0mcorrected_recoils\u001b[0m\u001b[0;34m[\u001b[0m\u001b[0mtpc\u001b[0m\u001b[0;34m]\u001b[0m\u001b[0;34m[\u001b[0m\u001b[0mekey\u001b[0m\u001b[0;34m]\u001b[0m\u001b[0;34m>\u001b[0m\u001b[0;36m20\u001b[0m\u001b[0;34m]\u001b[0m\u001b[0;34m\u001b[0m\u001b[0;34m\u001b[0m\u001b[0m\n\u001b[0m\u001b[1;32m     34\u001b[0m     \u001b[0mcorrected_recoils\u001b[0m\u001b[0;34m[\u001b[0m\u001b[0mtpc\u001b[0m\u001b[0;34m]\u001b[0m\u001b[0;34m.\u001b[0m\u001b[0mindex\u001b[0m \u001b[0;34m=\u001b[0m \u001b[0;34m[\u001b[0m\u001b[0mi\u001b[0m \u001b[0;32mfor\u001b[0m \u001b[0mi\u001b[0m \u001b[0;32min\u001b[0m \u001b[0mrange\u001b[0m\u001b[0;34m(\u001b[0m\u001b[0;36m0\u001b[0m\u001b[0;34m,\u001b[0m\u001b[0mlen\u001b[0m\u001b[0;34m(\u001b[0m\u001b[0mcorrected_recoils\u001b[0m\u001b[0;34m[\u001b[0m\u001b[0mtpc\u001b[0m\u001b[0;34m]\u001b[0m\u001b[0;34m)\u001b[0m\u001b[0;34m)\u001b[0m\u001b[0;34m]\u001b[0m\u001b[0;34m\u001b[0m\u001b[0;34m\u001b[0m\u001b[0m\n\u001b[1;32m     35\u001b[0m     \u001b[0;32mfor\u001b[0m \u001b[0mi\u001b[0m \u001b[0;32min\u001b[0m \u001b[0mrange\u001b[0m\u001b[0;34m(\u001b[0m\u001b[0;36m0\u001b[0m\u001b[0;34m,\u001b[0m\u001b[0mlen\u001b[0m\u001b[0;34m(\u001b[0m\u001b[0mcorrected_recoils\u001b[0m\u001b[0;34m[\u001b[0m\u001b[0mtpc\u001b[0m\u001b[0;34m]\u001b[0m\u001b[0;34m)\u001b[0m\u001b[0;34m)\u001b[0m\u001b[0;34m:\u001b[0m\u001b[0;34m\u001b[0m\u001b[0;34m\u001b[0m\u001b[0m\n",
      "\u001b[0;31mNameError\u001b[0m: name 'ekey' is not defined"
     ]
    }
   ],
   "source": [
    "def add_track_coordinates(df, i):\n",
    "    x = df['x'].iloc[i]\n",
    "    y = df['y'].iloc[i]\n",
    "    z = df['z'].iloc[i]\n",
    "    data = np.concatenate((x[:, np.newaxis], y[:, np.newaxis], z[:, np.newaxis]), axis=1)\n",
    "    datamean = data.mean(axis = 0)\n",
    "    uu, dd, vv = np.linalg.svd(data-datamean)\n",
    "    xhat = TVector3(vv[0][0],vv[0][1],vv[0][2])\n",
    "    zhat = TVector3(0,0,1)\n",
    "    yhat = zhat.Cross(xhat).Unit()\n",
    "    zhat_track = xhat.Cross(yhat).Unit()\n",
    "    zhat = np.array([zhat.x(), zhat.y(), zhat.z()])\n",
    "    yhat = np.array([yhat.x(), yhat.y(), yhat.z()])\n",
    "    x_rel = x-x.mean()\n",
    "    y_rel = y-y.mean()\n",
    "    z_rel = z-z.mean()\n",
    "    x_track = np.dot([[x_rel[i],y_rel[i],z_rel[i]] for i in range(0,len(x))],[vv[0][0],vv[0][1],vv[0][2]])\n",
    "    y_track = np.dot([[x_rel[i],y_rel[i],z_rel[i]] for i in range(0,len(y))],yhat)\n",
    "    z_track = np.dot([[x_rel[i],y_rel[i],z_rel[i]] for i in range(0,len(z))],zhat)\n",
    "    \n",
    "        #y_track = np.array([TVector3(x_rel[i],y_rel[i],z_rel[i])*yhat for i in range(0,len(y))])\n",
    "    #data = np.concatenate((x_track[:, np.newaxis], y_track[:, np.newaxis], z[:, np.newaxis]), axis=1)\n",
    "    length = (x_track.max() - x_track.min())\n",
    "    width = (y_track.max() - y_track.min())\n",
    "    return x_track, y_track, z_track\n",
    "\n",
    "tpcs = corrected_recoils.keys()\n",
    "\n",
    "for tpc in tpcs:\n",
    "    xtrack = []\n",
    "    ytrack = []\n",
    "    ztrack = []\n",
    "    corrected_recoils[tpc] = corrected_recoils[tpc].loc[corrected_recoils[tpc][ekey]>20]\n",
    "    corrected_recoils[tpc].index = [i for i in range(0,len(corrected_recoils[tpc]))]\n",
    "    for i in range(0,len(corrected_recoils[tpc])):\n",
    "        xt, yt, zt = add_track_coordinates(corrected_recoils[tpc], i)\n",
    "        xtrack.append(xt)\n",
    "        ytrack.append(yt)\n",
    "        ztrack.append(zt)\n",
    "    corrected_recoils[tpc]['x_track'] = xtrack\n",
    "    corrected_recoils[tpc]['y_track'] = ytrack\n",
    "    corrected_recoils[tpc]['z_track'] = ztrack"
   ]
  },
  {
   "cell_type": "code",
   "execution_count": null,
   "metadata": {},
   "outputs": [],
   "source": [
    "test = corrected_recoils['iiwi'].loc[corrected_recoils['iiwi']['track_energy']>500].iloc[0]\n",
    "plt.scatter(test['x'], test['y_track'], c=test['tot'], cmap = 'viridis', vmin = 0, vmax = 13)\n",
    "plt.colorbar()\n",
    "plt.clf()\n",
    "#sort(pd.DataFrame(test['x'])[0].unique())\n",
    "df = pd.DataFrame()\n",
    "df['x'] = test['x']\n",
    "df['y_track'] = test['y_track']\n",
    "df['Q'] = test['pixel_charge']*np.cos(test['theta']*180/np.pi)\n",
    "df['tot'] = test['tot']\n",
    "df['z_track'] = test['z_track']\n",
    "df['z'] = test['z']\n",
    "plt.hist2d(df['y_track'],df['Q'], bins = (40,56), range = ((-1000,1000),(0,60000)))\n",
    "plt.colorbar()\n",
    "df['tot'].min()\n",
    "#for i in [df['x'].unique()[4]]:\n",
    "#    plt.plot(df.loc[df['x']==i]['y_track'],df.loc[df['x']==i]['z_track'],'o')\n",
    "df['Q'].max()"
   ]
  },
  {
   "cell_type": "code",
   "execution_count": null,
   "metadata": {},
   "outputs": [],
   "source": [
    "y = array.array('d', df['y_track'])\n",
    "q = array.array('d', df['Q'])\n",
    "h = ROOT.TH2D(\"h\", \"\", 40, -1000, 1000, 56, 0, 60000)\n",
    "for i in range(0,len(y)):\n",
    "    h.Fill(y[i],q[i])\n",
    "f = ROOT.TF1(\"f1\", \"[0]*exp(-x^2/(2*[1])^2)\", -1000, 1000)\n",
    "#f.SetParameters(h.GetMaximum(), h.GetRMS())\n",
    "max = df['Q'].max()\n",
    "f.SetParLimits(0,28000,50000)\n",
    "f.SetParLimits(1, 200, 300)\n",
    "h.Fit(f, \"B\")\n",
    "c = ROOT.TCanvas(\"myCanvasName\",\"The Canvas Title\",600,400)\n",
    "h.GetYaxis().SetTitle('Q')\n",
    "h.GetXaxis().SetTitle('y_track')\n",
    "h.Draw('COLZ')\n",
    "c.Draw()\n",
    "f.GetParameters()[0]"
   ]
  },
  {
   "cell_type": "code",
   "execution_count": null,
   "metadata": {},
   "outputs": [],
   "source": [
    "import matplotlib.pyplot as plt\n",
    "import mpl_toolkits.mplot3d as m3d\n",
    "def plot(df, i):\n",
    "    x = df.loc[df['track_energy'] > 20]['x'].iloc[i]\n",
    "    y = df.loc[df['track_energy'] > 20]['y'].iloc[i]\n",
    "    z = df.loc[df['track_energy'] > 20]['z'].iloc[i]\n",
    "    c = df.loc[df['track_energy'] > 20]['tot'].iloc[i]\n",
    "    data = np.concatenate((x[:, np.newaxis], y[:, np.newaxis], z[:, np.newaxis]), axis=1)\n",
    "    datamean = data.mean(axis = 0)\n",
    "    uu, dd, vv = np.linalg.svd(data-datamean)\n",
    "    xhat = TVector3(vv[0][0],vv[0][1],vv[0][2])\n",
    "    zhat = TVector3(0,0,1)\n",
    "    yhat = zhat.Cross(xhat).Unit()\n",
    "    yhat = np.array([yhat.x(), yhat.y(), yhat.z()])\n",
    "    x_rel = x-x.mean()\n",
    "    y_rel = y-y.mean()\n",
    "    z_rel = z-z.mean()\n",
    "    x_track = np.dot([[x_rel[i],y_rel[i],z_rel[i]] for i in range(0,len(x))],[vv[0][0],vv[0][1],vv[0][2]])\n",
    "    y_track = np.dot([[x_rel[i],y_rel[i],z_rel[i]] for i in range(0,len(y))],yhat)\n",
    "        #y_track = np.array([TVector3(x_rel[i],y_rel[i],z_rel[i])*yhat for i in range(0,len(y))])\n",
    "    #data = np.concatenate((x_track[:, np.newaxis], y_track[:, np.newaxis], z[:, np.newaxis]), axis=1)\n",
    "    length = (x_track.max() - x_track.min())\n",
    "    width = (y_track.max() - y_track.min())\n",
    "    width2 = 1/np.sqrt(len(y_track))*np.sqrt(np.sum(y_track**2))\n",
    "    #if width > length:\n",
    "    #    clength = width\n",
    "    #else:\n",
    "    #    clength = np.abs(length-0.5*width)\n",
    "    clength = np.abs(length-width)\n",
    "    clength2 = np.abs(length-width2)\n",
    "    linepts = vv[0] * np.mgrid[-length/2:length/2:2j][:, np.newaxis]\n",
    "    widthpts = yhat * np.mgrid[-width/2:width/2:2j][:, np.newaxis]\n",
    "    clinepts = vv[0] * np.mgrid[-clength/2:clength/2:2j][:, np.newaxis]\n",
    "    clinepts2 = vv[0] * np.mgrid[clength2/2:-clength2/2:2j][:, np.newaxis]\n",
    "    linepts += datamean\n",
    "    widthpts += datamean\n",
    "    clinepts += datamean\n",
    "    clinepts2 += datamean\n",
    "    fig = plt.figure(figsize=(12,4))\n",
    "    ax = fig.add_subplot(1, 2, 1, projection='3d')\n",
    "    p = ax.scatter3D(*data.T, c=c, cmap = 'viridis')\n",
    "    ax.plot3D(*linepts.T, color = 'red', label = 'length')\n",
    "    ax.plot3D(*widthpts.T, color = 'blue', label = 'width')\n",
    "    ax.plot3D(*clinepts.T, color = 'magenta', label = 'corrected_length', linewidth=8)\n",
    "    ax.set_xlabel('x')\n",
    "    ax.set_ylabel('y')\n",
    "    ax.set_zlabel('z')\n",
    "    #ax.set_xlim(0,20000)\n",
    "    #ax.set_ylim(0,18000)\n",
    "    fig.colorbar(p, ax=ax, label = 'ToT')\n",
    "    ax.legend()\n",
    "    ax1 = fig.add_subplot(1, 2, 2, projection='3d')\n",
    "    p = ax1.scatter3D(*data.T, c=c, cmap = 'viridis')\n",
    "    ax1.plot3D(*linepts.T, color = 'red', label = 'length')\n",
    "    ax1.plot3D(*widthpts.T, color = 'blue', label = 'width')\n",
    "    ax1.plot3D(*clinepts2.T, color = 'magenta', label = 'corrected_length', linewidth=8)\n",
    "    ax1.set_xlabel('x')\n",
    "    ax1.set_ylabel('y')\n",
    "    ax1.set_zlabel('z')\n",
    "    #ax1.set_xlim(0,20000)\n",
    "    #ax1.set_ylim(0,18000)\n",
    "    fig.colorbar(p, ax=ax1, label = 'ToT')\n",
    "    ax.legend()\n",
    "    fig.tight_layout()\n",
    "    #print(length, clength, clength2)\n",
    "    plt.show()\n",
    "    print(df['theta'].iloc[i])\n",
    "for i in range(0,20):\n",
    "    plot(corrected_recoils['tako'], i)"
   ]
  },
  {
   "cell_type": "code",
   "execution_count": null,
   "metadata": {},
   "outputs": [],
   "source": []
  },
  {
   "cell_type": "markdown",
   "metadata": {},
   "source": [
    "### Visualize EvL for 4 TPCs with clean bands"
   ]
  },
  {
   "cell_type": "code",
   "execution_count": null,
   "metadata": {},
   "outputs": [],
   "source": [
    "fig = plt.figure(figsize = (6,5))\n",
    "for tpc in ['tako']:\n",
    "    plt.rc('xtick', labelsize=14)\n",
    "    plt.rc('ytick', labelsize=14)\n",
    "    plt.rc('axes', labelsize=16)\n",
    "    plt.rc('axes', titlesize=16)\n",
    "    x_plt = np.linspace(0,20000,20001)\n",
    "    x_plt1 = np.linspace(0,760,751)\n",
    "    x_plt2 = np.linspace(760,20000,19251)\n",
    "    x = np.array([1700, 2500, 10000])\n",
    "    ymin = np.array([28, 50, 550])\n",
    "    ymax = np.array([50, 95, 900])\n",
    "    cut_min2 = np.polyfit(x,ymin, 2)\n",
    "    cut_max2 = np.polyfit(x, ymax, 2)\n",
    "    #plt.subplot(2,1,1)\n",
    "    index = corrected_recoils[tpc].loc[(corrected_recoils[tpc]['full_corrected_energy'] > (cut_min2[0]*corrected_recoils[tpc]['length']**2 + cut_min2[1]*corrected_recoils[tpc]['length']+cut_min2[2]))&(corrected_recoils[tpc]['full_corrected_energy'] > 10)].index.to_numpy()\n",
    "    plt.plot(corrected_recoils[tpc]['length'], corrected_recoils[tpc]['full_corrected_energy'], 'o', markersize = 0.5, alpha = 0.1, label = 'background', color = 'tab:orange')\n",
    "    plt.plot(corrected_recoils[tpc]['length'][index], corrected_recoils[tpc]['full_corrected_energy'][index], 'o', markersize = 0.5, label = 'selected recoils', color = 'tab:blue')\n",
    "    plt.plot(x_plt1, [10 for i in x_plt1], '--', color = 'magenta', linewidth = 2, alpha = 0.6)\n",
    "    plt.plot(x_plt2, cut_min2[0]*x_plt2**2+cut_min2[1]*x_plt2+cut_min2[2], '--', color = 'magenta', linewidth = 2, alpha = 0.6, label = 'Recoil cutoff region')\n",
    "    custom_lines = [Line2D([0], [0], marker='o', color='tab:blue', label='Selected recoils', markersize=4, markerfacecolor='tab:blue', linewidth = 0),Line2D([0], [0], marker='o', color='tab:orange', label='Rejected background', markersize=4, markerfacecolor='tab:orange', linewidth = 0), Line2D([0], '--', color='magenta', label='Recoil cutoff region', linewidth = 2)]\n",
    "    plt.legend(handles = custom_lines)\n",
    "    #plt.title('All events')\n",
    "    plt.ylim(0,1000)\n",
    "    plt.xlim(0,10000)\n",
    "    plt.xlabel(r'Length [$\\mu$m]')\n",
    "    plt.ylabel('E [keV]')\n",
    "    plt.subplot(1,1,1)\n",
    "    plt.plot(corrected_recoils[tpc]['length'], corrected_recoils[tpc]['full_corrected_energy'], 'o', markersize = 0.5, alpha = 0.1, label = 'background', color = 'tab:orange')\n",
    "    plt.plot(corrected_recoils[tpc]['length'][index], corrected_recoils[tpc]['full_corrected_energy'][index], 'o', markersize = 0.5, label = 'Selected recoils', color = 'tab:blue')\n",
    "    plt.plot(x_plt1, [10 for i in x_plt1], '--', color = 'magenta', linewidth = 2, alpha = 0.6)\n",
    "    plt.plot(x_plt2, cut_min2[0]*x_plt2**2+cut_min2[1]*x_plt2+cut_min2[2], '--', color = 'magenta', linewidth = 2, alpha = 0.6, label = 'Recoil cutoff region')\n",
    "    plt.legend(handles = custom_lines)\n",
    "    #plt.title('Zoomed in')\n",
    "    plt.ylim(0,200)\n",
    "    plt.xlim(0,4000)\n",
    "    plt.xlabel(r'Length [$\\mu$m]')\n",
    "    plt.ylabel('E [keV]')\n",
    "    plt.tight_layout()\n",
    "#plt.savefig('EvL_cuts_zoom.png')\n",
    "plt.show()"
   ]
  },
  {
   "cell_type": "code",
   "execution_count": null,
   "metadata": {},
   "outputs": [],
   "source": [
    "i = 1\n",
    "fig = plt.figure(figsize = (10,20))\n",
    "for tpc in ['iiwi', 'humu', 'nene', 'tako', 'palila', 'elepaio']:\n",
    "    x_plt = np.linspace(0,20000,20001)\n",
    "    plt.subplot(6,2,i)\n",
    "    x = np.array([1700, 2500, 10000])\n",
    "    ymin = np.array([18, 40, 400])\n",
    "    ymax = np.array([40, 85, 700])\n",
    "    cut_min = np.polyfit(x,ymin, 2)\n",
    "    cut_max = np.polyfit(x, ymax, 2)\n",
    "    plt.plot(uncorrected_recoils[tpc]['length'], uncorrected_recoils[tpc]['track_energy'], 'o', markersize = 1, alpha = 0.2, label = 'data')\n",
    "    plt.fill_between(x_plt, cut_min[0]*x_plt**2+cut_min[1]*x_plt+cut_min[2], cut_max[0]*x_plt**2+cut_max[1]*x_plt+cut_max[2], color = 'magenta', linewidth = 2, alpha = 0.15, label = 'He recoil training region')\n",
    "    plt.ylim(0,1000)\n",
    "    plt.xlim(0,20000)\n",
    "    plt.xlabel(r'Length [$\\mu$m]')\n",
    "    plt.ylabel('E [keV]')\n",
    "    plt.rc('legend', fontsize=12)\n",
    "    plt.rc('xtick', labelsize=16)\n",
    "    plt.rc('ytick', labelsize=16)\n",
    "    plt.rc('axes', labelsize=18)\n",
    "    plt.rc('axes', titlesize=18)\n",
    "    plt.title('%s Uncorrected energy vs length'%(tpc.upper()))\n",
    "    plt.title('Uncorrected energy')\n",
    "    custom_lines = [Line2D([0], [0], marker='o', color='tab:blue', label='Data', markersize=4, markerfacecolor='tab:blue', linewidth = 0),\n",
    "                    Patch(color='magenta', linewidth = 2,\n",
    "                         label='He recoil training region', alpha = 0.3)]\n",
    "    #plt.legend(handles = custom_lines)\n",
    "    plt.subplot(6,2,i+1)\n",
    "    if tpc == 'humu':\n",
    "        ymin = np.array([16, 24, 200])\n",
    "        print(np.polyfit(x,ymin, 2))\n",
    "    else:\n",
    "        ymin = np.array([28, 50, 550])\n",
    "    ymax = np.array([50, 95, 900])\n",
    "    cut_min2 = np.polyfit(x,ymin, 2)\n",
    "    cut_max2 = np.polyfit(x, ymax, 2)\n",
    "    plt.plot(corrected_recoils[tpc]['length'], corrected_recoils[tpc]['full_corrected_energy'], 'o', markersize = 1, alpha = 0.2, label = 'data')\n",
    "    plt.fill_between(x_plt, cut_min2[0]*x_plt**2+cut_min2[1]*x_plt+cut_min2[2], cut_max2[0]*x_plt**2+cut_max2[1]*x_plt+cut_max2[2], color = 'magenta', linewidth = 2, alpha = 0.15, label = 'He recoil training region')\n",
    "    plt.ylim(0,1000)\n",
    "    plt.xlim(0,10000)\n",
    "    plt.title('%s Corrected energy vs length'%(tpc.upper()))\n",
    "    plt.title('Corrected Energy')\n",
    "    plt.xlabel(r'Length [$\\mu$m]')\n",
    "    plt.ylabel('E [keV]')\n",
    "    plt.rc('xtick', labelsize=16)\n",
    "    plt.rc('ytick', labelsize=16)\n",
    "    plt.rc('axes', labelsize=18)\n",
    "    plt.rc('axes', titlesize=18)\n",
    "    #custom_lines = [Line2D([0], [0], marker='o', color='tab:blue', label='Data', markersize=4, markerfacecolor='tab:blue', linewidth = 0),Patch(color='magenta', linewidth = 2,label='He recoil training region', alpha = 0.3)]\n",
    "    #plt.legend(handles = custom_lines)\n",
    "    plt.tight_layout()\n",
    "    i+=2\n",
    "#plt.savefig('EvL_cuts_zoom.png')\n",
    "plt.show()"
   ]
  },
  {
   "cell_type": "markdown",
   "metadata": {},
   "source": [
    "### Apply He recoil band preliminary cuts (to train double gaussian fitter)"
   ]
  },
  {
   "cell_type": "code",
   "execution_count": 7,
   "metadata": {},
   "outputs": [],
   "source": [
    "def apply_He_band_cuts(df, ecor = 'corrected'): #Cuts to train double Gaussian fit\n",
    "    if ecor != 'corrected':\n",
    "        #cut_min = np.array([ 5.51204819e-06, -6.90060241e-03,  1.78012048e+01])\n",
    "        #cut_max = np.array([ 4.70883534e-06,  3.64728916e-02, -3.56124498e+01])\n",
    "        cut_min = np.array([ 2.46987952e-06,  1.71265060e-02, -1.82530120e+01])\n",
    "        cut_max = np.array([ 3.10240964e-06,  4.32198795e-02, -4.24397590e+01])\n",
    "        ekey = 'track_energy'\n",
    "        df = df.loc[df[ekey]>8]\n",
    "    else:\n",
    "        #cut_min = np.array([ 4.26706827e-06,  1.33283133e-02, -9.98995984e+00])\n",
    "        #cut_max = np.array([ 5.38152610e-06,  2.73975904e-02, -1.21285141e+01])\n",
    "        cut_min = np.array([4.71887550e-06, 7.68072289e-03, 1.30522088e+00])\n",
    "        cut_max = np.array([ 6.15461847e-06,  3.04006024e-02, -1.94678715e+01])\n",
    "        ekey = 'full_corrected_energy'\n",
    "        df = df.loc[df[ekey]>10]\n",
    "    df_red = df.loc[(df[ekey] > (cut_min[0]*df['length']**2 + cut_min[1]*df['length']+cut_min[2]))\n",
    "                        & (df[ekey]<(cut_max[0]*df['length']**2  +cut_max[1]*df['length']+cut_max[2]))]\n",
    "    df = df.loc[df[ekey] > (cut_min[0]*df['length']**2 + cut_min[1]*df['length']+cut_min[2])]\n",
    "    return df, df_red\n",
    "\n",
    "uncorrected_red = {}\n",
    "corrected_red = {}\n",
    "tpcs = corrected_recoils.keys()\n",
    "for tpc in tpcs:\n",
    "    uncorrected_recoils[tpc], uncorrected_red[tpc] = apply_He_band_cuts(corrected_recoils[tpc], ecor = 'uncorrected')\n",
    "    corrected_recoils[tpc], corrected_red[tpc] = apply_He_band_cuts(corrected_recoils[tpc], ecor = 'corrected')"
   ]
  },
  {
   "cell_type": "markdown",
   "metadata": {},
   "source": [
    "### Updated paper plots"
   ]
  },
  {
   "cell_type": "code",
   "execution_count": 29,
   "metadata": {},
   "outputs": [
    {
     "name": "stdout",
     "output_type": "stream",
     "text": [
      "[1.62248996e-06 3.18554217e-03 5.89558233e+00]\n"
     ]
    },
    {
     "data": {
      "image/png": "[encoded data removed]",
      "text/plain": [
       "<Figure size 720x1440 with 24 Axes>"
      ]
     },
     "metadata": {
      "needs_background": "light"
     },
     "output_type": "display_data"
    }
   ],
   "source": [
    "import matplotlib\n",
    "i = 1\n",
    "fig = plt.figure(figsize = (10,20))\n",
    "cmap = plt.cm.viridis\n",
    "cmap.set_under(color='white')\n",
    "#vmin = 0.1\n",
    "xm = 10000\n",
    "ym = 400\n",
    "nbinsx = 100\n",
    "nbinsy = 60\n",
    "h = {}\n",
    "image = {}\n",
    "for tpc in ['iiwi', 'humu', 'nene', 'tako', 'palila', 'elepaio']:\n",
    "    x_plt = np.linspace(0,20000,20001)\n",
    "    plt.subplot(6,2,i)\n",
    "    x = np.array([1700, 2500, 10000])\n",
    "    ymin = np.array([18, 40, 400])\n",
    "    ymax = np.array([40, 85, 700])\n",
    "    cut_min = np.polyfit(x,ymin, 2)\n",
    "    cut_max = np.polyfit(x, ymax, 2)\n",
    "    h[tpc+'_uncor'], xedges, yedges, image[tpc+'_uncor'] = plt.hist2d(uncorrected_recoils[tpc]['length'], uncorrected_recoils[tpc]['track_energy'], bins = (nbinsx,nbinsy), range = ((0,xm),(0,ym)), norm = matplotlib.colors.LogNorm(vmin=1, vmax=1000))\n",
    "    #plt.fill_between(x_plt, cut_min[0]*x_plt**2+cut_min[1]*x_plt+cut_min[2], cut_max[0]*x_plt**2+cut_max[1]*x_plt+cut_max[2], color = 'magenta', linewidth = 2, alpha = 0.15, label = 'He recoil training region')\n",
    "    plt.ylim(0,ym)\n",
    "    plt.xlim(0,xm)\n",
    "    plt.xlabel(r'Length [$\\mu$m]')\n",
    "    plt.ylabel('E [keV]')\n",
    "    plt.rc('legend', fontsize=12)\n",
    "    plt.rc('xtick', labelsize=16)\n",
    "    plt.rc('ytick', labelsize=16)\n",
    "    plt.rc('axes', labelsize=18)\n",
    "    plt.rc('axes', titlesize=18)\n",
    "    plt.title('%s Uncorrected energy vs length'%(tpc.upper()))\n",
    "    plt.title('Uncorrected energy')\n",
    "    custom_lines = [Line2D([0], [0], marker='o', color='tab:blue', label='Data', markersize=4, markerfacecolor='tab:blue', linewidth = 0),\n",
    "                    Patch(color='magenta', linewidth = 2,\n",
    "                         label='He recoil training region', alpha = 0.3)]\n",
    "    #plt.legend(handles = custom_lines)\n",
    "    plt.colorbar()\n",
    "    plt.subplot(6,2,i+1)\n",
    "    if tpc == 'humu':\n",
    "        ymin = np.array([16, 24, 200])\n",
    "        print(np.polyfit(x,ymin, 2))\n",
    "    else:\n",
    "        ymin = np.array([28, 50, 550])\n",
    "    ymax = np.array([50, 95, 900])\n",
    "    cut_min2 = np.polyfit(x,ymin, 2)\n",
    "    cut_max2 = np.polyfit(x, ymax, 2)\n",
    "    h[tpc+'_cor'], xedges, yedges, image[tpc+'_cor'] = plt.hist2d(corrected_recoils[tpc]['length'], corrected_recoils[tpc]['full_corrected_energy'], bins = (nbinsx,nbinsy), range = ((0,xm),(0,ym)), norm = matplotlib.colors.LogNorm(vmin=1, vmax=1000))\n",
    "    #plt.fill_between(x_plt, cut_min2[0]*x_plt**2+cut_min2[1]*x_plt+cut_min2[2], cut_max2[0]*x_plt**2+cut_max2[1]*x_plt+cut_max2[2], color = 'magenta', linewidth = 2, alpha = 0.15, label = 'He recoil training region')\n",
    "    plt.ylim(0,ym)\n",
    "    plt.xlim(0,xm)\n",
    "    plt.title('%s Corrected energy vs length'%(tpc.upper()))\n",
    "    plt.title('Corrected Energy')\n",
    "    plt.xlabel(r'Length [$\\mu$m]')\n",
    "    plt.ylabel('E [keV]')\n",
    "    plt.rc('xtick', labelsize=16)\n",
    "    plt.rc('ytick', labelsize=16)\n",
    "    plt.rc('axes', labelsize=18)\n",
    "    plt.rc('axes', titlesize=18)\n",
    "    #custom_lines = [Line2D([0], [0], marker='o', color='tab:blue', label='Data', markersize=4, markerfacecolor='tab:blue', linewidth = 0),Patch(color='magenta', linewidth = 2,label='He recoil training region', alpha = 0.3)]\n",
    "    #plt.legend(handles = custom_lines)\n",
    "    plt.colorbar()\n",
    "    plt.tight_layout()\n",
    "    i+=2\n",
    "#plt.savefig('EvL_cuts_zoom.png')\n",
    "plt.show()"
   ]
  },
  {
   "cell_type": "code",
   "execution_count": 38,
   "metadata": {},
   "outputs": [
    {
     "name": "stderr",
     "output_type": "stream",
     "text": [
      "/usr/local/lib/python3.7/site-packages/scipy/optimize/minpack.py:794: OptimizeWarning: Covariance of the parameters could not be estimated\n",
      "  category=OptimizeWarning)\n",
      "/usr/local/lib/python3.7/site-packages/scipy/optimize/minpack.py:794: OptimizeWarning: Covariance of the parameters could not be estimated\n",
      "  category=OptimizeWarning)\n",
      "/usr/local/lib/python3.7/site-packages/ipykernel_launcher.py:16: RuntimeWarning: More than 20 figures have been opened. Figures created through the pyplot interface (`matplotlib.pyplot.figure`) are retained until explicitly closed and may consume too much memory. (To control this warning, see the rcParam `figure.max_open_warning`).\n",
      "  app.launch_new_instance()\n",
      "/usr/local/lib/python3.7/site-packages/ipykernel_launcher.py:16: RuntimeWarning: More than 20 figures have been opened. Figures created through the pyplot interface (`matplotlib.pyplot.figure`) are retained until explicitly closed and may consume too much memory. (To control this warning, see the rcParam `figure.max_open_warning`).\n",
      "  app.launch_new_instance()\n",
      "/usr/local/lib/python3.7/site-packages/ipykernel_launcher.py:16: RuntimeWarning: More than 20 figures have been opened. Figures created through the pyplot interface (`matplotlib.pyplot.figure`) are retained until explicitly closed and may consume too much memory. (To control this warning, see the rcParam `figure.max_open_warning`).\n",
      "  app.launch_new_instance()\n",
      "/usr/local/lib/python3.7/site-packages/ipykernel_launcher.py:16: RuntimeWarning: More than 20 figures have been opened. Figures created through the pyplot interface (`matplotlib.pyplot.figure`) are retained until explicitly closed and may consume too much memory. (To control this warning, see the rcParam `figure.max_open_warning`).\n",
      "  app.launch_new_instance()\n",
      "/usr/local/lib/python3.7/site-packages/ipykernel_launcher.py:16: RuntimeWarning: More than 20 figures have been opened. Figures created through the pyplot interface (`matplotlib.pyplot.figure`) are retained until explicitly closed and may consume too much memory. (To control this warning, see the rcParam `figure.max_open_warning`).\n",
      "  app.launch_new_instance()\n",
      "/usr/local/lib/python3.7/site-packages/ipykernel_launcher.py:16: RuntimeWarning: More than 20 figures have been opened. Figures created through the pyplot interface (`matplotlib.pyplot.figure`) are retained until explicitly closed and may consume too much memory. (To control this warning, see the rcParam `figure.max_open_warning`).\n",
      "  app.launch_new_instance()\n",
      "/usr/local/lib/python3.7/site-packages/ipykernel_launcher.py:16: RuntimeWarning: More than 20 figures have been opened. Figures created through the pyplot interface (`matplotlib.pyplot.figure`) are retained until explicitly closed and may consume too much memory. (To control this warning, see the rcParam `figure.max_open_warning`).\n",
      "  app.launch_new_instance()\n",
      "/usr/local/lib/python3.7/site-packages/ipykernel_launcher.py:16: RuntimeWarning: More than 20 figures have been opened. Figures created through the pyplot interface (`matplotlib.pyplot.figure`) are retained until explicitly closed and may consume too much memory. (To control this warning, see the rcParam `figure.max_open_warning`).\n",
      "  app.launch_new_instance()\n",
      "/usr/local/lib/python3.7/site-packages/ipykernel_launcher.py:16: RuntimeWarning: More than 20 figures have been opened. Figures created through the pyplot interface (`matplotlib.pyplot.figure`) are retained until explicitly closed and may consume too much memory. (To control this warning, see the rcParam `figure.max_open_warning`).\n",
      "  app.launch_new_instance()\n",
      "/usr/local/lib/python3.7/site-packages/ipykernel_launcher.py:16: RuntimeWarning: More than 20 figures have been opened. Figures created through the pyplot interface (`matplotlib.pyplot.figure`) are retained until explicitly closed and may consume too much memory. (To control this warning, see the rcParam `figure.max_open_warning`).\n",
      "  app.launch_new_instance()\n",
      "/usr/local/lib/python3.7/site-packages/ipykernel_launcher.py:16: RuntimeWarning: More than 20 figures have been opened. Figures created through the pyplot interface (`matplotlib.pyplot.figure`) are retained until explicitly closed and may consume too much memory. (To control this warning, see the rcParam `figure.max_open_warning`).\n",
      "  app.launch_new_instance()\n",
      "/usr/local/lib/python3.7/site-packages/ipykernel_launcher.py:16: RuntimeWarning: More than 20 figures have been opened. Figures created through the pyplot interface (`matplotlib.pyplot.figure`) are retained until explicitly closed and may consume too much memory. (To control this warning, see the rcParam `figure.max_open_warning`).\n",
      "  app.launch_new_instance()\n",
      "/usr/local/lib/python3.7/site-packages/ipykernel_launcher.py:16: RuntimeWarning: More than 20 figures have been opened. Figures created through the pyplot interface (`matplotlib.pyplot.figure`) are retained until explicitly closed and may consume too much memory. (To control this warning, see the rcParam `figure.max_open_warning`).\n",
      "  app.launch_new_instance()\n",
      "/usr/local/lib/python3.7/site-packages/ipykernel_launcher.py:16: RuntimeWarning: More than 20 figures have been opened. Figures created through the pyplot interface (`matplotlib.pyplot.figure`) are retained until explicitly closed and may consume too much memory. (To control this warning, see the rcParam `figure.max_open_warning`).\n",
      "  app.launch_new_instance()\n",
      "/usr/local/lib/python3.7/site-packages/ipykernel_launcher.py:16: RuntimeWarning: More than 20 figures have been opened. Figures created through the pyplot interface (`matplotlib.pyplot.figure`) are retained until explicitly closed and may consume too much memory. (To control this warning, see the rcParam `figure.max_open_warning`).\n",
      "  app.launch_new_instance()\n",
      "/usr/local/lib/python3.7/site-packages/ipykernel_launcher.py:16: RuntimeWarning: More than 20 figures have been opened. Figures created through the pyplot interface (`matplotlib.pyplot.figure`) are retained until explicitly closed and may consume too much memory. (To control this warning, see the rcParam `figure.max_open_warning`).\n",
      "  app.launch_new_instance()\n",
      "/usr/local/lib/python3.7/site-packages/ipykernel_launcher.py:16: RuntimeWarning: More than 20 figures have been opened. Figures created through the pyplot interface (`matplotlib.pyplot.figure`) are retained until explicitly closed and may consume too much memory. (To control this warning, see the rcParam `figure.max_open_warning`).\n",
      "  app.launch_new_instance()\n",
      "/usr/local/lib/python3.7/site-packages/ipykernel_launcher.py:16: RuntimeWarning: More than 20 figures have been opened. Figures created through the pyplot interface (`matplotlib.pyplot.figure`) are retained until explicitly closed and may consume too much memory. (To control this warning, see the rcParam `figure.max_open_warning`).\n",
      "  app.launch_new_instance()\n",
      "/usr/local/lib/python3.7/site-packages/ipykernel_launcher.py:16: RuntimeWarning: More than 20 figures have been opened. Figures created through the pyplot interface (`matplotlib.pyplot.figure`) are retained until explicitly closed and may consume too much memory. (To control this warning, see the rcParam `figure.max_open_warning`).\n",
      "  app.launch_new_instance()\n",
      "/usr/local/lib/python3.7/site-packages/ipykernel_launcher.py:16: RuntimeWarning: More than 20 figures have been opened. Figures created through the pyplot interface (`matplotlib.pyplot.figure`) are retained until explicitly closed and may consume too much memory. (To control this warning, see the rcParam `figure.max_open_warning`).\n",
      "  app.launch_new_instance()\n",
      "/usr/local/lib/python3.7/site-packages/ipykernel_launcher.py:16: RuntimeWarning: More than 20 figures have been opened. Figures created through the pyplot interface (`matplotlib.pyplot.figure`) are retained until explicitly closed and may consume too much memory. (To control this warning, see the rcParam `figure.max_open_warning`).\n",
      "  app.launch_new_instance()\n",
      "/usr/local/lib/python3.7/site-packages/ipykernel_launcher.py:16: RuntimeWarning: More than 20 figures have been opened. Figures created through the pyplot interface (`matplotlib.pyplot.figure`) are retained until explicitly closed and may consume too much memory. (To control this warning, see the rcParam `figure.max_open_warning`).\n",
      "  app.launch_new_instance()\n"
     ]
    },
    {
     "name": "stderr",
     "output_type": "stream",
     "text": [
      "/usr/local/lib/python3.7/site-packages/ipykernel_launcher.py:16: RuntimeWarning: More than 20 figures have been opened. Figures created through the pyplot interface (`matplotlib.pyplot.figure`) are retained until explicitly closed and may consume too much memory. (To control this warning, see the rcParam `figure.max_open_warning`).\n",
      "  app.launch_new_instance()\n",
      "/usr/local/lib/python3.7/site-packages/ipykernel_launcher.py:16: RuntimeWarning: More than 20 figures have been opened. Figures created through the pyplot interface (`matplotlib.pyplot.figure`) are retained until explicitly closed and may consume too much memory. (To control this warning, see the rcParam `figure.max_open_warning`).\n",
      "  app.launch_new_instance()\n",
      "/usr/local/lib/python3.7/site-packages/ipykernel_launcher.py:16: RuntimeWarning: More than 20 figures have been opened. Figures created through the pyplot interface (`matplotlib.pyplot.figure`) are retained until explicitly closed and may consume too much memory. (To control this warning, see the rcParam `figure.max_open_warning`).\n",
      "  app.launch_new_instance()\n",
      "/usr/local/lib/python3.7/site-packages/ipykernel_launcher.py:16: RuntimeWarning: More than 20 figures have been opened. Figures created through the pyplot interface (`matplotlib.pyplot.figure`) are retained until explicitly closed and may consume too much memory. (To control this warning, see the rcParam `figure.max_open_warning`).\n",
      "  app.launch_new_instance()\n",
      "/usr/local/lib/python3.7/site-packages/ipykernel_launcher.py:16: RuntimeWarning: More than 20 figures have been opened. Figures created through the pyplot interface (`matplotlib.pyplot.figure`) are retained until explicitly closed and may consume too much memory. (To control this warning, see the rcParam `figure.max_open_warning`).\n",
      "  app.launch_new_instance()\n",
      "/usr/local/lib/python3.7/site-packages/ipykernel_launcher.py:16: RuntimeWarning: More than 20 figures have been opened. Figures created through the pyplot interface (`matplotlib.pyplot.figure`) are retained until explicitly closed and may consume too much memory. (To control this warning, see the rcParam `figure.max_open_warning`).\n",
      "  app.launch_new_instance()\n",
      "/usr/local/lib/python3.7/site-packages/ipykernel_launcher.py:16: RuntimeWarning: More than 20 figures have been opened. Figures created through the pyplot interface (`matplotlib.pyplot.figure`) are retained until explicitly closed and may consume too much memory. (To control this warning, see the rcParam `figure.max_open_warning`).\n",
      "  app.launch_new_instance()\n",
      "/usr/local/lib/python3.7/site-packages/ipykernel_launcher.py:16: RuntimeWarning: More than 20 figures have been opened. Figures created through the pyplot interface (`matplotlib.pyplot.figure`) are retained until explicitly closed and may consume too much memory. (To control this warning, see the rcParam `figure.max_open_warning`).\n",
      "  app.launch_new_instance()\n",
      "/usr/local/lib/python3.7/site-packages/ipykernel_launcher.py:16: RuntimeWarning: More than 20 figures have been opened. Figures created through the pyplot interface (`matplotlib.pyplot.figure`) are retained until explicitly closed and may consume too much memory. (To control this warning, see the rcParam `figure.max_open_warning`).\n",
      "  app.launch_new_instance()\n",
      "/usr/local/lib/python3.7/site-packages/ipykernel_launcher.py:16: RuntimeWarning: More than 20 figures have been opened. Figures created through the pyplot interface (`matplotlib.pyplot.figure`) are retained until explicitly closed and may consume too much memory. (To control this warning, see the rcParam `figure.max_open_warning`).\n",
      "  app.launch_new_instance()\n",
      "/usr/local/lib/python3.7/site-packages/ipykernel_launcher.py:16: RuntimeWarning: More than 20 figures have been opened. Figures created through the pyplot interface (`matplotlib.pyplot.figure`) are retained until explicitly closed and may consume too much memory. (To control this warning, see the rcParam `figure.max_open_warning`).\n",
      "  app.launch_new_instance()\n",
      "/usr/local/lib/python3.7/site-packages/ipykernel_launcher.py:16: RuntimeWarning: More than 20 figures have been opened. Figures created through the pyplot interface (`matplotlib.pyplot.figure`) are retained until explicitly closed and may consume too much memory. (To control this warning, see the rcParam `figure.max_open_warning`).\n",
      "  app.launch_new_instance()\n",
      "/usr/local/lib/python3.7/site-packages/ipykernel_launcher.py:16: RuntimeWarning: More than 20 figures have been opened. Figures created through the pyplot interface (`matplotlib.pyplot.figure`) are retained until explicitly closed and may consume too much memory. (To control this warning, see the rcParam `figure.max_open_warning`).\n",
      "  app.launch_new_instance()\n",
      "/usr/local/lib/python3.7/site-packages/ipykernel_launcher.py:16: RuntimeWarning: More than 20 figures have been opened. Figures created through the pyplot interface (`matplotlib.pyplot.figure`) are retained until explicitly closed and may consume too much memory. (To control this warning, see the rcParam `figure.max_open_warning`).\n",
      "  app.launch_new_instance()\n",
      "/usr/local/lib/python3.7/site-packages/ipykernel_launcher.py:16: RuntimeWarning: More than 20 figures have been opened. Figures created through the pyplot interface (`matplotlib.pyplot.figure`) are retained until explicitly closed and may consume too much memory. (To control this warning, see the rcParam `figure.max_open_warning`).\n",
      "  app.launch_new_instance()\n",
      "/usr/local/lib/python3.7/site-packages/ipykernel_launcher.py:16: RuntimeWarning: More than 20 figures have been opened. Figures created through the pyplot interface (`matplotlib.pyplot.figure`) are retained until explicitly closed and may consume too much memory. (To control this warning, see the rcParam `figure.max_open_warning`).\n",
      "  app.launch_new_instance()\n",
      "/usr/local/lib/python3.7/site-packages/ipykernel_launcher.py:16: RuntimeWarning: More than 20 figures have been opened. Figures created through the pyplot interface (`matplotlib.pyplot.figure`) are retained until explicitly closed and may consume too much memory. (To control this warning, see the rcParam `figure.max_open_warning`).\n",
      "  app.launch_new_instance()\n",
      "/usr/local/lib/python3.7/site-packages/ipykernel_launcher.py:16: RuntimeWarning: More than 20 figures have been opened. Figures created through the pyplot interface (`matplotlib.pyplot.figure`) are retained until explicitly closed and may consume too much memory. (To control this warning, see the rcParam `figure.max_open_warning`).\n",
      "  app.launch_new_instance()\n",
      "/usr/local/lib/python3.7/site-packages/ipykernel_launcher.py:16: RuntimeWarning: More than 20 figures have been opened. Figures created through the pyplot interface (`matplotlib.pyplot.figure`) are retained until explicitly closed and may consume too much memory. (To control this warning, see the rcParam `figure.max_open_warning`).\n",
      "  app.launch_new_instance()\n",
      "/usr/local/lib/python3.7/site-packages/ipykernel_launcher.py:16: RuntimeWarning: More than 20 figures have been opened. Figures created through the pyplot interface (`matplotlib.pyplot.figure`) are retained until explicitly closed and may consume too much memory. (To control this warning, see the rcParam `figure.max_open_warning`).\n",
      "  app.launch_new_instance()\n",
      "/usr/local/lib/python3.7/site-packages/ipykernel_launcher.py:16: RuntimeWarning: More than 20 figures have been opened. Figures created through the pyplot interface (`matplotlib.pyplot.figure`) are retained until explicitly closed and may consume too much memory. (To control this warning, see the rcParam `figure.max_open_warning`).\n",
      "  app.launch_new_instance()\n",
      "/usr/local/lib/python3.7/site-packages/ipykernel_launcher.py:16: RuntimeWarning: More than 20 figures have been opened. Figures created through the pyplot interface (`matplotlib.pyplot.figure`) are retained until explicitly closed and may consume too much memory. (To control this warning, see the rcParam `figure.max_open_warning`).\n",
      "  app.launch_new_instance()\n",
      "/usr/local/lib/python3.7/site-packages/ipykernel_launcher.py:16: RuntimeWarning: More than 20 figures have been opened. Figures created through the pyplot interface (`matplotlib.pyplot.figure`) are retained until explicitly closed and may consume too much memory. (To control this warning, see the rcParam `figure.max_open_warning`).\n",
      "  app.launch_new_instance()\n"
     ]
    },
    {
     "name": "stderr",
     "output_type": "stream",
     "text": [
      "/usr/local/lib/python3.7/site-packages/ipykernel_launcher.py:16: RuntimeWarning: More than 20 figures have been opened. Figures created through the pyplot interface (`matplotlib.pyplot.figure`) are retained until explicitly closed and may consume too much memory. (To control this warning, see the rcParam `figure.max_open_warning`).\n",
      "  app.launch_new_instance()\n",
      "/usr/local/lib/python3.7/site-packages/ipykernel_launcher.py:16: RuntimeWarning: More than 20 figures have been opened. Figures created through the pyplot interface (`matplotlib.pyplot.figure`) are retained until explicitly closed and may consume too much memory. (To control this warning, see the rcParam `figure.max_open_warning`).\n",
      "  app.launch_new_instance()\n",
      "/usr/local/lib/python3.7/site-packages/ipykernel_launcher.py:16: RuntimeWarning: More than 20 figures have been opened. Figures created through the pyplot interface (`matplotlib.pyplot.figure`) are retained until explicitly closed and may consume too much memory. (To control this warning, see the rcParam `figure.max_open_warning`).\n",
      "  app.launch_new_instance()\n",
      "/usr/local/lib/python3.7/site-packages/ipykernel_launcher.py:16: RuntimeWarning: More than 20 figures have been opened. Figures created through the pyplot interface (`matplotlib.pyplot.figure`) are retained until explicitly closed and may consume too much memory. (To control this warning, see the rcParam `figure.max_open_warning`).\n",
      "  app.launch_new_instance()\n",
      "/usr/local/lib/python3.7/site-packages/ipykernel_launcher.py:16: RuntimeWarning: More than 20 figures have been opened. Figures created through the pyplot interface (`matplotlib.pyplot.figure`) are retained until explicitly closed and may consume too much memory. (To control this warning, see the rcParam `figure.max_open_warning`).\n",
      "  app.launch_new_instance()\n",
      "/usr/local/lib/python3.7/site-packages/ipykernel_launcher.py:16: RuntimeWarning: More than 20 figures have been opened. Figures created through the pyplot interface (`matplotlib.pyplot.figure`) are retained until explicitly closed and may consume too much memory. (To control this warning, see the rcParam `figure.max_open_warning`).\n",
      "  app.launch_new_instance()\n",
      "/usr/local/lib/python3.7/site-packages/ipykernel_launcher.py:16: RuntimeWarning: More than 20 figures have been opened. Figures created through the pyplot interface (`matplotlib.pyplot.figure`) are retained until explicitly closed and may consume too much memory. (To control this warning, see the rcParam `figure.max_open_warning`).\n",
      "  app.launch_new_instance()\n",
      "/usr/local/lib/python3.7/site-packages/ipykernel_launcher.py:16: RuntimeWarning: More than 20 figures have been opened. Figures created through the pyplot interface (`matplotlib.pyplot.figure`) are retained until explicitly closed and may consume too much memory. (To control this warning, see the rcParam `figure.max_open_warning`).\n",
      "  app.launch_new_instance()\n",
      "/usr/local/lib/python3.7/site-packages/ipykernel_launcher.py:16: RuntimeWarning: More than 20 figures have been opened. Figures created through the pyplot interface (`matplotlib.pyplot.figure`) are retained until explicitly closed and may consume too much memory. (To control this warning, see the rcParam `figure.max_open_warning`).\n",
      "  app.launch_new_instance()\n",
      "/usr/local/lib/python3.7/site-packages/ipykernel_launcher.py:16: RuntimeWarning: More than 20 figures have been opened. Figures created through the pyplot interface (`matplotlib.pyplot.figure`) are retained until explicitly closed and may consume too much memory. (To control this warning, see the rcParam `figure.max_open_warning`).\n",
      "  app.launch_new_instance()\n",
      "/usr/local/lib/python3.7/site-packages/ipykernel_launcher.py:16: RuntimeWarning: More than 20 figures have been opened. Figures created through the pyplot interface (`matplotlib.pyplot.figure`) are retained until explicitly closed and may consume too much memory. (To control this warning, see the rcParam `figure.max_open_warning`).\n",
      "  app.launch_new_instance()\n",
      "/usr/local/lib/python3.7/site-packages/ipykernel_launcher.py:16: RuntimeWarning: More than 20 figures have been opened. Figures created through the pyplot interface (`matplotlib.pyplot.figure`) are retained until explicitly closed and may consume too much memory. (To control this warning, see the rcParam `figure.max_open_warning`).\n",
      "  app.launch_new_instance()\n",
      "/usr/local/lib/python3.7/site-packages/ipykernel_launcher.py:16: RuntimeWarning: More than 20 figures have been opened. Figures created through the pyplot interface (`matplotlib.pyplot.figure`) are retained until explicitly closed and may consume too much memory. (To control this warning, see the rcParam `figure.max_open_warning`).\n",
      "  app.launch_new_instance()\n",
      "/usr/local/lib/python3.7/site-packages/ipykernel_launcher.py:16: RuntimeWarning: More than 20 figures have been opened. Figures created through the pyplot interface (`matplotlib.pyplot.figure`) are retained until explicitly closed and may consume too much memory. (To control this warning, see the rcParam `figure.max_open_warning`).\n",
      "  app.launch_new_instance()\n",
      "/usr/local/lib/python3.7/site-packages/ipykernel_launcher.py:16: RuntimeWarning: More than 20 figures have been opened. Figures created through the pyplot interface (`matplotlib.pyplot.figure`) are retained until explicitly closed and may consume too much memory. (To control this warning, see the rcParam `figure.max_open_warning`).\n",
      "  app.launch_new_instance()\n",
      "/usr/local/lib/python3.7/site-packages/ipykernel_launcher.py:16: RuntimeWarning: More than 20 figures have been opened. Figures created through the pyplot interface (`matplotlib.pyplot.figure`) are retained until explicitly closed and may consume too much memory. (To control this warning, see the rcParam `figure.max_open_warning`).\n",
      "  app.launch_new_instance()\n",
      "/usr/local/lib/python3.7/site-packages/ipykernel_launcher.py:16: RuntimeWarning: More than 20 figures have been opened. Figures created through the pyplot interface (`matplotlib.pyplot.figure`) are retained until explicitly closed and may consume too much memory. (To control this warning, see the rcParam `figure.max_open_warning`).\n",
      "  app.launch_new_instance()\n",
      "/usr/local/lib/python3.7/site-packages/ipykernel_launcher.py:16: RuntimeWarning: More than 20 figures have been opened. Figures created through the pyplot interface (`matplotlib.pyplot.figure`) are retained until explicitly closed and may consume too much memory. (To control this warning, see the rcParam `figure.max_open_warning`).\n",
      "  app.launch_new_instance()\n",
      "/usr/local/lib/python3.7/site-packages/ipykernel_launcher.py:16: RuntimeWarning: More than 20 figures have been opened. Figures created through the pyplot interface (`matplotlib.pyplot.figure`) are retained until explicitly closed and may consume too much memory. (To control this warning, see the rcParam `figure.max_open_warning`).\n",
      "  app.launch_new_instance()\n",
      "/usr/local/lib/python3.7/site-packages/ipykernel_launcher.py:16: RuntimeWarning: More than 20 figures have been opened. Figures created through the pyplot interface (`matplotlib.pyplot.figure`) are retained until explicitly closed and may consume too much memory. (To control this warning, see the rcParam `figure.max_open_warning`).\n",
      "  app.launch_new_instance()\n",
      "/usr/local/lib/python3.7/site-packages/ipykernel_launcher.py:16: RuntimeWarning: More than 20 figures have been opened. Figures created through the pyplot interface (`matplotlib.pyplot.figure`) are retained until explicitly closed and may consume too much memory. (To control this warning, see the rcParam `figure.max_open_warning`).\n",
      "  app.launch_new_instance()\n",
      "/usr/local/lib/python3.7/site-packages/ipykernel_launcher.py:16: RuntimeWarning: More than 20 figures have been opened. Figures created through the pyplot interface (`matplotlib.pyplot.figure`) are retained until explicitly closed and may consume too much memory. (To control this warning, see the rcParam `figure.max_open_warning`).\n",
      "  app.launch_new_instance()\n",
      "/usr/local/lib/python3.7/site-packages/ipykernel_launcher.py:16: RuntimeWarning: More than 20 figures have been opened. Figures created through the pyplot interface (`matplotlib.pyplot.figure`) are retained until explicitly closed and may consume too much memory. (To control this warning, see the rcParam `figure.max_open_warning`).\n",
      "  app.launch_new_instance()\n"
     ]
    },
    {
     "data": {
      "text/plain": [
       "<Figure size 576x504 with 0 Axes>"
      ]
     },
     "metadata": {},
     "output_type": "display_data"
    },
    {
     "data": {
      "text/plain": [
       "<Figure size 576x504 with 0 Axes>"
      ]
     },
     "metadata": {},
     "output_type": "display_data"
    },
    {
     "data": {
      "text/plain": [
       "<Figure size 576x504 with 0 Axes>"
      ]
     },
     "metadata": {},
     "output_type": "display_data"
    },
    {
     "data": {
      "text/plain": [
       "<Figure size 576x504 with 0 Axes>"
      ]
     },
     "metadata": {},
     "output_type": "display_data"
    },
    {
     "data": {
      "text/plain": [
       "<Figure size 576x504 with 0 Axes>"
      ]
     },
     "metadata": {},
     "output_type": "display_data"
    },
    {
     "data": {
      "text/plain": [
       "<Figure size 576x504 with 0 Axes>"
      ]
     },
     "metadata": {},
     "output_type": "display_data"
    },
    {
     "data": {
      "text/plain": [
       "<Figure size 576x504 with 0 Axes>"
      ]
     },
     "metadata": {},
     "output_type": "display_data"
    },
    {
     "data": {
      "text/plain": [
       "<Figure size 576x504 with 0 Axes>"
      ]
     },
     "metadata": {},
     "output_type": "display_data"
    },
    {
     "data": {
      "text/plain": [
       "<Figure size 576x504 with 0 Axes>"
      ]
     },
     "metadata": {},
     "output_type": "display_data"
    },
    {
     "data": {
      "text/plain": [
       "<Figure size 576x504 with 0 Axes>"
      ]
     },
     "metadata": {},
     "output_type": "display_data"
    },
    {
     "data": {
      "text/plain": [
       "<Figure size 576x504 with 0 Axes>"
      ]
     },
     "metadata": {},
     "output_type": "display_data"
    },
    {
     "data": {
      "text/plain": [
       "<Figure size 576x504 with 0 Axes>"
      ]
     },
     "metadata": {},
     "output_type": "display_data"
    },
    {
     "data": {
      "text/plain": [
       "<Figure size 576x504 with 0 Axes>"
      ]
     },
     "metadata": {},
     "output_type": "display_data"
    },
    {
     "data": {
      "text/plain": [
       "<Figure size 576x504 with 0 Axes>"
      ]
     },
     "metadata": {},
     "output_type": "display_data"
    },
    {
     "data": {
      "text/plain": [
       "<Figure size 576x504 with 0 Axes>"
      ]
     },
     "metadata": {},
     "output_type": "display_data"
    },
    {
     "data": {
      "text/plain": [
       "<Figure size 576x504 with 0 Axes>"
      ]
     },
     "metadata": {},
     "output_type": "display_data"
    },
    {
     "data": {
      "text/plain": [
       "<Figure size 576x504 with 0 Axes>"
      ]
     },
     "metadata": {},
     "output_type": "display_data"
    },
    {
     "data": {
      "text/plain": [
       "<Figure size 576x504 with 0 Axes>"
      ]
     },
     "metadata": {},
     "output_type": "display_data"
    },
    {
     "data": {
      "text/plain": [
       "<Figure size 576x504 with 0 Axes>"
      ]
     },
     "metadata": {},
     "output_type": "display_data"
    },
    {
     "data": {
      "text/plain": [
       "<Figure size 576x504 with 0 Axes>"
      ]
     },
     "metadata": {},
     "output_type": "display_data"
    },
    {
     "data": {
      "text/plain": [
       "<Figure size 576x504 with 0 Axes>"
      ]
     },
     "metadata": {},
     "output_type": "display_data"
    },
    {
     "data": {
      "text/plain": [
       "<Figure size 576x504 with 0 Axes>"
      ]
     },
     "metadata": {},
     "output_type": "display_data"
    },
    {
     "data": {
      "text/plain": [
       "<Figure size 576x504 with 0 Axes>"
      ]
     },
     "metadata": {},
     "output_type": "display_data"
    },
    {
     "data": {
      "text/plain": [
       "<Figure size 576x504 with 0 Axes>"
      ]
     },
     "metadata": {},
     "output_type": "display_data"
    },
    {
     "data": {
      "text/plain": [
       "<Figure size 576x504 with 0 Axes>"
      ]
     },
     "metadata": {},
     "output_type": "display_data"
    },
    {
     "data": {
      "text/plain": [
       "<Figure size 576x504 with 0 Axes>"
      ]
     },
     "metadata": {},
     "output_type": "display_data"
    },
    {
     "data": {
      "text/plain": [
       "<Figure size 576x504 with 0 Axes>"
      ]
     },
     "metadata": {},
     "output_type": "display_data"
    },
    {
     "data": {
      "text/plain": [
       "<Figure size 576x504 with 0 Axes>"
      ]
     },
     "metadata": {},
     "output_type": "display_data"
    },
    {
     "data": {
      "text/plain": [
       "<Figure size 576x504 with 0 Axes>"
      ]
     },
     "metadata": {},
     "output_type": "display_data"
    },
    {
     "data": {
      "text/plain": [
       "<Figure size 576x504 with 0 Axes>"
      ]
     },
     "metadata": {},
     "output_type": "display_data"
    },
    {
     "data": {
      "text/plain": [
       "<Figure size 576x504 with 0 Axes>"
      ]
     },
     "metadata": {},
     "output_type": "display_data"
    },
    {
     "data": {
      "text/plain": [
       "<Figure size 576x504 with 0 Axes>"
      ]
     },
     "metadata": {},
     "output_type": "display_data"
    },
    {
     "data": {
      "text/plain": [
       "<Figure size 576x504 with 0 Axes>"
      ]
     },
     "metadata": {},
     "output_type": "display_data"
    },
    {
     "data": {
      "text/plain": [
       "<Figure size 576x504 with 0 Axes>"
      ]
     },
     "metadata": {},
     "output_type": "display_data"
    },
    {
     "data": {
      "text/plain": [
       "<Figure size 576x504 with 0 Axes>"
      ]
     },
     "metadata": {},
     "output_type": "display_data"
    },
    {
     "data": {
      "text/plain": [
       "<Figure size 576x504 with 0 Axes>"
      ]
     },
     "metadata": {},
     "output_type": "display_data"
    },
    {
     "data": {
      "text/plain": [
       "<Figure size 576x504 with 0 Axes>"
      ]
     },
     "metadata": {},
     "output_type": "display_data"
    },
    {
     "data": {
      "text/plain": [
       "<Figure size 576x504 with 0 Axes>"
      ]
     },
     "metadata": {},
     "output_type": "display_data"
    },
    {
     "data": {
      "text/plain": [
       "<Figure size 576x504 with 0 Axes>"
      ]
     },
     "metadata": {},
     "output_type": "display_data"
    },
    {
     "data": {
      "text/plain": [
       "<Figure size 576x504 with 0 Axes>"
      ]
     },
     "metadata": {},
     "output_type": "display_data"
    },
    {
     "data": {
      "text/plain": [
       "<Figure size 576x504 with 0 Axes>"
      ]
     },
     "metadata": {},
     "output_type": "display_data"
    },
    {
     "data": {
      "text/plain": [
       "<Figure size 576x504 with 0 Axes>"
      ]
     },
     "metadata": {},
     "output_type": "display_data"
    },
    {
     "data": {
      "text/plain": [
       "<Figure size 576x504 with 0 Axes>"
      ]
     },
     "metadata": {},
     "output_type": "display_data"
    },
    {
     "data": {
      "text/plain": [
       "<Figure size 576x504 with 0 Axes>"
      ]
     },
     "metadata": {},
     "output_type": "display_data"
    },
    {
     "data": {
      "text/plain": [
       "<Figure size 576x504 with 0 Axes>"
      ]
     },
     "metadata": {},
     "output_type": "display_data"
    },
    {
     "data": {
      "text/plain": [
       "<Figure size 576x504 with 0 Axes>"
      ]
     },
     "metadata": {},
     "output_type": "display_data"
    },
    {
     "data": {
      "text/plain": [
       "<Figure size 576x504 with 0 Axes>"
      ]
     },
     "metadata": {},
     "output_type": "display_data"
    },
    {
     "data": {
      "text/plain": [
       "<Figure size 576x504 with 0 Axes>"
      ]
     },
     "metadata": {},
     "output_type": "display_data"
    },
    {
     "data": {
      "text/plain": [
       "<Figure size 576x504 with 0 Axes>"
      ]
     },
     "metadata": {},
     "output_type": "display_data"
    },
    {
     "data": {
      "text/plain": [
       "<Figure size 576x504 with 0 Axes>"
      ]
     },
     "metadata": {},
     "output_type": "display_data"
    },
    {
     "data": {
      "text/plain": [
       "<Figure size 576x504 with 0 Axes>"
      ]
     },
     "metadata": {},
     "output_type": "display_data"
    },
    {
     "data": {
      "text/plain": [
       "<Figure size 576x504 with 0 Axes>"
      ]
     },
     "metadata": {},
     "output_type": "display_data"
    },
    {
     "data": {
      "text/plain": [
       "<Figure size 576x504 with 0 Axes>"
      ]
     },
     "metadata": {},
     "output_type": "display_data"
    },
    {
     "data": {
      "text/plain": [
       "<Figure size 576x504 with 0 Axes>"
      ]
     },
     "metadata": {},
     "output_type": "display_data"
    },
    {
     "data": {
      "text/plain": [
       "<Figure size 576x504 with 0 Axes>"
      ]
     },
     "metadata": {},
     "output_type": "display_data"
    },
    {
     "data": {
      "text/plain": [
       "<Figure size 576x504 with 0 Axes>"
      ]
     },
     "metadata": {},
     "output_type": "display_data"
    },
    {
     "data": {
      "text/plain": [
       "<Figure size 576x504 with 0 Axes>"
      ]
     },
     "metadata": {},
     "output_type": "display_data"
    },
    {
     "data": {
      "text/plain": [
       "<Figure size 576x504 with 0 Axes>"
      ]
     },
     "metadata": {},
     "output_type": "display_data"
    },
    {
     "data": {
      "text/plain": [
       "<Figure size 576x504 with 0 Axes>"
      ]
     },
     "metadata": {},
     "output_type": "display_data"
    },
    {
     "data": {
      "text/plain": [
       "<Figure size 576x504 with 0 Axes>"
      ]
     },
     "metadata": {},
     "output_type": "display_data"
    },
    {
     "data": {
      "text/plain": [
       "<Figure size 576x504 with 0 Axes>"
      ]
     },
     "metadata": {},
     "output_type": "display_data"
    },
    {
     "data": {
      "text/plain": [
       "<Figure size 576x504 with 0 Axes>"
      ]
     },
     "metadata": {},
     "output_type": "display_data"
    },
    {
     "data": {
      "text/plain": [
       "<Figure size 576x504 with 0 Axes>"
      ]
     },
     "metadata": {},
     "output_type": "display_data"
    },
    {
     "data": {
      "text/plain": [
       "<Figure size 576x504 with 0 Axes>"
      ]
     },
     "metadata": {},
     "output_type": "display_data"
    },
    {
     "data": {
      "text/plain": [
       "<Figure size 576x504 with 0 Axes>"
      ]
     },
     "metadata": {},
     "output_type": "display_data"
    },
    {
     "data": {
      "text/plain": [
       "<Figure size 576x504 with 0 Axes>"
      ]
     },
     "metadata": {},
     "output_type": "display_data"
    },
    {
     "data": {
      "text/plain": [
       "<Figure size 576x504 with 0 Axes>"
      ]
     },
     "metadata": {},
     "output_type": "display_data"
    },
    {
     "data": {
      "text/plain": [
       "<Figure size 576x504 with 0 Axes>"
      ]
     },
     "metadata": {},
     "output_type": "display_data"
    },
    {
     "data": {
      "text/plain": [
       "<Figure size 576x504 with 0 Axes>"
      ]
     },
     "metadata": {},
     "output_type": "display_data"
    },
    {
     "data": {
      "text/plain": [
       "<Figure size 576x504 with 0 Axes>"
      ]
     },
     "metadata": {},
     "output_type": "display_data"
    },
    {
     "data": {
      "text/plain": [
       "<Figure size 576x504 with 0 Axes>"
      ]
     },
     "metadata": {},
     "output_type": "display_data"
    },
    {
     "data": {
      "text/plain": [
       "<Figure size 576x504 with 0 Axes>"
      ]
     },
     "metadata": {},
     "output_type": "display_data"
    },
    {
     "data": {
      "text/plain": [
       "<Figure size 576x504 with 0 Axes>"
      ]
     },
     "metadata": {},
     "output_type": "display_data"
    },
    {
     "data": {
      "text/plain": [
       "<Figure size 576x504 with 0 Axes>"
      ]
     },
     "metadata": {},
     "output_type": "display_data"
    },
    {
     "data": {
      "text/plain": [
       "<Figure size 576x504 with 0 Axes>"
      ]
     },
     "metadata": {},
     "output_type": "display_data"
    },
    {
     "data": {
      "text/plain": [
       "<Figure size 576x504 with 0 Axes>"
      ]
     },
     "metadata": {},
     "output_type": "display_data"
    },
    {
     "data": {
      "text/plain": [
       "<Figure size 576x504 with 0 Axes>"
      ]
     },
     "metadata": {},
     "output_type": "display_data"
    },
    {
     "data": {
      "text/plain": [
       "<Figure size 576x504 with 0 Axes>"
      ]
     },
     "metadata": {},
     "output_type": "display_data"
    },
    {
     "data": {
      "text/plain": [
       "<Figure size 576x504 with 0 Axes>"
      ]
     },
     "metadata": {},
     "output_type": "display_data"
    },
    {
     "data": {
      "text/plain": [
       "<Figure size 576x504 with 0 Axes>"
      ]
     },
     "metadata": {},
     "output_type": "display_data"
    },
    {
     "data": {
      "text/plain": [
       "<Figure size 576x504 with 0 Axes>"
      ]
     },
     "metadata": {},
     "output_type": "display_data"
    },
    {
     "data": {
      "text/plain": [
       "<Figure size 576x504 with 0 Axes>"
      ]
     },
     "metadata": {},
     "output_type": "display_data"
    },
    {
     "data": {
      "text/plain": [
       "<Figure size 576x504 with 0 Axes>"
      ]
     },
     "metadata": {},
     "output_type": "display_data"
    },
    {
     "data": {
      "text/plain": [
       "<Figure size 576x504 with 0 Axes>"
      ]
     },
     "metadata": {},
     "output_type": "display_data"
    },
    {
     "data": {
      "text/plain": [
       "<Figure size 576x504 with 0 Axes>"
      ]
     },
     "metadata": {},
     "output_type": "display_data"
    },
    {
     "data": {
      "text/plain": [
       "<Figure size 576x504 with 0 Axes>"
      ]
     },
     "metadata": {},
     "output_type": "display_data"
    },
    {
     "data": {
      "text/plain": [
       "<Figure size 576x504 with 0 Axes>"
      ]
     },
     "metadata": {},
     "output_type": "display_data"
    },
    {
     "data": {
      "text/plain": [
       "<Figure size 576x504 with 0 Axes>"
      ]
     },
     "metadata": {},
     "output_type": "display_data"
    }
   ],
   "source": [
    "def gauss(x,mu,sigma,A): # for gaussian fit\n",
    "    return A*exp(-(x-mu)**2/2/sigma**2)\n",
    "\n",
    "def bimodal(x,mu1,sigma1,A1,mu2,sigma2,A2): #Sum of gaussians for bimodal fit\n",
    "    return gauss(x,mu1,sigma1,A1)+gauss(x,mu2,sigma2,A2)\n",
    "\n",
    "x_plt = np.linspace(0,500,501)\n",
    "bins = 0.5*(yedges[1:]+yedges[:-1])\n",
    "\n",
    "for tpc in ['iiwi', 'nene', 'tako', 'palila']:\n",
    "    for loc in range(18,40):\n",
    "        ekey = 'track_energy'\n",
    "\n",
    "        index_He = uncorrected_red[tpc].loc[(uncorrected_red[tpc]['length'] < (xedges[loc+1])) & (uncorrected_red[tpc]['length'] > (xedges[loc]))].index.to_numpy()\n",
    "        index_CO = uncorrected_recoils[tpc].loc[uncorrected_recoils[tpc].index.isin(index_He) == False].index.to_numpy()\n",
    "        fig, ax = plt.subplots(2,2, figsize = (8,7), gridspec_kw={'hspace': 0.1, 'wspace': 0, 'width_ratios': [3, 1]})\n",
    "        ax[0,0].hist2d(uncorrected_recoils[tpc]['length'], uncorrected_recoils[tpc][ekey], bins = (nbinsx,nbinsy), range = ((0,xm),(0,ym)), norm = matplotlib.colors.LogNorm(vmin=1, vmax=None))\n",
    "        plt.colorbar(image[tpc+'_uncor'], ax=[ax[0,1]]).set_label(r'Recoils per bin', rotation = 270, labelpad = 20)\n",
    "        ax[0,0].set_xticklabels([])\n",
    "        ax[0,0].yaxis.set_minor_locator(AutoMinorLocator())\n",
    "        ax[0,0].xaxis.set_minor_locator(AutoMinorLocator())\n",
    "        ax[0,0].set_xlim(0,xm)\n",
    "        ax[0,0].fill_between(np.array([xedges[loc], xedges[loc+1]]), 0, ym, alpha = 0.5, color = 'tab:orange')\n",
    "        ax[0,0].set_ylim(0,ym)\n",
    "        ax[0,0].set_ylabel(r'Energy [keV]')\n",
    "        ax[0,0].grid(which='both')\n",
    "        par1 = uncorrected_red[tpc][ekey][index_He].mean()\n",
    "        par2 = uncorrected_red[tpc][ekey][index_He].std()\n",
    "        par3 = len(uncorrected_red[tpc][ekey][index_He])\n",
    "        par4 = uncorrected_recoils[tpc][ekey][index_CO].mean()\n",
    "        par5 = uncorrected_recoils[tpc][ekey][index_CO].std()\n",
    "        par6 = len(uncorrected_recoils[tpc][ekey][index_CO])\n",
    "        seed_params = [par1,par2,par3,par4,par5,par6]\n",
    "        ax[0,1].barh(bins, h[tpc+'_uncor'][loc], height = ym/nbinsy)\n",
    "        try:\n",
    "            params , cov = curve_fit(bimodal, bins, h[tpc+'_uncor'][loc], seed_params)\n",
    "            ax[0,1].plot(bimodal(x_plt,*params),x_plt,color='red',lw=2,label='fit')\n",
    "        except RuntimeError:\n",
    "            pass\n",
    "        ax[0,1].set_ylim(0,ym)\n",
    "        ax[0,1].set_yticks([])\n",
    "        ax[0,1].set_xticks([])\n",
    "\n",
    "        ekey = 'full_corrected_energy'\n",
    "        index_He = corrected_red[tpc].loc[(corrected_red[tpc]['length'] < (xedges[loc+1])) & (corrected_red[tpc]['length'] > (xedges[loc]))].index.to_numpy()\n",
    "        index_CO = corrected_recoils[tpc].loc[corrected_recoils[tpc].index.isin(index_He) == False].index.to_numpy()\n",
    "        ax[1,0].hist2d(corrected_recoils[tpc]['length'], corrected_recoils[tpc][ekey], bins = (nbinsx,nbinsy), range = ((0,xm),(0,ym)), norm = matplotlib.colors.LogNorm(vmin=1, vmax=None))\n",
    "        plt.colorbar(image[tpc+'_cor'], ax=[ax[1,1]]).set_label(r'Recoils per bin', rotation = 270, labelpad = 20)\n",
    "        ax[1,0].set_xticks([0,2000,4000,6000,8000])\n",
    "        ax[1,0].yaxis.set_minor_locator(AutoMinorLocator())\n",
    "        ax[1,0].xaxis.set_minor_locator(AutoMinorLocator())\n",
    "        ax[1,0].set_xlim(0,xm)\n",
    "        ax[1,0].fill_between(np.array([xedges[loc], xedges[loc+1]]), 0, ym, alpha = 0.5, color = 'tab:orange')\n",
    "        ax[1,0].set_ylim(0,ym)\n",
    "        ax[1,0].set_xlabel(r'Length [$\\mu$m]')\n",
    "        ax[1,0].set_ylabel(r'Energy [keV]')\n",
    "        ax[1,0].grid(which='both')\n",
    "        par1 = corrected_red[tpc][ekey][index_He].mean()\n",
    "        par2 = corrected_red[tpc][ekey][index_He].std()\n",
    "        par3 = len(corrected_red[tpc][ekey][index_He])\n",
    "        par4 = corrected_recoils[tpc][ekey][index_CO].mean()\n",
    "        par5 = corrected_recoils[tpc][ekey][index_CO].std()\n",
    "        par6 = len(corrected_recoils[tpc][ekey][index_CO])\n",
    "        seed_params = [par1,par2,par3,par4,par5,par6]\n",
    "        try:\n",
    "            params , cov = curve_fit(bimodal, bins, h[tpc+'_cor'][loc], seed_params)\n",
    "            ax[1,1].plot(bimodal(x_plt,*params),x_plt,color='red',lw=2)\n",
    "        except RuntimeError:\n",
    "            pass\n",
    "        ax[1,1].barh(bins, h[tpc+'_cor'][loc], height = ym/nbinsy)\n",
    "        ax[1,1].set_ylim(0,ym)\n",
    "        ax[1,1].set_yticks([])\n",
    "        ax[1,1].set_xticks([])\n",
    "        plt.savefig('%s_hist_%s.png'%(tpc, loc))\n",
    "        plt.clf()"
   ]
  },
  {
   "cell_type": "code",
   "execution_count": null,
   "metadata": {},
   "outputs": [],
   "source": []
  },
  {
   "cell_type": "markdown",
   "metadata": {},
   "source": [
    "### Plot histograms for paper"
   ]
  },
  {
   "cell_type": "code",
   "execution_count": null,
   "metadata": {
    "scrolled": false
   },
   "outputs": [],
   "source": [
    "def get_hist_params(tpc, tpc_red, slice, width, bins, ecor = True, lcor = 0):\n",
    "    if ecor != True:\n",
    "        ekey = 'track_energy'     \n",
    "    else:\n",
    "        ekey = 'full_corrected_energy'\n",
    "    if lcor == 0:\n",
    "        lkey = 'length'\n",
    "    elif lcor == 1:\n",
    "        lkey = 'max_corrected_length'\n",
    "    else:\n",
    "        lkey = 'rms_corrected_length'\n",
    "    index = tpc.loc[(tpc[lkey] < (slice + width)) & (tpc[lkey] > (slice - width))].index.to_numpy()\n",
    "    index_red = tpc_red.loc[(tpc_red[lkey] < (slice + width)) & (tpc_red[lkey] > (slice - width))].index.to_numpy()\n",
    "    def gauss(x,mu,sigma,A): # for gaussian fit\n",
    "        return A*exp(-(x-mu)**2/2/sigma**2)\n",
    "    data = tpc_red[ekey][index_red] #only He recoils\n",
    "    full_data = tpc[ekey][index] #all recoils\n",
    "    x_plt = np.linspace(0,400,401)\n",
    "    def bimodal(x,mu1,sigma1,A1,mu2,sigma2,A2): #Sum of gaussians for bimodal fit\n",
    "        return gauss(x,mu1,sigma1,A1)+gauss(x,mu2,sigma2,A2)\n",
    "    fig = plt.figure()\n",
    "    y_full,x_full,_=plt.hist(full_data,bins,alpha=.3,color = 'tab:orange', label='All recoils', range = (0,400), orientation=u'horizontal')\n",
    "    plt.close(fig)\n",
    "    x_full=(x_full[1:]+x_full[:-1])/2\n",
    "    CO = full_data.loc[full_data.index.isin(index_red) == False]\n",
    "    expected_full=(np.mean(data),np.std(data),len(data), np.mean(CO), np.std(CO), len(full_data)-len(data))\n",
    "    try:\n",
    "        params_full,cov_full=curve_fit(bimodal,x_full,y_full, expected_full)\n",
    "    except RuntimeError:\n",
    "        pass\n",
    "    return x_plt, full_data, params_full\n",
    "\n",
    "def get_EvL_params(tpc, tpc_red, slice, width, bins, ecor = True, lcor = 0):\n",
    "    if ecor != True:\n",
    "        ekey = 'track_energy'     \n",
    "    else:\n",
    "        ekey = 'full_corrected_energy'\n",
    "    if lcor == 0:\n",
    "        lkey = 'length'\n",
    "    elif lcor == 1:\n",
    "        lkey = 'max_corrected_length'\n",
    "    else:\n",
    "        lkey = 'rms_corrected_length'\n",
    "    index = tpc.loc[(tpc[lkey] < (slice + width)) & (tpc[lkey] > (slice - width))].index.to_numpy()\n",
    "    index_red = tpc_red.loc[(tpc_red[lkey] < (slice + width)) & (tpc_red[lkey] > (slice - width))].index.to_numpy()\n",
    "    return tpc[lkey], tpc[ekey], tpc[lkey][index], tpc[ekey][index]\n",
    "\n",
    "for tpc in ['tako']:\n",
    "    def gauss(x,mu,sigma,A): # for gaussian fit\n",
    "        return A*exp(-(x-mu)**2/2/sigma**2)\n",
    "    def bimodal(x,mu1,sigma1,A1,mu2,sigma2,A2): #Sum of gaussians for bimodal fit\n",
    "        return gauss(x,mu1,sigma1,A1)+gauss(x,mu2,sigma2,A2)\n",
    "    fig, ax = plt.subplots(2,2, figsize = (8,6), gridspec_kw={'hspace': 0.5, 'wspace': 0, 'width_ratios': [3, 1]})\n",
    "    l, e, rl, re = get_EvL_params(uncorrected_recoils['tako'], uncorrected_red['tako'], 2000, 25, 60, ecor = False, lcor = 0)\n",
    "    ax[0,0].plot(l,e,'o', markersize = 0.5, alpha = 0.5)\n",
    "    ax[0,0].plot(rl,re,'o', markersize = 0.5)\n",
    "    ax[0,0].set_xlim(0,4000)\n",
    "    ax[0,0].set_ylim(0,250)\n",
    "    ax[0,0].set_xlabel(r'Length [$\\mu$m]')\n",
    "    ax[0,0].set_ylabel('Energy [keV]')\n",
    "    ax[0,0].set_title(\"Uncorrected Energy\")\n",
    "    custom_points = [Line2D([0], [0], marker='o', color='tab:orange', label='Histogrammed recoils', markersize=4, markerfacecolor='tab:orange', linewidth = 0),\n",
    "                    Line2D([0], [0], marker='o', color='tab:blue', label='Remaining recoils', markersize=4, markerfacecolor='tab:blue', linewidth = 0)]\n",
    "    ax[0,0].legend(handles = custom_points)\n",
    "    x_plt, full_data, params_full = get_hist_params(uncorrected_recoils['tako'], uncorrected_red['tako'], 2000, 25, 60, ecor = False, lcor = 0)\n",
    "    ax[0,1].hist(full_data,bins = 60,alpha=.3,color = 'tab:orange', label='All recoils', range = (0,400), orientation=u'horizontal')\n",
    "    ax[0,1].plot(bimodal(x_plt,*params_full),x_plt,color='red',lw=3,label='fit')\n",
    "    ax[0,1].set_xlim(0,50)\n",
    "    ax[0,1].set_ylim(0,250)\n",
    "    ax[0,1].set_xticks([])\n",
    "    ax[0,1].set_yticks([])\n",
    "    l1, e1, rl1, re1 = get_EvL_params(uncorrected_recoils['tako'], uncorrected_red['tako'], 2000, 25, 60, ecor = False, lcor = 0)\n",
    "    ax[1,0].plot(l,e,'o', markersize = 0.5, alpha = 0.5)\n",
    "    ax[1,0].plot(rl,re,'o', markersize = 0.5)\n",
    "    ax[1,0].set_xlim(0,4000)\n",
    "    ax[1,0].set_ylim(0,250)\n",
    "    ax[1,0].set_xlabel(r'Length [$\\mu$m]')\n",
    "    ax[1,0].set_ylabel('Energy [keV]')\n",
    "    ax[1,0].set_title(\"Corrected Energy\")\n",
    "    ax[1,0].legend(handles = custom_points)\n",
    "    x_plt1, full_data1, params_full1 = get_hist_params(uncorrected_recoils['tako'], uncorrected_red['tako'], 2000, 25, 60, ecor = False, lcor = 0)\n",
    "    ax[1,1].hist(full_data,bins = 60,alpha=.3,color = 'tab:orange', label='All recoils', range = (0,400), orientation=u'horizontal')\n",
    "    ax[1,1].plot(bimodal(x_plt,*params_full),x_plt,color='red',lw=3,label='fit')\n",
    "    ax[1,1].set_xlim(0,50)\n",
    "    ax[1,1].set_ylim(0,250)\n",
    "    ax[1,1].set_xticks([])\n",
    "    ax[1,1].set_yticks([])\n",
    "    plt.savefig('profile_fits.png')\n",
    "    fig.show()"
   ]
  },
  {
   "cell_type": "markdown",
   "metadata": {},
   "source": [
    "### Plot histograms for validation"
   ]
  },
  {
   "cell_type": "code",
   "execution_count": null,
   "metadata": {},
   "outputs": [],
   "source": [
    "def plot_histogram(tpc, tpc_red, slice, width, bins, ecor = True, lcor = 0):\n",
    "    if ecor != True:\n",
    "        ekey = 'track_energy'     \n",
    "    else:\n",
    "        ekey = 'full_corrected_energy'\n",
    "    if lcor == 0:\n",
    "        lkey = 'length'\n",
    "    elif lcor == 1:\n",
    "        lkey = 'max_corrected_length'\n",
    "    else:\n",
    "        lkey = 'rms_corrected_length'\n",
    "    index = tpc.loc[(tpc[lkey] < (slice + width)) & (tpc[lkey] > (slice - width))].index.to_numpy()\n",
    "    index_red = tpc_red.loc[(tpc_red[lkey] < (slice + width)) & (tpc_red[lkey] > (slice - width))].index.to_numpy()\n",
    "    def gauss(x,mu,sigma,A): # for gaussian fit\n",
    "        return A*exp(-(x-mu)**2/2/sigma**2)\n",
    "    data = tpc_red[ekey][index_red] #only He recoils\n",
    "    full_data = tpc[ekey][index] #all recoils\n",
    "    #plt.subplot(3,1,1)\n",
    "    #y,x,_=plt.hist(data,bins,alpha=.3,label='He_recoils only', range = (0,250))\n",
    "    #x=(x[1:]+x[:-1])/2\n",
    "    #expected=(np.mean(data),np.std(data),len(data)) #in the form of mu, sigma, A\n",
    "    #params,cov=curve_fit(gauss,x,y, expected)\n",
    "    #sigma=sqrt(diag(cov))\n",
    "    x_plt = np.linspace(0,600,601)\n",
    "    #plt.plot(x_plt,gauss(x_plt,*params),color='red',lw=3,label='fit')\n",
    "    def bimodal(x,mu1,sigma1,A1,mu2,sigma2,A2): #Sum of gaussians for bimodal fit\n",
    "        return gauss(x,mu1,sigma1,A1)+gauss(x,mu2,sigma2,A2)\n",
    "    #plt.legend()\n",
    "    #plt.xlabel('Recoil Energy [keV]')\n",
    "    plt.subplot(2,1,1)\n",
    "    y_full,x_full,_=plt.hist(full_data,bins,alpha=.3,color = 'tab:orange', label='All recoils', range = (0,600))\n",
    "    x_full=(x_full[1:]+x_full[:-1])/2\n",
    "    CO = full_data.loc[full_data.index.isin(index_red) == False]\n",
    "    expected_full=(np.mean(data),np.std(data),len(data), np.mean(CO), np.std(CO), len(full_data)-len(data))\n",
    "    try:\n",
    "        params_full,cov_full=curve_fit(bimodal,x_full,y_full, expected_full)\n",
    "        plt.plot(x_plt,bimodal(x_plt,*params_full),color='red',lw=1,label='fit')\n",
    "        plt.legend()\n",
    "        plt.xlabel('Recoil Energy [keV]')\n",
    "        sigma_full=sqrt(diag(cov_full))\n",
    "        plt.title(r'Recoil Energy: %s $\\leq$ length $<$ %s' %(int(slice - width), int(slice+width)))\n",
    "        plt.subplot(2,1,2)\n",
    "        plt.plot(tpc[lkey], tpc[ekey], 'o', markersize = 0.5, alpha = 0.5)\n",
    "        plt.plot(tpc[lkey][index], tpc[ekey][index], 'o', markersize = 0.5)\n",
    "        plt.ylim(0,600)\n",
    "        plt.xlim(0,15000)\n",
    "        plt.xlabel('Track Length [um]')\n",
    "        plt.ylabel('Recoil Energy [keV]')\n",
    "        plt.tight_layout()\n",
    "        #print(params_full,'\\n',sigma_full)\n",
    "        He_reso = params_full[1]/params_full[0]\n",
    "        He_reso_err = He_reso*np.sqrt((sigma_full[1]/params_full[1])**2+(sigma_full[0]/params_full[0])**2)\n",
    "        CO_reso = params_full[4]/params_full[3]\n",
    "        CO_reso_err = CO_reso*np.sqrt((sigma_full[4]/params_full[4])**2+(sigma_full[3]/params_full[3])**2)\n",
    "        #print('He recoil resolution: %s +/- %s'%(He_reso, He_reso_err))\n",
    "        #print('CO recoil resolution: %s +/- %s'%(CO_reso, CO_reso_err))\n",
    "        length = tpc[lkey][index].mean()\n",
    "        length_err = tpc[lkey][index].std()/np.sqrt(len(index))\n",
    "        #print('length = %s +/- %s'%(length, length_err))\n",
    "    except RuntimeError:\n",
    "        pass\n",
    "\n",
    "for tpc in ['iiwi', 'nene', 'tako', 'palila']:\n",
    "    #he_slices = np.array([120*i+1750 for i in range(0,6)] + [200*i+2450 for i in range(0,6)])\n",
    "    #he_width = [60 for i in range(0,6)] + [100 for i in range (0,6)]\n",
    "    #bins = 150\n",
    "    #he_slices = [50*i+1750 for i in range(0,6)] + [100*i+2100 for i in range(0,7)] + [200*i + 2850 for i in range(0,18)] \n",
    "    #he_widths = [25 for i in range(0,15)] + [50 for i in range(0,7)] + [100 for i in range(0,18)]\n",
    "    #bins = 90\n",
    "    #CO_slices = [50*i+1700 for i in range(0,30)]\n",
    "    #CO_widths = [25 for i in range(0,30)]\n",
    "    #bins = 135\n",
    "    he_slices = [20*i+1200 for i in range(0,51)] + [40*i+2230 for i in range (0,51)] + [80*i+4290 for i in range (0,31)]\n",
    "    he_widths = [10 for i in range(0,51)] + [20 for i in range (0,51)] + [40 for i in range (0,31)]\n",
    "    bins = 101\n",
    "    for i in range(0,len(he_slices)):\n",
    "    #for i in range(0,len(CO_slices)):\n",
    "        plot_histogram(uncorrected_recoils[tpc], uncorrected_red[tpc], he_slices[i], he_widths[i], bins, ecor = False, lcor = 0)\n",
    "        plt.savefig('%s_uncor_%s_slice.png'%(tpc, he_slices[i]))\n",
    "        #plot_histogram(uncorrected_recoils[tpc], uncorrected_red[tpc], CO_slices[i], CO_widths[i], bins, ecor = False, lcor = 0)\n",
    "        #plt.savefig('%s_CO_uncor_%s_slice.png'%(tpc, CO_slices[i]))\n",
    "        plt.clf()\n",
    "        plot_histogram(corrected_recoils[tpc], corrected_red[tpc], he_slices[i], he_widths[i], bins, ecor = True, lcor = 0)\n",
    "        plt.savefig('%s_cor_%s_slice.png'%(tpc, he_slices[i]))\n",
    "        #plot_histogram(corrected_recoils[tpc], corrected_red[tpc], CO_slices[i], CO_widths[i], bins, ecor = True, lcor = 0)\n",
    "        #plt.savefig('%s_CO_cor_%s_slice.png'%(tpc, CO_slices[i]))\n",
    "        plt.clf()\n",
    "\n",
    "#plot_histogram(corrected_recoils['iiwi'], corrected_red['iiwi'], 2000, 25, 60, ecor = True, lcor = 0)"
   ]
  },
  {
   "cell_type": "markdown",
   "metadata": {},
   "source": [
    "### Extract energy resolutions"
   ]
  },
  {
   "cell_type": "code",
   "execution_count": null,
   "metadata": {},
   "outputs": [],
   "source": [
    "def get_fit_parameters(tpc, tpc_red, slice, width, bins, ecor = True, lcor = 0):\n",
    "    if ecor != True:\n",
    "        ekey = 'track_energy'\n",
    "    else:\n",
    "        ekey = 'full_corrected_energy'\n",
    "    if lcor == 0:\n",
    "        lkey = 'length'\n",
    "    elif lcor == 1:\n",
    "        lkey = 'max_corrected_length'\n",
    "    else:\n",
    "        lkey = 'rms_corrected_length'\n",
    "    index = tpc.loc[(tpc[lkey] < (slice + width)) & (tpc[lkey] > (slice - width))].index.to_numpy()\n",
    "    index_red = tpc_red.loc[(tpc_red[lkey] < (slice + width)) & (tpc_red[lkey] > (slice - width))].index.to_numpy()\n",
    "    def gauss(x,mu,sigma,A): # for gaussian fit\n",
    "        return A*exp(-(x-mu)**2/2/sigma**2)\n",
    "    data = tpc_red[ekey][index_red] #only He recoils\n",
    "    full_data = tpc[ekey][index] #all recoils\n",
    "    #y,x,_=plt.hist(data,bins,alpha=.3,label='He_recoils only', range = (0,2000))\n",
    "    #x=(x[1:]+x[:-1])/2\n",
    "    #expected=(np.mean(data),np.std(data),len(data)) #in the form of mu, sigma, A\n",
    "    #params,cov=curve_fit(gauss,x,y, expected)\n",
    "    #sigma=sqrt(diag(cov))\n",
    "    def bimodal(x,mu1,sigma1,A1,mu2,sigma2,A2): #Sum of gaussians for bimodal fit\n",
    "        return gauss(x,mu1,sigma1,A1)+gauss(x,mu2,sigma2,A2)\n",
    "    y_full,x_full,_=plt.hist(full_data,bins,alpha=.3,color = 'tab:orange', label='All recoils', range = (0,600))\n",
    "    x_full=(x_full[1:]+x_full[:-1])/2\n",
    "    CO = full_data.loc[full_data.index.isin(index_red) == False]\n",
    "    expected_full=(np.mean(data),np.std(data),len(data), np.mean(CO), np.std(CO), len(full_data)-len(data))\n",
    "    try:\n",
    "        #if len(full_data < 40):\n",
    "        #    He_reso = np.nan\n",
    "        #    He_reso_err = np.nan\n",
    "        params_full,cov_full=curve_fit(bimodal,x_full,y_full, expected_full)\n",
    "        sigma_full=sqrt(diag(cov_full))\n",
    "        E_He = params_full[0]\n",
    "        dE_He = params_full[1]\n",
    "        E_CO = params_full[3]\n",
    "        dE_CO = params_full[4]\n",
    "        He_reso = params_full[1]/params_full[0]\n",
    "        He_reso_err = He_reso*np.sqrt((sigma_full[1]/params_full[1])**2+(sigma_full[0]/params_full[0])**2)\n",
    "        CO_reso = params_full[4]/params_full[3]\n",
    "        CO_reso_err = CO_reso*np.sqrt((sigma_full[4]/params_full[4])**2+(sigma_full[3]/params_full[3])**2)\n",
    "        print('He recoil resolution: %s +/- %s'%(He_reso, He_reso_err))\n",
    "        print('CO recoil resolution: %s +/- %s'%(CO_reso, CO_reso_err))\n",
    "        length = tpc[lkey][index].mean()\n",
    "        length_err = tpc[lkey][index].std()/np.sqrt(len(index))\n",
    "        print('length = %s +/- %s'%(length, length_err))\n",
    "        plt.clf()\n",
    "    except RuntimeError:\n",
    "        length, length_err, He_reso, He_reso_err, CO_reso, CO_reso_err, E_He, dE_He, E_CO, dE_CO = np.nan, np.nan, np.nan, np.nan, np.nan, np.nan, np.nan, np.nan, np.nan, np.nan\n",
    "        pass\n",
    "    return length, length_err, He_reso, He_reso_err, CO_reso, CO_reso_err, E_He, dE_He, E_CO, dE_CO\n",
    "\n",
    "def make_dataframes(df, df_red, slices = [2000, 2200, 2400, 2600, 2800, 3000, 3200, 3400], widths = [25, 25, 50, 50, 50, 50, 50, 50], bins = 60, ecor = True, lcor = 0):\n",
    "    tpcs = ['iiwi', 'nene', 'tako', 'palila']\n",
    "    l = {}\n",
    "    dl = {}\n",
    "    He_res = {}\n",
    "    He_res_err = {}\n",
    "    CO_res = {}\n",
    "    CO_res_err = {}\n",
    "    E_He = {}\n",
    "    dE_He = {}\n",
    "    E_CO = {}\n",
    "    dE_CO = {}\n",
    "    for tpc in tpcs:\n",
    "        #slices = [80*i+1200 for i in range(0,26)] + [120*i+3300 for i in range (0,25)]\n",
    "        #widths = [40 for i in range(0,26)] + [60 for i in range (0,25)]\n",
    "        #bins = 60\n",
    "        slices = [10*i+1200 for i in range(0,201)] + [20*i+3220 for i in range (0,200)]\n",
    "        widths = [5 for i in range(0,201)] + [10 for i in range (0,200)]\n",
    "        bins = 60\n",
    "        l[tpc], dl[tpc], He_res[tpc], He_res_err[tpc], CO_res[tpc], CO_res_err[tpc], E_He[tpc], dE_He[tpc], E_CO[tpc], dE_CO[tpc] = [], [], [], [], [], [], [], [], [], []\n",
    "        for i in range(0,len(slices)):\n",
    "            length, length_err, He_reso, He_reso_err, CO_reso, CO_reso_err, En_He, dEn_He, En_CO, dEn_CO = get_fit_parameters(df[tpc], df_red[tpc], slices[i], widths[i], bins, ecor, lcor)\n",
    "            if (np.abs(He_reso_err)) > He_reso or (He_reso_err == np.nan) or (He_reso < 0):\n",
    "                He_reso = np.nan\n",
    "                He_reso_err = np.nan\n",
    "            '''\n",
    "            if tpc == 'palila':\n",
    "                if (length > 5150) and (length < 5350):\n",
    "                    He_reso = np.nan\n",
    "                    He_reso_err = np.nan\n",
    "                if (length > 6150) and (length < 6350):\n",
    "                    He_reso = np.nan\n",
    "                    He_reso_err = np.nan\n",
    "            if tpc == 'iiwi':\n",
    "                if (length > 5150) and (length < 5350):\n",
    "                    He_reso = np.nan\n",
    "                    He_reso_err = np.nan\n",
    "            if tpc == 'nene':\n",
    "                if (length > 5650) and (length < 5850):\n",
    "                    He_reso = np.nan\n",
    "                    He_reso_err = np.nan\n",
    "                if (length > 4150) and (length < 4350):\n",
    "                    He_reso = np.nan\n",
    "                    He_reso_err = np.nan\n",
    "            if tpc == 'tako':\n",
    "                if (length >= 5700):\n",
    "                    He_reso = np.nan\n",
    "                    He_reso_err = np.nan\n",
    "            \n",
    "            if tpc == 'palila':\n",
    "                if (length > 4600) and (length < 4800):\n",
    "                    He_reso = np.nan\n",
    "                    He_reso_err = np.nan\n",
    "                if (length >= 5020):\n",
    "                    He_reso = np.nan\n",
    "                    He_reso_err = np.nan\n",
    "                if (length > 6550) and (length < 6600):\n",
    "                    He_reso = np.nan\n",
    "                    He_reso_err = np.nan\n",
    "                if length <=1810:\n",
    "                    He_reso = np.nan\n",
    "                    He_reso_err = np.nan\n",
    "                if (length > 1990) and (length < 2010):\n",
    "                    He_reso = np.nan\n",
    "                    He_reso_err = np.nan\n",
    "                if (length > 2670) and (length < 2730):\n",
    "                    He_reso = np.nan\n",
    "                    He_reso_err = np.nan\n",
    "                if (length > 1790) and (length < 1810):\n",
    "                    CO_reso = np.nan\n",
    "                    CO_reso_err = np.nan\n",
    "                if (length > 2540) and (length < 2560):\n",
    "                    CO_reso = np.nan\n",
    "                    CO_reso_err = np.nan\n",
    "                if (length >= 2690):\n",
    "                    CO_reso = np.nan\n",
    "                    CO_reso_err = np.nan\n",
    "            if tpc == 'iiwi':\n",
    "                if (length > 4200) and (length < 4300):\n",
    "                    He_reso = np.nan\n",
    "                    He_reso_err = np.nan\n",
    "                if (length > 6000) and (length < 6100):\n",
    "                    He_reso = np.nan\n",
    "                    He_reso_err = np.nan\n",
    "                if (length > 6200) and (length < 6300):\n",
    "                    He_reso = np.nan\n",
    "                    He_reso_err = np.nan\n",
    "                if (length > 1940) and (length < 1960):\n",
    "                    He_reso = np.nan\n",
    "                    He_reso_err = np.nan\n",
    "                    CO_reso = np.nan\n",
    "                    CO_reso_err = np.nan\n",
    "                if (length > 2470) and (length < 2530):\n",
    "                    He_reso = np.nan\n",
    "                    He_reso_err = np.nan\n",
    "                if (length > 3420) and (length < 3480):\n",
    "                    He_reso = np.nan\n",
    "                    He_reso_err = np.nan\n",
    "                if (length > 3020) and (length < 3080):\n",
    "                    He_reso = np.nan\n",
    "                    He_reso_err = np.nan\n",
    "                if (length > 3820) and (length < 3880):\n",
    "                    He_reso = np.nan\n",
    "                    He_reso_err = np.nan\n",
    "                if (length > 5400) and (length < 5500):\n",
    "                    He_reso = np.nan\n",
    "                    He_reso_err = np.nan\n",
    "                if (length > 1690) and (length < 1710):\n",
    "                    CO_reso = np.nan\n",
    "                    CO_reso_err = np.nan\n",
    "                if (length > 1840) and (length < 1860):\n",
    "                    CO_reso = np.nan\n",
    "                    CO_reso_err = np.nan\n",
    "                if (length > 1890) and (length < 1910):\n",
    "                    CO_reso = np.nan\n",
    "                    CO_reso_err = np.nan\n",
    "                if (length > 1990) and (length < 2010):\n",
    "                    CO_reso = np.nan\n",
    "                    CO_reso_err = np.nan\n",
    "                if (length > 2340) and (length < 2360):\n",
    "                    CO_reso = np.nan\n",
    "                    CO_reso_err = np.nan\n",
    "                if (length > 2490) and (length < 2510):\n",
    "                    CO_reso = np.nan\n",
    "                    CO_reso_err = np.nan\n",
    "                if (length > 2590) and (length < 2610):\n",
    "                    CO_reso = np.nan\n",
    "                    CO_reso_err = np.nan\n",
    "                if (length > 2710):\n",
    "                    CO_reso = np.nan\n",
    "                    CO_reso_err = np.nan\n",
    "            if tpc == 'nene':\n",
    "                if (length > 4000) and (length < 4100):\n",
    "                    He_reso = np.nan\n",
    "                    He_reso_err = np.nan\n",
    "                if (length > 4550) and (length < 4600):\n",
    "                    He_reso = np.nan\n",
    "                    He_reso_err = np.nan\n",
    "                if (length >= 5050):\n",
    "                    He_reso = np.nan\n",
    "                    He_reso_err = np.nan\n",
    "                if (length > 2830) and (length < 2870):\n",
    "                    He_reso = np.nan\n",
    "                    He_reso_err = np.nan\n",
    "                if (length > 1840) and (length < 1860):\n",
    "                    CO_reso = np.nan\n",
    "                    CO_reso_err = np.nan\n",
    "                if (length > 2290) and (length < 2310):\n",
    "                    CO_reso = np.nan\n",
    "                    CO_reso_err = np.nan\n",
    "                if (length > 2390) and (length < 2410):\n",
    "                    CO_reso = np.nan\n",
    "                    CO_reso_err = np.nan\n",
    "                if (length > 2640) and (length < 2660):\n",
    "                    CO_reso = np.nan\n",
    "                    CO_reso_err = np.nan\n",
    "                if (length > 2690) and (length < 2710):\n",
    "                    CO_reso = np.nan\n",
    "                    CO_reso_err = np.nan\n",
    "                if (length >= 2790):\n",
    "                    CO_reso = np.nan\n",
    "                    CO_reso_err = np.nan\n",
    "            if tpc == 'tako':\n",
    "                if (length >= 6050):\n",
    "                    He_reso = np.nan\n",
    "                    He_reso_err = np.nan\n",
    "                if (length > 2690) and (length < 2710):\n",
    "                    CO_reso = np.nan\n",
    "                    CO_reso_err = np.nan\n",
    "                if (length > 2790) and (length < 2810):\n",
    "                    CO_reso = np.nan\n",
    "                    CO_reso_err = np.nan\n",
    "                if (length > 3140) and (length < 3160):\n",
    "                    CO_reso = np.nan\n",
    "                    CO_reso_err = np.nan\n",
    "            '''\n",
    "            l[tpc].append(length)\n",
    "            dl[tpc].append(length_err)\n",
    "            He_res[tpc].append(He_reso)\n",
    "            He_res_err[tpc].append(He_reso_err)\n",
    "            CO_res[tpc].append(CO_reso)\n",
    "            CO_res_err[tpc].append(CO_reso_err)\n",
    "            E_He[tpc].append(En_He)\n",
    "            dE_He[tpc].append(dEn_He)\n",
    "            E_CO[tpc].append(En_CO)\n",
    "            dE_CO[tpc].append(dEn_CO)\n",
    "    l = pd.DataFrame.from_dict(l)\n",
    "    dl = pd.DataFrame.from_dict(dl)\n",
    "    He_res = pd.DataFrame.from_dict(He_res)\n",
    "    He_res_err = pd.DataFrame.from_dict(He_res_err)\n",
    "    CO_res = pd.DataFrame.from_dict(CO_res)\n",
    "    CO_res_err = pd.DataFrame.from_dict(CO_res_err)\n",
    "    E_He = pd.DataFrame.from_dict(E_He)\n",
    "    dE_He = pd.DataFrame.from_dict(dE_He)\n",
    "    E_CO = pd.DataFrame.from_dict(E_CO)\n",
    "    dE_CO = pd.DataFrame.from_dict(dE_CO)\n",
    "    '''\n",
    "    for tpc in ['tako']:\n",
    "        slices = [10*i+1200 for i in range(0,201)] + [20*i+3220 for i in range (0,200)]\n",
    "        widths = [5 for i in range(0,201)] + [10 for i in range (0,200)]\n",
    "        bins = 60\n",
    "        l[tpc], dl[tpc], He_res[tpc], He_res_err[tpc], CO_res[tpc], CO_res_err[tpc], E_He[tpc], dE_He[tpc], E_CO[tpc], dE_CO[tpc] = [], [], [], [], [], [], [], [], [], []\n",
    "        for i in range(0,len(slices)):\n",
    "            length, length_err, He_reso, He_reso_err, CO_reso, CO_reso_err, En_He, dEn_He, En_CO, dEn_CO = get_fit_parameters(df[tpc], df_red[tpc], slices[i], widths[i], bins, ecor, lcor)\n",
    "            if (np.abs(He_reso_err)) > He_reso or He_reso_err == np.nan:\n",
    "                He_reso = np.nan\n",
    "                He_reso_err = np.nan\n",
    "            l[tpc].append(length)\n",
    "            dl[tpc].append(length_err)\n",
    "            He_res[tpc].append(He_reso)\n",
    "            He_res_err[tpc].append(He_reso_err)\n",
    "            CO_res[tpc].append(CO_reso)\n",
    "            CO_res_err[tpc].append(CO_reso_err)\n",
    "            E_He[tpc].append(En_He)\n",
    "            dE_He[tpc].append(dEn_He)\n",
    "            E_CO[tpc].append(En_CO)\n",
    "            dE_CO[tpc].append(dEn_CO)\n",
    "    l = pd.DataFrame.from_dict(l)\n",
    "    dl = pd.DataFrame.from_dict(dl)\n",
    "    He_res = pd.DataFrame.from_dict(He_res)\n",
    "    He_res_err = pd.DataFrame.from_dict(He_res_err)\n",
    "    CO_res = pd.DataFrame.from_dict(CO_res)\n",
    "    CO_res_err = pd.DataFrame.from_dict(CO_res_err)\n",
    "    E_He = pd.DataFrame.from_dict(E_He)\n",
    "    dE_He = pd.DataFrame.from_dict(dE_He)\n",
    "    E_CO = pd.DataFrame.from_dict(E_CO)\n",
    "    dE_CO = pd.DataFrame.from_dict(dE_CO)\n",
    "    '''\n",
    "    return l, dl, He_res, He_res_err, CO_res, CO_res_err, E_He, dE_He, E_CO, dE_CO\n",
    "\n",
    "#he_slices = np.array([120*i+1750 for i in range(0,6)] + [200*i+2450 for i in range(0,6)])\n",
    "#he_widths = [60 for i in range(0,6)] + [100 for i in range (0,6)]\n",
    "#he_slices = [400*i+2000 for i in range(0,4)]\n",
    "#he_widths = [200 for i in range(0,4)]\n",
    "#bins = 150\n",
    "#he_slices = [50*i+1750 for i in range(0,6)] + [100*i+2100 for i in range(0,7)] + [200*i + 2850 for i in range(0,18)]\n",
    "#he_widths = [25 for i in range(0,15)] + [50 for i in range(0,7)] + [100 for i in range(0,18)]\n",
    "#bins = 90\n",
    "#CO_slices = [50*i+1700 for i in range(0,15)]\n",
    "#CO_widths = [25 for i in range(0,15)]\n",
    "#bins = 90\n",
    "\n",
    "#he_slices = [500*i+1750 for i in range(0,10)]\n",
    "#he_widths = [250 for i in range(0,10)]\n",
    "#bins = 60\n",
    "\n",
    "#he_slices = [10*i+1200 for i in range(0,201)] + [20*i+3220 for i in range (0,200)]\n",
    "#he_widths = [5 for i in range(0,201)] + [10 for i in range (0,200)]\n",
    "#bins = 60\n",
    "\n",
    "he_slices = [20*i+1200 for i in range(0,51)] + [40*i+2230 for i in range (0,51)] + [80*i+4290 for i in range (0,31)]\n",
    "he_widths = [10 for i in range(0,51)] + [20 for i in range (0,51)] + [40 for i in range (0,31)]\n",
    "bins = 101\n",
    "\n",
    "case1_l, case1_l_err, case1_He_res, case1_He_res_err, case1_CO_res, case1_CO_res_err, case1_E_He, case1_E_He_err, case1_E_CO, case1_E_CO_err = make_dataframes(uncorrected_recoils, uncorrected_red, slices = he_slices, widths = he_widths, bins = bins, ecor = False, lcor = 0)\n",
    "case2_l, case2_l_err, case2_He_res, case2_He_res_err, case2_CO_res, case2_CO_res_err, case2_E_He, case2_E_He_err, case2_E_CO, case2_E_CO_err = make_dataframes(corrected_recoils, corrected_red, slices = he_slices, widths = he_widths, bins = bins, ecor = True, lcor = 0)\n",
    "#case1_l, case1_l_err, case1_He_res, case1_He_res_err, case1_CO_res, case1_CO_res_err = make_dataframes(uncorrected_recoils, uncorrected_red, slices = CO_slices, widths = CO_widths, bins = bins, ecor = False, lcor = 0)\n",
    "#case2_l, case2_l_err, case2_He_res, case2_He_res_err, case2_CO_res, case2_CO_res_err = make_dataframes(corrected_recoils, corrected_red, slices = CO_slices, widths = CO_widths, bins = bins, ecor = True, lcor = 0)"
   ]
  },
  {
   "cell_type": "markdown",
   "metadata": {},
   "source": [
    "### Plot He recoil resolutions vs energy"
   ]
  },
  {
   "cell_type": "code",
   "execution_count": null,
   "metadata": {
    "scrolled": false
   },
   "outputs": [],
   "source": [
    "fig = plt.figure(figsize = (8,8))\n",
    "i = 0\n",
    "tpcs = [val for val in case1_l.columns]\n",
    "for tpc in tpcs:\n",
    "    plt.subplot(2,2,i+1)\n",
    "    plt.errorbar(case1_E_He[tpc], case1_He_res[tpc], case1_He_res_err[tpc], case1_E_He_err[tpc], 'o', markersize = 0.5, label = 'Uncorrected Energy', color = 'red')\n",
    "    plt.errorbar(case2_E_He[tpc], case2_He_res[tpc], case2_He_res_err[tpc], case2_E_He_err[tpc], 'o', markersize = 0.5, label = 'Corrected Energy', color = 'blue')\n",
    "    plt.xlabel('Energy [keV]')\n",
    "    plt.ylabel(r'$\\sigma_E$/E')\n",
    "    plt.title(tpc)\n",
    "    plt.ylim(0,0.25)\n",
    "    plt.xlim(0,400)\n",
    "    i+=1\n",
    "    plt.legend(loc = 'lower left')\n",
    "fig.tight_layout()\n",
    "#plt.savefig('energy_resolution_vs_E_highE.png')\n",
    "plt.show()"
   ]
  },
  {
   "cell_type": "markdown",
   "metadata": {},
   "source": [
    "### Plot He recoil resolutions vs L"
   ]
  },
  {
   "cell_type": "code",
   "execution_count": null,
   "metadata": {},
   "outputs": [],
   "source": [
    "fig = plt.figure(figsize = (8,8))\n",
    "i = 0\n",
    "tpcs = [val for val in case1_l.columns]\n",
    "for tpc in tpcs:\n",
    "    plt.subplot(2,2,i+1)\n",
    "    plt.errorbar(case1_l[tpc], case1_He_res[tpc], case1_He_res_err[tpc], case1_l_err[tpc], 'o', markersize = 0.5, label = 'Uncorrected Energy', color = 'red')\n",
    "    plt.errorbar(case2_l[tpc], case2_He_res[tpc], case2_He_res_err[tpc], case2_l_err[tpc], 'o', markersize = 0.5, label = 'Corrected Energy', color = 'blue')\n",
    "    plt.xlabel('Length [$\\mu$m]')\n",
    "    plt.ylabel(r'$\\sigma_E$/E')\n",
    "    plt.title(tpc)\n",
    "    plt.ylim(0,0.2)\n",
    "    plt.xlim(0,8000)\n",
    "    i+=1\n",
    "    plt.legend(loc = 'lower left')\n",
    "fig.tight_layout()\n",
    "#plt.savefig('energy_resolution_vs_l.png')\n",
    "plt.show()"
   ]
  },
  {
   "cell_type": "markdown",
   "metadata": {},
   "source": [
    "### Plot C/O recoil resolutions"
   ]
  },
  {
   "cell_type": "code",
   "execution_count": null,
   "metadata": {},
   "outputs": [],
   "source": [
    "fig = plt.figure(figsize = (8,8))\n",
    "i = 0\n",
    "tpcs = [val for val in case1_l.columns]\n",
    "for tpc in tpcs:\n",
    "    plt.subplot(2,2,i+1)\n",
    "    plt.errorbar(case1_E_CO[tpc], case1_CO_res[tpc], case1_CO_res_err[tpc], case1_E_CO_err[tpc], 'o', markersize = 0.5, label = 'Uncorrected Energy', color = 'red')\n",
    "    plt.errorbar(case2_E_CO[tpc], case2_CO_res[tpc], case2_CO_res_err[tpc], case2_E_CO_err[tpc], 'o', markersize = 0.5, label = 'Corrected Energy', color = 'blue')\n",
    "    plt.xlabel('Energy [keV]')\n",
    "    plt.ylabel(r'$\\sigma_E$/E')\n",
    "    plt.title(tpc)\n",
    "    plt.legend(loc = 'lower left')\n",
    "    plt.ylim(0,0.4)\n",
    "    plt.xlim(0,160)\n",
    "    i+=1\n",
    "fig.tight_layout()\n",
    "plt.savefig('CO_energy_resolution_vs_E.png')\n",
    "plt.show()"
   ]
  },
  {
   "cell_type": "markdown",
   "metadata": {},
   "source": [
    "### Testing smaller partitions of energy resolutions"
   ]
  },
  {
   "cell_type": "code",
   "execution_count": null,
   "metadata": {},
   "outputs": [],
   "source": [
    "\n",
    "palila = pd.DataFrame()\n",
    "palila['uE'] = case1_E_He['palila']\n",
    "palila['uE_err'] = case1_E_He_err['palila']\n",
    "palila['ul'] = case1_l['palila']\n",
    "palila['uHe'] = case1_He_res['palila']\n",
    "palila['uHe_err'] = case1_He_res_err['palila']\n",
    "palila['ul_err'] = case1_l_err['palila']\n",
    "palila['cl'] = case2_l['palila']\n",
    "palila['cHe'] = case2_He_res['palila']\n",
    "palila['cHe_err'] = case2_He_res_err['palila']\n",
    "palila['cl_err'] = case2_l_err['palila']\n",
    "palila['cE'] = case2_E_He['palila']\n",
    "palila['cE_err'] = case2_E_He_err['palila']\n",
    "\n",
    "iiwi = pd.DataFrame()\n",
    "iiwi['uE'] = case1_E_He['iiwi']\n",
    "iiwi['uE_err'] = case1_E_He_err['iiwi']\n",
    "iiwi['ul'] = case1_l['iiwi']\n",
    "iiwi['uHe'] = case1_He_res['iiwi']\n",
    "iiwi['uHe_err'] = case1_He_res_err['iiwi']\n",
    "iiwi['ul_err'] = case1_l_err['iiwi']\n",
    "iiwi['cl'] = case2_l['iiwi']\n",
    "iiwi['cHe'] = case2_He_res['iiwi']\n",
    "iiwi['cHe_err'] = case2_He_res_err['iiwi']\n",
    "iiwi['cl_err'] = case2_l_err['iiwi']\n",
    "iiwi['cE'] = case2_E_He['iiwi']\n",
    "iiwi['cE_err'] = case2_E_He_err['iiwi']\n",
    "\n",
    "tako = pd.DataFrame()\n",
    "tako['uE'] = case1_E_He['tako']\n",
    "tako['uE_err'] = case1_E_He_err['tako']\n",
    "tako['ul'] = case1_l['tako']\n",
    "tako['uHe'] = case1_He_res['tako']\n",
    "tako['uHe_err'] = case1_He_res_err['tako']\n",
    "tako['ul_err'] = case1_l_err['tako']\n",
    "tako['cl'] = case2_l['tako']\n",
    "tako['cHe'] = case2_He_res['tako']\n",
    "tako['cHe_err'] = case2_He_res_err['tako']\n",
    "tako['cl_err'] = case2_l_err['tako']\n",
    "tako['cE'] = case2_E_He['tako']\n",
    "tako['cE_err'] = case2_E_He_err['tako']\n",
    "\n",
    "nene = pd.DataFrame()\n",
    "nene['uE'] = case1_E_He['nene']\n",
    "nene['uE_err'] = case1_E_He_err['nene']\n",
    "nene['ul'] = case1_l['nene']\n",
    "nene['uHe'] = case1_He_res['nene']\n",
    "nene['uHe_err'] = case1_He_res_err['nene']\n",
    "nene['ul_err'] = case1_l_err['nene']\n",
    "nene['cl'] = case2_l['nene']\n",
    "nene['cHe'] = case2_He_res['nene']\n",
    "nene['cHe_err'] = case2_He_res_err['nene']\n",
    "nene['cl_err'] = case2_l_err['nene']\n",
    "nene['cE'] = case2_E_He['nene']\n",
    "nene['cE_err'] = case2_E_He_err['nene']\n",
    "\n",
    "results = {'iiwi': iiwi, 'nene': nene, 'tako': tako, 'palila': palila}\n",
    "\n",
    "#results = {'tako': tako}"
   ]
  },
  {
   "cell_type": "code",
   "execution_count": null,
   "metadata": {},
   "outputs": [],
   "source": [
    "fig = plt.figure(figsize = (8,8))\n",
    "j = 1\n",
    "n = 16\n",
    "for tpc in results.keys():\n",
    "    plt.subplot(2,2,j)\n",
    "    for i in range(0,n):\n",
    "        ulerr = np.sqrt((np.array_split(results[tpc].dropna(),n)[i]['ul_err']**2).sum())/np.sqrt(n)\n",
    "        uheerr = np.sqrt((np.array_split(results[tpc].dropna(),n)[i]['uHe_err']**2).sum())/np.sqrt(n)\n",
    "        clerr = np.sqrt((np.array_split(results[tpc].dropna(),n)[i]['cl_err']**2).sum())/np.sqrt(n)\n",
    "        cheerr = np.sqrt((np.array_split(results[tpc].dropna(),n)[i]['cHe_err']**2).sum())/np.sqrt(n)\n",
    "        plt.errorbar(np.array_split(results[tpc].dropna(),n)[i]['ul'].mean(), np.array_split(results[tpc].dropna(),n)[i]['uHe'].mean(), uheerr, ulerr, 'o', markersize = 4, label = 'Uncorrected Energy', color = 'red')\n",
    "        plt.errorbar(np.array_split(results[tpc].dropna(),n)[i]['cl'].mean(), np.array_split(results[tpc].dropna(),n)[i]['cHe'].mean(), cheerr, clerr, 'o', markersize = 4, label = 'Corrected Energy', color = 'blue')\n",
    "    plt.xlabel('Length [$\\mu$m]')\n",
    "    plt.ylabel(r'$\\sigma_E$/E')\n",
    "    plt.title(tpc)\n",
    "    plt.ylim(0,0.25)\n",
    "    plt.xlim(0,8000)\n",
    "    j+=1\n",
    "    #plt.legend(loc = 'lower left')\n",
    "fig.tight_layout()\n",
    "#plt.savefig('energy_resolution_vs_l.png')\n",
    "plt.show()"
   ]
  },
  {
   "cell_type": "code",
   "execution_count": null,
   "metadata": {},
   "outputs": [],
   "source": [
    "fig = plt.figure(figsize = (8,8))\n",
    "j = 1\n",
    "n = 16\n",
    "for tpc in results.keys():\n",
    "    plt.subplot(2,2,j)\n",
    "    for i in range(0,n):\n",
    "        #ulerr = np.sqrt((np.array_split(results[tpc].dropna(),n)[i]['uE_err']**2).sum())/np.sqrt(n)\n",
    "        #uheerr = np.sqrt((np.array_split(results[tpc].dropna(),n)[i]['uHe_err']**2).sum())/np.sqrt(n)\n",
    "        clerr = np.sqrt((np.array_split(results[tpc].dropna(),n)[i]['cE_err']**2).sum())/np.sqrt(n)\n",
    "        cheerr = np.sqrt((np.array_split(results[tpc].dropna(),n)[i]['cHe_err']**2).sum())/np.sqrt(n)\n",
    "        #plt.errorbar(np.array_split(results[tpc].dropna(),n)[i]['uE'].mean(), np.array_split(results[tpc].dropna(),n)[i]['uHe'].mean(), uheerr, ulerr, 'o', markersize = 4, label = 'Uncorrected Energy', color = 'red')\n",
    "        plt.errorbar(np.array_split(results[tpc].dropna(),n)[i]['cE'].mean(), np.array_split(results[tpc].dropna(),n)[i]['cHe'].mean(), cheerr, clerr, 'o', markersize = 4, label = 'Corrected Energy', color = 'blue')\n",
    "    plt.xlabel('E [keV]')\n",
    "    plt.ylabel(r'$\\sigma_E$/E')\n",
    "    plt.title(tpc)\n",
    "    plt.ylim(0,0.25)\n",
    "    #plt.xlim(0,8000)\n",
    "    j+=1\n",
    "    #plt.legend(loc = 'lower left')\n",
    "fig.tight_layout()\n",
    "#plt.savefig('energy_resolution_vs_l.png')\n",
    "plt.show()"
   ]
  },
  {
   "cell_type": "code",
   "execution_count": null,
   "metadata": {},
   "outputs": [],
   "source": []
  }
 ],
 "metadata": {
  "kernelspec": {
   "display_name": "Python 3",
   "language": "python",
   "name": "python3"
  },
  "language_info": {
   "codemirror_mode": {
    "name": "ipython",
    "version": 3
   },
   "file_extension": ".py",
   "mimetype": "text/x-python",
   "name": "python",
   "nbconvert_exporter": "python",
   "pygments_lexer": "ipython3",
   "version": "3.8.5"
  }
 },
 "nbformat": 4,
 "nbformat_minor": 2
}
