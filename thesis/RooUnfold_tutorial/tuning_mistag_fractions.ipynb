{
 "cells": [
  {
   "cell_type": "code",
   "execution_count": 1,
   "metadata": {},
   "outputs": [
    {
     "name": "stdout",
     "output_type": "stream",
     "text": [
      "Welcome to JupyROOT 6.22/02\n"
     ]
    }
   ],
   "source": [
    "import root_pandas as rp\n",
    "import pandas as pd\n",
    "import matplotlib.pyplot as plt\n",
    "import numpy as np\n",
    "import ROOT\n",
    "import array\n",
    "import matplotlib\n",
    "from matplotlib import rc #for custom label formatting\n",
    "'''Make larger axes labels for plots for papers and such'''\n",
    "matplotlib.rcParams['text.usetex'] = False\n",
    "matplotlib.rcParams[\"figure.titlesize\"] = 30\n",
    "plt.rc('legend', fontsize=18)\n",
    "plt.rc('xtick', labelsize=24)\n",
    "plt.rc('ytick', labelsize=24)\n",
    "plt.rc('axes', labelsize=26)\n",
    "plt.rc('axes', titlesize=26)"
   ]
  },
  {
   "cell_type": "code",
   "execution_count": 24,
   "metadata": {},
   "outputs": [],
   "source": [
    "#B = rp.read_root('/home/jeff/data/thesis_data/combined_reco_ntuples/merged_events.root', key='B')\n",
    "\n",
    "e = rp.read_root('/home/jeff/data/thesis_data/combined_reco_ntuples/merged_leptons.root',key='e')\n",
    "mu = rp.read_root('/home/jeff/data/thesis_data/combined_reco_ntuples/merged_leptons.root',key='mu')\n",
    "truth_e = rp.read_root('/home/jeff/data/thesis_data/combined_reco_ntuples/merged_leptons.root',key='e_truth')\n",
    "truth_mu = rp.read_root('/home/jeff/data/thesis_data/combined_reco_ntuples/merged_leptons.root',key='mu_truth')\n",
    "truth_B = rp.read_root('/home/jeff/data/thesis_data/combined_reco_ntuples/merged_leptons.root',key='B_truth')\n",
    "e2 = rp.read_root('/home/jeff/data/thesis_data/combined_reco_ntuples/merged_leptons2.root',key='e')\n",
    "mu2 = rp.read_root('/home/jeff/data/thesis_data/combined_reco_ntuples/merged_leptons2.root',key='mu')\n",
    "truth_e2 = rp.read_root('/home/jeff/data/thesis_data/combined_reco_ntuples/merged_leptons2.root',key='e_truth')\n",
    "truth_mu2 = rp.read_root('/home/jeff/data/thesis_data/combined_reco_ntuples/merged_leptons2.root',key='mu_truth')\n",
    "truth_B2 = rp.read_root('/home/jeff/data/thesis_data/combined_reco_ntuples/merged_leptons2.root',key='B_truth')"
   ]
  },
  {
   "cell_type": "markdown",
   "metadata": {},
   "source": [
    "# Test Lepton ID"
   ]
  },
  {
   "cell_type": "code",
   "execution_count": 287,
   "metadata": {},
   "outputs": [],
   "source": [
    "#e_red = e.loc[(e['muIDBelleQuality']<0.9) & (e['eIDBelle']>0.2)]\n",
    "#mu_red = mu.loc[(mu['muIDBelleQuality']>0.9) & (mu['muIDBelle']>0.4) & (mu['eIDBelle']<0.2)]\n",
    "#e_red2 = e2.loc[(e2['muIDBelleQuality']<0.9) & (e2['eIDBelle']>0.2)]\n",
    "#mu_red2 = mu2.loc[(mu2['muIDBelleQuality']>0.9) & (mu2['muIDBelle']>0.4) & (mu2['eIDBelle']<0.2)]\n",
    "#e_red = e.loc[(e['muIDBelle']!=1) & (e['eIDBelle']!=0) & (e['eIDBelle']<0.9999)] # USE THIS FOR LARGE MISTAG FRACZ\\\n",
    "#mu_red = mu.loc[(mu['muIDBelle']!=0) & (mu['eIDBelle']!=1) & (mu['muIDBelle']<0.992)]\n",
    "e_red = e.loc[(e['muIDBelle']!=1) & (e['eIDBelle']>0.001)] # USE THIS FOR LARGE MISTAG FRACZ\\\n",
    "mu_red = mu.loc[(mu['muIDBelle']>0.01) & (mu['eIDBelle']<0.999)]\n",
    "e_red2 = e2.loc[(e2['muIDBelle']!=1) & (e2['eIDBelle']>0.001)] # USE THIS FOR LARGE MISTAG FRACZ\\\n",
    "mu_red2 = mu2.loc[(mu2['muIDBelle']>0.01) & (mu2['eIDBelle']<0.999)]"
   ]
  },
  {
   "cell_type": "code",
   "execution_count": 288,
   "metadata": {},
   "outputs": [],
   "source": [
    "esig_orig = e.loc[e['isSignal']==1]\n",
    "ebg_orig = e.loc[e['isSignal']!=1]\n",
    "esig_red = e_red.loc[e_red['isSignal']==1]\n",
    "ebg_red = e_red.loc[e_red['isSignal']!=1]"
   ]
  },
  {
   "cell_type": "code",
   "execution_count": 289,
   "metadata": {},
   "outputs": [
    {
     "data": {
      "text/plain": [
       "0.9673658699649006"
      ]
     },
     "execution_count": 289,
     "metadata": {},
     "output_type": "execute_result"
    }
   ],
   "source": [
    "len(esig_red)/len(e_red)\n",
    "#len(esig_red)/len(esig_orig)"
   ]
  },
  {
   "cell_type": "code",
   "execution_count": 290,
   "metadata": {},
   "outputs": [],
   "source": [
    "musig_orig = mu.loc[mu['isSignal']==1]\n",
    "mubg_orig = mu.loc[mu['isSignal']!=1]\n",
    "musig_red = mu_red.loc[mu_red['isSignal']==1]\n",
    "mubg_red = mu_red.loc[mu_red['isSignal']!=1]"
   ]
  },
  {
   "cell_type": "code",
   "execution_count": 291,
   "metadata": {},
   "outputs": [
    {
     "data": {
      "text/plain": [
       "0.9407582938388626"
      ]
     },
     "execution_count": 291,
     "metadata": {},
     "output_type": "execute_result"
    }
   ],
   "source": [
    "len(musig_red)/len(mu_red)\n",
    "#len(musig_red)/len(musig_orig)\n",
    "#len(mubg_red)/len(mu_red)"
   ]
  },
  {
   "cell_type": "code",
   "execution_count": 292,
   "metadata": {},
   "outputs": [],
   "source": [
    "lepton = e_red.append(mu_red).sort_values(by='__event__')\n",
    "lepton2 = e_red2.append(mu_red2).sort_values(by='__event__')"
   ]
  },
  {
   "cell_type": "code",
   "execution_count": 293,
   "metadata": {},
   "outputs": [
    {
     "name": "stderr",
     "output_type": "stream",
     "text": [
      "/home/jeff/anaconda3/envs/root_env/lib/python3.6/site-packages/ipykernel_launcher.py:6: SettingWithCopyWarning: \n",
      "A value is trying to be set on a copy of a slice from a DataFrame.\n",
      "Try using .loc[row_indexer,col_indexer] = value instead\n",
      "\n",
      "See the caveats in the documentation: https://pandas.pydata.org/pandas-docs/stable/user_guide/indexing.html#returning-a-view-versus-a-copy\n",
      "  \n",
      "/home/jeff/anaconda3/envs/root_env/lib/python3.6/site-packages/ipykernel_launcher.py:7: SettingWithCopyWarning: \n",
      "A value is trying to be set on a copy of a slice from a DataFrame.\n",
      "Try using .loc[row_indexer,col_indexer] = value instead\n",
      "\n",
      "See the caveats in the documentation: https://pandas.pydata.org/pandas-docs/stable/user_guide/indexing.html#returning-a-view-versus-a-copy\n",
      "  import sys\n",
      "/home/jeff/anaconda3/envs/root_env/lib/python3.6/site-packages/ipykernel_launcher.py:17: SettingWithCopyWarning: \n",
      "A value is trying to be set on a copy of a slice from a DataFrame\n",
      "\n",
      "See the caveats in the documentation: https://pandas.pydata.org/pandas-docs/stable/user_guide/indexing.html#returning-a-view-versus-a-copy\n",
      "/home/jeff/anaconda3/envs/root_env/lib/python3.6/site-packages/pandas/core/indexing.py:670: SettingWithCopyWarning: \n",
      "A value is trying to be set on a copy of a slice from a DataFrame\n",
      "\n",
      "See the caveats in the documentation: https://pandas.pydata.org/pandas-docs/stable/user_guide/indexing.html#returning-a-view-versus-a-copy\n",
      "  iloc._setitem_with_indexer(indexer, value)\n",
      "/home/jeff/anaconda3/envs/root_env/lib/python3.6/site-packages/ipykernel_launcher.py:26: SettingWithCopyWarning: \n",
      "A value is trying to be set on a copy of a slice from a DataFrame\n",
      "\n",
      "See the caveats in the documentation: https://pandas.pydata.org/pandas-docs/stable/user_guide/indexing.html#returning-a-view-versus-a-copy\n",
      "/home/jeff/anaconda3/envs/root_env/lib/python3.6/site-packages/pandas/core/indexing.py:670: SettingWithCopyWarning: \n",
      "A value is trying to be set on a copy of a slice from a DataFrame\n",
      "\n",
      "See the caveats in the documentation: https://pandas.pydata.org/pandas-docs/stable/user_guide/indexing.html#returning-a-view-versus-a-copy\n",
      "  iloc._setitem_with_indexer(indexer, value)\n",
      "/home/jeff/anaconda3/envs/root_env/lib/python3.6/site-packages/ipykernel_launcher.py:27: SettingWithCopyWarning: \n",
      "A value is trying to be set on a copy of a slice from a DataFrame\n",
      "\n",
      "See the caveats in the documentation: https://pandas.pydata.org/pandas-docs/stable/user_guide/indexing.html#returning-a-view-versus-a-copy\n",
      "/home/jeff/anaconda3/envs/root_env/lib/python3.6/site-packages/ipykernel_launcher.py:28: SettingWithCopyWarning: \n",
      "A value is trying to be set on a copy of a slice from a DataFrame\n",
      "\n",
      "See the caveats in the documentation: https://pandas.pydata.org/pandas-docs/stable/user_guide/indexing.html#returning-a-view-versus-a-copy\n",
      "/home/jeff/anaconda3/envs/root_env/lib/python3.6/site-packages/ipykernel_launcher.py:29: SettingWithCopyWarning: \n",
      "A value is trying to be set on a copy of a slice from a DataFrame\n",
      "\n",
      "See the caveats in the documentation: https://pandas.pydata.org/pandas-docs/stable/user_guide/indexing.html#returning-a-view-versus-a-copy\n",
      "/home/jeff/anaconda3/envs/root_env/lib/python3.6/site-packages/ipykernel_launcher.py:32: RuntimeWarning: invalid value encountered in sqrt\n",
      "/home/jeff/anaconda3/envs/root_env/lib/python3.6/site-packages/ipykernel_launcher.py:34: RuntimeWarning: invalid value encountered in sqrt\n",
      "/home/jeff/anaconda3/envs/root_env/lib/python3.6/site-packages/ipykernel_launcher.py:6: SettingWithCopyWarning: \n",
      "A value is trying to be set on a copy of a slice from a DataFrame.\n",
      "Try using .loc[row_indexer,col_indexer] = value instead\n",
      "\n",
      "See the caveats in the documentation: https://pandas.pydata.org/pandas-docs/stable/user_guide/indexing.html#returning-a-view-versus-a-copy\n",
      "  \n",
      "/home/jeff/anaconda3/envs/root_env/lib/python3.6/site-packages/ipykernel_launcher.py:7: SettingWithCopyWarning: \n",
      "A value is trying to be set on a copy of a slice from a DataFrame.\n",
      "Try using .loc[row_indexer,col_indexer] = value instead\n",
      "\n",
      "See the caveats in the documentation: https://pandas.pydata.org/pandas-docs/stable/user_guide/indexing.html#returning-a-view-versus-a-copy\n",
      "  import sys\n",
      "/home/jeff/anaconda3/envs/root_env/lib/python3.6/site-packages/ipykernel_launcher.py:17: SettingWithCopyWarning: \n",
      "A value is trying to be set on a copy of a slice from a DataFrame\n",
      "\n",
      "See the caveats in the documentation: https://pandas.pydata.org/pandas-docs/stable/user_guide/indexing.html#returning-a-view-versus-a-copy\n",
      "/home/jeff/anaconda3/envs/root_env/lib/python3.6/site-packages/pandas/core/indexing.py:670: SettingWithCopyWarning: \n",
      "A value is trying to be set on a copy of a slice from a DataFrame\n",
      "\n",
      "See the caveats in the documentation: https://pandas.pydata.org/pandas-docs/stable/user_guide/indexing.html#returning-a-view-versus-a-copy\n",
      "  iloc._setitem_with_indexer(indexer, value)\n",
      "/home/jeff/anaconda3/envs/root_env/lib/python3.6/site-packages/ipykernel_launcher.py:26: SettingWithCopyWarning: \n",
      "A value is trying to be set on a copy of a slice from a DataFrame\n",
      "\n",
      "See the caveats in the documentation: https://pandas.pydata.org/pandas-docs/stable/user_guide/indexing.html#returning-a-view-versus-a-copy\n",
      "/home/jeff/anaconda3/envs/root_env/lib/python3.6/site-packages/pandas/core/indexing.py:670: SettingWithCopyWarning: \n",
      "A value is trying to be set on a copy of a slice from a DataFrame\n",
      "\n",
      "See the caveats in the documentation: https://pandas.pydata.org/pandas-docs/stable/user_guide/indexing.html#returning-a-view-versus-a-copy\n",
      "  iloc._setitem_with_indexer(indexer, value)\n",
      "/home/jeff/anaconda3/envs/root_env/lib/python3.6/site-packages/ipykernel_launcher.py:27: SettingWithCopyWarning: \n",
      "A value is trying to be set on a copy of a slice from a DataFrame\n",
      "\n",
      "See the caveats in the documentation: https://pandas.pydata.org/pandas-docs/stable/user_guide/indexing.html#returning-a-view-versus-a-copy\n",
      "/home/jeff/anaconda3/envs/root_env/lib/python3.6/site-packages/ipykernel_launcher.py:28: SettingWithCopyWarning: \n",
      "A value is trying to be set on a copy of a slice from a DataFrame\n",
      "\n",
      "See the caveats in the documentation: https://pandas.pydata.org/pandas-docs/stable/user_guide/indexing.html#returning-a-view-versus-a-copy\n",
      "/home/jeff/anaconda3/envs/root_env/lib/python3.6/site-packages/ipykernel_launcher.py:29: SettingWithCopyWarning: \n",
      "A value is trying to be set on a copy of a slice from a DataFrame\n",
      "\n",
      "See the caveats in the documentation: https://pandas.pydata.org/pandas-docs/stable/user_guide/indexing.html#returning-a-view-versus-a-copy\n",
      "/home/jeff/anaconda3/envs/root_env/lib/python3.6/site-packages/ipykernel_launcher.py:32: RuntimeWarning: invalid value encountered in sqrt\n",
      "/home/jeff/anaconda3/envs/root_env/lib/python3.6/site-packages/ipykernel_launcher.py:34: RuntimeWarning: invalid value encountered in sqrt\n",
      "/home/jeff/anaconda3/envs/root_env/lib/python3.6/site-packages/ipykernel_launcher.py:6: SettingWithCopyWarning: \n",
      "A value is trying to be set on a copy of a slice from a DataFrame.\n",
      "Try using .loc[row_indexer,col_indexer] = value instead\n",
      "\n",
      "See the caveats in the documentation: https://pandas.pydata.org/pandas-docs/stable/user_guide/indexing.html#returning-a-view-versus-a-copy\n",
      "  \n",
      "/home/jeff/anaconda3/envs/root_env/lib/python3.6/site-packages/ipykernel_launcher.py:7: SettingWithCopyWarning: \n",
      "A value is trying to be set on a copy of a slice from a DataFrame.\n",
      "Try using .loc[row_indexer,col_indexer] = value instead\n",
      "\n",
      "See the caveats in the documentation: https://pandas.pydata.org/pandas-docs/stable/user_guide/indexing.html#returning-a-view-versus-a-copy\n",
      "  import sys\n",
      "/home/jeff/anaconda3/envs/root_env/lib/python3.6/site-packages/ipykernel_launcher.py:17: SettingWithCopyWarning: \n",
      "A value is trying to be set on a copy of a slice from a DataFrame\n",
      "\n",
      "See the caveats in the documentation: https://pandas.pydata.org/pandas-docs/stable/user_guide/indexing.html#returning-a-view-versus-a-copy\n",
      "/home/jeff/anaconda3/envs/root_env/lib/python3.6/site-packages/pandas/core/indexing.py:670: SettingWithCopyWarning: \n",
      "A value is trying to be set on a copy of a slice from a DataFrame\n",
      "\n",
      "See the caveats in the documentation: https://pandas.pydata.org/pandas-docs/stable/user_guide/indexing.html#returning-a-view-versus-a-copy\n",
      "  iloc._setitem_with_indexer(indexer, value)\n",
      "/home/jeff/anaconda3/envs/root_env/lib/python3.6/site-packages/ipykernel_launcher.py:26: SettingWithCopyWarning: \n",
      "A value is trying to be set on a copy of a slice from a DataFrame\n",
      "\n",
      "See the caveats in the documentation: https://pandas.pydata.org/pandas-docs/stable/user_guide/indexing.html#returning-a-view-versus-a-copy\n",
      "/home/jeff/anaconda3/envs/root_env/lib/python3.6/site-packages/pandas/core/indexing.py:670: SettingWithCopyWarning: \n",
      "A value is trying to be set on a copy of a slice from a DataFrame\n",
      "\n",
      "See the caveats in the documentation: https://pandas.pydata.org/pandas-docs/stable/user_guide/indexing.html#returning-a-view-versus-a-copy\n",
      "  iloc._setitem_with_indexer(indexer, value)\n",
      "/home/jeff/anaconda3/envs/root_env/lib/python3.6/site-packages/ipykernel_launcher.py:27: SettingWithCopyWarning: \n",
      "A value is trying to be set on a copy of a slice from a DataFrame\n",
      "\n",
      "See the caveats in the documentation: https://pandas.pydata.org/pandas-docs/stable/user_guide/indexing.html#returning-a-view-versus-a-copy\n",
      "/home/jeff/anaconda3/envs/root_env/lib/python3.6/site-packages/ipykernel_launcher.py:28: SettingWithCopyWarning: \n",
      "A value is trying to be set on a copy of a slice from a DataFrame\n",
      "\n",
      "See the caveats in the documentation: https://pandas.pydata.org/pandas-docs/stable/user_guide/indexing.html#returning-a-view-versus-a-copy\n",
      "/home/jeff/anaconda3/envs/root_env/lib/python3.6/site-packages/ipykernel_launcher.py:29: SettingWithCopyWarning: \n",
      "A value is trying to be set on a copy of a slice from a DataFrame\n",
      "\n",
      "See the caveats in the documentation: https://pandas.pydata.org/pandas-docs/stable/user_guide/indexing.html#returning-a-view-versus-a-copy\n",
      "/home/jeff/anaconda3/envs/root_env/lib/python3.6/site-packages/ipykernel_launcher.py:32: RuntimeWarning: invalid value encountered in sqrt\n",
      "/home/jeff/anaconda3/envs/root_env/lib/python3.6/site-packages/ipykernel_launcher.py:34: RuntimeWarning: invalid value encountered in sqrt\n",
      "/home/jeff/anaconda3/envs/root_env/lib/python3.6/site-packages/ipykernel_launcher.py:6: SettingWithCopyWarning: \n",
      "A value is trying to be set on a copy of a slice from a DataFrame.\n",
      "Try using .loc[row_indexer,col_indexer] = value instead\n",
      "\n",
      "See the caveats in the documentation: https://pandas.pydata.org/pandas-docs/stable/user_guide/indexing.html#returning-a-view-versus-a-copy\n",
      "  \n",
      "/home/jeff/anaconda3/envs/root_env/lib/python3.6/site-packages/ipykernel_launcher.py:7: SettingWithCopyWarning: \n",
      "A value is trying to be set on a copy of a slice from a DataFrame.\n",
      "Try using .loc[row_indexer,col_indexer] = value instead\n",
      "\n",
      "See the caveats in the documentation: https://pandas.pydata.org/pandas-docs/stable/user_guide/indexing.html#returning-a-view-versus-a-copy\n",
      "  import sys\n"
     ]
    },
    {
     "name": "stderr",
     "output_type": "stream",
     "text": [
      "/home/jeff/anaconda3/envs/root_env/lib/python3.6/site-packages/ipykernel_launcher.py:17: SettingWithCopyWarning: \n",
      "A value is trying to be set on a copy of a slice from a DataFrame\n",
      "\n",
      "See the caveats in the documentation: https://pandas.pydata.org/pandas-docs/stable/user_guide/indexing.html#returning-a-view-versus-a-copy\n",
      "/home/jeff/anaconda3/envs/root_env/lib/python3.6/site-packages/pandas/core/indexing.py:670: SettingWithCopyWarning: \n",
      "A value is trying to be set on a copy of a slice from a DataFrame\n",
      "\n",
      "See the caveats in the documentation: https://pandas.pydata.org/pandas-docs/stable/user_guide/indexing.html#returning-a-view-versus-a-copy\n",
      "  iloc._setitem_with_indexer(indexer, value)\n",
      "/home/jeff/anaconda3/envs/root_env/lib/python3.6/site-packages/ipykernel_launcher.py:26: SettingWithCopyWarning: \n",
      "A value is trying to be set on a copy of a slice from a DataFrame\n",
      "\n",
      "See the caveats in the documentation: https://pandas.pydata.org/pandas-docs/stable/user_guide/indexing.html#returning-a-view-versus-a-copy\n",
      "/home/jeff/anaconda3/envs/root_env/lib/python3.6/site-packages/pandas/core/indexing.py:670: SettingWithCopyWarning: \n",
      "A value is trying to be set on a copy of a slice from a DataFrame\n",
      "\n",
      "See the caveats in the documentation: https://pandas.pydata.org/pandas-docs/stable/user_guide/indexing.html#returning-a-view-versus-a-copy\n",
      "  iloc._setitem_with_indexer(indexer, value)\n",
      "/home/jeff/anaconda3/envs/root_env/lib/python3.6/site-packages/ipykernel_launcher.py:27: SettingWithCopyWarning: \n",
      "A value is trying to be set on a copy of a slice from a DataFrame\n",
      "\n",
      "See the caveats in the documentation: https://pandas.pydata.org/pandas-docs/stable/user_guide/indexing.html#returning-a-view-versus-a-copy\n",
      "/home/jeff/anaconda3/envs/root_env/lib/python3.6/site-packages/ipykernel_launcher.py:28: SettingWithCopyWarning: \n",
      "A value is trying to be set on a copy of a slice from a DataFrame\n",
      "\n",
      "See the caveats in the documentation: https://pandas.pydata.org/pandas-docs/stable/user_guide/indexing.html#returning-a-view-versus-a-copy\n",
      "/home/jeff/anaconda3/envs/root_env/lib/python3.6/site-packages/ipykernel_launcher.py:29: SettingWithCopyWarning: \n",
      "A value is trying to be set on a copy of a slice from a DataFrame\n",
      "\n",
      "See the caveats in the documentation: https://pandas.pydata.org/pandas-docs/stable/user_guide/indexing.html#returning-a-view-versus-a-copy\n",
      "/home/jeff/anaconda3/envs/root_env/lib/python3.6/site-packages/ipykernel_launcher.py:32: RuntimeWarning: invalid value encountered in sqrt\n",
      "/home/jeff/anaconda3/envs/root_env/lib/python3.6/site-packages/ipykernel_launcher.py:34: RuntimeWarning: invalid value encountered in sqrt\n"
     ]
    }
   ],
   "source": [
    "def create_lepton_analysis_dataframe(df = lepton, Bs = truth_B):\n",
    "    df['counts/event'] = 1 #placeholder to select on events with 2 reconstructed dfs\n",
    "    tab = pd.pivot_table(df, values='counts/event', index=['__event__'], aggfunc=np.sum) #determine # of dfs in event\n",
    "    tab.loc[tab['counts/event'] == 2].index.to_numpy() #only keep event numbers with 2 reconstructed dfs\n",
    "    pairs = df.loc[df['__event__'].isin(tab.loc[tab['counts/event']==2].index.to_numpy())] #dataframe with event-wise pairs of dfs\n",
    "    pairs['truth_dz'] = Bs.loc[Bs['__event__'].isin(pairs['__event__'].to_numpy())]['mcDecayVertexFromIPZ'].to_numpy()\n",
    "    pairs['B_PDG'] = Bs.loc[Bs['__event__'].isin(pairs['__event__'].to_numpy())]['mcPDG'].to_numpy()\n",
    "    tmp = pairs.groupby('__event__').diff() #group by differences of events to get quantities like deltaT and to determine mistag\n",
    "    tmp.dropna(subset = ['z'], inplace = True)\n",
    "    tmp.index = [i for i in range(0,len(tmp))]\n",
    "    tmp['deltaT'] = tmp['dz']/(0.425*3e10)*1e12\n",
    "    tmp['mcDeltaT'] = tmp['truth_dz']/(0.425*3e10)*1e12\n",
    "    tmp['deltaT'] = np.abs(tmp['deltaT'])\n",
    "    tmp['mcDeltaT'] = np.abs(tmp['mcDeltaT'])\n",
    "    tmp['mistag'] = 0\n",
    "    index = tmp.loc[((tmp['charge']==0) & (tmp['B_PDG']!=0)) | ((tmp['charge']!=0) & (tmp['B_PDG']==0))].index.to_numpy()\n",
    "    tmp['mistag'][index] = 1\n",
    "    tmp['SF']=0\n",
    "    tmp['OF']=0\n",
    "    tmp['SF_truth']=0\n",
    "    tmp['OF_truth']=0\n",
    "    index1 = tmp.loc[tmp['charge']==0].index.to_numpy()\n",
    "    index2 = tmp.loc[tmp['charge']!=0].index.to_numpy()\n",
    "    tindex1 = tmp.loc[tmp['B_PDG']==0].index.to_numpy()\n",
    "    tindex2 = tmp.loc[tmp['B_PDG']!=0].index.to_numpy()\n",
    "    tmp['SF'][index1]=1\n",
    "    tmp['OF'][index2]=1\n",
    "    tmp['SF_truth'][tindex1]=1\n",
    "    tmp['OF_truth'][tindex2]=1\n",
    "    tmp['counts'] = 1 #to count events in grouped bins\n",
    "    test = tmp.groupby(pd.cut(tmp['deltaT'],bins = [0,0.5] + [i for i in range(1,7)] + [7,9,13,20])).sum()\n",
    "    test_err = np.sqrt(tmp.groupby(pd.cut(tmp['deltaT'],bins = [0,0.5] + [i for i in range(1,7)] + [7,9,13,20])).sum())\n",
    "    test_truth = tmp.groupby(pd.cut(tmp['mcDeltaT'],bins = [0,0.5] + [i for i in range(1,7)] + [7,9,13,20])).sum()\n",
    "    test_truth_err = np.sqrt(tmp.groupby(pd.cut(tmp['mcDeltaT'],bins = [0,0.5] + [i for i in range(1,7)] + [7,9,13,20])).sum())\n",
    "    test['A'] = (test['OF']-test['SF'])/(test['OF']+test['SF'])\n",
    "    test_err['A'] = np.abs(test['A'])*np.sqrt((np.sqrt(test_err['OF']**2+test_err['SF']**2)/(test['OF']-test['SF']))**2 + (np.sqrt(test_err['OF']**2+test_err['SF']**2)/(test['OF']+test['SF']))**2)\n",
    "    test['A_truth'] = (test['OF_truth']-test['SF_truth'])/(test['OF_truth']+test['SF_truth'])\n",
    "    test_err['A_truth'] = np.abs(test['A_truth'])*np.sqrt((np.sqrt(test_err['OF_truth']**2+test_err['SF_truth']**2)/(test['OF_truth']-test['SF_truth']))**2 + (np.sqrt(test_err['OF_truth']**2+test_err['SF_truth']**2)/(test['OF_truth']+test['SF_truth']))**2)\n",
    "    test_truth['A'] = (test_truth['OF']-test_truth['SF'])/(test_truth['OF']+test_truth['SF'])\n",
    "    test_truth_err['A'] = np.abs(test_truth['A'])*np.sqrt((np.sqrt(test_truth_err['OF']**2+test_truth_err['SF']**2)/(test_truth['OF']-test_truth['SF']))**2 + (np.sqrt(test_truth_err['OF']**2+test_truth_err['SF']**2)/(test_truth['OF']+test_truth['SF']))**2)\n",
    "    test_truth['A_truth'] = (test_truth['OF_truth']-test_truth['SF_truth'])/(test_truth['OF_truth']+test_truth['SF_truth'])\n",
    "    test_truth_err['A_truth'] = np.abs(test_truth['A_truth'])*np.sqrt((np.sqrt(test_truth_err['OF_truth']**2+test_truth_err['SF_truth']**2)/(test_truth['OF_truth']-test_truth['SF_truth']))**2 + (np.sqrt(test_truth_err['OF_truth']**2+test_truth_err['SF_truth']**2)/(test_truth['OF_truth']+test_truth['SF_truth']))**2)\n",
    "    \n",
    "    return tmp, test[['OF','SF','OF_truth','SF_truth','A','A_truth','counts','mistag']], test_err[['OF','SF','OF_truth','SF_truth','A','A_truth','counts','mistag']], test_truth[['OF','SF','OF_truth','SF_truth','A','A_truth','counts','mistag']], test_truth_err[['OF','SF','OF_truth','SF_truth','A','A_truth','counts','mistag']]\n",
    "\n",
    "data, deltaT, deltaT_err, truth_deltaT, truth_deltaT_err = create_lepton_analysis_dataframe(lepton, truth_B)\n",
    "data2, deltaT2, deltaT_err2, truth_deltaT2, truth_deltaT_err2 = create_lepton_analysis_dataframe(lepton2, truth_B2)\n",
    "signal = e.loc[e['isSignal']==1].append(mu.loc[mu['isSignal']==1]).sort_values(by='__event__')\n",
    "signal2 = e2.loc[e2['isSignal']==1].append(mu2.loc[mu2['isSignal']==1]).sort_values(by='__event__')\n",
    "truth = create_lepton_analysis_dataframe(signal, truth_B)[0]\n",
    "truth2 = create_lepton_analysis_dataframe(signal2, truth_B2)[0]"
   ]
  },
  {
   "cell_type": "code",
   "execution_count": null,
   "metadata": {},
   "outputs": [],
   "source": [
    "def root_fit(plot_data, A, A_err): #fits cosine curve to data (asymmetry computed from binning)\n",
    "    x1 = array.array('d', [0.25,0.75,1.5,2.5,3.5,4.5,5.5,6.5,8,11,16.5])\n",
    "    y = array.array('d', A)\n",
    "    xerr = array.array('d', [0 for i in range(0,len(x1))])\n",
    "    #xerr = array.array('d', [0.25, 0.25, 0.5, 0.5 ,0.5, 0.5, 0.5, 0.5, 1, 2, 3.5])\n",
    "    yerr = array.array('d', A_err)\n",
    "    gr = ROOT.TGraphErrors(len(x1), x1, y, xerr, yerr)\n",
    "    f = ROOT.TF1('f1', '[0]*cos(0.496*x)', 0, 16.5)\n",
    "    gr.Fit('f1', 'SMRB')\n",
    "    fitdict = {\"Amp\":f.GetParameter(0), \"Amp_err\":f.GetParError(0)}\n",
    "    return fitdict\n",
    "\n",
    "e_cut = [e.loc[(e['muIDBelle']!=1) & (e['eIDBelle']!=0) & (e['eIDBelle']<0.9999)], e.loc[(e['muIDBelle']!=1) & (e['eIDBelle']!=0) & (e['eIDBelle']<0.999)],\n",
    "         e.loc[(e['muIDBelle']<0.9) & (e['eIDBelle']>0.1)], e.loc[(e['muIDBelleQuality']<0.9) & (e['eIDBelle']>0.2)],\n",
    "        e.loc[(e['muIDBelle']!=1) & (e['eIDBelle']!=0) & (e['eIDBelle']<0.9975)],e.loc[(e['muIDBelle']!=1) & (e['eIDBelle']!=0) & (e['eIDBelle']<0.99)],\n",
    "        e.loc[(e['muIDBelle']!=1) & (e['eIDBelle']!=0) & (e['eIDBelle']<0.96)], e.loc[(e['muIDBelle']<0.99) & (e['eIDBelle']>0.01) & (e['eIDBelle']<0.99)],\n",
    "        e.loc[(e['muIDBelle']<0.99) & (e['eIDBelle']>0.01) & (e['eIDBelle']<0.987)],e.loc[(e['muIDBelle']<0.99) & (e['eIDBelle']>0.01) & (e['eIDBelle']<0.985)]]\n",
    "\n",
    "\n",
    "mu_cut = [mu.loc[(mu['muIDBelle']!=0) & (mu['eIDBelle']!=1) & (mu['muIDBelle']<0.99)], mu.loc[(mu['muIDBelle']!=0) & (mu['eIDBelle']!=1) & (mu['muIDBelle']<0.98)],\n",
    "         mu.loc[(mu['muIDBelle']<0.0) & (mu['eIDBelle']>0.1)], mu.loc[(mu['muIDBelleQuality']>0.9) & (mu['muIDBelle']>0.4) & (mu['eIDBelle']<0.2)],\n",
    "         mu.loc[(mu['muIDBelle']!=0) & (mu['eIDBelle']!=1) & (mu['muIDBelle']<0.972)],mu.loc[(mu['muIDBelle']!=0) & (mu['eIDBelle']!=1) & (mu['muIDBelle']<0.96)],\n",
    "         mu.loc[(mu['muIDBelle']!=0) & (mu['eIDBelle']!=1) & (mu['muIDBelle']<0.9)], mu.loc[(mu['muIDBelle']>0.01) & (mu['eIDBelle']<0.99) & (mu['muIDBelle']<0.999)],\n",
    "         mu.loc[(mu['muIDBelle']>0.01) & (mu['eIDBelle']<0.99) & (mu['muIDBelle']<0.997)],mu.loc[(mu['muIDBelle']>0.01) & (mu['eIDBelle']<0.99) & (mu['muIDBelle']<0.995)]]\n",
    "mistags = []\n",
    "amplitude = []\n",
    "amplitude_err = []\n",
    "truth_amp = []\n",
    "truth_amp_err = []\n",
    "\n",
    "for i in range(0,len(e_cut)):\n",
    "    lepton = e_cut[i].append(mu_cut[i]).sort_values(by='__event__')\n",
    "    data, deltaT, deltaT_err, truth_deltaT, truth_deltaT_err = create_lepton_analysis_dataframe(lepton)\n",
    "    fit_values = root_fit(data,truth_deltaT['A'],truth_deltaT_err['A'])\n",
    "    mistag_frac = len(data.loc[data['mistag']==1])/len(data)\n",
    "    mistags.append(mistag_frac)\n",
    "    amplitude.append(fit_values['Amp'])\n",
    "    amplitude_err.append(fit_values['Amp_err'])\n",
    "    truth_fits = root_fit(data,truth_deltaT['A_truth'],truth_deltaT_err['A_truth'])\n",
    "    truth_amp.append(truth_fits['Amp'])\n",
    "    truth_amp_err.append(truth_fits['Amp_err'])"
   ]
  },
  {
   "cell_type": "code",
   "execution_count": null,
   "metadata": {},
   "outputs": [],
   "source": [
    "mistags = np.array(mistags)\n",
    "amplitude = np.array(amplitude)\n",
    "amplitude_err = np.array(amplitude_err)\n",
    "truth_amp = np.array(truth_amp)\n",
    "truth_amp_err = np.array(truth_amp_err)"
   ]
  },
  {
   "cell_type": "code",
   "execution_count": null,
   "metadata": {},
   "outputs": [],
   "source": [
    "mistags"
   ]
  },
  {
   "cell_type": "code",
   "execution_count": null,
   "metadata": {},
   "outputs": [],
   "source": [
    "def fit_line(x,y,y_err): #fits cosine curve to data (asymmetry computed from binning)\n",
    "    x1 = array.array('d', x)\n",
    "    y = array.array('d', y)\n",
    "    xerr = array.array('d', [0 for i in range(0,len(x1))])\n",
    "    #xerr = array.array('d', [0.25, 0.25, 0.5, 0.5 ,0.5, 0.5, 0.5, 0.5, 1, 2, 3.5])\n",
    "    yerr = array.array('d', y_err)\n",
    "    gr = ROOT.TGraphErrors(len(x1), x1, y, xerr, yerr)\n",
    "    f = ROOT.TF1('f1', '[0]+[1]*x')\n",
    "    gr.Fit('f1', 'SB')\n",
    "    fitdict = {\"Int\":f.GetParameter(0), \"Int_err\": f.GetParError(0), \"Slope\":f.GetParameter(1)\n",
    "               ,\"Slope_err\": f.GetParError(1), 'chi2': f.GetChisquare(), 'NDF': f.GetNDF()}\n",
    "    return fitdict\n",
    "\n",
    "plt.figure(figsize=(12,8))\n",
    "x=np.linspace(0,0.5,101)\n",
    "plt.errorbar(mistags,amplitude,amplitude_err,None,'o',markersize=5,markeredgecolor='k',color= 'red')\n",
    "plt.plot(x,1-2*x,color='k',linestyle='--',alpha = 0.3, label=r'$1-2w$')\n",
    "plt.xlim(0,0.5)\n",
    "plt.ylim(0,1)\n",
    "plt.xlabel('w')\n",
    "plt.ylabel('Asymm. fit amplitude')\n",
    "plt.legend(fancybox=True,shadow=True)\n",
    "plt.grid()\n",
    "fit = fit_line(mistags,amplitude,amplitude_err)\n",
    "print(fit)\n",
    "#plt.savefig('assymmetry_summary.png',dpi=300,bbox_inches='tight')"
   ]
  },
  {
   "cell_type": "code",
   "execution_count": null,
   "metadata": {},
   "outputs": [],
   "source": [
    "plt.hist(data['dz'],range = (-0.25,0.25), bins = 50, histtype='step',label = 'reco')\n",
    "plt.hist(data['truth_dz'],range = (-0.25,0.25), bins = 50,histtype='step',label='truth')\n",
    "plt.legend()"
   ]
  },
  {
   "cell_type": "code",
   "execution_count": 294,
   "metadata": {},
   "outputs": [],
   "source": [
    "dataSF = data.loc[data['SF']==1]\n",
    "dataOF = data.loc[data['SF']!=1]\n",
    "tmpSF = truth.loc[truth['SF']==1]\n",
    "tmpOF = truth.loc[truth['SF']!=1]\n",
    "dataSF2 = data2.loc[data2['SF']==1]\n",
    "dataOF2 = data2.loc[data2['SF']!=1]\n",
    "tmpSF2 = truth2.loc[truth2['SF']==1]\n",
    "tmpOF2 = truth2.loc[truth2['SF']!=1]"
   ]
  },
  {
   "cell_type": "code",
   "execution_count": 295,
   "metadata": {},
   "outputs": [],
   "source": [
    "response_OF = ROOT.RooUnfoldResponse (15, 0, 15)\n",
    "response_SF = ROOT.RooUnfoldResponse (15, 0, 15)"
   ]
  },
  {
   "cell_type": "code",
   "execution_count": 296,
   "metadata": {},
   "outputs": [
    {
     "name": "stderr",
     "output_type": "stream",
     "text": [
      "Warning in <TROOT::Append>: Replacing existing TH1: fOF (Potential memory leak).\n",
      "Warning in <TROOT::Append>: Replacing existing TH1: gOF (Potential memory leak).\n",
      "Warning in <TROOT::Append>: Replacing existing TH1: fSF (Potential memory leak).\n",
      "Warning in <TROOT::Append>: Replacing existing TH1: gSF (Potential memory leak).\n"
     ]
    }
   ],
   "source": [
    "fOF = ROOT.TH1F(\"fOF\",\"fOF\",15,0,15)\n",
    "gOF = ROOT.TH1F(\"gOF\",\"gOF\",15,0,15)\n",
    "fSF = ROOT.TH1F(\"fSF\",\"fSF\",15,0,15)\n",
    "gSF = ROOT.TH1F(\"gSF\",\"gSF\",15,0,15)"
   ]
  },
  {
   "cell_type": "markdown",
   "metadata": {},
   "source": [
    "# Use one dataset and truth set to fill response matrices"
   ]
  },
  {
   "cell_type": "code",
   "execution_count": 297,
   "metadata": {},
   "outputs": [],
   "source": [
    "for i in range(0,min(len(dataOF),len(tmpOF))):\n",
    "    fOF.Fill(tmpOF['mcDeltaT'].iloc[i])\n",
    "    gOF.Fill(dataOF['deltaT'].iloc[i])\n",
    "    response_OF.Fill(dataOF['deltaT'].iloc[i],tmpOF['mcDeltaT'].iloc[i])\n",
    "for i in range(0,min(len(dataSF),len(tmpSF))):\n",
    "    fSF.Fill(tmpSF['mcDeltaT'].iloc[i])\n",
    "    gSF.Fill(dataSF['deltaT'].iloc[i])\n",
    "    response_SF.Fill(dataSF['deltaT'].iloc[i],tmpSF['mcDeltaT'].iloc[i])"
   ]
  },
  {
   "cell_type": "code",
   "execution_count": 298,
   "metadata": {},
   "outputs": [
    {
     "data": {
      "image/png": "[encoded data removed]",
      "text/plain": [
       "<IPython.core.display.Image object>"
      ]
     },
     "metadata": {},
     "output_type": "display_data"
    }
   ],
   "source": [
    "c = ROOT.TCanvas()\n",
    "fOF.SetStats(0)\n",
    "fOF.SetTitle(\"\")\n",
    "fOF.SetFillColorAlpha(7,0.2)\n",
    "fOF.Draw()\n",
    "gOF.SetFillColorAlpha(42,0.2)\n",
    "gOF.Draw(\"same\")\n",
    "leg = ROOT.TLegend(.55,0.7,.9,.9)\n",
    "leg.AddEntry(fOF,\"True Distribution\")\n",
    "leg.AddEntry(gOF,\"Measured\")\n",
    "leg.Draw()\n",
    "c.Draw()"
   ]
  },
  {
   "cell_type": "code",
   "execution_count": 299,
   "metadata": {},
   "outputs": [
    {
     "data": {
      "image/png": "[encoded data removed]",
      "text/plain": [
       "<IPython.core.display.Image object>"
      ]
     },
     "metadata": {},
     "output_type": "display_data"
    }
   ],
   "source": [
    "c1 = ROOT.TCanvas()\n",
    "fSF.SetStats(0)\n",
    "fSF.SetTitle(\"\")\n",
    "fSF.SetFillColorAlpha(7,0.2)\n",
    "fSF.Draw()\n",
    "gSF.SetFillColorAlpha(42,0.2)\n",
    "gSF.Draw(\"same\")\n",
    "leg = ROOT.TLegend(.55,0.7,.9,.9)\n",
    "leg.AddEntry(fSF,\"True Distribution\")\n",
    "leg.AddEntry(gSF,\"Measured\")\n",
    "leg.Draw()\n",
    "c1.Draw()"
   ]
  },
  {
   "cell_type": "code",
   "execution_count": 300,
   "metadata": {},
   "outputs": [
    {
     "data": {
      "image/png": "[encoded data removed]",
      "text/plain": [
       "<IPython.core.display.Image object>"
      ]
     },
     "metadata": {},
     "output_type": "display_data"
    }
   ],
   "source": [
    "ROF = response_OF.HresponseNoOverflow()\n",
    "c2 = ROOT.TCanvas()\n",
    "ROF.SetStats(0)\n",
    "ROF.Draw(\"colz\")\n",
    "c2.Draw()"
   ]
  },
  {
   "cell_type": "code",
   "execution_count": 301,
   "metadata": {},
   "outputs": [
    {
     "data": {
      "image/png": "[encoded data removed]",
      "text/plain": [
       "<IPython.core.display.Image object>"
      ]
     },
     "metadata": {},
     "output_type": "display_data"
    }
   ],
   "source": [
    "RSF = response_OF.HresponseNoOverflow()\n",
    "c3 = ROOT.TCanvas()\n",
    "RSF.SetStats(0)\n",
    "RSF.Draw(\"colz\")\n",
    "c3.Draw()"
   ]
  },
  {
   "cell_type": "markdown",
   "metadata": {},
   "source": [
    "# USe different data and truth sets for testing"
   ]
  },
  {
   "cell_type": "code",
   "execution_count": 302,
   "metadata": {},
   "outputs": [
    {
     "name": "stderr",
     "output_type": "stream",
     "text": [
      "Warning in <TROOT::Append>: Replacing existing TH1: trueOF (Potential memory leak).\n",
      "Warning in <TROOT::Append>: Replacing existing TH1: measOF (Potential memory leak).\n",
      "Warning in <TROOT::Append>: Replacing existing TH1: trueSF (Potential memory leak).\n",
      "Warning in <TROOT::Append>: Replacing existing TH1: measSF (Potential memory leak).\n"
     ]
    }
   ],
   "source": [
    "hTrueOF = ROOT.TH1D (\"trueOF\", \"Test Truth\",    15, 0, 15)\n",
    "hMeasOF = ROOT.TH1D (\"measOF\", \"Test Measured\", 15, 0, 15)\n",
    "hTrueSF = ROOT.TH1D (\"trueSF\", \"Test Truth\",    15, 0, 15)\n",
    "hMeasSF = ROOT.TH1D (\"measSF\", \"Test Measured\", 15, 0, 15)\n",
    "\n",
    "for i in range(0,min(len(dataOF2),len(tmpOF2))):\n",
    "    xt = tmpOF2['mcDeltaT'].to_numpy()[i]\n",
    "    x = np.abs(dataOF2['deltaT']).to_numpy()[i]\n",
    "    hTrueOF.Fill(xt)\n",
    "    hMeasOF.Fill(x)\n",
    "for i in range(0,min(len(dataSF2),len(tmpSF2))):\n",
    "    xt = tmpSF2['mcDeltaT'].to_numpy()[i]\n",
    "    x = np.abs(dataSF2['deltaT']).to_numpy()[i]\n",
    "    hTrueSF.Fill(xt)\n",
    "    hMeasSF.Fill(x)\n",
    "\n"
   ]
  },
  {
   "cell_type": "code",
   "execution_count": 343,
   "metadata": {},
   "outputs": [
    {
     "name": "stdout",
     "output_type": "stream",
     "text": [
      "Now unfolding...\n",
      "Iteration : 0\n",
      "Chi^2 of change 0.00631845\n",
      "Calculating covariances due to number of measured events\n",
      "Now unfolding...\n",
      "Iteration : 0\n",
      "Chi^2 of change 0.0147803\n",
      "Calculating covariances due to number of measured events\n"
     ]
    }
   ],
   "source": [
    "unfoldOF = ROOT.RooUnfoldBayes(response_OF, hMeasOF, 1)\n",
    "hRecoOF = unfoldOF.Hreco()\n",
    "\n",
    "unfoldSF = ROOT.RooUnfoldBayes(response_SF, hMeasSF, 1)\n",
    "hRecoSF = unfoldSF.Hreco()"
   ]
  },
  {
   "cell_type": "code",
   "execution_count": 232,
   "metadata": {},
   "outputs": [
    {
     "name": "stdout",
     "output_type": "stream",
     "text": [
      "SVD init 12 x 12 bins, kreg=2\n",
      "SVD init 12 x 12 bins, kreg=2\n"
     ]
    },
    {
     "name": "stderr",
     "output_type": "stream",
     "text": [
      "Info in <TSVDUnfold_130729::Unfold>: Unfolding param: 2\n",
      "Info in <TSVDUnfold_130729::Unfold>: Curvature of weight distribution: 0.318482\n",
      "Info in <TSVDUnfold_130729::Unfold>: Unfolding param: 2\n",
      "Info in <TSVDUnfold_130729::Unfold>: Curvature of weight distribution: 0.008749\n"
     ]
    }
   ],
   "source": [
    "#unfoldOF = ROOT.RooUnfoldSvd(response_OF, hMeasOF,2)\n",
    "#hRecoOF = unfoldOF.Hreco()\n",
    "\n",
    "#unfoldSF = ROOT.RooUnfoldSvd(response_SF, hMeasSF,2)\n",
    "#hRecoSF = unfoldSF.Hreco()"
   ]
  },
  {
   "cell_type": "code",
   "execution_count": 344,
   "metadata": {},
   "outputs": [
    {
     "data": {
      "image/png": "[encoded data removed]",
      "text/plain": [
       "<IPython.core.display.Image object>"
      ]
     },
     "metadata": {},
     "output_type": "display_data"
    }
   ],
   "source": [
    "c1 = ROOT.TCanvas()\n",
    "hRecoOF.SetStats(0)\n",
    "hTrueOF.SetLineColor(2)\n",
    "hRecoOF.SetLineColor(1)\n",
    "hRecoOF.Draw()\n",
    "hTrueOF.Draw(\"same\")\n",
    "hMeasOF.Draw(\"same\")\n",
    "leg = ROOT.TLegend(0.6, 0.6, 0.9, 0.9)\n",
    "leg.AddEntry(hTrueOF, \"True distribution\",\"pl\")\n",
    "leg.AddEntry(hMeasOF, \"Measured distribution\", \"pl\")\n",
    "leg.AddEntry(hRecoOF, \"Unfolded distribution\")\n",
    "leg.Draw()\n",
    "c1.Draw()"
   ]
  },
  {
   "cell_type": "code",
   "execution_count": 345,
   "metadata": {},
   "outputs": [
    {
     "data": {
      "image/png": "[encoded data removed]",
      "text/plain": [
       "<IPython.core.display.Image object>"
      ]
     },
     "metadata": {},
     "output_type": "display_data"
    }
   ],
   "source": [
    "c1 = ROOT.TCanvas()\n",
    "hRecoSF.SetStats(0)\n",
    "hTrueSF.SetLineColor(2)\n",
    "hRecoSF.SetLineColor(1)\n",
    "hRecoSF.Draw()\n",
    "hTrueSF.Draw(\"same\")\n",
    "hMeasSF.Draw(\"same\")\n",
    "leg = ROOT.TLegend(0.6, 0.6, 0.9, 0.9)\n",
    "leg.AddEntry(hTrueSF, \"True distribution\",\"pl\")\n",
    "leg.AddEntry(hMeasSF, \"Measured distribution\", \"pl\")\n",
    "leg.AddEntry(hRecoSF, \"Unfolded distribution\")\n",
    "leg.Draw()\n",
    "c1.Draw()"
   ]
  },
  {
   "cell_type": "code",
   "execution_count": 333,
   "metadata": {},
   "outputs": [],
   "source": [
    "mistag = 1-2*len(data2.loc[data2['mistag']==1])/len(data2)"
   ]
  },
  {
   "cell_type": "code",
   "execution_count": 351,
   "metadata": {},
   "outputs": [],
   "source": [
    "vals = []\n",
    "vals_meas = []\n",
    "vals_truth = []\n",
    "for i in range(1,14):\n",
    "    vals.append((hRecoOF.GetBinContent(i)-hRecoSF.GetBinContent(i))/(hRecoOF.GetBinContent(i)+hRecoSF.GetBinContent(i)))\n",
    "    vals_truth.append((hTrueOF.GetBinContent(i)-hTrueSF.GetBinContent(i))/(hTrueOF.GetBinContent(i)+hTrueSF.GetBinContent(i)))\n",
    "    vals_meas.append((hMeasOF.GetBinContent(i)-hMeasSF.GetBinContent(i))/(hMeasOF.GetBinContent(i)+hMeasSF.GetBinContent(i)))\n",
    "           "
   ]
  },
  {
   "cell_type": "code",
   "execution_count": 352,
   "metadata": {},
   "outputs": [],
   "source": [
    "vals_err = []\n",
    "vals_meas_err = []\n",
    "vals_truth_err = []\n",
    "for i in range(1,14):\n",
    "    vals_err.append(np.abs(vals[i-1])*np.sqrt((np.sqrt(hRecoOF.GetBinError(i)**2 + hRecoSF.GetBinError(i))/(hRecoOF.GetBinContent(i)-hRecoSF.GetBinContent(i)))**2+(np.sqrt(hRecoOF.GetBinError(i)**2 + hRecoSF.GetBinError(i))/(hRecoOF.GetBinContent(i)+hRecoSF.GetBinContent(i)))**2))\n",
    "    vals_truth_err.append(np.abs(vals_truth[i-1])*np.sqrt((np.sqrt(hTrueOF.GetBinError(i)**2 + hTrueSF.GetBinError(i))/(hTrueOF.GetBinContent(i)-hTrueSF.GetBinContent(i)))**2+(np.sqrt(hTrueOF.GetBinError(i)**2 + hTrueSF.GetBinError(i))/(hTrueOF.GetBinContent(i)+hTrueSF.GetBinContent(i)))**2))\n",
    "    vals_meas_err.append(np.abs(vals_meas[i-1])*np.sqrt((np.sqrt(hMeasOF.GetBinError(i)**2 + hMeasSF.GetBinError(i))/(hMeasOF.GetBinContent(i)-hMeasSF.GetBinContent(i)))**2+(np.sqrt(hMeasOF.GetBinError(i)**2 + hMeasSF.GetBinError(i))/(hMeasOF.GetBinContent(i)+hMeasSF.GetBinContent(i)))**2))"
   ]
  },
  {
   "cell_type": "code",
   "execution_count": 348,
   "metadata": {},
   "outputs": [
    {
     "data": {
      "text/plain": [
       "0.9035300902088397"
      ]
     },
     "execution_count": 348,
     "metadata": {},
     "output_type": "execute_result"
    }
   ],
   "source": [
    "1-2*len(data2.loc[data2['mistag']==1])/len(data2)"
   ]
  },
  {
   "cell_type": "code",
   "execution_count": 353,
   "metadata": {},
   "outputs": [
    {
     "data": {
      "text/plain": [
       "<ErrorbarContainer object of 3 artists>"
      ]
     },
     "execution_count": 353,
     "metadata": {},
     "output_type": "execute_result"
    },
    {
     "data": {
      "image/png": "[encoded data removed]",
      "text/plain": [
       "<Figure size 432x288 with 1 Axes>"
      ]
     },
     "metadata": {
      "needs_background": "light"
     },
     "output_type": "display_data"
    }
   ],
   "source": [
    "x = [i+0.5 for i in range(0,13)]\n",
    "xerr = [0.5 for i in range(0,13)]\n",
    "plt.errorbar(x,vals,vals_err,xerr,'o')\n",
    "plt.errorbar(x,vals_truth,vals_truth_err,xerr,'o')\n",
    "#plt.errorbar(x,vals_meas,vals_meas_err,xerr,'o')"
   ]
  },
  {
   "cell_type": "code",
   "execution_count": 364,
   "metadata": {},
   "outputs": [],
   "source": [
    "def root_fit(A, A_err): #fits cosine curve to data (asymmetry computed from binning)\n",
    "    x1 = array.array('d', [i+0.5 for i in range(0,13)])\n",
    "    y = array.array('d', A)\n",
    "    xerr = array.array('d', [0.5 for i in range(0,13)])\n",
    "    #xerr = array.array('d', [0.25, 0.25, 0.5, 0.5 ,0.5, 0.5, 0.5, 0.5, 1, 2, 3.5])\n",
    "    yerr = array.array('d', A_err)\n",
    "    gr = ROOT.TGraphErrors(len(x1), x1, y, xerr, yerr)\n",
    "    f = ROOT.TF1('f1', '[0]*cos([1]*x)', 0, 15)\n",
    "    f.SetParLimits(0,0,1)\n",
    "    f.SetParLimits(1,0,1)\n",
    "    gr.Fit('f1', 'SMRB')\n",
    "    fitdict = {\"amp\":f.GetParameter(0), \"amp_err\":f.GetParError(0),\n",
    "              \"md\":f.GetParameter(1), 'md_err':f.GetParError(1)}\n",
    "    return fitdict"
   ]
  },
  {
   "cell_type": "code",
   "execution_count": 365,
   "metadata": {},
   "outputs": [
    {
     "name": "stdout",
     "output_type": "stream",
     "text": [
      "{'amp': 0.6250445169808061, 'amp_err': 0.007646982084573262, 'md': 0.6941685124369403, 'md_err': 0.0013330582077139552}\n",
      "{'amp': 0.9999999999999996, 'amp_err': 0.004323599876991824, 'md': 1.0, 'md_err': 5.08802052944235e-05}\n",
      " FCN=537.711 FROM HESSE     STATUS=OK             10 CALLS         174 TOTAL\n",
      "                     EDM=1.07051e-08    STRATEGY= 1      ERROR MATRIX ACCURATE \n",
      "  EXT PARAMETER                                   STEP         FIRST   \n",
      "  NO.   NAME      VALUE            ERROR          SIZE      DERIVATIVE \n",
      "   1  p0           6.25045e-01   7.64698e-03   5.58284e-06  -9.80916e-04\n",
      "   2  p1           6.94169e-01   1.33306e-03   5.11875e-06   5.37538e-02\n",
      " FCN=414.818 FROM HESSE     STATUS=OK             12 CALLS         156 TOTAL\n",
      "                     EDM=1.50121e-12    STRATEGY= 1      ERROR MATRIX ACCURATE \n",
      "  EXT PARAMETER                                   STEP         FIRST   \n",
      "  NO.   NAME      VALUE            ERROR          SIZE      DERIVATIVE \n",
      "   1  p0           1.00000e+00   4.32360e-03   2.62069e-04** at limit **\n",
      "   2  p1           1.00000e+00   5.08802e-05   2.84093e-05** at limit **\n"
     ]
    }
   ],
   "source": [
    "print(root_fit(vals,vals_err))\n",
    "#print(root_fit(vals_meas,vals_meas_err))\n",
    "print(root_fit(vals_truth,vals_truth_err))"
   ]
  },
  {
   "cell_type": "code",
   "execution_count": null,
   "metadata": {},
   "outputs": [],
   "source": [
    "fig, ax = plt.subplots(nrows=2, ncols=1, figsize=(12, 9), sharex = True, gridspec_kw={'hspace': 0.03, 'height_ratios': [3,1]})\n",
    "centers = [0.25,0.75,1.5,2.5,3.5,4.5,5.5,6.5,8,11,16.5]\n",
    "widths = np.array([0.25, 0.25, 0.5, 0.5 ,0.5, 0.5, 0.5, 0.5, 1, 2, 3.5])\n",
    "ax[0].errorbar(centers,truth_deltaT['A_truth'],truth_deltaT_err['A_truth'],widths, 'o', label = r\"Truth B\")\n",
    "ax[0].errorbar(centers,truth_deltaT['A'],truth_deltaT_err['A'],widths, 'o', label = r\"Reconstructed lepton: mistag frac %s\"%(round(len(data.loc[data['mistag']==1])/len(data),4)))\n",
    "#ax[0].errorbar(centers, 1/(1-2*len(data.loc[data['mistag']==1])/len(data))*truth_deltaT['A'], 1/(1-2*len(data.loc[data['mistag']==1])/len(data))*truth_deltaT_err['A'], widths, 'o', label=r'Scaled reconstructed lepton')\n",
    "\n",
    "go = np.array([1.013, 0.916, 0.699, 0.339, -0.136, -0.634, -0.961, -0.974, -0.675, 0.089, 0.243])\n",
    "go_err = np.array([0.028, 0.022, 0.038, 0.056, 0.075, 0.084, 0.077, 0.080, 0.109, 0.193, 0.435])\n",
    "#plt.errorbar(centers,go,go_err,widths, 'o', label = \"Go's result\")\n",
    "\n",
    "x = np.linspace(0,17,201)\n",
    "ax[0].plot(x, np.cos(0.496*x), 'k', linestyle = '--', label=r'QM expectation $\\Delta m_d = 0.496$',alpha = 0.3)\n",
    "#plt.plot(x, np.cos(0.4496*x), 'red', linestyle = '--', label='SD least squares fit to truth MC')\n",
    "ax[1].bar(centers,truth_deltaT['mistag']/truth_deltaT['counts'],2*widths)\n",
    "ax[0].set_ylabel(r'$\\mathcal{A}(\\Delta_{m_d}\\Delta t)$')\n",
    "ax[1].set_ylabel(r'$w$')\n",
    "ax[1].set_xlabel(r'$\\Delta t_\\mathrm{truth}$ [ps]')\n",
    "ax[0].grid()\n",
    "ax[1].grid()\n",
    "ax[0].legend(bbox_to_anchor=(.23,0.95),fancybox=True,shadow=True)\n",
    "#plt.savefig('asymmetry_mistag_small.png', bbox_inches = 'tight', dpi = 300)"
   ]
  },
  {
   "cell_type": "code",
   "execution_count": null,
   "metadata": {},
   "outputs": [],
   "source": [
    "def root_fit(plot_data, A, A_err): #fits cosine curve to data (asymmetry computed from binning)\n",
    "    x1 = array.array('d', [0.25,0.75,1.5,2.5,3.5,4.5,5.5,6.5,8,11,16.5])\n",
    "    y = array.array('d', A)\n",
    "    xerr = array.array('d', [0 for i in range(0,len(x1))])\n",
    "    #xerr = array.array('d', [0.25, 0.25, 0.5, 0.5 ,0.5, 0.5, 0.5, 0.5, 1, 2, 3.5])\n",
    "    yerr = array.array('d', A_err)\n",
    "    gr = ROOT.TGraphErrors(len(x1), x1, y, xerr, yerr)\n",
    "    f = ROOT.TF1('f1', '[0]*cos(0.496*x)', 0, 16.5)\n",
    "    gr.Fit('f1', 'SMRB')\n",
    "    fitdict = {\"Amp\":f.GetParameter(0), \"Amp_err\":f.GetParError(0)}\n",
    "    return fitdict"
   ]
  },
  {
   "cell_type": "code",
   "execution_count": null,
   "metadata": {},
   "outputs": [],
   "source": [
    "root_fit(data,truth_deltaT['A'],truth_deltaT_err['A'])"
   ]
  },
  {
   "cell_type": "code",
   "execution_count": null,
   "metadata": {},
   "outputs": [],
   "source": [
    "root_fit(data,truth_deltaT['A_truth'],truth_deltaT_err['A_truth'])"
   ]
  },
  {
   "cell_type": "code",
   "execution_count": null,
   "metadata": {},
   "outputs": [],
   "source": [
    "1-2*len(data.loc[data['mistag']==1])/len(data)"
   ]
  },
  {
   "cell_type": "markdown",
   "metadata": {},
   "source": [
    "## Dump"
   ]
  },
  {
   "cell_type": "code",
   "execution_count": null,
   "metadata": {},
   "outputs": [],
   "source": [
    "c1 = ROOT.TCanvas()\n",
    "hRecoSF.SetStats(0)\n",
    "hTrueSF.SetLineColor(2)\n",
    "hRecoSF.SetLineColor(1)\n",
    "hRecoSF.Draw()\n",
    "hTrueSF.Draw(\"same\")\n",
    "hMeasSF.Draw(\"same\")\n",
    "leg = ROOT.TLegend(0.6, 0.6, 0.9, 0.9)\n",
    "leg.AddEntry(hTrueSF, \"True distribution\",\"pl\")\n",
    "leg.AddEntry(hMeasSF, \"Measured distribution\", \"pl\")\n",
    "leg.AddEntry(hRecoSF, \"Unfolded distribution\")\n",
    "leg.Draw()\n",
    "c1.Draw()\n",
    "\n",
    "unfoldOF = ROOT.RooUnfoldInvert(response_OF, hMeasOF)\n",
    "hRecoOF = unfoldOF.Hreco()\n",
    "\n",
    "unfoldSF = ROOT.RooUnfoldInvert(response_SF, hMeasSF)\n",
    "hRecoSF = unfoldSF.Hreco()\n",
    "\n",
    "c1 = ROOT.TCanvas()\n",
    "hRecoOF.SetStats(0)\n",
    "hTrueOF.SetLineColor(2)\n",
    "hRecoOF.SetLineColor(1)\n",
    "hRecoOF.Draw()\n",
    "hTrueOF.Draw(\"same\")\n",
    "hMeasOF.Draw(\"same\")\n",
    "leg = ROOT.TLegend(0.6, 0.6, 0.9, 0.9)\n",
    "leg.AddEntry(hTrueOF, \"True distribution\",\"pl\")\n",
    "leg.AddEntry(hMeasOF, \"Measured distribution\", \"pl\")\n",
    "leg.AddEntry(hRecoOF, \"Unfolded distribution\")\n",
    "leg.Draw()\n",
    "c1.Draw()\n",
    "\n",
    "c1 = ROOT.TCanvas()\n",
    "hRecoSF.SetStats(0)\n",
    "hTrueSF.SetLineColor(2)\n",
    "hRecoSF.SetLineColor(1)\n",
    "hRecoSF.Draw()\n",
    "hTrueSF.Draw(\"same\")\n",
    "hMeasSF.Draw(\"same\")\n",
    "leg = ROOT.TLegend(0.6, 0.6, 0.9, 0.9)\n",
    "leg.AddEntry(hTrueSF, \"True distribution\",\"pl\")\n",
    "leg.AddEntry(hMeasSF, \"Measured distribution\", \"pl\")\n",
    "leg.AddEntry(hRecoSF, \"Unfolded distribution\")\n",
    "leg.Draw()\n",
    "c1.Draw()\n",
    "\n",
    "unfoldOF = ROOT.RooUnfoldBinByBin(response_OF, hMeasOF)\n",
    "hRecoOF = unfoldOF.Hreco()\n",
    "c1 = ROOT.TCanvas()\n",
    "hRecoOF.SetStats(0)\n",
    "hRecoOF.SetTitle(\"\")\n",
    "hTrueOF.SetLineColor(2)\n",
    "hRecoOF.SetLineColor(1)\n",
    "hRecoOF.Draw()\n",
    "hTrueOF.Draw(\"same\")\n",
    "hMeasOF.Draw(\"same\")\n",
    "leg = ROOT.TLegend(0.6, 0.6, 0.9, 0.9)\n",
    "leg.AddEntry(hTrueOF, \"True distribution\",\"pl\")\n",
    "leg.AddEntry(hMeasOF, \"Measured distribution\", \"pl\")\n",
    "leg.AddEntry(hRecoOF, \"Unfolded distribution\")\n",
    "leg.Draw()\n",
    "c1.Draw()\n",
    "\n",
    "unfoldSF = ROOT.RooUnfoldBinByBin(response_SF, hMeasSF)\n",
    "hRecoSF = unfoldSF.Hreco()\n",
    "c1 = ROOT.TCanvas()\n",
    "hRecoSF.SetStats(0)\n",
    "hRecoSF.SetTitle(\"\")\n",
    "hTrueSF.SetLineColor(2)\n",
    "hRecoSF.SetLineColor(1)\n",
    "hRecoSF.Draw()\n",
    "hTrueSF.Draw(\"same\")\n",
    "hMeasSF.Draw(\"same\")\n",
    "leg = ROOT.TLegend(0.6, 0.6, 0.9, 0.9)\n",
    "leg.AddEntry(hTrueSF, \"True distribution\",\"pl\")\n",
    "leg.AddEntry(hMeasSF, \"Measured distribution\", \"pl\")\n",
    "leg.AddEntry(hRecoSF, \"Unfolded distribution\")\n",
    "leg.Draw()\n",
    "c1.Draw()\n",
    "\n",
    "unfoldOF = ROOT.RooUnfoldBayes(response_OF, hMeasOF, 2)\n",
    "hRecoOF = unfoldOF.Hreco()\n",
    "\n",
    "unfoldSF = ROOT.RooUnfoldBayes(response_SF, hMeasSF, 2)\n",
    "hRecoSF = unfoldSF.Hreco()\n",
    "\n",
    "c1 = ROOT.TCanvas()\n",
    "hRecoSF.SetStats(0)\n",
    "hTrueSF.SetLineColor(2)\n",
    "hRecoSF.SetLineColor(1)\n",
    "hRecoSF.Draw()\n",
    "hTrueSF.Draw(\"same\")\n",
    "hMeasSF.Draw(\"same\")\n",
    "leg = ROOT.TLegend(0.6, 0.6, 0.9, 0.9)\n",
    "leg.AddEntry(hTrueSF, \"True distribution\",\"pl\")\n",
    "leg.AddEntry(hMeasSF, \"Measured distribution\", \"pl\")\n",
    "leg.AddEntry(hRecoSF, \"Unfolded distribution\")\n",
    "leg.Draw()\n",
    "c1.Draw()\n",
    "\n",
    "c1 = ROOT.TCanvas()\n",
    "hRecoOF.SetStats(0)\n",
    "hTrueOF.SetLineColor(2)\n",
    "hRecoOF.SetLineColor(1)\n",
    "hRecoOF.Draw()\n",
    "hTrueOF.Draw(\"same\")\n",
    "hMeasOF.Draw(\"same\")\n",
    "leg = ROOT.TLegend(0.6, 0.6, 0.9, 0.9)\n",
    "leg.AddEntry(hTrueOF, \"True distribution\",\"pl\")\n",
    "leg.AddEntry(hMeasOF, \"Measured distribution\", \"pl\")\n",
    "leg.AddEntry(hRecoOF, \"Unfolded distribution\")\n",
    "leg.Draw()\n",
    "c1.Draw()\n"
   ]
  }
 ],
 "metadata": {
  "kernelspec": {
   "display_name": "Python 3",
   "language": "python",
   "name": "python3"
  },
  "language_info": {
   "codemirror_mode": {
    "name": "ipython",
    "version": 3
   },
   "file_extension": ".py",
   "mimetype": "text/x-python",
   "name": "python",
   "nbconvert_exporter": "python",
   "pygments_lexer": "ipython3",
   "version": "3.6.11"
  }
 },
 "nbformat": 4,
 "nbformat_minor": 4
}
