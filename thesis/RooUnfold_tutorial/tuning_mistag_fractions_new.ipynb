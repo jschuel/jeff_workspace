{
 "cells": [
  {
   "cell_type": "code",
   "execution_count": 1,
   "metadata": {},
   "outputs": [
    {
     "name": "stdout",
     "output_type": "stream",
     "text": [
      "Welcome to JupyROOT 6.22/02\n"
     ]
    }
   ],
   "source": [
    "import root_pandas as rp\n",
    "import pandas as pd\n",
    "import matplotlib.pyplot as plt\n",
    "import numpy as np\n",
    "import ROOT\n",
    "import array\n",
    "import matplotlib\n",
    "from matplotlib import rc #for custom label formatting\n",
    "'''Make larger axes labels for plots for papers and such'''\n",
    "matplotlib.rcParams['text.usetex'] = False\n",
    "matplotlib.rcParams[\"figure.titlesize\"] = 30\n",
    "plt.rc('legend', fontsize=18)\n",
    "plt.rc('xtick', labelsize=24)\n",
    "plt.rc('ytick', labelsize=24)\n",
    "plt.rc('axes', labelsize=26)\n",
    "plt.rc('axes', titlesize=26)"
   ]
  },
  {
   "cell_type": "code",
   "execution_count": 2,
   "metadata": {},
   "outputs": [],
   "source": [
    "#B = rp.read_root('/home/jeff/data/thesis_data/combined_reco_ntuples/merged_events.root', key='B')\n",
    "\n",
    "e = rp.read_root('/home/jeff/data/thesis_data/combined_reco_ntuples/merged_leptons.root',key='e')\n",
    "mu = rp.read_root('/home/jeff/data/thesis_data/combined_reco_ntuples/merged_leptons.root',key='mu')\n",
    "truth_e = rp.read_root('/home/jeff/data/thesis_data/combined_reco_ntuples/merged_leptons.root',key='e_truth')\n",
    "truth_mu = rp.read_root('/home/jeff/data/thesis_data/combined_reco_ntuples/merged_leptons.root',key='mu_truth')\n",
    "truth_B = rp.read_root('/home/jeff/data/thesis_data/combined_reco_ntuples/merged_leptons.root',key='B_truth')\n",
    "e2 = rp.read_root('/home/jeff/data/thesis_data/combined_reco_ntuples/merged_leptons2.root',key='e')\n",
    "mu2 = rp.read_root('/home/jeff/data/thesis_data/combined_reco_ntuples/merged_leptons2.root',key='mu')\n",
    "truth_e2 = rp.read_root('/home/jeff/data/thesis_data/combined_reco_ntuples/merged_leptons2.root',key='e_truth')\n",
    "truth_mu2 = rp.read_root('/home/jeff/data/thesis_data/combined_reco_ntuples/merged_leptons2.root',key='mu_truth')\n",
    "truth_B2 = rp.read_root('/home/jeff/data/thesis_data/combined_reco_ntuples/merged_leptons2.root',key='B_truth')"
   ]
  },
  {
   "cell_type": "code",
   "execution_count": 26,
   "metadata": {},
   "outputs": [],
   "source": [
    "e_red = e.loc[(e['muIDBelleQuality']<0.01) & (e['eIDBelle']>0.99)]\n",
    "mu_red = mu.loc[(mu['muIDBelleQuality']>0.9) & (mu['muIDBelle']>0.99) & (mu['eIDBelle']<0.01)]\n",
    "lepton = e_red.append(mu_red).sort_values(by='__event__')\n",
    "e_red2 = e2.loc[(e2['muIDBelleQuality']<0.001) & (e2['muIDBelle']<0.01) & (e2['eIDBelle']>0.99)]\n",
    "mu_red2 = mu2.loc[(mu2['muIDBelleQuality']>0.9) & (mu2['muIDBelle']>0.99) & (mu2['eIDBelle']<0.01)]\n",
    "lepton2 = e_red2.append(mu_red2).sort_values(by='__event__')"
   ]
  },
  {
   "cell_type": "code",
   "execution_count": 28,
   "metadata": {},
   "outputs": [
    {
     "data": {
      "text/plain": [
       "0.006682684102038941"
      ]
     },
     "execution_count": 28,
     "metadata": {},
     "output_type": "execute_result"
    }
   ],
   "source": [
    "len(lepton2.loc[lepton2['isSignal']!=1])/len(lepton2)"
   ]
  },
  {
   "cell_type": "code",
   "execution_count": 18,
   "metadata": {},
   "outputs": [
    {
     "name": "stderr",
     "output_type": "stream",
     "text": [
      "/home/jeff/anaconda3/envs/root_env/lib/python3.6/site-packages/ipykernel_launcher.py:6: SettingWithCopyWarning: \n",
      "A value is trying to be set on a copy of a slice from a DataFrame.\n",
      "Try using .loc[row_indexer,col_indexer] = value instead\n",
      "\n",
      "See the caveats in the documentation: https://pandas.pydata.org/pandas-docs/stable/user_guide/indexing.html#returning-a-view-versus-a-copy\n",
      "  \n",
      "/home/jeff/anaconda3/envs/root_env/lib/python3.6/site-packages/ipykernel_launcher.py:7: SettingWithCopyWarning: \n",
      "A value is trying to be set on a copy of a slice from a DataFrame.\n",
      "Try using .loc[row_indexer,col_indexer] = value instead\n",
      "\n",
      "See the caveats in the documentation: https://pandas.pydata.org/pandas-docs/stable/user_guide/indexing.html#returning-a-view-versus-a-copy\n",
      "  import sys\n",
      "/home/jeff/anaconda3/envs/root_env/lib/python3.6/site-packages/ipykernel_launcher.py:24: SettingWithCopyWarning: \n",
      "A value is trying to be set on a copy of a slice from a DataFrame\n",
      "\n",
      "See the caveats in the documentation: https://pandas.pydata.org/pandas-docs/stable/user_guide/indexing.html#returning-a-view-versus-a-copy\n",
      "/home/jeff/anaconda3/envs/root_env/lib/python3.6/site-packages/pandas/core/indexing.py:670: SettingWithCopyWarning: \n",
      "A value is trying to be set on a copy of a slice from a DataFrame\n",
      "\n",
      "See the caveats in the documentation: https://pandas.pydata.org/pandas-docs/stable/user_guide/indexing.html#returning-a-view-versus-a-copy\n",
      "  iloc._setitem_with_indexer(indexer, value)\n",
      "/home/jeff/anaconda3/envs/root_env/lib/python3.6/site-packages/ipykernel_launcher.py:33: SettingWithCopyWarning: \n",
      "A value is trying to be set on a copy of a slice from a DataFrame\n",
      "\n",
      "See the caveats in the documentation: https://pandas.pydata.org/pandas-docs/stable/user_guide/indexing.html#returning-a-view-versus-a-copy\n",
      "/home/jeff/anaconda3/envs/root_env/lib/python3.6/site-packages/pandas/core/indexing.py:670: SettingWithCopyWarning: \n",
      "A value is trying to be set on a copy of a slice from a DataFrame\n",
      "\n",
      "See the caveats in the documentation: https://pandas.pydata.org/pandas-docs/stable/user_guide/indexing.html#returning-a-view-versus-a-copy\n",
      "  iloc._setitem_with_indexer(indexer, value)\n",
      "/home/jeff/anaconda3/envs/root_env/lib/python3.6/site-packages/ipykernel_launcher.py:34: SettingWithCopyWarning: \n",
      "A value is trying to be set on a copy of a slice from a DataFrame\n",
      "\n",
      "See the caveats in the documentation: https://pandas.pydata.org/pandas-docs/stable/user_guide/indexing.html#returning-a-view-versus-a-copy\n",
      "/home/jeff/anaconda3/envs/root_env/lib/python3.6/site-packages/ipykernel_launcher.py:35: SettingWithCopyWarning: \n",
      "A value is trying to be set on a copy of a slice from a DataFrame\n",
      "\n",
      "See the caveats in the documentation: https://pandas.pydata.org/pandas-docs/stable/user_guide/indexing.html#returning-a-view-versus-a-copy\n",
      "/home/jeff/anaconda3/envs/root_env/lib/python3.6/site-packages/ipykernel_launcher.py:36: SettingWithCopyWarning: \n",
      "A value is trying to be set on a copy of a slice from a DataFrame\n",
      "\n",
      "See the caveats in the documentation: https://pandas.pydata.org/pandas-docs/stable/user_guide/indexing.html#returning-a-view-versus-a-copy\n",
      "/home/jeff/anaconda3/envs/root_env/lib/python3.6/site-packages/ipykernel_launcher.py:39: RuntimeWarning: invalid value encountered in sqrt\n",
      "/home/jeff/anaconda3/envs/root_env/lib/python3.6/site-packages/ipykernel_launcher.py:41: RuntimeWarning: invalid value encountered in sqrt\n",
      "/home/jeff/anaconda3/envs/root_env/lib/python3.6/site-packages/ipykernel_launcher.py:6: SettingWithCopyWarning: \n",
      "A value is trying to be set on a copy of a slice from a DataFrame.\n",
      "Try using .loc[row_indexer,col_indexer] = value instead\n",
      "\n",
      "See the caveats in the documentation: https://pandas.pydata.org/pandas-docs/stable/user_guide/indexing.html#returning-a-view-versus-a-copy\n",
      "  \n",
      "/home/jeff/anaconda3/envs/root_env/lib/python3.6/site-packages/ipykernel_launcher.py:7: SettingWithCopyWarning: \n",
      "A value is trying to be set on a copy of a slice from a DataFrame.\n",
      "Try using .loc[row_indexer,col_indexer] = value instead\n",
      "\n",
      "See the caveats in the documentation: https://pandas.pydata.org/pandas-docs/stable/user_guide/indexing.html#returning-a-view-versus-a-copy\n",
      "  import sys\n",
      "/home/jeff/anaconda3/envs/root_env/lib/python3.6/site-packages/ipykernel_launcher.py:24: SettingWithCopyWarning: \n",
      "A value is trying to be set on a copy of a slice from a DataFrame\n",
      "\n",
      "See the caveats in the documentation: https://pandas.pydata.org/pandas-docs/stable/user_guide/indexing.html#returning-a-view-versus-a-copy\n",
      "/home/jeff/anaconda3/envs/root_env/lib/python3.6/site-packages/pandas/core/indexing.py:670: SettingWithCopyWarning: \n",
      "A value is trying to be set on a copy of a slice from a DataFrame\n",
      "\n",
      "See the caveats in the documentation: https://pandas.pydata.org/pandas-docs/stable/user_guide/indexing.html#returning-a-view-versus-a-copy\n",
      "  iloc._setitem_with_indexer(indexer, value)\n",
      "/home/jeff/anaconda3/envs/root_env/lib/python3.6/site-packages/ipykernel_launcher.py:33: SettingWithCopyWarning: \n",
      "A value is trying to be set on a copy of a slice from a DataFrame\n",
      "\n",
      "See the caveats in the documentation: https://pandas.pydata.org/pandas-docs/stable/user_guide/indexing.html#returning-a-view-versus-a-copy\n",
      "/home/jeff/anaconda3/envs/root_env/lib/python3.6/site-packages/pandas/core/indexing.py:670: SettingWithCopyWarning: \n",
      "A value is trying to be set on a copy of a slice from a DataFrame\n",
      "\n",
      "See the caveats in the documentation: https://pandas.pydata.org/pandas-docs/stable/user_guide/indexing.html#returning-a-view-versus-a-copy\n",
      "  iloc._setitem_with_indexer(indexer, value)\n",
      "/home/jeff/anaconda3/envs/root_env/lib/python3.6/site-packages/ipykernel_launcher.py:34: SettingWithCopyWarning: \n",
      "A value is trying to be set on a copy of a slice from a DataFrame\n",
      "\n",
      "See the caveats in the documentation: https://pandas.pydata.org/pandas-docs/stable/user_guide/indexing.html#returning-a-view-versus-a-copy\n",
      "/home/jeff/anaconda3/envs/root_env/lib/python3.6/site-packages/ipykernel_launcher.py:35: SettingWithCopyWarning: \n",
      "A value is trying to be set on a copy of a slice from a DataFrame\n",
      "\n",
      "See the caveats in the documentation: https://pandas.pydata.org/pandas-docs/stable/user_guide/indexing.html#returning-a-view-versus-a-copy\n",
      "/home/jeff/anaconda3/envs/root_env/lib/python3.6/site-packages/ipykernel_launcher.py:36: SettingWithCopyWarning: \n",
      "A value is trying to be set on a copy of a slice from a DataFrame\n",
      "\n",
      "See the caveats in the documentation: https://pandas.pydata.org/pandas-docs/stable/user_guide/indexing.html#returning-a-view-versus-a-copy\n",
      "/home/jeff/anaconda3/envs/root_env/lib/python3.6/site-packages/ipykernel_launcher.py:39: RuntimeWarning: invalid value encountered in sqrt\n",
      "/home/jeff/anaconda3/envs/root_env/lib/python3.6/site-packages/ipykernel_launcher.py:41: RuntimeWarning: invalid value encountered in sqrt\n",
      "/home/jeff/anaconda3/envs/root_env/lib/python3.6/site-packages/ipykernel_launcher.py:6: SettingWithCopyWarning: \n",
      "A value is trying to be set on a copy of a slice from a DataFrame.\n",
      "Try using .loc[row_indexer,col_indexer] = value instead\n",
      "\n",
      "See the caveats in the documentation: https://pandas.pydata.org/pandas-docs/stable/user_guide/indexing.html#returning-a-view-versus-a-copy\n",
      "  \n",
      "/home/jeff/anaconda3/envs/root_env/lib/python3.6/site-packages/ipykernel_launcher.py:7: SettingWithCopyWarning: \n",
      "A value is trying to be set on a copy of a slice from a DataFrame.\n",
      "Try using .loc[row_indexer,col_indexer] = value instead\n",
      "\n",
      "See the caveats in the documentation: https://pandas.pydata.org/pandas-docs/stable/user_guide/indexing.html#returning-a-view-versus-a-copy\n",
      "  import sys\n",
      "/home/jeff/anaconda3/envs/root_env/lib/python3.6/site-packages/ipykernel_launcher.py:24: SettingWithCopyWarning: \n",
      "A value is trying to be set on a copy of a slice from a DataFrame\n",
      "\n",
      "See the caveats in the documentation: https://pandas.pydata.org/pandas-docs/stable/user_guide/indexing.html#returning-a-view-versus-a-copy\n",
      "/home/jeff/anaconda3/envs/root_env/lib/python3.6/site-packages/pandas/core/indexing.py:670: SettingWithCopyWarning: \n",
      "A value is trying to be set on a copy of a slice from a DataFrame\n",
      "\n",
      "See the caveats in the documentation: https://pandas.pydata.org/pandas-docs/stable/user_guide/indexing.html#returning-a-view-versus-a-copy\n",
      "  iloc._setitem_with_indexer(indexer, value)\n",
      "/home/jeff/anaconda3/envs/root_env/lib/python3.6/site-packages/ipykernel_launcher.py:33: SettingWithCopyWarning: \n",
      "A value is trying to be set on a copy of a slice from a DataFrame\n",
      "\n",
      "See the caveats in the documentation: https://pandas.pydata.org/pandas-docs/stable/user_guide/indexing.html#returning-a-view-versus-a-copy\n",
      "/home/jeff/anaconda3/envs/root_env/lib/python3.6/site-packages/pandas/core/indexing.py:670: SettingWithCopyWarning: \n",
      "A value is trying to be set on a copy of a slice from a DataFrame\n",
      "\n",
      "See the caveats in the documentation: https://pandas.pydata.org/pandas-docs/stable/user_guide/indexing.html#returning-a-view-versus-a-copy\n",
      "  iloc._setitem_with_indexer(indexer, value)\n",
      "/home/jeff/anaconda3/envs/root_env/lib/python3.6/site-packages/ipykernel_launcher.py:34: SettingWithCopyWarning: \n",
      "A value is trying to be set on a copy of a slice from a DataFrame\n",
      "\n",
      "See the caveats in the documentation: https://pandas.pydata.org/pandas-docs/stable/user_guide/indexing.html#returning-a-view-versus-a-copy\n",
      "/home/jeff/anaconda3/envs/root_env/lib/python3.6/site-packages/ipykernel_launcher.py:35: SettingWithCopyWarning: \n",
      "A value is trying to be set on a copy of a slice from a DataFrame\n",
      "\n",
      "See the caveats in the documentation: https://pandas.pydata.org/pandas-docs/stable/user_guide/indexing.html#returning-a-view-versus-a-copy\n",
      "/home/jeff/anaconda3/envs/root_env/lib/python3.6/site-packages/ipykernel_launcher.py:36: SettingWithCopyWarning: \n",
      "A value is trying to be set on a copy of a slice from a DataFrame\n",
      "\n",
      "See the caveats in the documentation: https://pandas.pydata.org/pandas-docs/stable/user_guide/indexing.html#returning-a-view-versus-a-copy\n",
      "/home/jeff/anaconda3/envs/root_env/lib/python3.6/site-packages/ipykernel_launcher.py:39: RuntimeWarning: invalid value encountered in sqrt\n",
      "/home/jeff/anaconda3/envs/root_env/lib/python3.6/site-packages/ipykernel_launcher.py:41: RuntimeWarning: invalid value encountered in sqrt\n",
      "/home/jeff/anaconda3/envs/root_env/lib/python3.6/site-packages/ipykernel_launcher.py:6: SettingWithCopyWarning: \n",
      "A value is trying to be set on a copy of a slice from a DataFrame.\n",
      "Try using .loc[row_indexer,col_indexer] = value instead\n",
      "\n",
      "See the caveats in the documentation: https://pandas.pydata.org/pandas-docs/stable/user_guide/indexing.html#returning-a-view-versus-a-copy\n",
      "  \n",
      "/home/jeff/anaconda3/envs/root_env/lib/python3.6/site-packages/ipykernel_launcher.py:7: SettingWithCopyWarning: \n",
      "A value is trying to be set on a copy of a slice from a DataFrame.\n",
      "Try using .loc[row_indexer,col_indexer] = value instead\n",
      "\n",
      "See the caveats in the documentation: https://pandas.pydata.org/pandas-docs/stable/user_guide/indexing.html#returning-a-view-versus-a-copy\n",
      "  import sys\n"
     ]
    },
    {
     "name": "stderr",
     "output_type": "stream",
     "text": [
      "/home/jeff/anaconda3/envs/root_env/lib/python3.6/site-packages/ipykernel_launcher.py:24: SettingWithCopyWarning: \n",
      "A value is trying to be set on a copy of a slice from a DataFrame\n",
      "\n",
      "See the caveats in the documentation: https://pandas.pydata.org/pandas-docs/stable/user_guide/indexing.html#returning-a-view-versus-a-copy\n",
      "/home/jeff/anaconda3/envs/root_env/lib/python3.6/site-packages/pandas/core/indexing.py:670: SettingWithCopyWarning: \n",
      "A value is trying to be set on a copy of a slice from a DataFrame\n",
      "\n",
      "See the caveats in the documentation: https://pandas.pydata.org/pandas-docs/stable/user_guide/indexing.html#returning-a-view-versus-a-copy\n",
      "  iloc._setitem_with_indexer(indexer, value)\n",
      "/home/jeff/anaconda3/envs/root_env/lib/python3.6/site-packages/ipykernel_launcher.py:33: SettingWithCopyWarning: \n",
      "A value is trying to be set on a copy of a slice from a DataFrame\n",
      "\n",
      "See the caveats in the documentation: https://pandas.pydata.org/pandas-docs/stable/user_guide/indexing.html#returning-a-view-versus-a-copy\n",
      "/home/jeff/anaconda3/envs/root_env/lib/python3.6/site-packages/pandas/core/indexing.py:670: SettingWithCopyWarning: \n",
      "A value is trying to be set on a copy of a slice from a DataFrame\n",
      "\n",
      "See the caveats in the documentation: https://pandas.pydata.org/pandas-docs/stable/user_guide/indexing.html#returning-a-view-versus-a-copy\n",
      "  iloc._setitem_with_indexer(indexer, value)\n",
      "/home/jeff/anaconda3/envs/root_env/lib/python3.6/site-packages/ipykernel_launcher.py:34: SettingWithCopyWarning: \n",
      "A value is trying to be set on a copy of a slice from a DataFrame\n",
      "\n",
      "See the caveats in the documentation: https://pandas.pydata.org/pandas-docs/stable/user_guide/indexing.html#returning-a-view-versus-a-copy\n",
      "/home/jeff/anaconda3/envs/root_env/lib/python3.6/site-packages/ipykernel_launcher.py:35: SettingWithCopyWarning: \n",
      "A value is trying to be set on a copy of a slice from a DataFrame\n",
      "\n",
      "See the caveats in the documentation: https://pandas.pydata.org/pandas-docs/stable/user_guide/indexing.html#returning-a-view-versus-a-copy\n",
      "/home/jeff/anaconda3/envs/root_env/lib/python3.6/site-packages/ipykernel_launcher.py:36: SettingWithCopyWarning: \n",
      "A value is trying to be set on a copy of a slice from a DataFrame\n",
      "\n",
      "See the caveats in the documentation: https://pandas.pydata.org/pandas-docs/stable/user_guide/indexing.html#returning-a-view-versus-a-copy\n",
      "/home/jeff/anaconda3/envs/root_env/lib/python3.6/site-packages/ipykernel_launcher.py:39: RuntimeWarning: invalid value encountered in sqrt\n",
      "/home/jeff/anaconda3/envs/root_env/lib/python3.6/site-packages/ipykernel_launcher.py:41: RuntimeWarning: invalid value encountered in sqrt\n"
     ]
    }
   ],
   "source": [
    "def create_lepton_analysis_dataframe(df, Bs = truth_B):\n",
    "    df['counts/event'] = 1 #placeholder to select on events with 2 reconstructed dfs\n",
    "    tab = pd.pivot_table(df, values='counts/event', index=['__event__'], aggfunc=np.sum) #determine # of dfs in event\n",
    "    tab.loc[tab['counts/event'] == 2].index.to_numpy() #only keep event numbers with 2 reconstructed dfs\n",
    "    pairs = df.loc[df['__event__'].isin(tab.loc[tab['counts/event']==2].index.to_numpy())] #dataframe with event-wise pairs of dfs\n",
    "    pairs['truth_dz'] = Bs.loc[Bs['__event__'].isin(pairs['__event__'].to_numpy())]['mcDecayVertexFromIPZ'].to_numpy()\n",
    "    pairs['B_PDG'] = Bs.loc[Bs['__event__'].isin(pairs['__event__'].to_numpy())]['mcPDG'].to_numpy()\n",
    "    tmp = pairs.groupby('__event__').diff() #group by differences of events to get quantities like deltaT and to determine mistag\n",
    "    sums = pairs.groupby('__event__').sum()\n",
    "    tmp.dropna(subset = ['z'], inplace = True)\n",
    "    tmp.index = [i for i in range(0,len(tmp))]\n",
    "    tmp['deltaT'] = tmp['dz']/(0.425*3e10)*1e12\n",
    "    tmp['mcDeltaT'] = tmp['truth_dz']/(0.425*3e10)*1e12\n",
    "    tmp['deltaT'] = np.abs(tmp['deltaT'])\n",
    "    tmp['mcDeltaT'] = np.abs(tmp['mcDeltaT'])\n",
    "    sums.dropna(subset = ['z'], inplace = True)\n",
    "    sums.index = [i for i in range(0,len(sums))]\n",
    "    sums['sumT'] = sums['dz']/(0.425*3e10)*1e12\n",
    "    sums['mcSumT'] = sums['truth_dz']/(0.425*3e10)*1e12\n",
    "    tmp['sumT'] = np.abs(sums['sumT'])\n",
    "    tmp['mcSumT'] = np.abs(sums['mcSumT'])\n",
    "    tmp['mistag'] = 0\n",
    "    index = tmp.loc[((tmp['charge']==0) & (tmp['B_PDG']!=0)) | ((tmp['charge']!=0) & (tmp['B_PDG']==0))].index.to_numpy()\n",
    "    tmp['mistag'][index] = 1\n",
    "    tmp['SF']=0\n",
    "    tmp['OF']=0\n",
    "    tmp['SF_truth']=0\n",
    "    tmp['OF_truth']=0\n",
    "    index1 = tmp.loc[tmp['charge']==0].index.to_numpy()\n",
    "    index2 = tmp.loc[tmp['charge']!=0].index.to_numpy()\n",
    "    tindex1 = tmp.loc[tmp['B_PDG']==0].index.to_numpy()\n",
    "    tindex2 = tmp.loc[tmp['B_PDG']!=0].index.to_numpy()\n",
    "    tmp['SF'][index1]=1\n",
    "    tmp['OF'][index2]=1\n",
    "    tmp['SF_truth'][tindex1]=1\n",
    "    tmp['OF_truth'][tindex2]=1\n",
    "    tmp['counts'] = 1 #to count events in grouped bins\n",
    "    test = tmp.groupby(pd.cut(tmp['deltaT'],bins = [0,0.5] + [i for i in range(1,7)] + [7,9,13,20])).sum()\n",
    "    test_err = np.sqrt(tmp.groupby(pd.cut(tmp['deltaT'],bins = [0,0.5] + [i for i in range(1,7)] + [7,9,13,20])).sum())\n",
    "    test_truth = tmp.groupby(pd.cut(tmp['mcDeltaT'],bins = [0,0.5] + [i for i in range(1,7)] + [7,9,13,20])).sum()\n",
    "    test_truth_err = np.sqrt(tmp.groupby(pd.cut(tmp['mcDeltaT'],bins = [0,0.5] + [i for i in range(1,7)] + [7,9,13,20])).sum())\n",
    "    test['A'] = (test['OF']-test['SF'])/(test['OF']+test['SF'])\n",
    "    test_err['A'] = np.abs(test['A'])*np.sqrt((np.sqrt(test_err['OF']**2+test_err['SF']**2)/(test['OF']-test['SF']))**2 + (np.sqrt(test_err['OF']**2+test_err['SF']**2)/(test['OF']+test['SF']))**2)\n",
    "    test['A_truth'] = (test['OF_truth']-test['SF_truth'])/(test['OF_truth']+test['SF_truth'])\n",
    "    test_err['A_truth'] = np.abs(test['A_truth'])*np.sqrt((np.sqrt(test_err['OF_truth']**2+test_err['SF_truth']**2)/(test['OF_truth']-test['SF_truth']))**2 + (np.sqrt(test_err['OF_truth']**2+test_err['SF_truth']**2)/(test['OF_truth']+test['SF_truth']))**2)\n",
    "    test_truth['A'] = (test_truth['OF']-test_truth['SF'])/(test_truth['OF']+test_truth['SF'])\n",
    "    test_truth_err['A'] = np.abs(test_truth['A'])*np.sqrt((np.sqrt(test_truth_err['OF']**2+test_truth_err['SF']**2)/(test_truth['OF']-test_truth['SF']))**2 + (np.sqrt(test_truth_err['OF']**2+test_truth_err['SF']**2)/(test_truth['OF']+test_truth['SF']))**2)\n",
    "    test_truth['A_truth'] = (test_truth['OF_truth']-test_truth['SF_truth'])/(test_truth['OF_truth']+test_truth['SF_truth'])\n",
    "    test_truth_err['A_truth'] = np.abs(test_truth['A_truth'])*np.sqrt((np.sqrt(test_truth_err['OF_truth']**2+test_truth_err['SF_truth']**2)/(test_truth['OF_truth']-test_truth['SF_truth']))**2 + (np.sqrt(test_truth_err['OF_truth']**2+test_truth_err['SF_truth']**2)/(test_truth['OF_truth']+test_truth['SF_truth']))**2)\n",
    "    \n",
    "    return tmp, test[['OF','SF','OF_truth','SF_truth','A','A_truth','counts','mistag']], test_err[['OF','SF','OF_truth','SF_truth','A','A_truth','counts','mistag']], test_truth[['OF','SF','OF_truth','SF_truth','A','A_truth','counts','mistag']], test_truth_err[['OF','SF','OF_truth','SF_truth','A','A_truth','counts','mistag']]\n",
    "\n",
    "data = create_lepton_analysis_dataframe(lepton, truth_B)[0]\n",
    "data2 = create_lepton_analysis_dataframe(lepton2, truth_B2)[0]\n",
    "signal = e.loc[e['isSignal']==1].append(mu.loc[mu['isSignal']==1]).sort_values(by='__event__')\n",
    "signal2 = e2.loc[e2['isSignal']==1].append(mu2.loc[mu2['isSignal']==1]).sort_values(by='__event__')\n",
    "truth = create_lepton_analysis_dataframe(signal, truth_B)[0]\n",
    "truth2 = create_lepton_analysis_dataframe(signal2, truth_B2)[0]"
   ]
  },
  {
   "cell_type": "code",
   "execution_count": 19,
   "metadata": {},
   "outputs": [],
   "source": [
    "dataSF = truth.loc[truth['SF']==1]\n",
    "dataOF = truth.loc[truth['SF']!=1]\n",
    "truthSF = truth.loc[truth['SF_truth']==1]\n",
    "truthOF = truth.loc[truth['SF_truth']!=1]\n",
    "dataSF2 = data2.loc[data2['SF']==1]\n",
    "dataOF2 = data2.loc[data2['SF']!=1]\n",
    "truthSF2 = truth2.loc[truth2['SF_truth']==1]\n",
    "truthOF2 = truth2.loc[truth2['SF_truth']!=1]"
   ]
  },
  {
   "cell_type": "code",
   "execution_count": 20,
   "metadata": {},
   "outputs": [
    {
     "data": {
      "text/plain": [
       "0.008554520419523056"
      ]
     },
     "execution_count": 20,
     "metadata": {},
     "output_type": "execute_result"
    }
   ],
   "source": [
    "(dataOF2['mistag'].sum()+ dataSF2['mistag'].sum())/(len(dataOF2) + len(dataSF2))"
   ]
  },
  {
   "cell_type": "code",
   "execution_count": 21,
   "metadata": {},
   "outputs": [
    {
     "data": {
      "text/plain": [
       "(0.001438538444939941, 0.03982300884955752)"
      ]
     },
     "execution_count": 21,
     "metadata": {},
     "output_type": "execute_result"
    }
   ],
   "source": [
    "dataOF2['mistag'].sum()/len(dataOF2),dataSF2['mistag'].sum()/len(dataSF2)"
   ]
  },
  {
   "cell_type": "code",
   "execution_count": null,
   "metadata": {},
   "outputs": [],
   "source": [
    "#response_OF = ROOT.RooUnfoldResponse(11, array.array('d',low_edges))\n",
    "#response_SF = ROOT.RooUnfoldResponse(11, array.array('d',low_edges))\n",
    "#response_OF = ROOT.RooUnfoldResponse(20, 0, 20)\n",
    "#response_SF = ROOT.RooUnfoldResponse(20, 0, 20)"
   ]
  },
  {
   "cell_type": "code",
   "execution_count": 29,
   "metadata": {},
   "outputs": [],
   "source": [
    "def make_response_matrix(OF_data,OF_truth,SF_data,SF_truth,physics_model): #physics models: QM and SD\n",
    "    if physics_model.lower() == 'qm':\n",
    "        low_edges = [0,0.5,1,2,3,4,5,6,7,9,13,20]\n",
    "        key = 'deltaT'\n",
    "        mckey = 'mcDeltaT'\n",
    "    else:\n",
    "        low_edges = [0,6,12,20,30,45,60,90,120,150,200,300]\n",
    "        key = 'sumT'\n",
    "        mckey = 'mcSumT'\n",
    "    truthHistOF = ROOT.TH1D(\"\",\"\",11,array.array('d',low_edges))\n",
    "    measHistOF = ROOT.TH1D(\"\",\"\",11,array.array('d',low_edges))\n",
    "    truthHistSF = ROOT.TH1D(\"\",\"\",11,array.array('d',low_edges))\n",
    "    measHistSF = ROOT.TH1D(\"\",\"\",11,array.array('d',low_edges))\n",
    "    response_OF = ROOT.RooUnfoldResponse(measHistOF,truthHistOF)\n",
    "    response_SF = ROOT.RooUnfoldResponse(measHistSF,truthHistSF)\n",
    "    for i in range(0,min(len(OF_data),len(OF_truth))):\n",
    "        truthHistOF.Fill(OF_truth[mckey].iloc[i])\n",
    "        measHistOF.Fill(OF_data[key].iloc[i])\n",
    "        response_OF.Fill(OF_data[key].iloc[i],OF_truth[mckey].iloc[i])\n",
    "    for i in range(0,min(len(SF_data),len(SF_truth))):\n",
    "        truthHistSF.Fill(SF_truth[mckey].iloc[i])\n",
    "        measHistSF.Fill(SF_data[key].iloc[i])\n",
    "        response_SF.Fill(SF_data[key].iloc[i],SF_truth[mckey].iloc[i])\n",
    "    return response_OF, response_SF, truthHistOF, truthHistSF, measHistOF, measHistSF"
   ]
  },
  {
   "cell_type": "code",
   "execution_count": 30,
   "metadata": {},
   "outputs": [],
   "source": [
    "response_OF, response_SF, truthHistOF, truthHistSF, measHistOF, measHistSF = make_response_matrix(truthOF,truthOF,truthSF,truthSF,'QM') #call truth in {OF,SF}_data to avoid mistagging in response matrix\n",
    "response_OF_sum, response_SF_sum, truthHistOF_sum, truthHistSF_sum, measHistOF_sum, measHistSF_sum = make_response_matrix(truthOF,truthOF,truthSF,truthSF,'SD')"
   ]
  },
  {
   "cell_type": "code",
   "execution_count": 33,
   "metadata": {},
   "outputs": [],
   "source": [
    "def plot_original_distributions(flavor = 'OF', model = 'QM', save=False):\n",
    "    response_OF, response_SF, truthHistOF, truthHistSF, measHistOF, measHistSF = make_response_matrix(truthOF,truthOF,truthSF,truthSF,model)\n",
    "    if flavor.lower() == 'of':\n",
    "        truthHist = truthHistOF\n",
    "        measHist = measHistOF\n",
    "    else:\n",
    "        truthHist = truthHistSF\n",
    "        measHist = measHistSF\n",
    "    c = ROOT.TCanvas()\n",
    "    truthHist.SetStats(0)\n",
    "    truthHist.SetFillColorAlpha(7,0)\n",
    "    truthHist.SetLineColor(2)\n",
    "    truthHist.SetLineWidth(2)\n",
    "    measHist.SetLineWidth(2)\n",
    "    truthHist.DrawClone()\n",
    "    truthHist.SetTitle(\"%s Distributions\"%(flavor))\n",
    "    truthHist.GetXaxis().SetTitle(r'\\Delta t  [ps]')\n",
    "    truthHist.GetXaxis().SetTitleSize(0.05)\n",
    "    truthHist.GetXaxis().SetLabelSize(0.05)\n",
    "    truthHist.GetYaxis().SetLabelSize(0.05)\n",
    "    truthHist.GetXaxis().SetTitleOffset(0.9)\n",
    "    measHist.SetFillColorAlpha(42,0)\n",
    "    truthHist.DrawClone()\n",
    "    measHist.DrawClone(\"same\")\n",
    "    leg = ROOT.TLegend(.55,0.7,.9,.9)\n",
    "    leg.AddEntry(truthHist,\"True Distribution\")\n",
    "    leg.AddEntry(measHist,\"Measured\")\n",
    "    leg.DrawClone()\n",
    "    if save == True:\n",
    "        c.SaveAs('Original_distributions_%s_%s.png'%(model,flavor))\n",
    "    return c\n"
   ]
  },
  {
   "cell_type": "code",
   "execution_count": 34,
   "metadata": {},
   "outputs": [
    {
     "data": {
      "image/png": "[encoded data removed]",
      "text/plain": [
       "<IPython.core.display.Image object>"
      ]
     },
     "metadata": {},
     "output_type": "display_data"
    },
    {
     "data": {
      "image/png": "[encoded data removed]",
      "text/plain": [
       "<IPython.core.display.Image object>"
      ]
     },
     "metadata": {},
     "output_type": "display_data"
    },
    {
     "data": {
      "image/png": "[encoded data removed]",
      "text/plain": [
       "<IPython.core.display.Image object>"
      ]
     },
     "metadata": {},
     "output_type": "display_data"
    },
    {
     "data": {
      "image/png": "[encoded data removed]",
      "text/plain": [
       "<IPython.core.display.Image object>"
      ]
     },
     "metadata": {},
     "output_type": "display_data"
    }
   ],
   "source": [
    "c = plot_original_distributions(flavor = 'OF',model = 'QM')\n",
    "c.Draw()\n",
    "c1 = plot_original_distributions('SF','QM')\n",
    "c1.Draw()\n",
    "c2 = plot_original_distributions('OF','SD')\n",
    "c2.Draw()\n",
    "c3 = plot_original_distributions('SF','SD')\n",
    "c3.Draw()"
   ]
  },
  {
   "cell_type": "code",
   "execution_count": 35,
   "metadata": {},
   "outputs": [],
   "source": [
    "def plot_response_matrix(flavor = 'OF', model = 'QM', save=False):\n",
    "    response_OF, response_SF, truthHistOF, truthHistSF, measHistOF, measHistSF = make_response_matrix(truthOF,truthOF,truthSF,truthSF,model)\n",
    "    if flavor.lower() == 'of':\n",
    "        RSF = response_OF.HresponseNoOverflow()\n",
    "    else:\n",
    "        RSF = response_SF.HresponseNoOverflow()\n",
    "    c = ROOT.TCanvas()\n",
    "    #ROOT.gPad.SetLogz()\n",
    "    RSF.SetStats(0)\n",
    "    RSF.SetTitle(\"Response (%s)\"%(flavor))\n",
    "    RSF.GetXaxis().SetTitle(r'\\Delta t_{meas} [ps]')\n",
    "    RSF.GetXaxis().SetTitleSize(0.05)\n",
    "    RSF.GetXaxis().SetLabelSize(0.05)\n",
    "    RSF.GetXaxis().SetTitleOffset(0.9)\n",
    "    RSF.GetYaxis().SetTitle(r'\\Delta t_{truth} [ps]')\n",
    "    RSF.GetYaxis().SetTitleSize(0.05)\n",
    "    RSF.GetYaxis().SetLabelSize(0.05)\n",
    "    RSF.GetYaxis().SetTitleOffset(1)\n",
    "    RSF.DrawClone(\"colz\")\n",
    "    if save == True:\n",
    "        c.SaveAs('Response_%s_%s.png'%(model,flavor))\n",
    "    return c\n"
   ]
  },
  {
   "cell_type": "code",
   "execution_count": 36,
   "metadata": {
    "scrolled": false
   },
   "outputs": [
    {
     "data": {
      "image/png": "[encoded data removed]",
      "text/plain": [
       "<IPython.core.display.Image object>"
      ]
     },
     "metadata": {},
     "output_type": "display_data"
    },
    {
     "data": {
      "image/png": "[encoded data removed]",
      "text/plain": [
       "<IPython.core.display.Image object>"
      ]
     },
     "metadata": {},
     "output_type": "display_data"
    },
    {
     "data": {
      "image/png": "[encoded data removed]",
      "text/plain": [
       "<IPython.core.display.Image object>"
      ]
     },
     "metadata": {},
     "output_type": "display_data"
    },
    {
     "data": {
      "image/png": "[encoded data removed]",
      "text/plain": [
       "<IPython.core.display.Image object>"
      ]
     },
     "metadata": {},
     "output_type": "display_data"
    }
   ],
   "source": [
    "c = plot_response_matrix(flavor = 'OF',model = 'QM')\n",
    "c.Draw()\n",
    "c1 = plot_response_matrix('SF','QM')\n",
    "c1.Draw()\n",
    "c2 = plot_response_matrix('OF','SD')\n",
    "c2.Draw()\n",
    "c3 = plot_response_matrix('SF','SD')\n",
    "c3.Draw()"
   ]
  },
  {
   "cell_type": "markdown",
   "metadata": {},
   "source": [
    "# Use different data and truth sets for testing"
   ]
  },
  {
   "cell_type": "code",
   "execution_count": 37,
   "metadata": {},
   "outputs": [],
   "source": [
    "def unfold(OF_data, OF_truth, SF_data, SF_truth, model='QM', method = 'SVD', OF_reg = 4, SF_reg = 4, #regularization params\n",
    "           train_OF_data = truthOF, train_OF_truth = truthOF, \n",
    "           train_SF_data = truthSF, train_SF_truth = truthSF): #physics models: QM and SD, method = 'SVD' and 'Bayes'\n",
    "    #First make response matrix\n",
    "    response_OF = make_response_matrix(train_OF_data,train_OF_truth,train_SF_data,train_SF_truth,model)[0]\n",
    "    response_SF = make_response_matrix(train_OF_data,train_OF_truth,train_SF_data,train_SF_truth,model)[1]\n",
    "    \n",
    "    #make and fill data histograms\n",
    "    if model.lower() == 'qm':\n",
    "        low_edges = [0,0.5,1,2,3,4,5,6,7,9,13,20]\n",
    "        key = 'deltaT'\n",
    "        mckey = 'mcDeltaT'\n",
    "    else:\n",
    "        low_edges = [0,6,12,20,30,45,60,90,120,150,200,300]\n",
    "        key = 'sumT'\n",
    "        mckey = 'mcSumT'\n",
    "    hTrueOF = ROOT.TH1D(\"\",\"\",11,array.array('d',low_edges))\n",
    "    hMeasOF = ROOT.TH1D(\"\",\"\",11,array.array('d',low_edges))\n",
    "    hTrueSF = ROOT.TH1D(\"\",\"\",11,array.array('d',low_edges))\n",
    "    hMeasSF = ROOT.TH1D(\"\",\"\",11,array.array('d',low_edges))  \n",
    "    \n",
    "    for i in range(0,min(len(OF_data),len(OF_truth))):\n",
    "        xt = OF_truth[mckey].to_numpy()[i]\n",
    "        x = np.abs(OF_data[key]).to_numpy()[i]\n",
    "        hTrueOF.Fill(xt)\n",
    "        hMeasOF.Fill(x)\n",
    "    for i in range(0,min(len(SF_data),len(SF_truth))):\n",
    "        xt = SF_truth[mckey].to_numpy()[i]\n",
    "        x = np.abs(SF_data[key]).to_numpy()[i]\n",
    "        hTrueSF.Fill(xt)\n",
    "        hMeasSF.Fill(x)\n",
    "    \n",
    "    if method.lower() == 'svd':\n",
    "        unfoldOF = ROOT.RooUnfoldSvd(response_OF, hMeasOF, OF_reg)\n",
    "        unfoldSF = ROOT.RooUnfoldSvd(response_SF, hMeasSF, SF_reg)\n",
    "    elif method.lower() == 'bayes':\n",
    "        unfoldOF = ROOT.RooUnfoldBayes(response_OF, hMeasOF, OF_reg)\n",
    "        unfoldSF = ROOT.RooUnfoldBayes(response_SF, hMeasSF, SF_reg)\n",
    "    elif method.lower() == 'invert':\n",
    "        unfoldOF = ROOT.RooUnfoldInvert(response_OF, hMeasOF)\n",
    "        unfoldSF = ROOT.RooUnfoldInvert(response_SF, hMeasSF)\n",
    "    elif method.lower() == 'regularized':\n",
    "        unfoldOF = ROOT.RooUnfoldTUnfold(response_OF, hMeasOF)\n",
    "        unfoldSF = ROOT.RooUnfoldTUnfold(response_SF, hMeasSF)\n",
    "    else:\n",
    "        unfoldOF = ROOT.RooUnfoldBinByBin(response_OF, hMeasOF)\n",
    "        unfoldSF = ROOT.RooUnfoldBinByBin(response_SF, hMeasSF)\n",
    "\n",
    "    hRecoOF = unfoldOF.Hreco()\n",
    "    hRecoSF = unfoldSF.Hreco()\n",
    "\n",
    "    return hRecoOF, hRecoSF, hTrueOF, hTrueSF, hMeasOF, hMeasSF"
   ]
  },
  {
   "cell_type": "code",
   "execution_count": 38,
   "metadata": {},
   "outputs": [],
   "source": [
    "def plot_unfold(flavor = 'OF', model = 'QM', method = 'SVD', OF_reg = 5, SF_reg = 6, save = False, OF_data = dataOF2, OF_truth = truthOF2, SF_data = dataSF2, SF_truth = truthSF2):\n",
    "    hRecoOF, hRecoSF, hTrueOF, hTrueSF, hMeasOF, hMeasSF = unfold(OF_data = OF_data, OF_truth = OF_truth, SF_data = SF_data, SF_truth = SF_truth, \n",
    "                                                              model = model, method = method, OF_reg = OF_reg, SF_reg = SF_reg)\n",
    "    c = ROOT.TCanvas()\n",
    "    if flavor.lower() == 'of':\n",
    "        reco = hRecoOF\n",
    "        truth = hTrueOF\n",
    "        meas = hMeasOF\n",
    "        reco.SetTitle(\"Unfold Response (OF) %s %s\"%(model,method))\n",
    "    else:\n",
    "        reco = hRecoSF\n",
    "        truth = hTrueSF\n",
    "        meas = hMeasSF\n",
    "        reco.SetTitle(\"Unfold Response (SF) %s %s\"%(model,method))\n",
    "    \n",
    "    reco.SetStats(0)\n",
    "    if model.lower() != 'qm':\n",
    "        reco.GetXaxis().SetTitle(r't1 + t2 [ps]')\n",
    "    else:\n",
    "        reco.GetXaxis().SetTitle(r'\\Delta t [ps]')\n",
    "    reco.SetMinimum(0.9)\n",
    "    reco.GetXaxis().SetTitleSize(0.05)\n",
    "    reco.GetXaxis().SetLabelSize(0.05)\n",
    "    reco.GetYaxis().SetLabelSize(0.05)\n",
    "    reco.GetXaxis().SetTitleOffset(0.9)\n",
    "    truth.SetLineColor(2)\n",
    "    reco.SetLineColor(1)\n",
    "    truth.SetLineWidth(2)\n",
    "    meas.SetLineWidth(2)\n",
    "    reco.SetMarkerStyle(20)\n",
    "    reco.SetMarkerSize(0.5)\n",
    "    reco.DrawClone()\n",
    "    truth.DrawClone(\"same\")\n",
    "    meas.DrawClone(\"same\")\n",
    "    leg = ROOT.TLegend(0.6, 0.6, 0.9, 0.9)\n",
    "    leg.AddEntry(truth, \"True distribution\",\"pl\")\n",
    "    leg.AddEntry(meas, \"Measured distribution\", \"pl\")\n",
    "    leg.AddEntry(reco, \"Unfolded distribution\")\n",
    "    leg.DrawClone()\n",
    "    if save == True:\n",
    "        c.SaveAs('unfold_%s_%s_%s.png'%(model,flavor,method))\n",
    "    return c"
   ]
  },
  {
   "cell_type": "code",
   "execution_count": 91,
   "metadata": {},
   "outputs": [
    {
     "data": {
      "text/plain": [
       "(21356, 4845)"
      ]
     },
     "execution_count": 91,
     "metadata": {},
     "output_type": "execute_result"
    }
   ],
   "source": [
    "len(truthOF),len(truthSF)"
   ]
  },
  {
   "cell_type": "code",
   "execution_count": 87,
   "metadata": {
    "scrolled": false
   },
   "outputs": [
    {
     "name": "stdout",
     "output_type": "stream",
     "text": [
      "SVD init 11 x 11 bins, kreg=2\n",
      "SVD init 11 x 11 bins, kreg=2\n",
      "SVD init 11 x 11 bins, kreg=2\n",
      "SVD init 11 x 11 bins, kreg=2\n"
     ]
    },
    {
     "name": "stderr",
     "output_type": "stream",
     "text": [
      "Info in <TSVDUnfold_130729::Unfold>: Unfolding param: 2\n",
      "Info in <TSVDUnfold_130729::Unfold>: Curvature of weight distribution: 0.000351\n",
      "Info in <TSVDUnfold_130729::Unfold>: Unfolding param: 2\n",
      "Info in <TSVDUnfold_130729::Unfold>: Curvature of weight distribution: 0.000107\n",
      "Info in <TSVDUnfold_130729::Unfold>: Unfolding param: 2\n",
      "Info in <TSVDUnfold_130729::Unfold>: Curvature of weight distribution: 0.000351\n",
      "Info in <TSVDUnfold_130729::Unfold>: Unfolding param: 2\n",
      "Info in <TSVDUnfold_130729::Unfold>: Curvature of weight distribution: 0.000107\n"
     ]
    },
    {
     "data": {
      "image/png": "[encoded data removed]",
      "text/plain": [
       "<IPython.core.display.Image object>"
      ]
     },
     "metadata": {},
     "output_type": "display_data"
    },
    {
     "data": {
      "image/png": "[encoded data removed]",
      "text/plain": [
       "<IPython.core.display.Image object>"
      ]
     },
     "metadata": {},
     "output_type": "display_data"
    }
   ],
   "source": [
    "c = plot_unfold('OF', 'QM', 'SVD', 2,2)\n",
    "ROOT.gPad.SetLogy()\n",
    "c.Draw()\n",
    "c1 = plot_unfold('SF', 'QM', 'SVD', 2,2)\n",
    "ROOT.gPad.SetLogy()\n",
    "c1.Draw()\n",
    "#c2 = plot_unfold('OF', 'QM', 'SVD', 4,2)\n",
    "#ROOT.gPad.SetLogy()\n",
    "#c2.Draw()\n",
    "#c3 = plot_unfold('OF', 'QM', 'Bayes', 4,2)\n",
    "#ROOT.gPad.SetLogy()\n",
    "#c3.Draw()"
   ]
  },
  {
   "cell_type": "code",
   "execution_count": 51,
   "metadata": {},
   "outputs": [],
   "source": [
    "def get_asymmetries(model, OF_reg = 5, SF_reg = 6, OF_data = dataOF2, OF_truth = truthOF2, SF_data = dataSF2, SF_truth = truthSF2):\n",
    "    \n",
    "    hRecoOF, hRecoSF, hTrueOF, hTrueSF, hMeasOF, hMeasSF = unfold(OF_data = OF_data, OF_truth = OF_truth, SF_data = SF_data, SF_truth = SF_truth, \n",
    "                                                              model = model, method = 'SVD', OF_reg = OF_reg, SF_reg = SF_reg)\n",
    "    vals = []\n",
    "    vals_meas = []\n",
    "    vals_truth = []\n",
    "    for i in range(1,12):\n",
    "        try:\n",
    "            vals.append((hRecoOF.GetBinContent(i)-hRecoSF.GetBinContent(i))/(hRecoOF.GetBinContent(i)+hRecoSF.GetBinContent(i)))\n",
    "        except ZeroDivisionError:\n",
    "            vals.append(0)\n",
    "        try:\n",
    "            vals_truth.append((hTrueOF.GetBinContent(i)-hTrueSF.GetBinContent(i))/(hTrueOF.GetBinContent(i)+hTrueSF.GetBinContent(i)))\n",
    "        except ZeroDivisionError:\n",
    "            vals_truth.append(0)\n",
    "        try:\n",
    "            vals_meas.append((hMeasOF.GetBinContent(i)-hMeasSF.GetBinContent(i))/(hMeasOF.GetBinContent(i)+hMeasSF.GetBinContent(i)))\n",
    "        except ZeroDivisionError:\n",
    "            vals_meas.append(0)\n",
    "    vals_stat_err = []\n",
    "    for i in range(1,12):\n",
    "        vals_stat_err.append(np.abs(vals[i-1])*np.sqrt((np.sqrt(np.sqrt(hRecoOF.GetBinContent(i))**2 + np.sqrt(hRecoSF.GetBinContent(i))**2)/(hRecoOF.GetBinContent(i)-hRecoSF.GetBinContent(i)))**2+(np.sqrt(np.sqrt(hRecoOF.GetBinContent(i))**2 + np.sqrt(hRecoSF.GetBinContent(i))**2)/(hRecoOF.GetBinContent(i)+hRecoSF.GetBinContent(i)))**2))\n",
    "    \n",
    "    vals_stat_err = np.array(vals_stat_err)\n",
    "    vals_sys_err = []\n",
    "    vals_meas_err = []\n",
    "    vals_truth_err = []\n",
    "    for i in range(1,12):\n",
    "        vals_sys_err.append(np.abs(vals[i-1])*np.sqrt((np.sqrt(hRecoOF.GetBinError(i)**2 + np.sqrt(hRecoSF.GetBinContent(i))**2)/(hRecoOF.GetBinContent(i)-hRecoSF.GetBinContent(i)))**2+(np.sqrt(hRecoOF.GetBinError(i)**2 + np.sqrt(hRecoSF.GetBinContent(i))**2)/(hRecoOF.GetBinContent(i)+hRecoSF.GetBinContent(i)))**2))\n",
    "        vals_truth_err.append(np.abs(vals_truth[i-1])*np.sqrt((np.sqrt(hTrueOF.GetBinError(i)**2 + hTrueSF.GetBinError(i)**2)/(hTrueOF.GetBinContent(i)-hTrueSF.GetBinContent(i)))**2+(np.sqrt(hTrueOF.GetBinError(i)**2 + hTrueSF.GetBinError(i)**2)/(hTrueOF.GetBinContent(i)+hTrueSF.GetBinContent(i)))**2))\n",
    "        vals_meas_err.append(np.abs(vals_meas[i-1])*np.sqrt((np.sqrt(hMeasOF.GetBinError(i)**2 + hMeasSF.GetBinError(i)**2)/(hMeasOF.GetBinContent(i)-hMeasSF.GetBinContent(i)))**2+(np.sqrt(hMeasOF.GetBinError(i)**2 + hMeasSF.GetBinError(i)**2)/(hMeasOF.GetBinContent(i)+hMeasSF.GetBinContent(i)))**2))\n",
    "    vals_sys_err = np.array(vals_sys_err)\n",
    "    vals_truth_err = np.array(vals_truth_err)\n",
    "    vals_meas_err = np.array(vals_meas_err)\n",
    "    vals_err = np.sqrt(vals_stat_err**2 + vals_sys_err**2)\n",
    "\n",
    "    return vals, vals_err, vals_truth, vals_truth_err, vals_meas, vals_meas_err"
   ]
  },
  {
   "cell_type": "code",
   "execution_count": 83,
   "metadata": {},
   "outputs": [
    {
     "name": "stdout",
     "output_type": "stream",
     "text": [
      "SVD init 11 x 11 bins, kreg=2\n",
      "SVD init 11 x 11 bins, kreg=2\n"
     ]
    },
    {
     "name": "stderr",
     "output_type": "stream",
     "text": [
      "Info in <TSVDUnfold_130729::Unfold>: Unfolding param: 2\n",
      "Info in <TSVDUnfold_130729::Unfold>: Curvature of weight distribution: 0.000351\n",
      "Info in <TSVDUnfold_130729::Unfold>: Unfolding param: 2\n",
      "Info in <TSVDUnfold_130729::Unfold>: Curvature of weight distribution: 0.000107\n"
     ]
    }
   ],
   "source": [
    "hRecoOF, hRecoSF, hTrueOF, hTrueSF, hMeasOF, hMeasSF = unfold(model='QM',OF_reg=2,SF_reg=2,method='SVD',OF_data = dataOF2, OF_truth = truthOF2, SF_data = dataSF2, SF_truth = truthSF2)"
   ]
  },
  {
   "cell_type": "code",
   "execution_count": 86,
   "metadata": {},
   "outputs": [
    {
     "data": {
      "text/plain": [
       "3164.0"
      ]
     },
     "execution_count": 86,
     "metadata": {},
     "output_type": "execute_result"
    }
   ],
   "source": [
    "np.sum([hTrueSF.GetBinContent(i+1) for i in range(0,12)])"
   ]
  },
  {
   "cell_type": "code",
   "execution_count": 218,
   "metadata": {},
   "outputs": [
    {
     "name": "stdout",
     "output_type": "stream",
     "text": [
      "SVD init 11 x 11 bins, kreg=2\n",
      "SVD init 11 x 11 bins, kreg=2\n",
      "SVD init 11 x 11 bins, kreg=2\n",
      "SVD init 11 x 11 bins, kreg=2\n"
     ]
    },
    {
     "name": "stderr",
     "output_type": "stream",
     "text": [
      "Info in <TSVDUnfold_130729::Unfold>: Unfolding param: 2\n",
      "Info in <TSVDUnfold_130729::Unfold>: Curvature of weight distribution: 0.000351\n",
      "Info in <TSVDUnfold_130729::Unfold>: Unfolding param: 2\n",
      "Info in <TSVDUnfold_130729::Unfold>: Curvature of weight distribution: 0.000107\n",
      "Info in <TSVDUnfold_130729::Unfold>: Unfolding param: 2\n",
      "Info in <TSVDUnfold_130729::Unfold>: Curvature of weight distribution: 0.000003\n",
      "Info in <TSVDUnfold_130729::Unfold>: Unfolding param: 2\n",
      "Info in <TSVDUnfold_130729::Unfold>: Curvature of weight distribution: 0.000002\n"
     ]
    }
   ],
   "source": [
    "A, A_err, A_truth, A_truth_err, A_meas, A_meas_err = get_asymmetries('QM',OF_reg = 2, SF_reg = 2)\n",
    "Asd, Asd_err, Asd_truth, Asd_truth_err, Asd_meas, Asd_meas_err = get_asymmetries('SD',OF_reg = 2, SF_reg = 2)"
   ]
  },
  {
   "cell_type": "markdown",
   "metadata": {},
   "source": [
    "Do truth the pythonic way (check biases in root way later for truth)"
   ]
  },
  {
   "cell_type": "code",
   "execution_count": 217,
   "metadata": {},
   "outputs": [
    {
     "name": "stderr",
     "output_type": "stream",
     "text": [
      "/home/jeff/anaconda3/envs/root_env/lib/python3.6/site-packages/ipykernel_launcher.py:2: RuntimeWarning: invalid value encountered in sqrt\n",
      "  \n"
     ]
    }
   ],
   "source": [
    "test = truth2.groupby(pd.cut(truth2['mcDeltaT'],bins = [0,0.5] + [i for i in range(1,7)] + [7,9,13,20])).sum()\n",
    "test_err = np.sqrt(truth2.groupby(pd.cut(truth2['mcDeltaT'],bins = [0,0.5] + [i for i in range(1,7)] + [7,9,13,20])).sum())\n",
    "A_truth = (test['OF_truth']-test['SF_truth'])/(test['OF_truth']+test['SF_truth'])\n",
    "A_truth_err = np.abs(A_truth)*np.sqrt((np.sqrt(test_err['OF_truth']**2+test_err['SF_truth']**2)/(test['OF_truth']-test['SF_truth']))**2 + (np.sqrt(test_err['OF_truth']**2+test_err['SF_truth']**2)/(test['OF_truth']+test['SF_truth']))**2)"
   ]
  },
  {
   "cell_type": "code",
   "execution_count": 59,
   "metadata": {},
   "outputs": [],
   "source": [
    "def root_fit(A, A_err, model = 'QM'): #fits cosine curve to data (asymmetry computed from binning)\n",
    "    #x1 = array.array('d', [i+0.5 for i in range(0,13)])\n",
    "    x1 = array.array('d', [0.25,0.75,1.5,2.5,3.5,4.5,5.5,6.5,8,11,16.5])\n",
    "    if model.lower() == 'qm':\n",
    "        low_edges = [0,0.5,1,2,3,4,5,6,7,9,13,20]\n",
    "    else:\n",
    "        x2 = array.array('d', [3,9,16,25,37.5,57.5,90,130,175,240,340])\n",
    "        low_edges = [0,0.5,1,2,3,4,5,6,7,9,13,20]\n",
    "    y = array.array('d', A)\n",
    "    xerr = array.array('d', [0 for i in range(0,11)])\n",
    "    yerr = array.array('d', A_err)\n",
    "    #gr = ROOT.TGraphErrors(len(x1), x1, y, xerr, yerr)\n",
    "    #h = ROOT.TH1D('h1','h1',15,0,15)\n",
    "    \n",
    "\n",
    "    if model.lower() == 'qm':\n",
    "        h = ROOT.TH1D('h1','h1',11,array.array('d',low_edges))\n",
    "        for i in range(0,len(A)):\n",
    "            h.SetBinContent(i+1,A[i])\n",
    "            h.SetBinError(i+1,A_err[i])\n",
    "        f = ROOT.TF1('f1', 'cos([0]*x)*exp(-[1]*x)/cosh([2]*x/2)', 0, 13)\n",
    "        #f.SetParLimits(0,0.1,0.9)\n",
    "        #f.SetParLimits(1,0,1)\n",
    "        #f.SetParLimits(2,0,1)\n",
    "        h.Fit('f1', 'SMRB')\n",
    "        fitdict = {\"md\":f.GetParameter(0), \"md_err\":f.GetParError(0), 'chi2':f.GetChisquare(), 'dof':f.GetNDF(),\n",
    "              \"deco\":f.GetParameter(1), 'deco_err':f.GetParError(1),\n",
    "                  \"width\":f.GetParameter(2), 'width_err':f.GetParError(2)}#,\n",
    "                  #'amp':f.GetParameter(3), 'amp_err':f.GetParError(3)}\n",
    "    else:\n",
    "        f2 = ROOT.TF2(\"f2\",\"0.5*(cos([0]*x)+cos([0]*y))\", 0, 20, 0, 300)\n",
    "        gr2 = ROOT.TGraph2D(len(x1), x1, x2, y)\n",
    "        gr2.Fit('f2', 'SMR')\n",
    "        f2.SetParLimits(0,0.3,0.7)\n",
    "        fitdict = {\"SD\":f2.GetParameter(0), \"SD_err\":f2.GetParError(0)}\n",
    "    return fitdict"
   ]
  },
  {
   "cell_type": "code",
   "execution_count": 163,
   "metadata": {},
   "outputs": [],
   "source": [
    "def fit_md_only(A, A_err): #fits cosine curve to data (asymmetry computed from binning)\n",
    "    x1 = array.array('d', [0.25,0.75,1.5,2.5,3.5,4.5,5.5,6.5,8,11,16.5])\n",
    "    low_edges = [0,0.5,1,2,3,4,5,6,7,9,13,20]\n",
    "    y = array.array('d', A)\n",
    "    yerr = array.array('d', A_err)\n",
    "    h = ROOT.TH1D('h1','h1',11,array.array('d',low_edges))\n",
    "    for i in range(0,len(A)):\n",
    "        h.SetBinContent(i+1,A[i])\n",
    "        h.SetBinError(i+1,A_err[i])\n",
    "    f = ROOT.TF1('f1', '[0]*cos([1]*x)', 0, 13)\n",
    "    #f.SetParLimits(0,0.1,0.9)\n",
    "    #f.SetParLimits(1,0,1)\n",
    "    #f.SetParLimits(2,0,1)\n",
    "    h.Fit('f1', 'SMRB')\n",
    "    fitdict = {\"amp\":f.GetParameter(0), \"amp_err\":f.GetParError(0),\n",
    "              \"md\":f.GetParameter(1), \"md_err\":f.GetParError(1), \n",
    "               'chi2':f.GetChisquare(), 'dof':f.GetNDF()}\n",
    "    return fitdict"
   ]
  },
  {
   "cell_type": "code",
   "execution_count": 141,
   "metadata": {},
   "outputs": [],
   "source": [
    "mistag = 1-2*len(data2.loc[data2['mistag']==1])/len(data2)"
   ]
  },
  {
   "cell_type": "code",
   "execution_count": 142,
   "metadata": {},
   "outputs": [
    {
     "data": {
      "text/plain": [
       "mcDeltaT\n",
       "(0.0, 0.5]      0.016329\n",
       "(0.5, 1.0]      0.018956\n",
       "(1.0, 2.0]      0.015514\n",
       "(2.0, 3.0]      0.017971\n",
       "(3.0, 4.0]      0.023395\n",
       "(4.0, 5.0]      0.038597\n",
       "(5.0, 6.0]      0.059740\n",
       "(6.0, 7.0]      0.090153\n",
       "(7.0, 9.0]      0.087560\n",
       "(9.0, 13.0]     0.125830\n",
       "(13.0, 20.0]    0.577350\n",
       "dtype: float64"
      ]
     },
     "execution_count": 142,
     "metadata": {},
     "output_type": "execute_result"
    }
   ],
   "source": [
    "A_truth_err"
   ]
  },
  {
   "cell_type": "code",
   "execution_count": 143,
   "metadata": {},
   "outputs": [],
   "source": [
    "A_go = np.array([1.013, 0.916, 0.699, 0.339, -0.136, -0.634, -0.961, -0.974, -0.675, 0.089, 0.243])\n",
    "A_go_err = np.array([0.028, 0.022, 0.038, 0.056, 0.075, 0.084, 0.077, 0.080, 0.109, 0.193, 0.435])"
   ]
  },
  {
   "cell_type": "code",
   "execution_count": 221,
   "metadata": {},
   "outputs": [
    {
     "name": "stdout",
     "output_type": "stream",
     "text": [
      " FCN=10.8783 FROM MIGRAD    STATUS=CONVERGED      38 CALLS         165 TOTAL\n",
      "                     EDM=3.50344e-08    STRATEGY= 1      ERROR MATRIX ACCURATE \n",
      "  EXT PARAMETER                                   STEP         FIRST   \n",
      "  NO.   NAME      VALUE            ERROR          SIZE      DERIVATIVE \n",
      "   1  p0           9.91088e-01   1.61740e-02   2.70228e-05   2.00771e-03\n",
      "   2  p1           4.87000e-01   9.54087e-03   1.59407e-05   2.71303e-02\n",
      " FCN=14.4318 FROM MIGRAD    STATUS=CONVERGED      39 CALLS         156 TOTAL\n",
      "                     EDM=3.25653e-10    STRATEGY= 1      ERROR MATRIX ACCURATE \n",
      "  EXT PARAMETER                                   STEP         FIRST   \n",
      "  NO.   NAME      VALUE            ERROR          SIZE      DERIVATIVE \n",
      "   1  p0           1.00091e+00   1.54824e-02   2.91190e-05  -1.12895e-03\n",
      "   2  p1          -4.85339e-01   6.67151e-03   1.25466e-05  -3.34954e-03\n",
      " FCN=11.7253 FROM MIGRAD    STATUS=CONVERGED      45 CALLS         159 TOTAL\n",
      "                     EDM=2.46594e-13    STRATEGY= 1      ERROR MATRIX ACCURATE \n",
      "  EXT PARAMETER                                   STEP         FIRST   \n",
      "  NO.   NAME      VALUE            ERROR          SIZE      DERIVATIVE \n",
      "   1  p0           9.83495e-01   1.28726e-02   2.21233e-05   5.52911e-05\n",
      "   2  p1          -4.79416e-01   5.08965e-03   8.74719e-06   2.21659e-05\n",
      " FCN=126.377 FROM MIGRAD    STATUS=CONVERGED      39 CALLS         150 TOTAL\n",
      "                     EDM=3.1615e-09    STRATEGY= 1      ERROR MATRIX ACCURATE \n",
      "  EXT PARAMETER                                   STEP         FIRST   \n",
      "  NO.   NAME      VALUE            ERROR          SIZE      DERIVATIVE \n",
      "   1  p0           9.08306e-01   1.28996e-02   6.94206e-05  -1.97420e-03\n",
      "   2  p1          -3.96132e-01   5.09967e-03   2.74403e-05   1.37362e-02\n"
     ]
    }
   ],
   "source": [
    "go_md = fit_md_only(A_go,A_go_err)\n",
    "md = fit_md_only(np.array(A)/mistag,np.array(A_err))\n",
    "md_truth = fit_md_only(A_truth,A_truth_err)\n",
    "md_meas = fit_md_only(np.array(A_meas)/mistag,np.array(A_meas_err)/mistag)"
   ]
  },
  {
   "cell_type": "code",
   "execution_count": 222,
   "metadata": {},
   "outputs": [
    {
     "name": "stdout",
     "output_type": "stream",
     "text": [
      "{'amp': 1.0009069920992777, 'amp_err': 0.01548243698735624, 'md': -0.4853386590229902, 'md_err': 0.006671506399101599, 'chi2': 14.431827956199571, 'dof': 8}\n",
      "{'amp': 0.9834954342635298, 'amp_err': 0.012872576539776042, 'md': -0.4794160416082689, 'md_err': 0.005089646135463465, 'chi2': 11.725344341335543, 'dof': 8}\n",
      "{'amp': 0.9083057998706147, 'amp_err': 0.012899598651646462, 'md': -0.3961317007899963, 'md_err': 0.005099671635327364, 'chi2': 126.37662987329638, 'dof': 8}\n",
      "{'amp': 0.9910876919710532, 'amp_err': 0.016174004075518694, 'md': 0.4870002499657856, 'md_err': 0.009540866653667842, 'chi2': 10.87831183168854, 'dof': 8}\n"
     ]
    }
   ],
   "source": [
    "print(md)\n",
    "print(md_truth)\n",
    "print(md_meas)\n",
    "print(go_md)"
   ]
  },
  {
   "cell_type": "code",
   "execution_count": 322,
   "metadata": {},
   "outputs": [],
   "source": [
    "def fit_md_and_width(A, A_err): #fits cosine curve to data (asymmetry computed from binning)\n",
    "    x1 = array.array('d', [0.25,0.75,1.5,2.5,3.5,4.5,5.5,6.5,8,11,16.5])\n",
    "    low_edges = [0,0.5,1,2,3,4,5,6,7,9,13,20]\n",
    "    y = array.array('d', A)\n",
    "    yerr = array.array('d', A_err)\n",
    "    h = ROOT.TH1D('h1','h1',11,array.array('d',low_edges))\n",
    "    for i in range(0,len(A)):\n",
    "        h.SetBinContent(i+1,A[i])\n",
    "        h.SetBinError(i+1,A_err[i])\n",
    "    f = ROOT.TF1('f1', '[0]*cos([1]*x)/cosh([2]*x/2)', 0, 13)\n",
    "    #f.SetParLimits(0,0.982,0.984)\n",
    "    #f.SetParLimits(1,0,1)\n",
    "    #f.SetParLimits(2,0,1)\n",
    "    h.Fit('f1', 'SMRB')\n",
    "    fitdict = {\"amp\":f.GetParameter(0), \"amp_err\":f.GetParError(0),\n",
    "              \"md\":f.GetParameter(1), \"md_err\":f.GetParError(1),\n",
    "               \"width\":f.GetParameter(2), \"width_err\":f.GetParError(2),\n",
    "               'chi2':f.GetChisquare(), 'dof':f.GetNDF()}\n",
    "    return fitdict"
   ]
  },
  {
   "cell_type": "code",
   "execution_count": 323,
   "metadata": {},
   "outputs": [
    {
     "name": "stdout",
     "output_type": "stream",
     "text": [
      " FCN=9.76082 FROM MIGRAD    STATUS=CONVERGED      68 CALLS         264 TOTAL\n",
      "                     EDM=1.46168e-07    STRATEGY= 1      ERROR MATRIX ACCURATE \n",
      "  EXT PARAMETER                                   STEP         FIRST   \n",
      "  NO.   NAME      VALUE            ERROR          SIZE      DERIVATIVE \n",
      "   1  p0           9.97456e-01   1.73056e-02   2.58823e-05   2.24344e-02\n",
      "   2  p1          -4.89574e-01   9.90661e-03   1.53321e-05   2.38499e-02\n",
      "   3  p2          -1.02619e-01   5.12677e-02   7.59724e-05   8.47141e-03\n",
      " FCN=10.0147 FROM MIGRAD    STATUS=CONVERGED      83 CALLS         271 TOTAL\n",
      "                     EDM=5.20536e-12    STRATEGY= 1      ERROR MATRIX ACCURATE \n",
      "  EXT PARAMETER                                   STEP         FIRST   \n",
      "  NO.   NAME      VALUE            ERROR          SIZE      DERIVATIVE \n",
      "   1  p0           9.95249e-01   1.66726e-02   2.48751e-05  -1.29464e-04\n",
      "   2  p1          -4.89961e-01   7.31651e-03   1.11599e-05  -1.44051e-04\n",
      "   3  p2           1.66573e-01   4.87693e-02   7.30067e-05  -4.16612e-05\n",
      " FCN=9.24126 FROM MIGRAD    STATUS=CONVERGED      50 CALLS         326 TOTAL\n",
      "                     EDM=9.26486e-06    STRATEGY= 1  ERROR MATRIX UNCERTAINTY   0.1 per cent\n",
      "  EXT PARAMETER                                   STEP         FIRST   \n",
      "  NO.   NAME      VALUE            ERROR          SIZE      DERIVATIVE \n",
      "   1  p0           9.91554e-01   1.40116e-02  -7.70568e-04  -1.81788e-01\n",
      "   2  p1          -4.81911e-01   5.30699e-03   1.39139e-04   9.62038e-01\n",
      "   3  p2           1.32146e-01   4.57595e-02  -5.19579e-05   5.98362e-02\n",
      " FCN=25.932 FROM MIGRAD    STATUS=CONVERGED      81 CALLS         329 TOTAL\n",
      "                     EDM=5.7022e-13    STRATEGY= 1      ERROR MATRIX ACCURATE \n",
      "  EXT PARAMETER                                   STEP         FIRST   \n",
      "  NO.   NAME      VALUE            ERROR          SIZE      DERIVATIVE \n",
      "   1  p0           9.59427e-01   1.43536e-02   3.28238e-05  -3.03515e-05\n",
      "   2  p1           3.89226e-01   6.12668e-03   1.48376e-05  -1.17308e-04\n",
      "   3  p2           3.60494e-01   2.91077e-02   6.82617e-05  -1.56410e-05\n"
     ]
    }
   ],
   "source": [
    "go_mdw = fit_md_and_width(A_go,A_go_err)\n",
    "mdw = fit_md_and_width(np.array(A),np.array(A_err))\n",
    "mdw_truth = fit_md_and_width(A_truth,A_truth_err)\n",
    "mdw_meas = fit_md_and_width(np.array(A_meas)/mistag,np.array(A_meas_err))"
   ]
  },
  {
   "cell_type": "code",
   "execution_count": 324,
   "metadata": {},
   "outputs": [
    {
     "name": "stdout",
     "output_type": "stream",
     "text": [
      "{'amp': 0.9952492105816124, 'amp_err': 0.01667263210764389, 'md': -0.489961466179197, 'md_err': 0.007316513239300499, 'width': 0.1665732680402266, 'width_err': 0.048769333898362445, 'chi2': 10.01468181849635, 'dof': 7}\n",
      "{'amp': 0.9915537775389686, 'amp_err': 0.014011576443611631, 'md': -0.48191147752081537, 'md_err': 0.005306990107372697, 'width': 0.13214623040153028, 'width_err': 0.045759543611324616, 'chi2': 9.241262214904586, 'dof': 7}\n",
      "{'amp': 0.9594272946620326, 'amp_err': 0.014353572792170326, 'md': 0.389225978008557, 'md_err': 0.006126675110443127, 'width': 0.3604936839147913, 'width_err': 0.02910769609402913, 'chi2': 25.932007779075235, 'dof': 7}\n",
      "{'amp': 0.9974559533478744, 'amp_err': 0.01730557069175908, 'md': -0.4895743114087351, 'md_err': 0.00990661104570987, 'width': -0.10261860818633414, 'width_err': 0.05126768684057945, 'chi2': 9.76081688947093, 'dof': 7}\n"
     ]
    }
   ],
   "source": [
    "print(mdw)\n",
    "print(mdw_truth)\n",
    "print(mdw_meas)\n",
    "print(go_mdw)"
   ]
  },
  {
   "cell_type": "code",
   "execution_count": 259,
   "metadata": {},
   "outputs": [],
   "source": [
    "def fit_all(A, A_err): #fits cosine curve to data (asymmetry computed from binning)\n",
    "    x1 = array.array('d', [0.25,0.75,1.5,2.5,3.5,4.5,5.5,6.5,8,11,16.5])\n",
    "    low_edges = [0,0.5,1,2,3,4,5,6,7,9,13,20]\n",
    "    y = array.array('d', A)\n",
    "    yerr = array.array('d', A_err)\n",
    "    h = ROOT.TH1D('h1','h1',11,array.array('d',low_edges))\n",
    "    for i in range(0,len(A)):\n",
    "        h.SetBinContent(i+1,A[i])\n",
    "        h.SetBinError(i+1,A_err[i])\n",
    "    f = ROOT.TF1('f1', 'cos([0]*x)/cosh([1]*x/2)*[2]*e^(-[3]*x)', 0, 13)\n",
    "    #f.SetParLimits(3,0,0.1)\n",
    "    #f.SetParLimits(0,0,1)\n",
    "    #f.SetParLimits(1,0,0)\n",
    "    h.Fit('f1', 'SMRB')\n",
    "    fitdict = {\"md\":f.GetParameter(0), \"md_err\":f.GetParError(0),\n",
    "               \"width\":f.GetParameter(1), \"width_err\":f.GetParError(1),\n",
    "               \"amp\":f.GetParameter(2), \"amp_err\":f.GetParError(2),\n",
    "               \"decoherence\":f.GetParameter(3), \"decoherence_err\":f.GetParError(3),\n",
    "               'chi2':f.GetChisquare(), 'dof':f.GetNDF()}\n",
    "    return fitdict"
   ]
  },
  {
   "cell_type": "code",
   "execution_count": 262,
   "metadata": {},
   "outputs": [
    {
     "name": "stdout",
     "output_type": "stream",
     "text": [
      " FCN=9.29077 FROM MIGRAD    STATUS=CONVERGED     125 CALLS         590 TOTAL\n",
      "                     EDM=1.35147e-06    STRATEGY= 1      ERROR MATRIX ACCURATE \n",
      "  EXT PARAMETER                                   STEP         FIRST   \n",
      "  NO.   NAME      VALUE            ERROR          SIZE      DERIVATIVE \n",
      "   1  p0           4.90185e-01   9.87434e-03   1.49641e-05  -6.31723e-02\n",
      "   2  p1           1.82602e-01   1.08051e-01   4.68990e-05   5.24603e-02\n",
      "   3  p2           9.84112e-01   2.64212e-02   2.49712e-05  -4.65724e-02\n",
      "   4  p3          -2.10081e-02   3.24338e-02   1.22287e-05   1.92553e-01\n",
      " FCN=9.62585 FROM MIGRAD    STATUS=CONVERGED      84 CALLS         716 TOTAL\n",
      "                     EDM=3.18381e-08    STRATEGY= 1      ERROR MATRIX ACCURATE \n",
      "  EXT PARAMETER                                   STEP         FIRST   \n",
      "  NO.   NAME      VALUE            ERROR          SIZE      DERIVATIVE \n",
      "   1  p0          -4.91540e-01   7.31325e-03   1.05960e-05   1.51047e-02\n",
      "   2  p1           2.46259e-01   9.80703e-02   5.54860e-05  -2.83557e-03\n",
      "   3  p2           9.95258e-01   2.64205e-02   2.40003e-05   8.24692e-04\n",
      "   4  p3          -2.65745e-02   3.26793e-02   1.51919e-05  -3.41534e-03\n",
      " FCN=9.20706 FROM MIGRAD    STATUS=CONVERGED      92 CALLS         611 TOTAL\n",
      "                     EDM=4.02443e-07    STRATEGY= 1      ERROR MATRIX ACCURATE \n",
      "  EXT PARAMETER                                   STEP         FIRST   \n",
      "  NO.   NAME      VALUE            ERROR          SIZE      DERIVATIVE \n",
      "   1  p0           4.81721e-01   5.55163e-03   8.04490e-06  -1.44665e-02\n",
      "   2  p1           1.12427e-01   1.24066e-01   7.41364e-05   1.85509e-02\n",
      "   3  p2           9.94484e-01   2.09713e-02   2.00281e-05  -2.25862e-02\n",
      "   4  p3           4.30005e-03   2.29697e-02   1.15158e-05   1.06961e-01\n",
      " FCN=22.3786 FROM MIGRAD    STATUS=CONVERGED      96 CALLS         575 TOTAL\n",
      "                     EDM=8.58845e-12    STRATEGY= 1      ERROR MATRIX ACCURATE \n",
      "  EXT PARAMETER                                   STEP         FIRST   \n",
      "  NO.   NAME      VALUE            ERROR          SIZE      DERIVATIVE \n",
      "   1  p0           3.93056e-01   6.33621e-03   1.35010e-05  -4.70792e-04\n",
      "   2  p1          -5.16401e-01   9.57330e-02   5.77268e-05  -1.63760e-05\n",
      "   3  p2           9.18021e-01   2.69151e-02   2.92523e-05  -4.42873e-05\n",
      "   4  p3          -7.21869e-02   4.32170e-02   2.01352e-05   1.00577e-04\n"
     ]
    }
   ],
   "source": [
    "go_all = fit_all(A_go,A_go_err)\n",
    "md_all = fit_all(np.array(A)/mistag,np.array(A_err))\n",
    "md_truth_all = fit_all(A_truth,A_truth_err)\n",
    "md_meas_all = fit_all(np.array(A_meas)/mistag,np.array(A_meas_err))"
   ]
  },
  {
   "cell_type": "code",
   "execution_count": 263,
   "metadata": {},
   "outputs": [
    {
     "name": "stdout",
     "output_type": "stream",
     "text": [
      "{'md': -0.491540132948125, 'md_err': 0.0073132493883110205, 'width': 0.24625949609933828, 'width_err': 0.09807025291753386, 'amp': 0.9952579795029408, 'amp_err': 0.02642053388226578, 'decoherence': -0.026574527877261396, 'decoherence_err': 0.03267933662791159, 'chi2': 9.625845069962939, 'dof': 6}\n",
      "{'md': 0.4817208373863053, 'md_err': 0.005551632406263727, 'width': 0.11242729291888817, 'width_err': 0.12406574485707066, 'amp': 0.9944842277881423, 'amp_err': 0.02097126365031619, 'decoherence': 0.0043000451975167536, 'decoherence_err': 0.02296971459923704, 'chi2': 9.207064002995338, 'dof': 6}\n",
      "{'md': 0.3930562532822619, 'md_err': 0.006336210212124628, 'width': -0.5164008976797282, 'width_err': 0.09573298898684986, 'amp': 0.91802134412072, 'amp_err': 0.02691511863128746, 'decoherence': -0.07218688167328541, 'decoherence_err': 0.0432170163349788, 'chi2': 22.37864613477258, 'dof': 6}\n",
      "{'md': 0.490185464618112, 'md_err': 0.00987434068209236, 'width': 0.18260205885673533, 'width_err': 0.10805122130915662, 'amp': 0.9841121945143296, 'amp_err': 0.026421151707853956, 'decoherence': -0.021008087422902746, 'decoherence_err': 0.03243377283840562, 'chi2': 9.290773815776621, 'dof': 6}\n"
     ]
    }
   ],
   "source": [
    "print(md_all)\n",
    "print(md_truth_all)\n",
    "print(md_meas_all)\n",
    "print(go_all)"
   ]
  },
  {
   "cell_type": "code",
   "execution_count": 318,
   "metadata": {},
   "outputs": [
    {
     "data": {
      "image/png": "[encoded data removed]",
      "text/plain": [
       "<Figure size 1008x648 with 1 Axes>"
      ]
     },
     "metadata": {
      "needs_background": "light"
     },
     "output_type": "display_data"
    }
   ],
   "source": [
    "#fig, ax = plt.subplots(nrows=2, ncols=1, figsize=(12, 9), sharex = True, gridspec_kw={'hspace': 0.03, 'height_ratios': [3,1]})\n",
    "fig,ax = plt.subplots(1,1,figsize=(14,9))\n",
    "centers = [0.25,0.75,1.5,2.5,3.5,4.5,5.5,6.5,8,11,16.5]\n",
    "widths = np.array([0.25, 0.25, 0.5, 0.5 ,0.5, 0.5, 0.5, 0.5, 1, 2, 3.5])\n",
    "\n",
    "ax.errorbar(centers,A_truth,A_truth_err,widths, 'o', color = 'blue', label = r\"Truth B\")\n",
    "ax.errorbar(centers,A,A_err,widths, 'o', color = 'k', label = r\"Unfolded reconstructed leptons\")\n",
    "ax.errorbar(centers,A_meas,A_meas_err,widths, 'o', color = 'red', label = r\"Reco leptons no unfolding\")\n",
    "ax.errorbar(centers,A_go,A_go_err,widths, 'o', color = 'gray', label = \"Go's result\")\n",
    "\n",
    "x = np.linspace(0,20,201)\n",
    "ax.set_ylim(-1.1,1.1)\n",
    "ax.plot(x, np.cos(0.496*x), 'k', linestyle = '--', label=r'$\\cos(0.496\\Delta t)$',alpha = 0.6)\n",
    "ax.plot(x, md_all['amp']*np.cos(np.abs(md_all['md'])*x)*np.exp(-md_all['decoherence']*x)/np.cosh(md_all['width']*x/2),color = 'blue', linestyle = '--', alpha = 0.6, label = r'unfolded reco lepton: $\\Delta \\Gamma_d$ + decoherence')\n",
    "ax.plot(x, mdw['amp']*np.cos(np.abs(mdw['md'])*x)/np.cosh(mdw['width']*x/2),color = 'red', linestyle = '--', alpha = 0.6, label = 'unfolded reco lepton: $\\Delta \\Gamma_d$ no decoherence')\n",
    "ax.plot(x, md['amp']*np.cos(np.abs(md['md'])*x),color = 'green', linestyle = '--', alpha = 0.6, label = 'unfolded reco lepton: no $\\Delta \\Gamma_d$ or decoherence')\n",
    "ax.set_ylabel(r'$\\mathcal{A}(\\Delta_{m_d}\\Delta t)$')\n",
    "ax.set_xlabel(r'$\\Delta t_\\mathrm{truth}$ [ps]')\n",
    "ax.grid()\n",
    "ax.legend(bbox_to_anchor=(1.05,1.26),fancybox=True,shadow=True,ncol=2)\n",
    "plt.savefig('asymmetry_with_decoherence.png', bbox_inches = 'tight', dpi = 300)"
   ]
  },
  {
   "cell_type": "code",
   "execution_count": null,
   "metadata": {},
   "outputs": [],
   "source": [
    "def root_fit(plot_data, col = 'deltaT'): #fits cosine curve to data (asymmetry computed from binning)\n",
    "    x1 = array.array('d', plot_data[col])\n",
    "    x2 = array.array('d', plot_data['mcSumT'])\n",
    "    y = array.array('d', plot_data['asymmetry'])\n",
    "    gr = ROOT.TGraph(len(x1), x1, y)\n",
    "    f = ROOT.TF1('f1', 'cos([0]*x)', 0, 20)\n",
    "    #f.SetParLimits(0,0.1,0.9)\n",
    "    gr.Fit('f1', 'SE')\n",
    "    f2 = ROOT.TF2(\"f2\",\"0.5*(cos([0]*x)+cos([0]*y))\", 0, 20, 0, 250)\n",
    "    f2.SetParLimits(0,0.1,0.9)\n",
    "    gr2 = ROOT.TGraph2D(len(x1), x1, x2, y)\n",
    "    gr2.Fit('f2', 'SE')\n",
    "    fitdict = {\"QM\":f.GetParameter(0), \"QM_err\":f.GetParError(0), \"SD\":f2.GetParameter(0), \"SD_err\":f.GetParError(0)}\n",
    "    return fitdict"
   ]
  },
  {
   "cell_type": "code",
   "execution_count": null,
   "metadata": {},
   "outputs": [],
   "source": [
    "#fig, ax = plt.subplots(nrows=2, ncols=1, figsize=(12, 9), sharex = True, gridspec_kw={'hspace': 0.03, 'height_ratios': [3,1]})\n",
    "fig,ax = plt.subplots(1,1,figsize=(12,7))\n",
    "centers = [0.25,0.75,1.5,2.5,3.5,4.5,5.5,6.5,8,11,16.5]\n",
    "widths = np.array([0.25, 0.25, 0.5, 0.5 ,0.5, 0.5, 0.5, 0.5, 1, 2, 3.5])\n",
    "#ax[0].errorbar(centers,truth_deltaT['A_truth'],truth_deltaT_err['A_truth'],widths, 'o', label = r\"Truth B\")\n",
    "#ax[0].errorbar(centers,truth_deltaT['A'],truth_deltaT_err['A'],widths, 'o', label = r\"Reconstructed lepton: mistag frac %s\"%(round(len(data.loc[data['mistag']==1])/len(data),4)))\n",
    "#ax[0].errorbar(centers, 1/(1-2*len(data.loc[data['mistag']==1])/len(data))*truth_deltaT['A'], 1/(1-2*len(data.loc[data['mistag']==1])/len(data))*truth_deltaT_err['A'], widths, 'o', label=r'Scaled reconstructed lepton')\n",
    "\n",
    "ax.errorbar(centers,A_truth,A_truth_err,widths, 'o', label = r\"Truth B\")\n",
    "ax.errorbar(centers,A,A_err,widths, 'o', label = r\"Unfolded reconstructed leptons\")\n",
    "ax.errorbar(centers,A_meas,A_meas_err,widths, 'o', label = r\"Reco leptons no unfolding\")\n",
    "\n",
    "go = np.array([1.013, 0.916, 0.699, 0.339, -0.136, -0.634, -0.961, -0.974, -0.675, 0.089, 0.243])\n",
    "go_err = np.array([0.028, 0.022, 0.038, 0.056, 0.075, 0.084, 0.077, 0.080, 0.109, 0.193, 0.435])\n",
    "ax.errorbar(centers,go,go_err,widths, 'o', label = \"Go's result\")\n",
    "\n",
    "x = np.linspace(0,17,201)\n",
    "ax.set_ylim(-1.1,1.1)\n",
    "ax.plot(x, np.cos(0.496*x), 'k', linestyle = '--', label=r'QM expectation $\\Delta m_d = 0.496$',alpha = 0.3)\n",
    "#plt.plot(x, np.cos(0.4496*x), 'red', linestyle = '--', label='SD least squares fit to truth MC')\n",
    "#ax[1].bar(centers,truth_deltaT['mistag']/truth_deltaT['counts'],2*widths)\n",
    "ax.set_ylabel(r'$\\mathcal{A}(\\Delta_{m_d}\\Delta t)$')\n",
    "#ax[1].set_ylabel(r'$w$')\n",
    "ax.set_xlabel(r'$\\Delta t_\\mathrm{truth}$ [ps]')\n",
    "ax.grid()\n",
    "#ax[1].grid()\n",
    "ax.legend(bbox_to_anchor=(.23,0.95),fancybox=True,shadow=True)\n",
    "#plt.savefig('asymmetry_mistag_small.png', bbox_inches = 'tight', dpi = 300)"
   ]
  },
  {
   "cell_type": "code",
   "execution_count": null,
   "metadata": {},
   "outputs": [],
   "source": [
    "c1 = ROOT.TCanvas()\n",
    "hRecoOF.SetStats(0)\n",
    "hRecoOF.SetTitle(\"Unfold Response (OF)\")\n",
    "hRecoOF.GetXaxis().SetTitle(r'\\Delta t  [ps]')\n",
    "hRecoOF.GetXaxis().SetTitleSize(0.05)\n",
    "hRecoOF.GetXaxis().SetLabelSize(0.05)\n",
    "hRecoOF.GetYaxis().SetLabelSize(0.05)\n",
    "hRecoOF.GetXaxis().SetTitleOffset(0.9)\n",
    "hTrueOF.SetLineColor(2)\n",
    "hRecoOF.SetLineColor(1)\n",
    "hTrueOF.SetLineWidth(2)\n",
    "hMeasOF.SetLineWidth(2)\n",
    "hRecoOF.SetMarkerStyle(20)\n",
    "hRecoOF.SetMarkerSize(0.5)\n",
    "hRecoOF.Draw()\n",
    "hTrueOF.Draw(\"same\")\n",
    "hMeasOF.Draw(\"same\")\n",
    "leg = ROOT.TLegend(0.6, 0.6, 0.9, 0.9)\n",
    "leg.AddEntry(hTrueOF, \"True distribution\",\"pl\")\n",
    "leg.AddEntry(hMeasOF, \"Measured distribution\", \"pl\")\n",
    "leg.AddEntry(hRecoOF, \"Unfolded distribution\")\n",
    "leg.Draw()\n",
    "c1.Draw()\n",
    "#c1.SaveAs('OF_svd2.png')\n",
    "#c1.SaveAs('OF_invert2.png')\n",
    "#c1.SaveAs('OF_binbin2.png')\n",
    "#c1.SaveAs('OF_bayes2.png')"
   ]
  },
  {
   "cell_type": "code",
   "execution_count": null,
   "metadata": {},
   "outputs": [],
   "source": [
    "c1 = ROOT.TCanvas()\n",
    "hRecoSF.SetStats(0)\n",
    "hRecoSF.SetTitle(\"Unfold Response (SF)\")\n",
    "hRecoSF.GetXaxis().SetTitle(r'\\Delta t  [ps]')\n",
    "hRecoSF.GetXaxis().SetTitleSize(0.05)\n",
    "hRecoSF.GetXaxis().SetLabelSize(0.05)\n",
    "hRecoSF.GetYaxis().SetLabelSize(0.05)\n",
    "hRecoSF.GetYaxis().SetRangeUser(0,1250)\n",
    "hRecoSF.GetXaxis().SetTitleOffset(0.9)\n",
    "hTrueSF.SetLineColor(2)\n",
    "hTrueSF.SetLineWidth(2)\n",
    "hMeasSF.SetLineWidth(2)\n",
    "hRecoSF.SetLineColor(1)\n",
    "hRecoSF.SetMarkerStyle(20)\n",
    "hRecoSF.SetMarkerSize(0.5)\n",
    "hRecoSF.Draw()\n",
    "hTrueSF.Draw(\"same\")\n",
    "hMeasSF.Draw(\"same\")\n",
    "leg = ROOT.TLegend(0.6, 0.6, 0.9, 0.9)\n",
    "leg.AddEntry(hTrueSF, \"True distribution\",\"pl\")\n",
    "leg.AddEntry(hMeasSF, \"Measured distribution\", \"pl\")\n",
    "leg.AddEntry(hRecoSF, \"Unfolded distribution\")\n",
    "leg.Draw()\n",
    "c1.Draw()\n",
    "#c1.SaveAs('SF_svd2.png')\n",
    "#c1.SaveAs('SF_invert2.png')\n",
    "#c1.SaveAs('SF_binbin2.png')\n",
    "#c1.SaveAs('SF_bayes2.png')"
   ]
  },
  {
   "cell_type": "code",
   "execution_count": null,
   "metadata": {},
   "outputs": [],
   "source": [
    "mistag = 1-2*len(data2.loc[data2['mistag']==1])/len(data2)"
   ]
  },
  {
   "cell_type": "code",
   "execution_count": null,
   "metadata": {},
   "outputs": [],
   "source": [
    "vals = []\n",
    "vals_meas = []\n",
    "vals_truth = []\n",
    "for i in range(1,12):\n",
    "    try:\n",
    "        vals.append((hRecoOF.GetBinContent(i)-hRecoSF.GetBinContent(i))/(hRecoOF.GetBinContent(i)+hRecoSF.GetBinContent(i)))\n",
    "    except ZeroDivisionError:\n",
    "        vals.append(0)\n",
    "    try:\n",
    "        vals_truth.append((hTrueOF.GetBinContent(i)-hTrueSF.GetBinContent(i))/(hTrueOF.GetBinContent(i)+hTrueSF.GetBinContent(i)))\n",
    "    except ZeroDivisionError:\n",
    "        vals_truth.append(0)\n",
    "    try:\n",
    "        vals_meas.append((hMeasOF.GetBinContent(i)-hMeasSF.GetBinContent(i))/(hMeasOF.GetBinContent(i)+hMeasSF.GetBinContent(i)))\n",
    "    except ZeroDivisionError:\n",
    "        vals_meas.append(0)"
   ]
  },
  {
   "cell_type": "code",
   "execution_count": null,
   "metadata": {},
   "outputs": [],
   "source": [
    "vals_stat_err = []\n",
    "for i in range(1,12):\n",
    "    vals_stat_err.append(np.abs(vals[i-1])*np.sqrt((np.sqrt(np.sqrt(hRecoOF.GetBinContent(i))**2 + np.sqrt(hRecoSF.GetBinContent(i))**2)/(hRecoOF.GetBinContent(i)-hRecoSF.GetBinContent(i)))**2+(np.sqrt(np.sqrt(hRecoOF.GetBinContent(i))**2 + np.sqrt(hRecoSF.GetBinContent(i))**2)/(hRecoOF.GetBinContent(i)+hRecoSF.GetBinContent(i)))**2))\n",
    "vals_stat_err = np.array(vals_stat_err)"
   ]
  },
  {
   "cell_type": "code",
   "execution_count": null,
   "metadata": {},
   "outputs": [],
   "source": [
    "vals_stat_err = []\n",
    "for i in range(1,12):\n",
    "    vals_stat_err.append(np.abs(vals[i-1])*np.sqrt((np.sqrt(np.sqrt(hRecoOF.GetBinContent(i))**2 + np.sqrt(hRecoSF.GetBinContent(i))**2)/(hRecoOF.GetBinContent(i)-hRecoSF.GetBinContent(i)))**2+(np.sqrt(np.sqrt(hRecoOF.GetBinContent(i))**2 + np.sqrt(hRecoSF.GetBinContent(i))**2)/(hRecoOF.GetBinContent(i)+hRecoSF.GetBinContent(i)))**2))\n",
    "vals_stat_err = np.array(vals_stat_err)\n",
    "vals_sys_err = []\n",
    "vals_meas_err = []\n",
    "vals_truth_err = []\n",
    "for i in range(1,12):\n",
    "    vals_sys_err.append(np.abs(vals[i-1])*np.sqrt((np.sqrt(hRecoOF.GetBinError(i)**2 + np.sqrt(hRecoSF.GetBinContent(i))**2)/(hRecoOF.GetBinContent(i)-hRecoSF.GetBinContent(i)))**2+(np.sqrt(hRecoOF.GetBinError(i)**2 + np.sqrt(hRecoSF.GetBinContent(i))**2)/(hRecoOF.GetBinContent(i)+hRecoSF.GetBinContent(i)))**2))\n",
    "    vals_truth_err.append(np.abs(vals_truth[i-1])*np.sqrt((np.sqrt(hTrueOF.GetBinError(i)**2 + hTrueSF.GetBinError(i)**2)/(hTrueOF.GetBinContent(i)-hTrueSF.GetBinContent(i)))**2+(np.sqrt(hTrueOF.GetBinError(i)**2 + hTrueSF.GetBinError(i)**2)/(hTrueOF.GetBinContent(i)+hTrueSF.GetBinContent(i)))**2))\n",
    "    vals_meas_err.append(np.abs(vals_meas[i-1])*np.sqrt((np.sqrt(hMeasOF.GetBinError(i)**2 + hMeasSF.GetBinError(i)**2)/(hMeasOF.GetBinContent(i)-hMeasSF.GetBinContent(i)))**2+(np.sqrt(hMeasOF.GetBinError(i)**2 + hMeasSF.GetBinError(i)**2)/(hMeasOF.GetBinContent(i)+hMeasSF.GetBinContent(i)))**2))\n",
    "vals_sys_err = np.array(vals_sys_err)\n",
    "vals_truth_err = np.array(vals_truth_err)\n",
    "vals_meas_err = np.array(vals_meas_err)"
   ]
  },
  {
   "cell_type": "code",
   "execution_count": null,
   "metadata": {},
   "outputs": [],
   "source": [
    "vals_err = np.sqrt(vals_stat_err**2 + vals_sys_err**2)"
   ]
  },
  {
   "cell_type": "code",
   "execution_count": null,
   "metadata": {},
   "outputs": [],
   "source": [
    "1-2*len(data2.loc[data2['mistag']==1])/len(data2)"
   ]
  },
  {
   "cell_type": "code",
   "execution_count": null,
   "metadata": {},
   "outputs": [],
   "source": [
    "vals_err = np.nan_to_num(vals_err)\n",
    "vals_truth_err = np.nan_to_num(vals_truth_err)\n",
    "vals_meas_err = np.nan_to_num(vals_meas_err)"
   ]
  },
  {
   "cell_type": "code",
   "execution_count": null,
   "metadata": {},
   "outputs": [],
   "source": [
    "centers = [0.25,0.75,1.5,2.5,3.5,4.5,5.5,6.5,8,11,16.5]\n",
    "widths = np.array([0.25, 0.25, 0.5, 0.5 ,0.5, 0.5, 0.5, 0.5, 1, 2, 3.5])\n",
    "#x = [i+0.5 for i in range(0,13)]\n",
    "#xerr = [0.5 for i in range(0,13)]\n",
    "plt.errorbar(centers,vals,vals_err,widths,'o')\n",
    "plt.errorbar(centers,vals_truth,vals_truth_err,widths,'o')\n",
    "plt.errorbar(centers,vals_meas,vals_meas_err,widths,'o')"
   ]
  },
  {
   "cell_type": "code",
   "execution_count": null,
   "metadata": {},
   "outputs": [],
   "source": [
    "def root_fit(A, A_err): #fits cosine curve to data (asymmetry computed from binning)\n",
    "    #x1 = array.array('d', [i+0.5 for i in range(0,13)])\n",
    "    x1 = array.array('d', [0.25,0.75,1.5,2.5,3.5,4.5,5.5,6.5,8,11,16.5])\n",
    "    y = array.array('d', A)\n",
    "    #xerr = array.array('d', [0 for i in range(0,11)])\n",
    "    #xerr = array.array('d', [0.25, 0.25, 0.5, 0.5 ,0.5, 0.5, 0.5, 0.5, 1, 2, 3.5])\n",
    "    xerr = array.array('d', [0 for i in range(0,11)])\n",
    "    yerr = array.array('d', A_err)\n",
    "    #gr = ROOT.TGraphErrors(len(x1), x1, y, xerr, yerr)\n",
    "    #h = ROOT.TH1D('h1','h1',15,0,15)\n",
    "    low_edges = [0,0.5,1,2,3,4,5,6,7,9,13,20]\n",
    "    h = ROOT.TH1D('h1','h1',11,array.array('d',low_edges))\n",
    "    for i in range(0,len(A)):\n",
    "        h.SetBinContent(i+1,A[i])\n",
    "        h.SetBinError(i+1,A_err[i])\n",
    "    f = ROOT.TF1('f1', '[0]*cos([1]*x)', 0, 20)\n",
    "    f.SetParLimits(0,0,1)\n",
    "    f.SetParLimits(1,0,1)\n",
    "    h.Fit('f1', 'SMRB')\n",
    "    fitdict = {\"amp\":f.GetParameter(0), \"amp_err\":f.GetParError(0),\n",
    "              \"md\":f.GetParameter(1), 'md_err':f.GetParError(1)}\n",
    "    return fitdict"
   ]
  },
  {
   "cell_type": "code",
   "execution_count": null,
   "metadata": {},
   "outputs": [],
   "source": [
    "print(root_fit(vals,vals_err))\n",
    "#print(root_fit(vals_meas,vals_meas_err))\n",
    "print(root_fit(vals_truth,vals_truth_err))"
   ]
  },
  {
   "cell_type": "code",
   "execution_count": null,
   "metadata": {},
   "outputs": [],
   "source": [
    "truthOF['mistag'].sum()"
   ]
  },
  {
   "cell_type": "code",
   "execution_count": null,
   "metadata": {},
   "outputs": [],
   "source": [
    "#fig, ax = plt.subplots(nrows=2, ncols=1, figsize=(12, 9), sharex = True, gridspec_kw={'hspace': 0.03, 'height_ratios': [3,1]})\n",
    "fig,ax = plt.subplots(1,1,figsize=(12,7))\n",
    "centers = [0.25,0.75,1.5,2.5,3.5,4.5,5.5,6.5,8,11,16.5]\n",
    "widths = np.array([0.25, 0.25, 0.5, 0.5 ,0.5, 0.5, 0.5, 0.5, 1, 2, 3.5])\n",
    "#ax[0].errorbar(centers,truth_deltaT['A_truth'],truth_deltaT_err['A_truth'],widths, 'o', label = r\"Truth B\")\n",
    "#ax[0].errorbar(centers,truth_deltaT['A'],truth_deltaT_err['A'],widths, 'o', label = r\"Reconstructed lepton: mistag frac %s\"%(round(len(data.loc[data['mistag']==1])/len(data),4)))\n",
    "#ax[0].errorbar(centers, 1/(1-2*len(data.loc[data['mistag']==1])/len(data))*truth_deltaT['A'], 1/(1-2*len(data.loc[data['mistag']==1])/len(data))*truth_deltaT_err['A'], widths, 'o', label=r'Scaled reconstructed lepton')\n",
    "\n",
    "ax.errorbar(centers,vals_truth,vals_truth_err,widths, 'o', label = r\"Truth B\")\n",
    "ax.errorbar(centers,vals,vals_err,widths, 'o', label = r\"Unfolded reconstructed leptons\")\n",
    "\n",
    "go = np.array([1.013, 0.916, 0.699, 0.339, -0.136, -0.634, -0.961, -0.974, -0.675, 0.089, 0.243])\n",
    "go_err = np.array([0.028, 0.022, 0.038, 0.056, 0.075, 0.084, 0.077, 0.080, 0.109, 0.193, 0.435])\n",
    "ax.errorbar(centers,go,go_err,widths, 'o', label = \"Go's result\")\n",
    "\n",
    "x = np.linspace(0,17,201)\n",
    "ax.set_ylim(-1.1,1.1)\n",
    "ax.plot(x, np.cos(0.496*x), 'k', linestyle = '--', label=r'QM expectation $\\Delta m_d = 0.496$',alpha = 0.3)\n",
    "#plt.plot(x, np.cos(0.4496*x), 'red', linestyle = '--', label='SD least squares fit to truth MC')\n",
    "#ax[1].bar(centers,truth_deltaT['mistag']/truth_deltaT['counts'],2*widths)\n",
    "ax.set_ylabel(r'$\\mathcal{A}(\\Delta_{m_d}\\Delta t)$')\n",
    "#ax[1].set_ylabel(r'$w$')\n",
    "ax.set_xlabel(r'$\\Delta t_\\mathrm{truth}$ [ps]')\n",
    "ax.grid()\n",
    "#ax[1].grid()\n",
    "ax.legend(bbox_to_anchor=(.23,0.95),fancybox=True,shadow=True)\n",
    "#plt.savefig('asymmetry_mistag_small.png', bbox_inches = 'tight', dpi = 300)"
   ]
  },
  {
   "cell_type": "code",
   "execution_count": null,
   "metadata": {},
   "outputs": [],
   "source": [
    "def root_fit(plot_data, A, A_err): #fits cosine curve to data (asymmetry computed from binning)\n",
    "    x1 = array.array('d', [0.25,0.75,1.5,2.5,3.5,4.5,5.5,6.5,8,11,16.5])\n",
    "    y = array.array('d', A)\n",
    "    xerr = array.array('d', [0 for i in range(0,len(x1))])\n",
    "    #xerr = array.array('d', [0.25, 0.25, 0.5, 0.5 ,0.5, 0.5, 0.5, 0.5, 1, 2, 3.5])\n",
    "    yerr = array.array('d', A_err)\n",
    "    gr = ROOT.TGraphErrors(len(x1), x1, y, xerr, yerr)\n",
    "    f = ROOT.TF1('f1', '[0]*cos(0.496*x)', 0, 16.5)\n",
    "    gr.Fit('f1', 'SMRB')\n",
    "    fitdict = {\"Amp\":f.GetParameter(0), \"Amp_err\":f.GetParError(0)}\n",
    "    return fitdict"
   ]
  },
  {
   "cell_type": "code",
   "execution_count": null,
   "metadata": {},
   "outputs": [],
   "source": [
    "root_fit(data,truth_deltaT['A'],truth_deltaT_err['A'])"
   ]
  },
  {
   "cell_type": "code",
   "execution_count": null,
   "metadata": {},
   "outputs": [],
   "source": [
    "root_fit(data,truth_deltaT['A_truth'],truth_deltaT_err['A_truth'])"
   ]
  },
  {
   "cell_type": "code",
   "execution_count": null,
   "metadata": {},
   "outputs": [],
   "source": [
    "1-2*len(data.loc[data['mistag']==1])/len(data)"
   ]
  },
  {
   "cell_type": "markdown",
   "metadata": {},
   "source": [
    "## Dump"
   ]
  },
  {
   "cell_type": "code",
   "execution_count": null,
   "metadata": {},
   "outputs": [],
   "source": [
    "#truthHistOF = ROOT.TH1F(\"fOF\",\"fOF\",15,0,15)\n",
    "#measHistOF = ROOT.TH1F(\"gOF\",\"gOF\",15,0,15)\n",
    "#truthHistSF = ROOT.TH1F(\"fSF\",\"fSF\",15,0,15)\n",
    "#measHistSF = ROOT.TH1F(\"gSF\",\"gSF\",15,0,15)\n",
    "\n",
    "low_edges = [0,0.5,1,2,3,4,5,6,7,9,13,20]\n",
    "low_edges_sum = [0,6,12,20,30,45,70,110,150,200,280,400]\n",
    "'''\n",
    "truthHistOF = ROOT.TH1D(\"\",\"\",11,array.array('d',low_edges))\n",
    "measHistOF = ROOT.TH1D(\"\",\"\",11,array.array('d',low_edges))\n",
    "truthHistSF = ROOT.TH1D(\"\",\"\",11,array.array('d',low_edges))\n",
    "measHistSF = ROOT.TH1D(\"\",\"\",11,array.array('d',low_edges))\n",
    "response_OF = ROOT.RooUnfoldResponse(measHistOF,truthHistOF)\n",
    "response_SF = ROOT.RooUnfoldResponse(measHistSF,truthHistSF)\n",
    "'''\n",
    "\n",
    "truthHistOF = ROOT.TH1D(\"\",\"\",11,array.array('d',low_edges_sum))\n",
    "measHistOF = ROOT.TH1D(\"\",\"\",11,array.array('d',low_edges_sum))\n",
    "truthHistSF = ROOT.TH1D(\"\",\"\",11,array.array('d',low_edges_sum))\n",
    "measHistSF = ROOT.TH1D(\"\",\"\",11,array.array('d',low_edges_sum))\n",
    "response_OF = ROOT.RooUnfoldResponse(measHistOF,truthHistOF)\n",
    "response_SF = ROOT.RooUnfoldResponse(measHistSF,truthHistSF)"
   ]
  },
  {
   "cell_type": "code",
   "execution_count": null,
   "metadata": {},
   "outputs": [],
   "source": [
    "'''\n",
    "for i in range(0,min(len(dataOF),len(truthOF))):\n",
    "    truthHistOF.Fill(truthOF['mcDeltaT'].iloc[i])\n",
    "    measHistOF.Fill(truthOF['deltaT'].iloc[i])\n",
    "    response_OF.Fill(truthOF['deltaT'].iloc[i],truthOF['mcDeltaT'].iloc[i])\n",
    "for i in range(0,min(len(dataSF),len(truthSF))):\n",
    "    truthHistSF.Fill(truthSF['mcDeltaT'].iloc[i])\n",
    "    measHistSF.Fill(truthSF['deltaT'].iloc[i])\n",
    "    response_SF.Fill(truthSF['deltaT'].iloc[i],truthSF['mcDeltaT'].iloc[i])\n",
    "'''\n",
    "\n",
    "for i in range(0,min(len(dataOF),len(truthOF))):\n",
    "    truthHistOF.Fill(truthOF['mcSumT'].iloc[i])\n",
    "    measHistOF.Fill(truthOF['sumT'].iloc[i])\n",
    "    response_OF.Fill(truthOF['sumT'].iloc[i],truthOF['mcSumT'].iloc[i])\n",
    "for i in range(0,min(len(dataSF),len(truthSF))):\n",
    "    truthHistSF.Fill(truthSF['mcSumT'].iloc[i])\n",
    "    measHistSF.Fill(truthSF['sumT'].iloc[i])\n",
    "    response_SF.Fill(truthSF['sumT'].iloc[i],truthSF['mcSumT'].iloc[i])"
   ]
  },
  {
   "cell_type": "code",
   "execution_count": null,
   "metadata": {},
   "outputs": [],
   "source": [
    "c = ROOT.TCanvas()\n",
    "truthHistOF.SetStats(0)\n",
    "truthHistOF.SetFillColorAlpha(7,0)\n",
    "truthHistOF.SetLineColor(2)\n",
    "truthHistOF.SetLineWidth(2)\n",
    "measHistOF.SetLineWidth(2)\n",
    "truthHistOF.Draw()\n",
    "truthHistOF.SetTitle(\"OF Distributions\")\n",
    "truthHistOF.GetXaxis().SetTitle(r'\\Delta t  [ps]')\n",
    "truthHistOF.GetXaxis().SetTitleSize(0.05)\n",
    "truthHistOF.GetXaxis().SetLabelSize(0.05)\n",
    "truthHistOF.GetYaxis().SetLabelSize(0.05)\n",
    "truthHistOF.GetXaxis().SetTitleOffset(0.9)\n",
    "measHistOF.SetFillColorAlpha(42,0)\n",
    "measHistOF.Draw(\"same\")\n",
    "leg = ROOT.TLegend(.55,0.7,.9,.9)\n",
    "leg.AddEntry(truthHistOF,\"True Distribution\")\n",
    "leg.AddEntry(measHistOF,\"Measured\")\n",
    "leg.Draw()\n",
    "c.Draw()\n",
    "#c.SaveAs('OF.png')"
   ]
  },
  {
   "cell_type": "code",
   "execution_count": null,
   "metadata": {},
   "outputs": [],
   "source": [
    "c1 = ROOT.TCanvas()\n",
    "truthHistSF.SetStats(0)\n",
    "truthHistSF.SetFillColorAlpha(7,0)\n",
    "truthHistSF.SetLineColor(2)\n",
    "truthHistSF.SetLineWidth(2)\n",
    "measHistSF.SetLineWidth(2)\n",
    "truthHistSF.Draw()\n",
    "truthHistSF.SetTitle(\"SF Distributions\")\n",
    "truthHistSF.GetXaxis().SetTitle(r'\\Delta t  [ps]')\n",
    "truthHistSF.GetXaxis().SetTitleSize(0.05)\n",
    "truthHistSF.GetXaxis().SetLabelSize(0.05)\n",
    "truthHistSF.GetYaxis().SetLabelSize(0.05)\n",
    "truthHistSF.GetXaxis().SetTitleOffset(0.9)\n",
    "measHistSF.SetFillColorAlpha(42,0)\n",
    "truthHistSF.Draw()\n",
    "measHistSF.Draw(\"same\")\n",
    "leg = ROOT.TLegend(.55,0.7,.9,.9)\n",
    "leg.AddEntry(truthHistSF,\"True Distribution\")\n",
    "leg.AddEntry(measHistSF,\"Measured\")\n",
    "leg.Draw()\n",
    "c1.Draw()\n",
    "#c1.SaveAs('SF.png')\n",
    "ROF = response_OF.HresponseNoOverflow()\n",
    "c2 = ROOT.TCanvas()\n",
    "#ROOT.gPad.SetLogz()\n",
    "ROF.SetStats(0)\n",
    "ROF.Draw(\"colz\")\n",
    "ROF.SetTitle(\"Response (OF)\")\n",
    "ROF.GetXaxis().SetTitle(r'\\Delta t_{meas} [ps]')\n",
    "ROF.GetXaxis().SetTitleSize(0.05)\n",
    "ROF.GetXaxis().SetLabelSize(0.05)\n",
    "ROF.GetXaxis().SetTitleOffset(0.9)\n",
    "ROF.GetYaxis().SetTitle(r'\\Delta t_{truth} [ps]')\n",
    "ROF.GetYaxis().SetTitleSize(0.05)\n",
    "ROF.GetYaxis().SetLabelSize(0.05)\n",
    "ROF.GetYaxis().SetTitleOffset(0.9)\n",
    "c2.Draw()\n",
    "#c2.SaveAs('Response_OF.png')\n",
    "RSF = response_SF.HresponseNoOverflow()\n",
    "c3 = ROOT.TCanvas()\n",
    "#ROOT.gPad.SetLogz()\n",
    "RSF.SetStats(0)\n",
    "RSF.Draw(\"colz\")\n",
    "RSF.SetTitle(\"Response (SF)\")\n",
    "RSF.GetXaxis().SetTitle(r'\\Delta t_{meas} [ps]')\n",
    "RSF.GetXaxis().SetTitleSize(0.05)\n",
    "RSF.GetXaxis().SetLabelSize(0.05)\n",
    "RSF.GetXaxis().SetTitleOffset(0.9)\n",
    "RSF.GetYaxis().SetTitle(r'\\Delta t_{truth} [ps]')\n",
    "RSF.GetYaxis().SetTitleSize(0.05)\n",
    "RSF.GetYaxis().SetLabelSize(0.05)\n",
    "RSF.GetYaxis().SetTitleOffset(0.9)\n",
    "c3.Draw()\n",
    "#c3.SaveAs('Response_SF.png')"
   ]
  },
  {
   "cell_type": "code",
   "execution_count": null,
   "metadata": {},
   "outputs": [],
   "source": []
  },
  {
   "cell_type": "code",
   "execution_count": null,
   "metadata": {},
   "outputs": [],
   "source": [
    "c1 = ROOT.TCanvas()\n",
    "hRecoSF.SetStats(0)\n",
    "hTrueSF.SetLineColor(2)\n",
    "hRecoSF.SetLineColor(1)\n",
    "hRecoSF.Draw()\n",
    "hTrueSF.Draw(\"same\")\n",
    "hMeasSF.Draw(\"same\")\n",
    "leg = ROOT.TLegend(0.6, 0.6, 0.9, 0.9)\n",
    "leg.AddEntry(hTrueSF, \"True distribution\",\"pl\")\n",
    "leg.AddEntry(hMeasSF, \"Measured distribution\", \"pl\")\n",
    "leg.AddEntry(hRecoSF, \"Unfolded distribution\")\n",
    "leg.Draw()\n",
    "c1.Draw()\n",
    "\n",
    "unfoldOF = ROOT.RooUnfoldInvert(response_OF, hMeasOF)\n",
    "hRecoOF = unfoldOF.Hreco()\n",
    "\n",
    "unfoldSF = ROOT.RooUnfoldInvert(response_SF, hMeasSF)\n",
    "hRecoSF = unfoldSF.Hreco()\n",
    "\n",
    "c1 = ROOT.TCanvas()\n",
    "hRecoOF.SetStats(0)\n",
    "hTrueOF.SetLineColor(2)\n",
    "hRecoOF.SetLineColor(1)\n",
    "hRecoOF.Draw()\n",
    "hTrueOF.Draw(\"same\")\n",
    "hMeasOF.Draw(\"same\")\n",
    "leg = ROOT.TLegend(0.6, 0.6, 0.9, 0.9)\n",
    "leg.AddEntry(hTrueOF, \"True distribution\",\"pl\")\n",
    "leg.AddEntry(hMeasOF, \"Measured distribution\", \"pl\")\n",
    "leg.AddEntry(hRecoOF, \"Unfolded distribution\")\n",
    "leg.Draw()\n",
    "c1.Draw()\n",
    "\n",
    "c1 = ROOT.TCanvas()\n",
    "hRecoSF.SetStats(0)\n",
    "hTrueSF.SetLineColor(2)\n",
    "hRecoSF.SetLineColor(1)\n",
    "hRecoSF.Draw()\n",
    "hTrueSF.Draw(\"same\")\n",
    "hMeasSF.Draw(\"same\")\n",
    "leg = ROOT.TLegend(0.6, 0.6, 0.9, 0.9)\n",
    "leg.AddEntry(hTrueSF, \"True distribution\",\"pl\")\n",
    "leg.AddEntry(hMeasSF, \"Measured distribution\", \"pl\")\n",
    "leg.AddEntry(hRecoSF, \"Unfolded distribution\")\n",
    "leg.Draw()\n",
    "c1.Draw()\n",
    "\n",
    "unfoldOF = ROOT.RooUnfoldBinByBin(response_OF, hMeasOF)\n",
    "hRecoOF = unfoldOF.Hreco()\n",
    "c1 = ROOT.TCanvas()\n",
    "hRecoOF.SetStats(0)\n",
    "hRecoOF.SetTitle(\"\")\n",
    "hTrueOF.SetLineColor(2)\n",
    "hRecoOF.SetLineColor(1)\n",
    "hRecoOF.Draw()\n",
    "hTrueOF.Draw(\"same\")\n",
    "hMeasOF.Draw(\"same\")\n",
    "leg = ROOT.TLegend(0.6, 0.6, 0.9, 0.9)\n",
    "leg.AddEntry(hTrueOF, \"True distribution\",\"pl\")\n",
    "leg.AddEntry(hMeasOF, \"Measured distribution\", \"pl\")\n",
    "leg.AddEntry(hRecoOF, \"Unfolded distribution\")\n",
    "leg.Draw()\n",
    "c1.Draw()\n",
    "\n",
    "unfoldSF = ROOT.RooUnfoldBinByBin(response_SF, hMeasSF)\n",
    "hRecoSF = unfoldSF.Hreco()\n",
    "c1 = ROOT.TCanvas()\n",
    "hRecoSF.SetStats(0)\n",
    "hRecoSF.SetTitle(\"\")\n",
    "hTrueSF.SetLineColor(2)\n",
    "hRecoSF.SetLineColor(1)\n",
    "hRecoSF.Draw()\n",
    "hTrueSF.Draw(\"same\")\n",
    "hMeasSF.Draw(\"same\")\n",
    "leg = ROOT.TLegend(0.6, 0.6, 0.9, 0.9)\n",
    "leg.AddEntry(hTrueSF, \"True distribution\",\"pl\")\n",
    "leg.AddEntry(hMeasSF, \"Measured distribution\", \"pl\")\n",
    "leg.AddEntry(hRecoSF, \"Unfolded distribution\")\n",
    "leg.Draw()\n",
    "c1.Draw()\n",
    "\n",
    "unfoldOF = ROOT.RooUnfoldBayes(response_OF, hMeasOF, 2)\n",
    "hRecoOF = unfoldOF.Hreco()\n",
    "\n",
    "unfoldSF = ROOT.RooUnfoldBayes(response_SF, hMeasSF, 2)\n",
    "hRecoSF = unfoldSF.Hreco()\n",
    "\n",
    "c1 = ROOT.TCanvas()\n",
    "hRecoSF.SetStats(0)\n",
    "hTrueSF.SetLineColor(2)\n",
    "hRecoSF.SetLineColor(1)\n",
    "hRecoSF.Draw()\n",
    "hTrueSF.Draw(\"same\")\n",
    "hMeasSF.Draw(\"same\")\n",
    "leg = ROOT.TLegend(0.6, 0.6, 0.9, 0.9)\n",
    "leg.AddEntry(hTrueSF, \"True distribution\",\"pl\")\n",
    "leg.AddEntry(hMeasSF, \"Measured distribution\", \"pl\")\n",
    "leg.AddEntry(hRecoSF, \"Unfolded distribution\")\n",
    "leg.Draw()\n",
    "c1.Draw()\n",
    "\n",
    "c1 = ROOT.TCanvas()\n",
    "hRecoOF.SetStats(0)\n",
    "hTrueOF.SetLineColor(2)\n",
    "hRecoOF.SetLineColor(1)\n",
    "hRecoOF.Draw()\n",
    "hTrueOF.Draw(\"same\")\n",
    "hMeasOF.Draw(\"same\")\n",
    "leg = ROOT.TLegend(0.6, 0.6, 0.9, 0.9)\n",
    "leg.AddEntry(hTrueOF, \"True distribution\",\"pl\")\n",
    "leg.AddEntry(hMeasOF, \"Measured distribution\", \"pl\")\n",
    "leg.AddEntry(hRecoOF, \"Unfolded distribution\")\n",
    "leg.Draw()\n",
    "c1.Draw()\n"
   ]
  }
 ],
 "metadata": {
  "kernelspec": {
   "display_name": "Python 3",
   "language": "python",
   "name": "python3"
  },
  "language_info": {
   "codemirror_mode": {
    "name": "ipython",
    "version": 3
   },
   "file_extension": ".py",
   "mimetype": "text/x-python",
   "name": "python",
   "nbconvert_exporter": "python",
   "pygments_lexer": "ipython3",
   "version": "3.6.11"
  }
 },
 "nbformat": 4,
 "nbformat_minor": 4
}
