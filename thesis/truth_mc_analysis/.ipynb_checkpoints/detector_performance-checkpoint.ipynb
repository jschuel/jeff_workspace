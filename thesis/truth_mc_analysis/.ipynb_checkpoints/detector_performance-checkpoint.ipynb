{
 "cells": [
  {
   "cell_type": "code",
   "execution_count": 1,
   "metadata": {},
   "outputs": [
    {
     "name": "stdout",
     "output_type": "stream",
     "text": [
      "Welcome to JupyROOT 6.18/04\n"
     ]
    }
   ],
   "source": [
    "import root_pandas as rp\n",
    "import pandas as pd\n",
    "import ROOT\n",
    "import numpy as np\n",
    "import matplotlib.pyplot as plt\n",
    "\n",
    "f = '/Users/vahsengrouplaptop/workspace/thesis_data/mc_with_reco_cm.root'\n",
    "rf = ROOT.TFile(f)\n",
    "rf.ls() #list tree names"
   ]
  },
  {
   "cell_type": "markdown",
   "metadata": {},
   "source": [
    "## Adding boosting to CM and adding CM branches"
   ]
  },
  {
   "cell_type": "code",
   "execution_count": 231,
   "metadata": {},
   "outputs": [
    {
     "data": {
      "text/plain": [
       "(array([319715., 298186., 186382., 126900.,  85099.,  60439.,  48121.,\n",
       "         42774.,  38465.,  30024.,  13826.,   2966.,   1453.,   1231.,\n",
       "          1035.,    905.,    767.,    698.,    610.,    542.]),\n",
       " array([0. , 0.2, 0.4, 0.6, 0.8, 1. , 1.2, 1.4, 1.6, 1.8, 2. , 2.2, 2.4,\n",
       "        2.6, 2.8, 3. , 3.2, 3.4, 3.6, 3.8, 4. ]),\n",
       " <a list of 20 Patch objects>)"
      ]
     },
     "execution_count": 231,
     "metadata": {},
     "output_type": "execute_result"
    },
    {
     "data": {
      "image/png": "[encoded data removed]",
      "text/plain": [
       "<Figure size 432x288 with 1 Axes>"
      ]
     },
     "metadata": {
      "needs_background": "light"
     },
     "output_type": "display_data"
    }
   ],
   "source": [
    "e = rp.read_root(f, key='e_lab') #Use only electrons, muons produce same charges and momenta\n",
    "E = np.sqrt(e['p']**2+e['M']**2) #get energy of lepton tracks\n",
    "e['E'] = E #add energy branch\n",
    "gamma = (8+3.5)/10.58 #detector gamma given by (E_LER + E_HER)/E_upsilon(4s)\n",
    "beta = np.sqrt((gamma**2-1)/gamma**2)\n",
    "boost = beta*gamma\n",
    "e['pz_cm']=-beta*gamma*e['E']+gamma*e['pz'] #From lorentz transformation\n",
    "e['p_cm'] = np.sqrt((e['px'])**2+(e['py'])**2+(e['pz_cm'])**2) #Only z is boosted\n",
    "#cm_pz = []\n",
    "#to test performance of hand code vs ROOT TLorentzVector\n",
    "#for px, py, pz, E in zip(e['px'].to_numpy(), e['py'].to_numpy(), e['pz'].to_numpy(), e['E'].to_numpy()):\n",
    "#    v = ROOT.TLorentzVector()\n",
    "#    v.SetPxPyPzE(px, py, pz, E)\n",
    "#    v.Boost(0,0,-beta)\n",
    "#    cm_pz.append(v.Pz())\n",
    "#e['ROOT_pz_cm'] = cm_pz\n",
    "plt.hist(e['p_cm'], bins = 20, range = (0,4))"
   ]
  },
  {
   "cell_type": "markdown",
   "metadata": {},
   "source": [
    "#### Determining indices of 2 highest momentum events"
   ]
  },
  {
   "cell_type": "code",
   "execution_count": null,
   "metadata": {},
   "outputs": [],
   "source": [
    "e = e.loc[(e['p_cm']<2.5) & (e['p_cm']>0.25)]\n",
    "e.index = [i for i in range(0,len(e))]\n",
    "index = e.groupby(['__event__'])['p_cm'].nlargest(2)\n",
    "indices = []\n",
    "for i in range(0,len(index)):\n",
    "    indices.append(index.index[i][1])\n",
    "indices = np.array(indices)\n",
    "indices = indices.sort()"
   ]
  },
  {
   "cell_type": "markdown",
   "metadata": {},
   "source": [
    "#### Loading B file to compare event level SF and OF with truth"
   ]
  },
  {
   "cell_type": "code",
   "execution_count": null,
   "metadata": {},
   "outputs": [],
   "source": [
    "B = rp.read_root('/Users/vahsengrouplaptop/workspace/thesis_data/mc_with_deltaT.root', key='truthB_lab')\n",
    "B = B.loc[B.index.duplicated()==False]\n",
    "B.index = [i for i in range(0,len(B))]"
   ]
  },
  {
   "cell_type": "markdown",
   "metadata": {},
   "source": [
    "#### Comparing SF and OF between truth B's and reconstructed lepton tracks before further cuts"
   ]
  },
  {
   "cell_type": "code",
   "execution_count": null,
   "metadata": {},
   "outputs": [],
   "source": [
    "df_red = e.iloc[indices]\n",
    "df_red.index = [i for i in range(0,len(df_red))]\n",
    "odd_index = [i for i in range(0,len(df_red)) if i%2 == 1]\n",
    "## Code below is quick way to deterine OF and SF exploiting .diff() and odd indices\n",
    "df_red['OF']=0\n",
    "df_red['SF']=0\n",
    "df_red['SF'][df_red.loc[odd_index].loc[df_red['charge'].diff()[odd_index]==0].index.to_numpy()]=1\n",
    "df_red['SF'][df_red.loc[odd_index].loc[df_red['charge'].diff()[odd_index]==0].index.to_numpy()-1]=1\n",
    "df_red['OF'][df_red.loc[odd_index].loc[df_red['charge'].diff()[odd_index]!=0].index.to_numpy()]=1\n",
    "df_red['OF'][df_red.loc[odd_index].loc[df_red['charge'].diff()[odd_index]!=0].index.to_numpy()-1]=1\n",
    "##\n",
    "df_red = df_red.loc[df_red['__event__'].isin(B['__event__'].unique())]\n",
    "B = B.loc[B['__event__'].isin(df_red['__event__'].unique())]\n",
    "df_red.index = [i for i in range(0,len(df_red))]\n",
    "B.index = [i for i in range(0,len(B))]\n",
    "df_red['B_OF']=B['OF']\n",
    "df_red['B_SF']=B['SF']\n",
    "df_red[['__event__','charge','OF','SF','B_OF','B_SF']]\n",
    "#df_red = df_red.loc[(df_red['pz']>-1.5) & (df_red['pz']<2.75)]\n",
    "len(df_red.loc[df_red['OF']!=df_red['B_OF']])/len(df_red) #shows mistagging fraction"
   ]
  },
  {
   "cell_type": "markdown",
   "metadata": {},
   "source": [
    "### Looking at discriminating variables between properly tagged and mistagged events"
   ]
  },
  {
   "cell_type": "code",
   "execution_count": null,
   "metadata": {},
   "outputs": [],
   "source": [
    "df_tag = df_red.loc[df_red['OF']==df_red['B_OF']] #properly tagged events\n",
    "df_mistag = df_red.loc[df_red['OF']!=df_red['B_OF']] #mistagged events\n",
    "i = 1\n",
    "columns = [col for col in df_tag.columns]\n",
    "fig = plt.figure(figsize=(24,36))\n",
    "for col in df_tag.columns:\n",
    "    try:\n",
    "        plt.subplot(14,5,i)\n",
    "        mean = df_tag[col].mean()\n",
    "        std = df_tag[col].std()\n",
    "        min = df_tag[col].mean() - 5*df_tag[col].std()\n",
    "        max = df_tag[col].mean() + 5*df_tag[col].std()\n",
    "        plt.hist(df_tag[col], alpha = 0.5, bins = 60, range = (min,max))\n",
    "        plt.hist(df_mistag[col], alpha = 0.5, bins = 60, range = (min,max))\n",
    "        plt.title(col)\n",
    "        #plt.yscale(\"Log\")\n",
    "        i+=1\n",
    "    except ValueError:\n",
    "        pass\n",
    "fig.tight_layout()\n",
    "fig.show()\n"
   ]
  },
  {
   "cell_type": "code",
   "execution_count": 32,
   "metadata": {},
   "outputs": [
    {
     "data": {
      "image/png": "[encoded data removed]",
      "text/plain": [
       "<Figure size 432x288 with 1 Axes>"
      ]
     },
     "metadata": {
      "needs_background": "light"
     },
     "output_type": "display_data"
    }
   ],
   "source": [
    "#df_tag = df_tag.loc[df_tag['dr']<5]\n",
    "#df_mistag = df_mistag.loc[df_mistag['dr']<5]\n",
    "df_tag = df_red.loc[df_red['OF']==df_red['B_OF']] #properly tagged events\n",
    "df_mistag = df_red.loc[df_red['OF']!=df_red['B_OF']] #mistagged events\n",
    "plt.hist(df_tag['pz'], alpha = 0.5, bins = 20, range = (-10,10))\n",
    "plt.hist(df_mistag['pz'], alpha = 0.5, bins = 20, range = (-10,10))\n",
    "plt.yscale(\"Log\")\n"
   ]
  },
  {
   "cell_type": "code",
   "execution_count": null,
   "metadata": {},
   "outputs": [],
   "source": []
  }
 ],
 "metadata": {
  "kernelspec": {
   "display_name": "Python 3",
   "language": "python",
   "name": "python3"
  },
  "language_info": {
   "codemirror_mode": {
    "name": "ipython",
    "version": 3
   },
   "file_extension": ".py",
   "mimetype": "text/x-python",
   "name": "python",
   "nbconvert_exporter": "python",
   "pygments_lexer": "ipython3",
   "version": "3.7.6"
  }
 },
 "nbformat": 4,
 "nbformat_minor": 2
}
