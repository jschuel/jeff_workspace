{
 "cells": [
  {
   "cell_type": "code",
   "execution_count": 18,
   "metadata": {},
   "outputs": [
    {
     "name": "stdout",
     "output_type": "stream",
     "text": [
      "TFile**\t\t~/workspace/thesis_data/mc_with_reco_cm.root\t\n",
      " TFile*\t\t~/workspace/thesis_data/mc_with_reco_cm.root\t\n",
      "  KEY: TTree\ttruth_mu_cms;1\t\n",
      "  KEY: TTree\ttruth_mu_lab;1\t\n",
      "  KEY: TTree\ttruth_Dst_lab;1\t\n",
      "  KEY: TTree\ttruthD_lab;1\t\n",
      "  KEY: TTree\ttruth_e_CMS;1\t\n",
      "  KEY: TTree\tmu_lab;1\t\n",
      "  KEY: TTree\te_lab;1\t\n",
      "  KEY: TTree\ttruth_e_lab;1\t\n",
      "  KEY: TTree\ttruth_K_lab;1\t\n",
      "  KEY: TTree\ttruth_pi0_lab;1\t\n",
      "  KEY: TTree\ttruth_pi_lab;1\t\n",
      "  KEY: TTree\tB_lab;1\t\n",
      "  KEY: TTree\ttruthB_lab;1\t\n",
      "  KEY: TTree\ttruth_lepton_cms;1\ttruth_lepton_cms\n",
      "  KEY: TTree\ttruth_lepton_lab;1\ttruth_lepton_lab\n",
      "  KEY: TTree\tlepton_lab;1\tlepton_lab\n",
      "  KEY: TTree\tlepton;1\tlepton\n"
     ]
    }
   ],
   "source": [
    "import root_pandas as rp\n",
    "import pandas as pd\n",
    "import ROOT\n",
    "import numpy as np\n",
    "import matplotlib.pyplot as plt\n",
    "\n",
    "f = '~/workspace/thesis_data/mc_with_reco_cm.root'\n",
    "rf = ROOT.TFile(f)\n",
    "rf.ls() #list tree names"
   ]
  },
  {
   "cell_type": "markdown",
   "metadata": {},
   "source": [
    "## Adding boosting to CM and adding CM branches"
   ]
  },
  {
   "cell_type": "code",
   "execution_count": 19,
   "metadata": {},
   "outputs": [],
   "source": [
    "gamma = (8+3.5)/10.58 #detector gamma given by (E_LER + E_HER)/E_upsilon(4s)\n",
    "beta = np.sqrt((gamma**2-1)/gamma**2)\n",
    "boost = beta*gamma"
   ]
  },
  {
   "cell_type": "code",
   "execution_count": 20,
   "metadata": {},
   "outputs": [
    {
     "name": "stderr",
     "output_type": "stream",
     "text": [
      "/usr/local/lib/python3.7/site-packages/numpy/lib/histograms.py:824: RuntimeWarning: invalid value encountered in greater_equal\n",
      "  keep = (tmp_a >= first_edge)\n",
      "/usr/local/lib/python3.7/site-packages/numpy/lib/histograms.py:825: RuntimeWarning: invalid value encountered in less_equal\n",
      "  keep &= (tmp_a <= last_edge)\n"
     ]
    },
    {
     "data": {
      "image/png": "[encoded data removed]",
      "text/plain": [
       "<Figure size 720x720 with 3 Axes>"
      ]
     },
     "metadata": {
      "needs_background": "light"
     },
     "output_type": "display_data"
    }
   ],
   "source": [
    "e = rp.read_root(f, key='e_lab') #Use only electrons, muons produce same charges and momenta\n",
    "#mu = rp.read_root(f, key = 'mu_lab')\n",
    "def add_cm_branches(df):\n",
    "    E = np.sqrt(df['p']**2+df['M']**2) #get energy of lepton tracks\n",
    "    df['E'] = E #add energy branch\n",
    "    gamma = (8+3.5)/10.58 #detector gamma given by (E_LER + E_HER)/E_upsilon(4s)\n",
    "    beta = np.sqrt((gamma**2-1)/gamma**2)\n",
    "    boost = beta*gamma\n",
    "    df['pz_cm']=-beta*gamma*df['E']+gamma*df['pz'] #From lorentz transformation\n",
    "    df['p_cm'] = np.sqrt((df['px'])**2+(df['py'])**2+(df['pz_cm'])**2) #Only z is boosted\n",
    "    return df\n",
    "\n",
    "e = add_cm_branches(e)\n",
    "sig = e.loc[e['isSignal']==1]\n",
    "bg = e.loc[e['isSignal']==0]\n",
    "#mu = add_cm_branches(mu)\n",
    "\n",
    "#cm_pz = []\n",
    "#to test performance of hand code vs ROOT TLorentzVector\n",
    "#for px, py, pz, E in zip(e['px'].to_numpy(), e['py'].to_numpy(), e['pz'].to_numpy(), e['E'].to_numpy()):\n",
    "#    v = ROOT.TLorentzVector()\n",
    "#    v.SetPxPyPzE(px, py, pz, E)\n",
    "#    v.Boost(0,0,-beta)\n",
    "#    cm_pz.append(v.Pz())\n",
    "#e['ROOT_pz_cm'] = cm_pz\n",
    "plt.figure(figsize = (10,10))\n",
    "plt.subplot(3,1,1)\n",
    "plt.hist(sig['p_cm'], histtype = 'step', bins = 20, range = (0,4), label = 'signal')\n",
    "plt.hist(bg['p_cm'], histtype = 'step', bins = 20, range = (0,4), label = 'bg')\n",
    "plt.yscale(\"log\")\n",
    "plt.title('e')\n",
    "plt.subplot(3,1,2)\n",
    "#plt.hist(np.abs(e['z'])/(boost*2.99792e10)*1e12, histtype = 'step', bins = 100, range = (0,20000), label = 't')\n",
    "index = e.loc[e['z']<1.8].index.to_numpy()\n",
    "plt.hist(e['z_uncertainty'][index]/e['z'][index], histtype = 'step', bins = 100, label = 'z_uncertainty/z', range = (0,0.2))\n",
    "plt.title('e')\n",
    "plt.subplot(3,1,3)\n",
    "plt.hist(sig['dr'], histtype = 'step', bins = 100, range = (0,0.5), label = 'signal')\n",
    "plt.hist(bg['dr'], histtype = 'step', bins = 100, range = (0,0.5), label = 'bg')\n",
    "plt.title('e')\n",
    "plt.yscale(\"log\")\n",
    "plt.legend()\n",
    "plt.tight_layout()\n",
    "plt.show()"
   ]
  },
  {
   "cell_type": "markdown",
   "metadata": {},
   "source": [
    "#### Figure out p_cm that maximizes sig/bg eff weighted by number of remaining sig events"
   ]
  },
  {
   "cell_type": "code",
   "execution_count": null,
   "metadata": {},
   "outputs": [],
   "source": [
    "#e = e.loc[(e['dr']<0.03)]\n",
    "FOM = []\n",
    "for min_p in np.linspace(0,2,101):\n",
    "    sig_eff = len(sig.loc[(e['dr']<0.05) & (sig['p_cm']<2.3) & (sig['p_cm']>min_p)])/len(sig)\n",
    "    bg_eff = len(bg.loc[(e['dr']<0.05) & (bg['p_cm']<2.3) & (bg['p_cm']>min_p)])/len(bg)\n",
    "    FOM.append(sig_eff**2/bg_eff*len(sig)/1e6) #Maximized at p_cm = 1.16\n",
    "plt.plot(np.linspace(0,2,101),FOM,'o')"
   ]
  },
  {
   "cell_type": "markdown",
   "metadata": {},
   "source": [
    "#### Determining indices of 2 highest momentum events"
   ]
  },
  {
   "cell_type": "code",
   "execution_count": 22,
   "metadata": {},
   "outputs": [
    {
     "data": {
      "text/plain": [
       "(100.0, 50000.0)"
      ]
     },
     "execution_count": 22,
     "metadata": {},
     "output_type": "execute_result"
    },
    {
     "data": {
      "image/png": "[encoded data removed]",
      "text/plain": [
       "<Figure size 432x288 with 1 Axes>"
      ]
     },
     "metadata": {
      "needs_background": "light"
     },
     "output_type": "display_data"
    }
   ],
   "source": [
    "e = e.loc[(e['dr']<0.2) & (e['p_cm']<2.4) & (e['p_cm']>1.4)] #numbers from me\n",
    "'''Plot signal and bg for cm_mom after dr cuts'''\n",
    "plt.hist(e.loc[e['isSignal']==1]['p_cm'], histtype = 'step', bins = 20, range = (0,4), label = 'signal')\n",
    "plt.hist(e.loc[e['isSignal']==0]['p_cm'], histtype = 'step', bins = 20, range = (0,4), label = 'bg')\n",
    "plt.legend()\n",
    "plt.yscale(\"log\")\n",
    "plt.ylim(1e2,5e4)"
   ]
  },
  {
   "cell_type": "code",
   "execution_count": 23,
   "metadata": {},
   "outputs": [],
   "source": [
    "#e = e.loc[(e['p_cm']<2.3) & ((e['z_uncertainty']/e['z'])<0.2) & (e['z']<1.8)]\n",
    "#e = e.loc[(e['dr']<0.2) & (e['p_cm']<2.3)]\n",
    "e = e.loc[(e['dr']<0.2) & (e['p_cm']<2.4) & (e['p_cm']>1.4)] # numbers from Abe to test\n",
    "e.index = [i for i in range(0,len(e))]\n",
    "index = e.groupby(['__event__'])['p_cm'].nlargest(2)\n",
    "indices = []\n",
    "for i in range(0,len(index)):\n",
    "    indices.append(index.index[i][1])\n",
    "indices = np.array(indices)\n",
    "indices = np.sort(indices)"
   ]
  },
  {
   "cell_type": "markdown",
   "metadata": {},
   "source": [
    "#### Loading B file to compare event level SF and OF with truth"
   ]
  },
  {
   "cell_type": "code",
   "execution_count": 24,
   "metadata": {},
   "outputs": [],
   "source": [
    "B = rp.read_root('~/workspace/thesis_data/mc_with_deltaT.root', key='truthB_lab')\n",
    "B = B.loc[B.index.duplicated()==False]\n",
    "B.index = [i for i in range(0,len(B))]"
   ]
  },
  {
   "cell_type": "markdown",
   "metadata": {},
   "source": [
    "#### Comparing SF and OF between truth B's and reconstructed lepton tracks before further cuts"
   ]
  },
  {
   "cell_type": "code",
   "execution_count": 25,
   "metadata": {},
   "outputs": [
    {
     "name": "stderr",
     "output_type": "stream",
     "text": [
      "/usr/local/lib/python3.7/site-packages/ipykernel_launcher.py:9: SettingWithCopyWarning: \n",
      "A value is trying to be set on a copy of a slice from a DataFrame\n",
      "\n",
      "See the caveats in the documentation: https://pandas.pydata.org/pandas-docs/stable/user_guide/indexing.html#returning-a-view-versus-a-copy\n",
      "  if __name__ == '__main__':\n",
      "/usr/local/lib/python3.7/site-packages/ipykernel_launcher.py:10: SettingWithCopyWarning: \n",
      "A value is trying to be set on a copy of a slice from a DataFrame\n",
      "\n",
      "See the caveats in the documentation: https://pandas.pydata.org/pandas-docs/stable/user_guide/indexing.html#returning-a-view-versus-a-copy\n",
      "  # Remove the CWD from sys.path while we load stuff.\n",
      "/usr/local/lib/python3.7/site-packages/ipykernel_launcher.py:11: SettingWithCopyWarning: \n",
      "A value is trying to be set on a copy of a slice from a DataFrame\n",
      "\n",
      "See the caveats in the documentation: https://pandas.pydata.org/pandas-docs/stable/user_guide/indexing.html#returning-a-view-versus-a-copy\n",
      "  # This is added back by InteractiveShellApp.init_path()\n",
      "/usr/local/lib/python3.7/site-packages/ipykernel_launcher.py:12: SettingWithCopyWarning: \n",
      "A value is trying to be set on a copy of a slice from a DataFrame\n",
      "\n",
      "See the caveats in the documentation: https://pandas.pydata.org/pandas-docs/stable/user_guide/indexing.html#returning-a-view-versus-a-copy\n",
      "  if sys.path[0] == '':\n",
      "/usr/local/lib/python3.7/site-packages/ipykernel_launcher.py:23: SettingWithCopyWarning: \n",
      "A value is trying to be set on a copy of a slice from a DataFrame\n",
      "\n",
      "See the caveats in the documentation: https://pandas.pydata.org/pandas-docs/stable/user_guide/indexing.html#returning-a-view-versus-a-copy\n"
     ]
    },
    {
     "name": "stdout",
     "output_type": "stream",
     "text": [
      "0.0918631929867885\n"
     ]
    },
    {
     "name": "stderr",
     "output_type": "stream",
     "text": [
      "/usr/local/lib/python3.7/site-packages/ipykernel_launcher.py:24: SettingWithCopyWarning: \n",
      "A value is trying to be set on a copy of a slice from a DataFrame\n",
      "\n",
      "See the caveats in the documentation: https://pandas.pydata.org/pandas-docs/stable/user_guide/indexing.html#returning-a-view-versus-a-copy\n",
      "/usr/local/lib/python3.7/site-packages/ipykernel_launcher.py:25: SettingWithCopyWarning: \n",
      "A value is trying to be set on a copy of a slice from a DataFrame\n",
      "\n",
      "See the caveats in the documentation: https://pandas.pydata.org/pandas-docs/stable/user_guide/indexing.html#returning-a-view-versus-a-copy\n",
      "/usr/local/lib/python3.7/site-packages/ipykernel_launcher.py:26: SettingWithCopyWarning: \n",
      "A value is trying to be set on a copy of a slice from a DataFrame\n",
      "\n",
      "See the caveats in the documentation: https://pandas.pydata.org/pandas-docs/stable/user_guide/indexing.html#returning-a-view-versus-a-copy\n"
     ]
    }
   ],
   "source": [
    "df_red = e.iloc[indices]\n",
    "table = df_red.pivot_table(index=['__event__'], aggfunc='size') #lists number of elements in each event\n",
    "df_red = df_red.loc[df_red['__event__'].isin(table.loc[table.values == 2].index.to_numpy())] #only keep events where there are two elements\n",
    "df_red.index = [i for i in range(0,len(df_red))]\n",
    "odd_index = [i for i in range(0,len(df_red)) if i%2 == 1]\n",
    "## Code below is quick way to deterine OF and SF exploiting .diff() and odd indices\n",
    "df_red['OF']=0\n",
    "df_red['SF']=0\n",
    "df_red['SF'][df_red.loc[odd_index].loc[df_red['charge'].diff()[odd_index]==0].index.to_numpy()]=1\n",
    "df_red['SF'][df_red.loc[odd_index].loc[df_red['charge'].diff()[odd_index]==0].index.to_numpy()-1]=1\n",
    "df_red['OF'][df_red.loc[odd_index].loc[df_red['charge'].diff()[odd_index]!=0].index.to_numpy()]=1\n",
    "df_red['OF'][df_red.loc[odd_index].loc[df_red['charge'].diff()[odd_index]!=0].index.to_numpy()-1]=1\n",
    "##\n",
    "df_red = df_red.loc[df_red['__event__'].isin(B['__event__'].unique())]\n",
    "B = B.loc[B['__event__'].isin(df_red['__event__'].unique())]\n",
    "df_red.index = [i for i in range(0,len(df_red))]\n",
    "\n",
    "#For small file\n",
    "B.index = [i for i in range(0,len(B))]\n",
    "B['OF'] = 0\n",
    "B['SF'] = 0\n",
    "odd_index = [i for i in range(0,len(df_red)) if i%2 == 1]\n",
    "B['SF'][B.loc[odd_index].loc[B['mcPDG'].diff()[odd_index]==0].index.to_numpy()]=1\n",
    "B['SF'][B.loc[odd_index].loc[B['mcPDG'].diff()[odd_index]==0].index.to_numpy()-1]=1\n",
    "B['OF'][B.loc[odd_index].loc[B['mcPDG'].diff()[odd_index]!=0].index.to_numpy()]=1\n",
    "B['OF'][B.loc[odd_index].loc[B['mcPDG'].diff()[odd_index]!=0].index.to_numpy()-1]=1\n",
    "df_red['B_OF']=B['OF']\n",
    "df_red['B_SF']=B['SF']\n",
    "#End for small file\n",
    "\n",
    "#print(df_red[['__event__','charge','OF','SF','B_OF','B_SF']])\n",
    "print(len(df_red.loc[df_red['OF']!=df_red['B_OF']])/len(df_red)) #shows mistagging fraction"
   ]
  },
  {
   "cell_type": "code",
   "execution_count": null,
   "metadata": {},
   "outputs": [],
   "source": []
  },
  {
   "cell_type": "markdown",
   "metadata": {},
   "source": [
    "#### Determining z resolution"
   ]
  },
  {
   "cell_type": "code",
   "execution_count": 26,
   "metadata": {},
   "outputs": [
    {
     "name": "stderr",
     "output_type": "stream",
     "text": [
      "/usr/local/lib/python3.7/site-packages/ipykernel_launcher.py:9: SettingWithCopyWarning: \n",
      "A value is trying to be set on a copy of a slice from a DataFrame\n",
      "\n",
      "See the caveats in the documentation: https://pandas.pydata.org/pandas-docs/stable/user_guide/indexing.html#returning-a-view-versus-a-copy\n",
      "  if __name__ == '__main__':\n",
      "/usr/local/lib/python3.7/site-packages/ipykernel_launcher.py:10: SettingWithCopyWarning: \n",
      "A value is trying to be set on a copy of a slice from a DataFrame\n",
      "\n",
      "See the caveats in the documentation: https://pandas.pydata.org/pandas-docs/stable/user_guide/indexing.html#returning-a-view-versus-a-copy\n",
      "  # Remove the CWD from sys.path while we load stuff.\n",
      "/usr/local/lib/python3.7/site-packages/ipykernel_launcher.py:11: SettingWithCopyWarning: \n",
      "A value is trying to be set on a copy of a slice from a DataFrame\n",
      "\n",
      "See the caveats in the documentation: https://pandas.pydata.org/pandas-docs/stable/user_guide/indexing.html#returning-a-view-versus-a-copy\n",
      "  # This is added back by InteractiveShellApp.init_path()\n"
     ]
    }
   ],
   "source": [
    "df_red['B_deltaZ'] = B['deltaZ']\n",
    "df_red['B_deltaT'] = B['deltaZ']/(boost*2.99792e10)*1e12\n",
    "#compute delta z but only for odd indices beacuse it's faster\n",
    "deltaZ = [np.abs(df_red['z'].loc[df_red['__event__']==event].diff().iloc[1]) for event in df_red['__event__'].unique()]\n",
    "deltaZ_err = [np.sqrt(df_red.loc[df_red['__event__']==event]['z_uncertainty'].iloc[0]**2+df_red.loc[df_red['__event__']==event]['z_uncertainty'].iloc[1]**2) for event in df_red['__event__'].unique()] \n",
    "odd_index = np.array([i for i in range(0,len(df_red)) if i%2 == 1])\n",
    "df_red['deltaZ'] = 0\n",
    "df_red['deltaZ_err'] = 0\n",
    "df_red['deltaZ'][odd_index] = deltaZ\n",
    "df_red['deltaZ'][odd_index-1] = deltaZ\n",
    "df_red['deltaZ_err'][odd_index] = deltaZ_err\n",
    "df_red['deltaZ_err'][odd_index-1] = deltaZ_err\n",
    "df_red['deltaT'] = df_red['deltaZ']/(boost*2.99792e10)*1e12\n",
    "df_red['deltaT_err'] = df_red['deltaZ_err']/(boost*2.99792e10)*1e12\n"
   ]
  },
  {
   "cell_type": "code",
   "execution_count": 40,
   "metadata": {},
   "outputs": [
    {
     "name": "stdout",
     "output_type": "stream",
     "text": [
      "0.08366077275703995 0.3770835905667366\n"
     ]
    },
    {
     "data": {
      "text/plain": [
       "<matplotlib.legend.Legend at 0x146c041d0>"
      ]
     },
     "execution_count": 40,
     "metadata": {},
     "output_type": "execute_result"
    },
    {
     "data": {
      "image/png": "[encoded data removed]",
      "text/plain": [
       "<Figure size 432x288 with 1 Axes>"
      ]
     },
     "metadata": {
      "needs_background": "light"
     },
     "output_type": "display_data"
    }
   ],
   "source": [
    "#df_cut = df_red.loc[np.abs(df_red['deltaT']-df_red['B_deltaT'])<1]\n",
    "#df_cut = df_red.loc[(df_red['deltaT_err']<0.25) & (df_red['deltaT']<20)]\n",
    "#df_cut = df_red.loc[(df_red['deltaT']<25) & (df_red['deltaT_err']<1)]\n",
    "df_cut = df_red.loc[(df_red['deltaT_err']<0.4)] #temporary for now\n",
    "#df_cut = df_red\n",
    "print(len(df_cut.loc[df_cut['OF']!=df_cut['B_OF']])/len(df_cut), len(df_cut)/len(df_red))\n",
    "signal_indices = df_cut.loc[(df_cut['deltaZ'].duplicated() == False) & (df_cut['OF']==df_cut['B_OF'])].index.to_numpy()\n",
    "bg_indices = df_cut.loc[(df_cut['deltaZ'].duplicated() == False) & (df_cut['OF']!=df_cut['B_OF'])].index.to_numpy()\n",
    "plt.hist(np.abs(df_cut['deltaT'][signal_indices]-df_cut['B_deltaT'][signal_indices]),bins = 100, histtype = 'step', label = 'correctly tagged', range = (0,20))\n",
    "plt.hist(np.abs(df_cut['deltaT'][bg_indices]-df_cut['B_deltaT'][bg_indices]),bins = 100, histtype = 'step', label = 'mistagged', range = (0,20))\n",
    "plt.xlabel('Difference between deltaT from reco lepton and truth B vertex deltaT')\n",
    "#plt.yscale(\"log\")\n",
    "plt.legend()"
   ]
  },
  {
   "cell_type": "code",
   "execution_count": 41,
   "metadata": {},
   "outputs": [
    {
     "data": {
      "text/plain": [
       "Text(0.5, 0, 'unique event')"
      ]
     },
     "execution_count": 41,
     "metadata": {},
     "output_type": "execute_result"
    },
    {
     "data": {
      "image/png": "[encoded data removed]",
      "text/plain": [
       "<Figure size 432x288 with 1 Axes>"
      ]
     },
     "metadata": {
      "needs_background": "light"
     },
     "output_type": "display_data"
    }
   ],
   "source": [
    "df_cut = df_cut.loc[df_cut['__event__'].duplicated()==False]\n",
    "plt.errorbar([i for i in range(0,20)], df_cut.tail(20)['deltaT'], df_cut.tail(20)['deltaT_err'], [0 for i in range(20)], 'o', label = 'lepton reco')\n",
    "plt.plot([i for i in range(0,20)], df_cut.tail(20)['B_deltaT'], 'o', label = 'truth B vertices')\n",
    "plt.legend()\n",
    "plt.ylabel('deltaT [ps]')\n",
    "plt.xlabel('unique event')"
   ]
  },
  {
   "cell_type": "code",
   "execution_count": 42,
   "metadata": {},
   "outputs": [
    {
     "data": {
      "image/png": "[encoded data removed]",
      "text/plain": [
       "<Figure size 432x288 with 1 Axes>"
      ]
     },
     "metadata": {
      "needs_background": "light"
     },
     "output_type": "display_data"
    },
    {
     "data": {
      "text/html": [
       "<div>\n",
       "<style scoped>\n",
       "    .dataframe tbody tr th:only-of-type {\n",
       "        vertical-align: middle;\n",
       "    }\n",
       "\n",
       "    .dataframe tbody tr th {\n",
       "        vertical-align: top;\n",
       "    }\n",
       "\n",
       "    .dataframe thead th {\n",
       "        text-align: right;\n",
       "    }\n",
       "</style>\n",
       "<table border=\"1\" class=\"dataframe\">\n",
       "  <thead>\n",
       "    <tr style=\"text-align: right;\">\n",
       "      <th></th>\n",
       "      <th>deltaT</th>\n",
       "      <th>deltaT_err</th>\n",
       "    </tr>\n",
       "  </thead>\n",
       "  <tbody>\n",
       "    <tr>\n",
       "      <th>0</th>\n",
       "      <td>0.607500</td>\n",
       "      <td>0.292133</td>\n",
       "    </tr>\n",
       "    <tr>\n",
       "      <th>8</th>\n",
       "      <td>1.706296</td>\n",
       "      <td>0.393819</td>\n",
       "    </tr>\n",
       "    <tr>\n",
       "      <th>14</th>\n",
       "      <td>1.011177</td>\n",
       "      <td>0.306002</td>\n",
       "    </tr>\n",
       "    <tr>\n",
       "      <th>20</th>\n",
       "      <td>1.282693</td>\n",
       "      <td>0.260836</td>\n",
       "    </tr>\n",
       "    <tr>\n",
       "      <th>22</th>\n",
       "      <td>2.407149</td>\n",
       "      <td>0.361436</td>\n",
       "    </tr>\n",
       "    <tr>\n",
       "      <th>...</th>\n",
       "      <td>...</td>\n",
       "      <td>...</td>\n",
       "    </tr>\n",
       "    <tr>\n",
       "      <th>64758</th>\n",
       "      <td>0.978145</td>\n",
       "      <td>0.380058</td>\n",
       "    </tr>\n",
       "    <tr>\n",
       "      <th>64766</th>\n",
       "      <td>0.941310</td>\n",
       "      <td>0.311592</td>\n",
       "    </tr>\n",
       "    <tr>\n",
       "      <th>64768</th>\n",
       "      <td>4.213260</td>\n",
       "      <td>0.310462</td>\n",
       "    </tr>\n",
       "    <tr>\n",
       "      <th>64772</th>\n",
       "      <td>3.266001</td>\n",
       "      <td>0.282385</td>\n",
       "    </tr>\n",
       "    <tr>\n",
       "      <th>64780</th>\n",
       "      <td>0.463282</td>\n",
       "      <td>0.396063</td>\n",
       "    </tr>\n",
       "  </tbody>\n",
       "</table>\n",
       "<p>12216 rows × 2 columns</p>\n",
       "</div>"
      ],
      "text/plain": [
       "         deltaT  deltaT_err\n",
       "0      0.607500    0.292133\n",
       "8      1.706296    0.393819\n",
       "14     1.011177    0.306002\n",
       "20     1.282693    0.260836\n",
       "22     2.407149    0.361436\n",
       "...         ...         ...\n",
       "64758  0.978145    0.380058\n",
       "64766  0.941310    0.311592\n",
       "64768  4.213260    0.310462\n",
       "64772  3.266001    0.282385\n",
       "64780  0.463282    0.396063\n",
       "\n",
       "[12216 rows x 2 columns]"
      ]
     },
     "execution_count": 42,
     "metadata": {},
     "output_type": "execute_result"
    }
   ],
   "source": [
    "indices = df_cut.loc[(df_cut['deltaZ'].duplicated() == False)].index.to_numpy()\n",
    "plt.hist(df_cut['B_deltaT'][indices], bins = 100, histtype = 'step', label = 'truth_B vertex', range = (0,20))\n",
    "plt.hist(df_cut['deltaT'][indices], bins = 100, histtype = 'step', label = 'reco lepton', range = (0,20))\n",
    "plt.legend()\n",
    "plt.xlabel('deltaT')\n",
    "plt.show()\n",
    "df_cut[['deltaT','deltaT_err']]"
   ]
  },
  {
   "cell_type": "markdown",
   "metadata": {},
   "source": [
    "#### Plotting asymmetry"
   ]
  },
  {
   "cell_type": "code",
   "execution_count": 43,
   "metadata": {},
   "outputs": [
    {
     "name": "stderr",
     "output_type": "stream",
     "text": [
      "/usr/local/lib/python3.7/site-packages/ipykernel_launcher.py:39: RuntimeWarning: invalid value encountered in long_scalars\n"
     ]
    },
    {
     "data": {
      "image/png": "[encoded data removed]",
      "text/plain": [
       "<Figure size 432x288 with 1 Axes>"
      ]
     },
     "metadata": {
      "needs_background": "light"
     },
     "output_type": "display_data"
    }
   ],
   "source": [
    "'''\n",
    "def compute_asymmetry(data, col, prefix = ''): #enter 'B_' as prefix for truth plotting\n",
    "    data['bin_num'] = 0                                                                                                                                           \n",
    "    data['bin_num'][data.loc[(data[col]>=0.5) & (data[col]< 1)].index.to_numpy()]=1 #Bin_Num according to Go's convention                               \n",
    "    for i in range(2, 8):\n",
    "        data['bin_num'][data.loc[(data[col]>=i-1) & (data[col]< i)].index.to_numpy()]=i\n",
    "    data['bin_num'][data.loc[(data[col]>=7) & (data[col]< 9)].index.to_numpy()]=8\n",
    "    data['bin_num'][data.loc[(data[col]>=9) & (data[col]< 13)].index.to_numpy()]=9\n",
    "    data['bin_num'][data.loc[(data[col]>=13) & (data[col]< 20)].index.to_numpy()]=10\n",
    "    data['asymmetry'] = 0\n",
    "    asymmetry = []\n",
    "    for i in range(0,11):\n",
    "        asymmetry.append((data.loc[data['bin_num']==i][prefix+'OF'].sum()-data.loc[data['bin_num']==i][prefix+'SF'].sum())/(data.loc[data['bin_num']==i][prefix+'OF'].sum()+data.loc[data['bin_num']==i][prefix+'SF'].sum()))\n",
    "        index = data.loc[data['bin_num'] == i].index.to_numpy()\n",
    "        data['asymmetry'][index] = asymmetry[i]\n",
    "    def make_plot(data):\n",
    "        data_red = data.loc[data['bin_num'].duplicated() == False]\n",
    "        data_red = data_red.sort_values(by = ['bin_num'])\n",
    "        #print(data_red)\n",
    "        data_red['x'] = np.array([0.25, 0.75, 1.5, 2.5, 3.5, 4.5, 5.5, 6.5, 8, 11, 16.5])\n",
    "        data_red['xerr'] = np.array([0.25, 0.25, 0.5, 0.5, 0.5, 0.5, 0.5, 0.5, 1, 2, 3.5])\n",
    "        plt.plot(data_red['x'], data_red['asymmetry'], 'o')\n",
    "        plt.ylim(-1.1,1.1)\n",
    "        #plt.show()\n",
    "    make_plot(data)\n",
    "    return asymmetry\n",
    "'''\n",
    "def plot(input_data, col = 'deltaT', prefix = '', bins = 30): #add 'B_' as prefix to plot truth qtys\n",
    "    data = input_data.loc[(input_data[prefix+col]<np.min([input_data[col].max(), input_data['B_'+col].max()]))]\n",
    "    #print(np.min([input_data[col].max(), input_data['B_'+col].max()]))\n",
    "    #counts, bins = np.histogram(data[prefix+col], bins=bins)\n",
    "    bins = np.linspace(0,20,bins)\n",
    "    centers = []\n",
    "    for j in range(0,len(bins)-1):\n",
    "        centers.append((bins[j]+bins[j+1])/2)\n",
    "    asymmetry = []\n",
    "    for i in range(0,len(bins)-1):\n",
    "        index = data.loc[(data[prefix+col]<=bins[i+1]) & (data[prefix+col]>bins[i])].index.to_numpy()\n",
    "        asymmetry.append((data[prefix+'OF'][index].sum()-data[prefix+'SF'][index].sum())/(data[prefix+'OF'][index].sum()+data[prefix+'SF'][index].sum()))\n",
    "    plt.errorbar(centers, asymmetry, [0 for i in range(0,len(asymmetry))], [(bins[1]-bins[0])/2 for i in range(0,len(asymmetry))], 'o', markersize = 1)\n",
    "plot(df_red, prefix = 'B_', bins = 13)\n",
    "plot(df_cut, bins = 13)\n",
    "#counts_bg, bins_bg = np.histogram(bg_df[var], bins=30)\n",
    "#centers_sig = []\n",
    "#centers_bg = []\n",
    "#for j in range(0,len(bins_sig)-1):\n",
    "#    centers_sig.append((bins_sig[j]+bins_sig[j+1])/2)\n",
    "#    centers_bg.append((bins_bg[j]+bins_bg[j+1])/2)\n",
    "#plt.bar(centers_sig, counts_sig/len(signal_df), width = bins_sig[1]-bins_sig[0], alpha = 0.5, label = 'signal')\n",
    "#plt.bar(centers_bg, counts_bg/len(bg_df), width = bins_bg[1]-bins_bg[0], alpha = 0.5, label = 'bg')\n",
    "\n",
    "#data_test = df_cut\n",
    "#data_B = df_red\n",
    "#asymmetry = compute_asymmetry(data_test, 'deltaT', '')\n",
    "#asymmetry = compute_asymmetry(data_B, 'B_deltaT', 'B_')\n",
    "#plt.show()"
   ]
  },
  {
   "cell_type": "code",
   "execution_count": null,
   "metadata": {},
   "outputs": [],
   "source": []
  },
  {
   "cell_type": "code",
   "execution_count": null,
   "metadata": {},
   "outputs": [],
   "source": [
    "df_bad = df_cut.loc[(df_cut['deltaT'].duplicated()==False) & (np.abs(df_cut['deltaT']-df_cut['B_deltaT'])>1)]\n",
    "df_good = df_cut.loc[(df_cut['deltaT'].duplicated()==False) & (np.abs(df_cut['deltaT']-df_cut['B_deltaT'])<1)]\n",
    "i = 1\n",
    "columns = [col for col in df_good.columns]\n",
    "fig = plt.figure(figsize=(24,36))\n",
    "for col in columns:\n",
    "    try:\n",
    "        plt.subplot(15,5,i)\n",
    "        #mean = df_tag[col].mean()\n",
    "        #std = df_tag[col].std()\n",
    "        #min = df_tag[col].mean() - 5*df_tag[col].std()\n",
    "        #max = df_tag[col].mean() + 5*df_tag[col].std()\n",
    "        plt.hist(df_good[col], alpha = 0.5, bins = 60)#, range = (min,max))\n",
    "        plt.hist(df_bad[col], alpha = 0.5, bins = 60)#, range = (min,max))\n",
    "        plt.title(col)\n",
    "        #plt.yscale(\"Log\")\n",
    "        i+=1\n",
    "    except ValueError:\n",
    "        pass\n",
    "fig.tight_layout()\n",
    "fig.show()"
   ]
  },
  {
   "cell_type": "code",
   "execution_count": null,
   "metadata": {},
   "outputs": [],
   "source": [
    "plt.hist(df_good['pzErr'], bins = 50, histtype = 'step', range = (0,0.008))\n",
    "plt.hist(df_bad['pzErr'], bins = 50, histtype = 'step', range = (0,0.008))"
   ]
  },
  {
   "cell_type": "markdown",
   "metadata": {},
   "source": [
    "### Looking at discriminating variables between properly tagged and mistagged events"
   ]
  },
  {
   "cell_type": "code",
   "execution_count": null,
   "metadata": {},
   "outputs": [],
   "source": [
    "df_tag = df_red.loc[df_red['OF']==df_red['B_OF']] #properly tagged events\n",
    "df_mistag = df_red.loc[df_red['OF']!=df_red['B_OF']] #mistagged events\n",
    "i = 1\n",
    "columns = [col for col in df_tag.columns]\n",
    "fig = plt.figure(figsize=(24,36))\n",
    "for col in df_tag.columns:\n",
    "    try:\n",
    "        plt.subplot(15,5,i)\n",
    "        mean = df_tag[col].mean()\n",
    "        std = df_tag[col].std()\n",
    "        min = df_tag[col].mean() - 5*df_tag[col].std()\n",
    "        max = df_tag[col].mean() + 5*df_tag[col].std()\n",
    "        plt.hist(df_tag[col], alpha = 0.5, bins = 60, range = (min,max))\n",
    "        plt.hist(df_mistag[col], alpha = 0.5, bins = 60, range = (min,max))\n",
    "        plt.title(col)\n",
    "        plt.yscale(\"Log\")\n",
    "        i+=1\n",
    "    except ValueError:\n",
    "        pass\n",
    "fig.tight_layout()\n",
    "fig.show()\n"
   ]
  },
  {
   "cell_type": "code",
   "execution_count": null,
   "metadata": {},
   "outputs": [],
   "source": []
  },
  {
   "cell_type": "code",
   "execution_count": null,
   "metadata": {},
   "outputs": [],
   "source": [
    "def do_cuts(low_cut,high_cut):\n",
    "    e = rp.read_root(f, key='e_lab') #Use only electrons, muons produce same charges and momenta\n",
    "    E = np.sqrt(e['p']**2+e['M']**2) #get energy of lepton tracks\n",
    "    e['E'] = E #add energy branch\n",
    "    gamma = (8+3.5)/10.58 #detector gamma given by (E_LER + E_HER)/E_upsilon(4s)\n",
    "    beta = np.sqrt((gamma**2-1)/gamma**2)\n",
    "    boost = beta*gamma\n",
    "    e['pz_cm']=-beta*gamma*e['E']+gamma*e['pz'] #From lorentz transformation\n",
    "    e['p_cm'] = np.sqrt((e['px'])**2+(e['py'])**2+(e['pz_cm'])**2) #Only z is boosted\n",
    "    e = e.loc[(e['p_cm']<high_cut) & (e['p_cm']>low_cut)]\n",
    "    e.index = [i for i in range(0,len(e))]\n",
    "    index = e.groupby(['__event__'])['p_cm'].nlargest(2)\n",
    "    indices = []\n",
    "    for i in range(0,len(index)):\n",
    "        indices.append(index.index[i][1])\n",
    "    indices = np.array(indices)\n",
    "    indices = np.sort(indices)\n",
    "    B = rp.read_root('~/workspace/thesis_data/mc_with_deltaT.root', key='truthB_lab')\n",
    "    B = B.loc[B.index.duplicated()==False]\n",
    "    B.index = [i for i in range(0,len(B))]\n",
    "    df_red = e.iloc[indices]\n",
    "    df_red.index = [i for i in range(0,len(df_red))]\n",
    "    odd_index = [i for i in range(0,len(df_red)) if i%2 == 1]\n",
    "    ## Code below is quick way to deterine OF and SF exploiting .diff() and odd indices\n",
    "    df_red['OF']=0\n",
    "    df_red['SF']=0\n",
    "    df_red['SF'][df_red.loc[odd_index].loc[df_red['charge'].diff()[odd_index]==0].index.to_numpy()]=1\n",
    "    df_red['SF'][df_red.loc[odd_index].loc[df_red['charge'].diff()[odd_index]==0].index.to_numpy()-1]=1\n",
    "    df_red['OF'][df_red.loc[odd_index].loc[df_red['charge'].diff()[odd_index]!=0].index.to_numpy()]=1\n",
    "    df_red['OF'][df_red.loc[odd_index].loc[df_red['charge'].diff()[odd_index]!=0].index.to_numpy()-1]=1\n",
    "    ##\n",
    "    df_red = df_red.loc[df_red['__event__'].isin(B['__event__'].unique())]\n",
    "    B = B.loc[B['__event__'].isin(df_red['__event__'].unique())]\n",
    "    df_red.index = [i for i in range(0,len(df_red))]\n",
    "    B.index = [i for i in range(0,len(B))]\n",
    "    df_red['B_OF']=B['OF']\n",
    "    df_red['B_SF']=B['SF']\n",
    "    df_red[['__event__','charge','OF','SF','B_OF','B_SF']]\n",
    "    #df_red = df_red.loc[(df_red['pz']>-1.5) & (df_red['pz']<2.75)]\n",
    "    mistag_frac = len(df_red.loc[df_red['OF']!=df_red['B_OF']])/len(df_red) #shows mistagging fraction\n",
    "    return mistag_frac\n",
    "mistag = do_cuts(0.25, 2.5)"
   ]
  },
  {
   "cell_type": "markdown",
   "metadata": {},
   "source": [
    "#### Optional (Takes forever to run). Do to optimize cut, found optimal value is pt < 2.3"
   ]
  },
  {
   "cell_type": "code",
   "execution_count": null,
   "metadata": {},
   "outputs": [],
   "source": [
    "low_cuts = np.linspace(0,0.5,11)\n",
    "high_cuts = np.linspace(1,3,21)\n",
    "lc_list = []\n",
    "hc_list = []\n",
    "mistag_list = []\n",
    "for lc in low_cuts:\n",
    "    for hc in high_cuts:\n",
    "        lc_list.append(lc)\n",
    "        hc_list.append(hc)\n",
    "        mistag = do_cuts(lc,hc)\n",
    "        mistag_list.append(mistag)\n",
    "df = pd.DataFrame()\n",
    "df['lc'] = lc_list\n",
    "df['hc'] = hc_list\n",
    "df['mistag_fraction'] = mistag_list"
   ]
  },
  {
   "cell_type": "code",
   "execution_count": null,
   "metadata": {},
   "outputs": [],
   "source": [
    "df.loc[df['mistag_fraction']==df['mistag_fraction'].min()]"
   ]
  },
  {
   "cell_type": "code",
   "execution_count": null,
   "metadata": {},
   "outputs": [],
   "source": [
    "df"
   ]
  },
  {
   "cell_type": "code",
   "execution_count": null,
   "metadata": {},
   "outputs": [],
   "source": []
  }
 ],
 "metadata": {
  "kernelspec": {
   "display_name": "Python 3",
   "language": "python",
   "name": "python3"
  },
  "language_info": {
   "codemirror_mode": {
    "name": "ipython",
    "version": 3
   },
   "file_extension": ".py",
   "mimetype": "text/x-python",
   "name": "python",
   "nbconvert_exporter": "python",
   "pygments_lexer": "ipython3",
   "version": "3.7.6"
  }
 },
 "nbformat": 4,
 "nbformat_minor": 2
}
